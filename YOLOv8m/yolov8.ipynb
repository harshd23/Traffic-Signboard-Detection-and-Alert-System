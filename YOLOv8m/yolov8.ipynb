{
  "cells": [
    {
      "cell_type": "code",
      "source": [
        "import os\n",
        "os.getcwd()"
      ],
      "metadata": {
        "colab": {
          "base_uri": "https://localhost:8080/",
          "height": 36
        },
        "id": "BwTAK6xGuiMr",
        "outputId": "28bf7ea8-b664-4dba-a855-c695002ef79b"
      },
      "execution_count": 1,
      "outputs": [
        {
          "output_type": "execute_result",
          "data": {
            "text/plain": [
              "'/content'"
            ],
            "application/vnd.google.colaboratory.intrinsic+json": {
              "type": "string"
            }
          },
          "metadata": {},
          "execution_count": 1
        }
      ]
    },
    {
      "cell_type": "code",
      "source": [
        "from google.colab import drive\n",
        "drive.mount('/content/drive')"
      ],
      "metadata": {
        "colab": {
          "base_uri": "https://localhost:8080/"
        },
        "id": "-bvgIrwQDpcv",
        "outputId": "29ffc76f-b7f0-43dc-aed0-037f4b544882"
      },
      "execution_count": 2,
      "outputs": [
        {
          "output_type": "stream",
          "name": "stdout",
          "text": [
            "Mounted at /content/drive\n"
          ]
        }
      ]
    },
    {
      "cell_type": "markdown",
      "metadata": {
        "id": "Q2tDKUMRDmvC"
      },
      "source": [
        "# USING YOLO V8 MODEL:"
      ]
    },
    {
      "cell_type": "markdown",
      "metadata": {
        "id": "q_2uk2wwDmvD"
      },
      "source": [
        "## FOR TRAINING THE MODEL:"
      ]
    },
    {
      "cell_type": "code",
      "source": [
        "!pip install ultralytics"
      ],
      "metadata": {
        "colab": {
          "base_uri": "https://localhost:8080/"
        },
        "id": "Q1MrYf02D9hl",
        "outputId": "5c5e12fd-fea8-4b09-8bf2-9c9a54348551"
      },
      "execution_count": 3,
      "outputs": [
        {
          "output_type": "stream",
          "name": "stdout",
          "text": [
            "Collecting ultralytics\n",
            "  Downloading ultralytics-8.1.20-py3-none-any.whl (716 kB)\n",
            "\u001b[2K     \u001b[90m━━━━━━━━━━━━━━━━━━━━━━━━━━━━━━━━━━━━━━━━\u001b[0m \u001b[32m716.3/716.3 kB\u001b[0m \u001b[31m5.6 MB/s\u001b[0m eta \u001b[36m0:00:00\u001b[0m\n",
            "\u001b[?25hRequirement already satisfied: matplotlib>=3.3.0 in /usr/local/lib/python3.10/dist-packages (from ultralytics) (3.7.1)\n",
            "Requirement already satisfied: opencv-python>=4.6.0 in /usr/local/lib/python3.10/dist-packages (from ultralytics) (4.8.0.76)\n",
            "Requirement already satisfied: pillow>=7.1.2 in /usr/local/lib/python3.10/dist-packages (from ultralytics) (9.4.0)\n",
            "Requirement already satisfied: pyyaml>=5.3.1 in /usr/local/lib/python3.10/dist-packages (from ultralytics) (6.0.1)\n",
            "Requirement already satisfied: requests>=2.23.0 in /usr/local/lib/python3.10/dist-packages (from ultralytics) (2.31.0)\n",
            "Requirement already satisfied: scipy>=1.4.1 in /usr/local/lib/python3.10/dist-packages (from ultralytics) (1.11.4)\n",
            "Requirement already satisfied: torch>=1.8.0 in /usr/local/lib/python3.10/dist-packages (from ultralytics) (2.1.0+cu121)\n",
            "Requirement already satisfied: torchvision>=0.9.0 in /usr/local/lib/python3.10/dist-packages (from ultralytics) (0.16.0+cu121)\n",
            "Requirement already satisfied: tqdm>=4.64.0 in /usr/local/lib/python3.10/dist-packages (from ultralytics) (4.66.2)\n",
            "Requirement already satisfied: psutil in /usr/local/lib/python3.10/dist-packages (from ultralytics) (5.9.5)\n",
            "Requirement already satisfied: py-cpuinfo in /usr/local/lib/python3.10/dist-packages (from ultralytics) (9.0.0)\n",
            "Collecting thop>=0.1.1 (from ultralytics)\n",
            "  Downloading thop-0.1.1.post2209072238-py3-none-any.whl (15 kB)\n",
            "Requirement already satisfied: pandas>=1.1.4 in /usr/local/lib/python3.10/dist-packages (from ultralytics) (1.5.3)\n",
            "Requirement already satisfied: seaborn>=0.11.0 in /usr/local/lib/python3.10/dist-packages (from ultralytics) (0.13.1)\n",
            "Requirement already satisfied: contourpy>=1.0.1 in /usr/local/lib/python3.10/dist-packages (from matplotlib>=3.3.0->ultralytics) (1.2.0)\n",
            "Requirement already satisfied: cycler>=0.10 in /usr/local/lib/python3.10/dist-packages (from matplotlib>=3.3.0->ultralytics) (0.12.1)\n",
            "Requirement already satisfied: fonttools>=4.22.0 in /usr/local/lib/python3.10/dist-packages (from matplotlib>=3.3.0->ultralytics) (4.49.0)\n",
            "Requirement already satisfied: kiwisolver>=1.0.1 in /usr/local/lib/python3.10/dist-packages (from matplotlib>=3.3.0->ultralytics) (1.4.5)\n",
            "Requirement already satisfied: numpy>=1.20 in /usr/local/lib/python3.10/dist-packages (from matplotlib>=3.3.0->ultralytics) (1.25.2)\n",
            "Requirement already satisfied: packaging>=20.0 in /usr/local/lib/python3.10/dist-packages (from matplotlib>=3.3.0->ultralytics) (23.2)\n",
            "Requirement already satisfied: pyparsing>=2.3.1 in /usr/local/lib/python3.10/dist-packages (from matplotlib>=3.3.0->ultralytics) (3.1.1)\n",
            "Requirement already satisfied: python-dateutil>=2.7 in /usr/local/lib/python3.10/dist-packages (from matplotlib>=3.3.0->ultralytics) (2.8.2)\n",
            "Requirement already satisfied: pytz>=2020.1 in /usr/local/lib/python3.10/dist-packages (from pandas>=1.1.4->ultralytics) (2023.4)\n",
            "Requirement already satisfied: charset-normalizer<4,>=2 in /usr/local/lib/python3.10/dist-packages (from requests>=2.23.0->ultralytics) (3.3.2)\n",
            "Requirement already satisfied: idna<4,>=2.5 in /usr/local/lib/python3.10/dist-packages (from requests>=2.23.0->ultralytics) (3.6)\n",
            "Requirement already satisfied: urllib3<3,>=1.21.1 in /usr/local/lib/python3.10/dist-packages (from requests>=2.23.0->ultralytics) (2.0.7)\n",
            "Requirement already satisfied: certifi>=2017.4.17 in /usr/local/lib/python3.10/dist-packages (from requests>=2.23.0->ultralytics) (2024.2.2)\n",
            "Requirement already satisfied: filelock in /usr/local/lib/python3.10/dist-packages (from torch>=1.8.0->ultralytics) (3.13.1)\n",
            "Requirement already satisfied: typing-extensions in /usr/local/lib/python3.10/dist-packages (from torch>=1.8.0->ultralytics) (4.10.0)\n",
            "Requirement already satisfied: sympy in /usr/local/lib/python3.10/dist-packages (from torch>=1.8.0->ultralytics) (1.12)\n",
            "Requirement already satisfied: networkx in /usr/local/lib/python3.10/dist-packages (from torch>=1.8.0->ultralytics) (3.2.1)\n",
            "Requirement already satisfied: jinja2 in /usr/local/lib/python3.10/dist-packages (from torch>=1.8.0->ultralytics) (3.1.3)\n",
            "Requirement already satisfied: fsspec in /usr/local/lib/python3.10/dist-packages (from torch>=1.8.0->ultralytics) (2023.6.0)\n",
            "Requirement already satisfied: triton==2.1.0 in /usr/local/lib/python3.10/dist-packages (from torch>=1.8.0->ultralytics) (2.1.0)\n",
            "Requirement already satisfied: six>=1.5 in /usr/local/lib/python3.10/dist-packages (from python-dateutil>=2.7->matplotlib>=3.3.0->ultralytics) (1.16.0)\n",
            "Requirement already satisfied: MarkupSafe>=2.0 in /usr/local/lib/python3.10/dist-packages (from jinja2->torch>=1.8.0->ultralytics) (2.1.5)\n",
            "Requirement already satisfied: mpmath>=0.19 in /usr/local/lib/python3.10/dist-packages (from sympy->torch>=1.8.0->ultralytics) (1.3.0)\n",
            "Installing collected packages: thop, ultralytics\n",
            "Successfully installed thop-0.1.1.post2209072238 ultralytics-8.1.20\n"
          ]
        }
      ]
    },
    {
      "cell_type": "code",
      "execution_count": 5,
      "metadata": {
        "vscode": {
          "languageId": "plaintext"
        },
        "colab": {
          "base_uri": "https://localhost:8080/"
        },
        "id": "Ap96U4XADmvD",
        "outputId": "e95d071f-df8e-424a-943f-ef7171390c4a"
      },
      "outputs": [
        {
          "output_type": "stream",
          "name": "stdout",
          "text": [
            "Ultralytics YOLOv8.1.20 🚀 Python-3.10.12 torch-2.1.0+cu121 CUDA:0 (Tesla T4, 15102MiB)\n",
            "\u001b[34m\u001b[1mengine/trainer: \u001b[0mtask=detect, mode=train, model=yolov8n.pt, data=/content/drive/MyDrive/Traffic SignBoard Recognition using Deep Learning/Dataset/YOLOV8 Format Dataset/data.yaml, epochs=150, time=None, patience=100, batch=32, imgsz=640, save=True, save_period=-1, cache=False, device=None, workers=8, project=None, name=train2, exist_ok=False, pretrained=True, optimizer=auto, verbose=True, seed=0, deterministic=True, single_cls=False, rect=False, cos_lr=False, close_mosaic=10, resume=False, amp=True, fraction=1.0, profile=False, freeze=None, multi_scale=False, overlap_mask=True, mask_ratio=4, dropout=0.0, val=True, split=val, save_json=False, save_hybrid=False, conf=None, iou=0.7, max_det=300, half=False, dnn=False, plots=True, source=None, vid_stride=1, stream_buffer=False, visualize=False, augment=False, agnostic_nms=False, classes=None, retina_masks=False, embed=None, show=False, save_frames=False, save_txt=False, save_conf=False, save_crop=False, show_labels=True, show_conf=True, show_boxes=True, line_width=None, format=torchscript, keras=False, optimize=False, int8=False, dynamic=False, simplify=False, opset=None, workspace=4, nms=False, lr0=0.01, lrf=0.01, momentum=0.937, weight_decay=0.0005, warmup_epochs=3.0, warmup_momentum=0.8, warmup_bias_lr=0.1, box=7.5, cls=0.5, dfl=1.5, pose=12.0, kobj=1.0, label_smoothing=0.0, nbs=64, hsv_h=0.015, hsv_s=0.7, hsv_v=0.4, degrees=0.0, translate=0.1, scale=0.5, shear=0.0, perspective=0.0, flipud=0.0, fliplr=0.5, mosaic=1.0, mixup=0.0, copy_paste=0.0, auto_augment=randaugment, erasing=0.4, crop_fraction=1.0, cfg=None, tracker=botsort.yaml, save_dir=runs/detect/train2\n",
            "Downloading https://ultralytics.com/assets/Arial.ttf to '/root/.config/Ultralytics/Arial.ttf'...\n"
          ]
        },
        {
          "output_type": "stream",
          "name": "stderr",
          "text": [
            "100%|██████████| 755k/755k [00:00<00:00, 25.0MB/s]\n"
          ]
        },
        {
          "output_type": "stream",
          "name": "stdout",
          "text": [
            "Overriding model.yaml nc=80 with nc=56\n",
            "\n",
            "                   from  n    params  module                                       arguments                     \n",
            "  0                  -1  1       464  ultralytics.nn.modules.conv.Conv             [3, 16, 3, 2]                 \n",
            "  1                  -1  1      4672  ultralytics.nn.modules.conv.Conv             [16, 32, 3, 2]                \n",
            "  2                  -1  1      7360  ultralytics.nn.modules.block.C2f             [32, 32, 1, True]             \n",
            "  3                  -1  1     18560  ultralytics.nn.modules.conv.Conv             [32, 64, 3, 2]                \n",
            "  4                  -1  2     49664  ultralytics.nn.modules.block.C2f             [64, 64, 2, True]             \n",
            "  5                  -1  1     73984  ultralytics.nn.modules.conv.Conv             [64, 128, 3, 2]               \n",
            "  6                  -1  2    197632  ultralytics.nn.modules.block.C2f             [128, 128, 2, True]           \n",
            "  7                  -1  1    295424  ultralytics.nn.modules.conv.Conv             [128, 256, 3, 2]              \n",
            "  8                  -1  1    460288  ultralytics.nn.modules.block.C2f             [256, 256, 1, True]           \n",
            "  9                  -1  1    164608  ultralytics.nn.modules.block.SPPF            [256, 256, 5]                 \n",
            " 10                  -1  1         0  torch.nn.modules.upsampling.Upsample         [None, 2, 'nearest']          \n",
            " 11             [-1, 6]  1         0  ultralytics.nn.modules.conv.Concat           [1]                           \n",
            " 12                  -1  1    148224  ultralytics.nn.modules.block.C2f             [384, 128, 1]                 \n",
            " 13                  -1  1         0  torch.nn.modules.upsampling.Upsample         [None, 2, 'nearest']          \n",
            " 14             [-1, 4]  1         0  ultralytics.nn.modules.conv.Concat           [1]                           \n",
            " 15                  -1  1     37248  ultralytics.nn.modules.block.C2f             [192, 64, 1]                  \n",
            " 16                  -1  1     36992  ultralytics.nn.modules.conv.Conv             [64, 64, 3, 2]                \n",
            " 17            [-1, 12]  1         0  ultralytics.nn.modules.conv.Concat           [1]                           \n",
            " 18                  -1  1    123648  ultralytics.nn.modules.block.C2f             [192, 128, 1]                 \n",
            " 19                  -1  1    147712  ultralytics.nn.modules.conv.Conv             [128, 128, 3, 2]              \n",
            " 20             [-1, 9]  1         0  ultralytics.nn.modules.conv.Concat           [1]                           \n",
            " 21                  -1  1    493056  ultralytics.nn.modules.block.C2f             [384, 256, 1]                 \n",
            " 22        [15, 18, 21]  1    762232  ultralytics.nn.modules.head.Detect           [56, [64, 128, 256]]          \n",
            "Model summary: 225 layers, 3021768 parameters, 3021752 gradients, 8.3 GFLOPs\n",
            "\n",
            "Transferred 319/355 items from pretrained weights\n",
            "\u001b[34m\u001b[1mTensorBoard: \u001b[0mStart with 'tensorboard --logdir runs/detect/train2', view at http://localhost:6006/\n",
            "Freezing layer 'model.22.dfl.conv.weight'\n",
            "\u001b[34m\u001b[1mAMP: \u001b[0mrunning Automatic Mixed Precision (AMP) checks with YOLOv8n...\n",
            "\u001b[34m\u001b[1mAMP: \u001b[0mchecks passed ✅\n"
          ]
        },
        {
          "output_type": "stream",
          "name": "stderr",
          "text": [
            "\u001b[34m\u001b[1mtrain: \u001b[0mScanning /content/drive/MyDrive/Traffic SignBoard Recognition using Deep Learning/Dataset/YOLOV8 Format Dataset/train/labels... 2280 images, 0 backgrounds, 0 corrupt: 100%|██████████| 2280/2280 [15:22<00:00,  2.47it/s]\n"
          ]
        },
        {
          "output_type": "stream",
          "name": "stdout",
          "text": [
            "\u001b[34m\u001b[1mtrain: \u001b[0mNew cache created: /content/drive/MyDrive/Traffic SignBoard Recognition using Deep Learning/Dataset/YOLOV8 Format Dataset/train/labels.cache\n",
            "\u001b[34m\u001b[1malbumentations: \u001b[0mBlur(p=0.01, blur_limit=(3, 7)), MedianBlur(p=0.01, blur_limit=(3, 7)), ToGray(p=0.01), CLAHE(p=0.01, clip_limit=(1, 4.0), tile_grid_size=(8, 8))\n"
          ]
        },
        {
          "output_type": "stream",
          "name": "stderr",
          "text": [
            "\u001b[34m\u001b[1mval: \u001b[0mScanning /content/drive/MyDrive/Traffic SignBoard Recognition using Deep Learning/Dataset/YOLOV8 Format Dataset/valid/labels... 332 images, 0 backgrounds, 0 corrupt: 100%|██████████| 332/332 [02:12<00:00,  2.51it/s]\n"
          ]
        },
        {
          "output_type": "stream",
          "name": "stdout",
          "text": [
            "\u001b[34m\u001b[1mval: \u001b[0mNew cache created: /content/drive/MyDrive/Traffic SignBoard Recognition using Deep Learning/Dataset/YOLOV8 Format Dataset/valid/labels.cache\n",
            "Plotting labels to runs/detect/train2/labels.jpg... \n",
            "\u001b[34m\u001b[1moptimizer:\u001b[0m 'optimizer=auto' found, ignoring 'lr0=0.01' and 'momentum=0.937' and determining best 'optimizer', 'lr0' and 'momentum' automatically... \n",
            "\u001b[34m\u001b[1moptimizer:\u001b[0m AdamW(lr=0.000167, momentum=0.9) with parameter groups 57 weight(decay=0.0), 64 weight(decay=0.0005), 63 bias(decay=0.0)\n",
            "\u001b[34m\u001b[1mTensorBoard: \u001b[0mmodel graph visualization added ✅\n",
            "Image sizes 640 train, 640 val\n",
            "Using 2 dataloader workers\n",
            "Logging results to \u001b[1mruns/detect/train2\u001b[0m\n",
            "Starting training for 150 epochs...\n",
            "\n",
            "      Epoch    GPU_mem   box_loss   cls_loss   dfl_loss  Instances       Size\n"
          ]
        },
        {
          "output_type": "stream",
          "name": "stderr",
          "text": [
            "      1/150      4.97G     0.8246      4.587      1.379         23        640: 100%|██████████| 72/72 [01:01<00:00,  1.17it/s]\n",
            "                 Class     Images  Instances      Box(P          R      mAP50  mAP50-95): 100%|██████████| 6/6 [00:06<00:00,  1.10s/it]"
          ]
        },
        {
          "output_type": "stream",
          "name": "stdout",
          "text": [
            "                   all        332        332     0.0167      0.198     0.0316     0.0256\n"
          ]
        },
        {
          "output_type": "stream",
          "name": "stderr",
          "text": [
            "\n"
          ]
        },
        {
          "output_type": "stream",
          "name": "stdout",
          "text": [
            "\n",
            "      Epoch    GPU_mem   box_loss   cls_loss   dfl_loss  Instances       Size\n"
          ]
        },
        {
          "output_type": "stream",
          "name": "stderr",
          "text": [
            "      2/150      4.59G     0.6797      4.138      1.258         15        640: 100%|██████████| 72/72 [00:57<00:00,  1.24it/s]\n",
            "                 Class     Images  Instances      Box(P          R      mAP50  mAP50-95): 100%|██████████| 6/6 [00:04<00:00,  1.39it/s]\n"
          ]
        },
        {
          "output_type": "stream",
          "name": "stdout",
          "text": [
            "                   all        332        332       0.56     0.0918      0.125      0.103\n",
            "\n",
            "      Epoch    GPU_mem   box_loss   cls_loss   dfl_loss  Instances       Size\n"
          ]
        },
        {
          "output_type": "stream",
          "name": "stderr",
          "text": [
            "      3/150      4.58G     0.6897       3.65      1.249         20        640: 100%|██████████| 72/72 [00:57<00:00,  1.25it/s]\n",
            "                 Class     Images  Instances      Box(P          R      mAP50  mAP50-95): 100%|██████████| 6/6 [00:04<00:00,  1.49it/s]"
          ]
        },
        {
          "output_type": "stream",
          "name": "stdout",
          "text": [
            "                   all        332        332      0.305      0.335        0.2       0.17\n"
          ]
        },
        {
          "output_type": "stream",
          "name": "stderr",
          "text": [
            "\n"
          ]
        },
        {
          "output_type": "stream",
          "name": "stdout",
          "text": [
            "\n",
            "      Epoch    GPU_mem   box_loss   cls_loss   dfl_loss  Instances       Size\n"
          ]
        },
        {
          "output_type": "stream",
          "name": "stderr",
          "text": [
            "      4/150      4.59G     0.6878       3.24      1.235         26        640: 100%|██████████| 72/72 [00:57<00:00,  1.26it/s]\n",
            "                 Class     Images  Instances      Box(P          R      mAP50  mAP50-95): 100%|██████████| 6/6 [00:05<00:00,  1.13it/s]\n"
          ]
        },
        {
          "output_type": "stream",
          "name": "stdout",
          "text": [
            "                   all        332        332      0.286      0.396      0.292      0.244\n",
            "\n",
            "      Epoch    GPU_mem   box_loss   cls_loss   dfl_loss  Instances       Size\n"
          ]
        },
        {
          "output_type": "stream",
          "name": "stderr",
          "text": [
            "      5/150      4.59G     0.6684      2.872      1.205         23        640: 100%|██████████| 72/72 [00:57<00:00,  1.26it/s]\n",
            "                 Class     Images  Instances      Box(P          R      mAP50  mAP50-95): 100%|██████████| 6/6 [00:04<00:00,  1.40it/s]\n"
          ]
        },
        {
          "output_type": "stream",
          "name": "stdout",
          "text": [
            "                   all        332        332       0.31      0.423      0.375      0.314\n",
            "\n",
            "      Epoch    GPU_mem   box_loss   cls_loss   dfl_loss  Instances       Size\n"
          ]
        },
        {
          "output_type": "stream",
          "name": "stderr",
          "text": [
            "      6/150      4.58G     0.6576      2.584      1.195         15        640: 100%|██████████| 72/72 [00:57<00:00,  1.26it/s]\n",
            "                 Class     Images  Instances      Box(P          R      mAP50  mAP50-95): 100%|██████████| 6/6 [00:05<00:00,  1.13it/s]\n"
          ]
        },
        {
          "output_type": "stream",
          "name": "stdout",
          "text": [
            "                   all        332        332      0.391      0.422      0.419      0.361\n",
            "\n",
            "      Epoch    GPU_mem   box_loss   cls_loss   dfl_loss  Instances       Size\n"
          ]
        },
        {
          "output_type": "stream",
          "name": "stderr",
          "text": [
            "      7/150      4.59G     0.6447      2.403       1.18         13        640: 100%|██████████| 72/72 [00:57<00:00,  1.26it/s]\n",
            "                 Class     Images  Instances      Box(P          R      mAP50  mAP50-95): 100%|██████████| 6/6 [00:03<00:00,  1.55it/s]\n"
          ]
        },
        {
          "output_type": "stream",
          "name": "stdout",
          "text": [
            "                   all        332        332      0.361      0.467      0.479      0.418\n",
            "\n",
            "      Epoch    GPU_mem   box_loss   cls_loss   dfl_loss  Instances       Size\n"
          ]
        },
        {
          "output_type": "stream",
          "name": "stderr",
          "text": [
            "      8/150      4.59G     0.6312      2.216      1.167         24        640: 100%|██████████| 72/72 [00:57<00:00,  1.26it/s]\n",
            "                 Class     Images  Instances      Box(P          R      mAP50  mAP50-95): 100%|██████████| 6/6 [00:04<00:00,  1.25it/s]\n"
          ]
        },
        {
          "output_type": "stream",
          "name": "stdout",
          "text": [
            "                   all        332        332      0.495      0.506      0.524      0.448\n",
            "\n",
            "      Epoch    GPU_mem   box_loss   cls_loss   dfl_loss  Instances       Size\n"
          ]
        },
        {
          "output_type": "stream",
          "name": "stderr",
          "text": [
            "      9/150      4.58G     0.6029      2.064      1.147         24        640: 100%|██████████| 72/72 [00:57<00:00,  1.25it/s]\n",
            "                 Class     Images  Instances      Box(P          R      mAP50  mAP50-95): 100%|██████████| 6/6 [00:04<00:00,  1.48it/s]\n"
          ]
        },
        {
          "output_type": "stream",
          "name": "stdout",
          "text": [
            "                   all        332        332      0.454      0.565      0.552      0.472\n",
            "\n",
            "      Epoch    GPU_mem   box_loss   cls_loss   dfl_loss  Instances       Size\n"
          ]
        },
        {
          "output_type": "stream",
          "name": "stderr",
          "text": [
            "     10/150      4.58G     0.6006       1.94      1.147         22        640: 100%|██████████| 72/72 [00:57<00:00,  1.26it/s]\n",
            "                 Class     Images  Instances      Box(P          R      mAP50  mAP50-95): 100%|██████████| 6/6 [00:05<00:00,  1.19it/s]"
          ]
        },
        {
          "output_type": "stream",
          "name": "stdout",
          "text": [
            "                   all        332        332      0.457      0.558      0.575      0.507\n"
          ]
        },
        {
          "output_type": "stream",
          "name": "stderr",
          "text": [
            "\n"
          ]
        },
        {
          "output_type": "stream",
          "name": "stdout",
          "text": [
            "\n",
            "      Epoch    GPU_mem   box_loss   cls_loss   dfl_loss  Instances       Size\n"
          ]
        },
        {
          "output_type": "stream",
          "name": "stderr",
          "text": [
            "     11/150      4.58G     0.5932       1.82       1.14         18        640: 100%|██████████| 72/72 [00:57<00:00,  1.26it/s]\n",
            "                 Class     Images  Instances      Box(P          R      mAP50  mAP50-95): 100%|██████████| 6/6 [00:04<00:00,  1.37it/s]"
          ]
        },
        {
          "output_type": "stream",
          "name": "stdout",
          "text": [
            "                   all        332        332       0.49       0.57      0.614      0.541\n"
          ]
        },
        {
          "output_type": "stream",
          "name": "stderr",
          "text": [
            "\n"
          ]
        },
        {
          "output_type": "stream",
          "name": "stdout",
          "text": [
            "\n",
            "      Epoch    GPU_mem   box_loss   cls_loss   dfl_loss  Instances       Size\n"
          ]
        },
        {
          "output_type": "stream",
          "name": "stderr",
          "text": [
            "     12/150      4.58G     0.5763      1.705      1.122         22        640: 100%|██████████| 72/72 [00:56<00:00,  1.27it/s]\n",
            "                 Class     Images  Instances      Box(P          R      mAP50  mAP50-95): 100%|██████████| 6/6 [00:05<00:00,  1.04it/s]"
          ]
        },
        {
          "output_type": "stream",
          "name": "stdout",
          "text": [
            "                   all        332        332      0.504      0.602      0.623      0.552\n"
          ]
        },
        {
          "output_type": "stream",
          "name": "stderr",
          "text": [
            "\n"
          ]
        },
        {
          "output_type": "stream",
          "name": "stdout",
          "text": [
            "\n",
            "      Epoch    GPU_mem   box_loss   cls_loss   dfl_loss  Instances       Size\n"
          ]
        },
        {
          "output_type": "stream",
          "name": "stderr",
          "text": [
            "     13/150      4.58G     0.5782      1.642      1.124         21        640: 100%|██████████| 72/72 [00:57<00:00,  1.26it/s]\n",
            "                 Class     Images  Instances      Box(P          R      mAP50  mAP50-95): 100%|██████████| 6/6 [00:03<00:00,  1.51it/s]\n"
          ]
        },
        {
          "output_type": "stream",
          "name": "stdout",
          "text": [
            "                   all        332        332      0.578      0.535      0.622       0.55\n",
            "\n",
            "      Epoch    GPU_mem   box_loss   cls_loss   dfl_loss  Instances       Size\n"
          ]
        },
        {
          "output_type": "stream",
          "name": "stderr",
          "text": [
            "     14/150      4.59G     0.5684      1.606      1.128         16        640: 100%|██████████| 72/72 [00:56<00:00,  1.27it/s]\n",
            "                 Class     Images  Instances      Box(P          R      mAP50  mAP50-95): 100%|██████████| 6/6 [00:05<00:00,  1.04it/s]\n"
          ]
        },
        {
          "output_type": "stream",
          "name": "stdout",
          "text": [
            "                   all        332        332      0.548      0.588      0.654      0.571\n",
            "\n",
            "      Epoch    GPU_mem   box_loss   cls_loss   dfl_loss  Instances       Size\n"
          ]
        },
        {
          "output_type": "stream",
          "name": "stderr",
          "text": [
            "     15/150      4.59G     0.5626      1.509      1.115         23        640: 100%|██████████| 72/72 [00:56<00:00,  1.28it/s]\n",
            "                 Class     Images  Instances      Box(P          R      mAP50  mAP50-95): 100%|██████████| 6/6 [00:04<00:00,  1.43it/s]\n"
          ]
        },
        {
          "output_type": "stream",
          "name": "stdout",
          "text": [
            "                   all        332        332      0.547      0.654      0.662      0.579\n",
            "\n",
            "      Epoch    GPU_mem   box_loss   cls_loss   dfl_loss  Instances       Size\n"
          ]
        },
        {
          "output_type": "stream",
          "name": "stderr",
          "text": [
            "     16/150      4.59G      0.558      1.472      1.111         22        640: 100%|██████████| 72/72 [00:56<00:00,  1.27it/s]\n",
            "                 Class     Images  Instances      Box(P          R      mAP50  mAP50-95): 100%|██████████| 6/6 [00:05<00:00,  1.06it/s]\n"
          ]
        },
        {
          "output_type": "stream",
          "name": "stdout",
          "text": [
            "                   all        332        332      0.528      0.654       0.66      0.575\n",
            "\n",
            "      Epoch    GPU_mem   box_loss   cls_loss   dfl_loss  Instances       Size\n"
          ]
        },
        {
          "output_type": "stream",
          "name": "stderr",
          "text": [
            "     17/150      4.58G     0.5687      1.416      1.122         16        640: 100%|██████████| 72/72 [00:57<00:00,  1.26it/s]\n",
            "                 Class     Images  Instances      Box(P          R      mAP50  mAP50-95): 100%|██████████| 6/6 [00:04<00:00,  1.42it/s]"
          ]
        },
        {
          "output_type": "stream",
          "name": "stdout",
          "text": [
            "                   all        332        332      0.625      0.594      0.673      0.589\n"
          ]
        },
        {
          "output_type": "stream",
          "name": "stderr",
          "text": [
            "\n"
          ]
        },
        {
          "output_type": "stream",
          "name": "stdout",
          "text": [
            "\n",
            "      Epoch    GPU_mem   box_loss   cls_loss   dfl_loss  Instances       Size\n"
          ]
        },
        {
          "output_type": "stream",
          "name": "stderr",
          "text": [
            "     18/150      4.59G     0.5584      1.388       1.11         15        640: 100%|██████████| 72/72 [00:56<00:00,  1.27it/s]\n",
            "                 Class     Images  Instances      Box(P          R      mAP50  mAP50-95): 100%|██████████| 6/6 [00:05<00:00,  1.15it/s]\n"
          ]
        },
        {
          "output_type": "stream",
          "name": "stdout",
          "text": [
            "                   all        332        332      0.634      0.572      0.666       0.59\n",
            "\n",
            "      Epoch    GPU_mem   box_loss   cls_loss   dfl_loss  Instances       Size\n"
          ]
        },
        {
          "output_type": "stream",
          "name": "stderr",
          "text": [
            "     19/150      4.59G     0.5519      1.376      1.109         21        640: 100%|██████████| 72/72 [00:56<00:00,  1.28it/s]\n",
            "                 Class     Images  Instances      Box(P          R      mAP50  mAP50-95): 100%|██████████| 6/6 [00:04<00:00,  1.50it/s]\n"
          ]
        },
        {
          "output_type": "stream",
          "name": "stdout",
          "text": [
            "                   all        332        332      0.613      0.605      0.672      0.594\n",
            "\n",
            "      Epoch    GPU_mem   box_loss   cls_loss   dfl_loss  Instances       Size\n"
          ]
        },
        {
          "output_type": "stream",
          "name": "stderr",
          "text": [
            "     20/150      4.58G     0.5402      1.326      1.095         16        640: 100%|██████████| 72/72 [00:56<00:00,  1.27it/s]\n",
            "                 Class     Images  Instances      Box(P          R      mAP50  mAP50-95): 100%|██████████| 6/6 [00:05<00:00,  1.12it/s]\n"
          ]
        },
        {
          "output_type": "stream",
          "name": "stdout",
          "text": [
            "                   all        332        332      0.612      0.632      0.684      0.605\n",
            "\n",
            "      Epoch    GPU_mem   box_loss   cls_loss   dfl_loss  Instances       Size\n"
          ]
        },
        {
          "output_type": "stream",
          "name": "stderr",
          "text": [
            "     21/150      4.58G     0.5397      1.277      1.097         20        640: 100%|██████████| 72/72 [00:56<00:00,  1.28it/s]\n",
            "                 Class     Images  Instances      Box(P          R      mAP50  mAP50-95): 100%|██████████| 6/6 [00:04<00:00,  1.43it/s]"
          ]
        },
        {
          "output_type": "stream",
          "name": "stdout",
          "text": [
            "                   all        332        332      0.628       0.65      0.684      0.597\n"
          ]
        },
        {
          "output_type": "stream",
          "name": "stderr",
          "text": [
            "\n"
          ]
        },
        {
          "output_type": "stream",
          "name": "stdout",
          "text": [
            "\n",
            "      Epoch    GPU_mem   box_loss   cls_loss   dfl_loss  Instances       Size\n"
          ]
        },
        {
          "output_type": "stream",
          "name": "stderr",
          "text": [
            "     22/150      4.58G     0.5413       1.27      1.102         15        640: 100%|██████████| 72/72 [00:57<00:00,  1.26it/s]\n",
            "                 Class     Images  Instances      Box(P          R      mAP50  mAP50-95): 100%|██████████| 6/6 [00:05<00:00,  1.08it/s]"
          ]
        },
        {
          "output_type": "stream",
          "name": "stdout",
          "text": [
            "                   all        332        332      0.607      0.626      0.683      0.597\n"
          ]
        },
        {
          "output_type": "stream",
          "name": "stderr",
          "text": [
            "\n"
          ]
        },
        {
          "output_type": "stream",
          "name": "stdout",
          "text": [
            "\n",
            "      Epoch    GPU_mem   box_loss   cls_loss   dfl_loss  Instances       Size\n"
          ]
        },
        {
          "output_type": "stream",
          "name": "stderr",
          "text": [
            "     23/150      4.58G     0.5409      1.238        1.1         23        640: 100%|██████████| 72/72 [00:57<00:00,  1.26it/s]\n",
            "                 Class     Images  Instances      Box(P          R      mAP50  mAP50-95): 100%|██████████| 6/6 [00:04<00:00,  1.49it/s]"
          ]
        },
        {
          "output_type": "stream",
          "name": "stdout",
          "text": [
            "                   all        332        332      0.636      0.593      0.662      0.587\n"
          ]
        },
        {
          "output_type": "stream",
          "name": "stderr",
          "text": [
            "\n"
          ]
        },
        {
          "output_type": "stream",
          "name": "stdout",
          "text": [
            "\n",
            "      Epoch    GPU_mem   box_loss   cls_loss   dfl_loss  Instances       Size\n"
          ]
        },
        {
          "output_type": "stream",
          "name": "stderr",
          "text": [
            "     24/150      4.58G     0.5309      1.189      1.099         20        640: 100%|██████████| 72/72 [00:56<00:00,  1.27it/s]\n",
            "                 Class     Images  Instances      Box(P          R      mAP50  mAP50-95): 100%|██████████| 6/6 [00:05<00:00,  1.14it/s]"
          ]
        },
        {
          "output_type": "stream",
          "name": "stdout",
          "text": [
            "                   all        332        332      0.569      0.651      0.691      0.608\n"
          ]
        },
        {
          "output_type": "stream",
          "name": "stderr",
          "text": [
            "\n"
          ]
        },
        {
          "output_type": "stream",
          "name": "stdout",
          "text": [
            "\n",
            "      Epoch    GPU_mem   box_loss   cls_loss   dfl_loss  Instances       Size\n"
          ]
        },
        {
          "output_type": "stream",
          "name": "stderr",
          "text": [
            "     25/150      4.58G     0.5282      1.181      1.084         21        640: 100%|██████████| 72/72 [00:55<00:00,  1.29it/s]\n",
            "                 Class     Images  Instances      Box(P          R      mAP50  mAP50-95): 100%|██████████| 6/6 [00:04<00:00,  1.45it/s]\n"
          ]
        },
        {
          "output_type": "stream",
          "name": "stdout",
          "text": [
            "                   all        332        332      0.629      0.633      0.681        0.6\n",
            "\n",
            "      Epoch    GPU_mem   box_loss   cls_loss   dfl_loss  Instances       Size\n"
          ]
        },
        {
          "output_type": "stream",
          "name": "stderr",
          "text": [
            "     26/150      4.58G     0.5317      1.167      1.084         22        640: 100%|██████████| 72/72 [00:55<00:00,  1.30it/s]\n",
            "                 Class     Images  Instances      Box(P          R      mAP50  mAP50-95): 100%|██████████| 6/6 [00:05<00:00,  1.18it/s]"
          ]
        },
        {
          "output_type": "stream",
          "name": "stdout",
          "text": [
            "                   all        332        332      0.627      0.651      0.694      0.615\n"
          ]
        },
        {
          "output_type": "stream",
          "name": "stderr",
          "text": [
            "\n"
          ]
        },
        {
          "output_type": "stream",
          "name": "stdout",
          "text": [
            "\n",
            "      Epoch    GPU_mem   box_loss   cls_loss   dfl_loss  Instances       Size\n"
          ]
        },
        {
          "output_type": "stream",
          "name": "stderr",
          "text": [
            "     27/150      4.58G     0.5191      1.134      1.081         15        640: 100%|██████████| 72/72 [00:55<00:00,  1.29it/s]\n",
            "                 Class     Images  Instances      Box(P          R      mAP50  mAP50-95): 100%|██████████| 6/6 [00:03<00:00,  1.60it/s]\n"
          ]
        },
        {
          "output_type": "stream",
          "name": "stdout",
          "text": [
            "                   all        332        332      0.627      0.633      0.699      0.614\n",
            "\n",
            "      Epoch    GPU_mem   box_loss   cls_loss   dfl_loss  Instances       Size\n"
          ]
        },
        {
          "output_type": "stream",
          "name": "stderr",
          "text": [
            "     28/150      4.58G     0.5304      1.139      1.091         22        640: 100%|██████████| 72/72 [00:55<00:00,  1.29it/s]\n",
            "                 Class     Images  Instances      Box(P          R      mAP50  mAP50-95): 100%|██████████| 6/6 [00:04<00:00,  1.31it/s]"
          ]
        },
        {
          "output_type": "stream",
          "name": "stdout",
          "text": [
            "                   all        332        332       0.58      0.664      0.682      0.606\n"
          ]
        },
        {
          "output_type": "stream",
          "name": "stderr",
          "text": [
            "\n"
          ]
        },
        {
          "output_type": "stream",
          "name": "stdout",
          "text": [
            "\n",
            "      Epoch    GPU_mem   box_loss   cls_loss   dfl_loss  Instances       Size\n"
          ]
        },
        {
          "output_type": "stream",
          "name": "stderr",
          "text": [
            "     29/150      4.58G     0.5257      1.125      1.084         19        640: 100%|██████████| 72/72 [00:57<00:00,  1.26it/s]\n",
            "                 Class     Images  Instances      Box(P          R      mAP50  mAP50-95): 100%|██████████| 6/6 [00:04<00:00,  1.50it/s]"
          ]
        },
        {
          "output_type": "stream",
          "name": "stdout",
          "text": [
            "                   all        332        332      0.642      0.627      0.687      0.606\n"
          ]
        },
        {
          "output_type": "stream",
          "name": "stderr",
          "text": [
            "\n"
          ]
        },
        {
          "output_type": "stream",
          "name": "stdout",
          "text": [
            "\n",
            "      Epoch    GPU_mem   box_loss   cls_loss   dfl_loss  Instances       Size\n"
          ]
        },
        {
          "output_type": "stream",
          "name": "stderr",
          "text": [
            "     30/150      4.58G     0.5202      1.088      1.083         22        640: 100%|██████████| 72/72 [00:55<00:00,  1.29it/s]\n",
            "                 Class     Images  Instances      Box(P          R      mAP50  mAP50-95): 100%|██████████| 6/6 [00:04<00:00,  1.30it/s]\n"
          ]
        },
        {
          "output_type": "stream",
          "name": "stdout",
          "text": [
            "                   all        332        332      0.673      0.605      0.695      0.615\n",
            "\n",
            "      Epoch    GPU_mem   box_loss   cls_loss   dfl_loss  Instances       Size\n"
          ]
        },
        {
          "output_type": "stream",
          "name": "stderr",
          "text": [
            "     31/150      4.59G     0.5171      1.103       1.08         21        640: 100%|██████████| 72/72 [00:56<00:00,  1.28it/s]\n",
            "                 Class     Images  Instances      Box(P          R      mAP50  mAP50-95): 100%|██████████| 6/6 [00:04<00:00,  1.49it/s]"
          ]
        },
        {
          "output_type": "stream",
          "name": "stdout",
          "text": [
            "                   all        332        332      0.611       0.65      0.682      0.606\n"
          ]
        },
        {
          "output_type": "stream",
          "name": "stderr",
          "text": [
            "\n"
          ]
        },
        {
          "output_type": "stream",
          "name": "stdout",
          "text": [
            "\n",
            "      Epoch    GPU_mem   box_loss   cls_loss   dfl_loss  Instances       Size\n"
          ]
        },
        {
          "output_type": "stream",
          "name": "stderr",
          "text": [
            "     32/150      4.58G     0.5253      1.054      1.085         22        640: 100%|██████████| 72/72 [00:54<00:00,  1.31it/s]\n",
            "                 Class     Images  Instances      Box(P          R      mAP50  mAP50-95): 100%|██████████| 6/6 [00:04<00:00,  1.46it/s]\n"
          ]
        },
        {
          "output_type": "stream",
          "name": "stdout",
          "text": [
            "                   all        332        332      0.642      0.635      0.698      0.621\n",
            "\n",
            "      Epoch    GPU_mem   box_loss   cls_loss   dfl_loss  Instances       Size\n"
          ]
        },
        {
          "output_type": "stream",
          "name": "stderr",
          "text": [
            "     33/150      4.58G     0.5188      1.055      1.076         19        640: 100%|██████████| 72/72 [00:54<00:00,  1.32it/s]\n",
            "                 Class     Images  Instances      Box(P          R      mAP50  mAP50-95): 100%|██████████| 6/6 [00:05<00:00,  1.16it/s]"
          ]
        },
        {
          "output_type": "stream",
          "name": "stdout",
          "text": [
            "                   all        332        332      0.635      0.665      0.702      0.619\n"
          ]
        },
        {
          "output_type": "stream",
          "name": "stderr",
          "text": [
            "\n"
          ]
        },
        {
          "output_type": "stream",
          "name": "stdout",
          "text": [
            "\n",
            "      Epoch    GPU_mem   box_loss   cls_loss   dfl_loss  Instances       Size\n"
          ]
        },
        {
          "output_type": "stream",
          "name": "stderr",
          "text": [
            "     34/150      4.58G     0.5216      1.029      1.083         21        640: 100%|██████████| 72/72 [00:56<00:00,  1.28it/s]\n",
            "                 Class     Images  Instances      Box(P          R      mAP50  mAP50-95): 100%|██████████| 6/6 [00:03<00:00,  1.51it/s]\n"
          ]
        },
        {
          "output_type": "stream",
          "name": "stdout",
          "text": [
            "                   all        332        332      0.583       0.67      0.692      0.615\n",
            "\n",
            "      Epoch    GPU_mem   box_loss   cls_loss   dfl_loss  Instances       Size\n"
          ]
        },
        {
          "output_type": "stream",
          "name": "stderr",
          "text": [
            "     35/150      4.58G     0.5095       1.04      1.074         21        640: 100%|██████████| 72/72 [00:55<00:00,  1.31it/s]\n",
            "                 Class     Images  Instances      Box(P          R      mAP50  mAP50-95): 100%|██████████| 6/6 [00:05<00:00,  1.12it/s]"
          ]
        },
        {
          "output_type": "stream",
          "name": "stdout",
          "text": [
            "                   all        332        332      0.669      0.641      0.697      0.617\n"
          ]
        },
        {
          "output_type": "stream",
          "name": "stderr",
          "text": [
            "\n"
          ]
        },
        {
          "output_type": "stream",
          "name": "stdout",
          "text": [
            "\n",
            "      Epoch    GPU_mem   box_loss   cls_loss   dfl_loss  Instances       Size\n"
          ]
        },
        {
          "output_type": "stream",
          "name": "stderr",
          "text": [
            "     36/150      4.58G      0.513      1.011      1.069         18        640: 100%|██████████| 72/72 [00:55<00:00,  1.31it/s]\n",
            "                 Class     Images  Instances      Box(P          R      mAP50  mAP50-95): 100%|██████████| 6/6 [00:04<00:00,  1.36it/s]\n"
          ]
        },
        {
          "output_type": "stream",
          "name": "stdout",
          "text": [
            "                   all        332        332      0.592      0.654       0.68      0.606\n",
            "\n",
            "      Epoch    GPU_mem   box_loss   cls_loss   dfl_loss  Instances       Size\n"
          ]
        },
        {
          "output_type": "stream",
          "name": "stderr",
          "text": [
            "     37/150      4.58G     0.5094      1.001      1.076         18        640: 100%|██████████| 72/72 [00:54<00:00,  1.31it/s]\n",
            "                 Class     Images  Instances      Box(P          R      mAP50  mAP50-95): 100%|██████████| 6/6 [00:04<00:00,  1.34it/s]\n"
          ]
        },
        {
          "output_type": "stream",
          "name": "stdout",
          "text": [
            "                   all        332        332      0.636       0.63      0.706       0.62\n",
            "\n",
            "      Epoch    GPU_mem   box_loss   cls_loss   dfl_loss  Instances       Size\n"
          ]
        },
        {
          "output_type": "stream",
          "name": "stderr",
          "text": [
            "     38/150      4.59G     0.4986     0.9823       1.06         15        640: 100%|██████████| 72/72 [00:54<00:00,  1.32it/s]\n",
            "                 Class     Images  Instances      Box(P          R      mAP50  mAP50-95): 100%|██████████| 6/6 [00:05<00:00,  1.20it/s]"
          ]
        },
        {
          "output_type": "stream",
          "name": "stdout",
          "text": [
            "                   all        332        332      0.655      0.644      0.704      0.622\n"
          ]
        },
        {
          "output_type": "stream",
          "name": "stderr",
          "text": [
            "\n"
          ]
        },
        {
          "output_type": "stream",
          "name": "stdout",
          "text": [
            "\n",
            "      Epoch    GPU_mem   box_loss   cls_loss   dfl_loss  Instances       Size\n"
          ]
        },
        {
          "output_type": "stream",
          "name": "stderr",
          "text": [
            "     39/150      4.59G      0.499      0.958      1.067         19        640: 100%|██████████| 72/72 [00:54<00:00,  1.32it/s]\n",
            "                 Class     Images  Instances      Box(P          R      mAP50  mAP50-95): 100%|██████████| 6/6 [00:04<00:00,  1.38it/s]"
          ]
        },
        {
          "output_type": "stream",
          "name": "stdout",
          "text": [
            "                   all        332        332      0.661      0.653      0.706      0.631\n"
          ]
        },
        {
          "output_type": "stream",
          "name": "stderr",
          "text": [
            "\n"
          ]
        },
        {
          "output_type": "stream",
          "name": "stdout",
          "text": [
            "\n",
            "      Epoch    GPU_mem   box_loss   cls_loss   dfl_loss  Instances       Size\n"
          ]
        },
        {
          "output_type": "stream",
          "name": "stderr",
          "text": [
            "     40/150      4.58G     0.4975     0.9678      1.064         22        640: 100%|██████████| 72/72 [00:55<00:00,  1.31it/s]\n",
            "                 Class     Images  Instances      Box(P          R      mAP50  mAP50-95): 100%|██████████| 6/6 [00:05<00:00,  1.13it/s]\n"
          ]
        },
        {
          "output_type": "stream",
          "name": "stdout",
          "text": [
            "                   all        332        332      0.587      0.683      0.698      0.621\n",
            "\n",
            "      Epoch    GPU_mem   box_loss   cls_loss   dfl_loss  Instances       Size\n"
          ]
        },
        {
          "output_type": "stream",
          "name": "stderr",
          "text": [
            "     41/150      4.58G     0.4965     0.9391      1.066         21        640: 100%|██████████| 72/72 [00:56<00:00,  1.28it/s]\n",
            "                 Class     Images  Instances      Box(P          R      mAP50  mAP50-95): 100%|██████████| 6/6 [00:03<00:00,  1.51it/s]\n"
          ]
        },
        {
          "output_type": "stream",
          "name": "stdout",
          "text": [
            "                   all        332        332      0.622      0.665      0.702       0.62\n",
            "\n",
            "      Epoch    GPU_mem   box_loss   cls_loss   dfl_loss  Instances       Size\n"
          ]
        },
        {
          "output_type": "stream",
          "name": "stderr",
          "text": [
            "     42/150      4.58G     0.5025     0.9396      1.065         16        640: 100%|██████████| 72/72 [00:55<00:00,  1.31it/s]\n",
            "                 Class     Images  Instances      Box(P          R      mAP50  mAP50-95): 100%|██████████| 6/6 [00:05<00:00,  1.10it/s]\n"
          ]
        },
        {
          "output_type": "stream",
          "name": "stdout",
          "text": [
            "                   all        332        332       0.66      0.659       0.71      0.632\n",
            "\n",
            "      Epoch    GPU_mem   box_loss   cls_loss   dfl_loss  Instances       Size\n"
          ]
        },
        {
          "output_type": "stream",
          "name": "stderr",
          "text": [
            "     43/150      4.58G     0.4911     0.9135      1.066         20        640: 100%|██████████| 72/72 [00:55<00:00,  1.30it/s]\n",
            "                 Class     Images  Instances      Box(P          R      mAP50  mAP50-95): 100%|██████████| 6/6 [00:03<00:00,  1.54it/s]\n"
          ]
        },
        {
          "output_type": "stream",
          "name": "stdout",
          "text": [
            "                   all        332        332      0.608      0.659      0.694      0.619\n",
            "\n",
            "      Epoch    GPU_mem   box_loss   cls_loss   dfl_loss  Instances       Size\n"
          ]
        },
        {
          "output_type": "stream",
          "name": "stderr",
          "text": [
            "     44/150      4.58G     0.5008     0.9329       1.06         24        640: 100%|██████████| 72/72 [00:55<00:00,  1.31it/s]\n",
            "                 Class     Images  Instances      Box(P          R      mAP50  mAP50-95): 100%|██████████| 6/6 [00:04<00:00,  1.37it/s]\n"
          ]
        },
        {
          "output_type": "stream",
          "name": "stdout",
          "text": [
            "                   all        332        332      0.647      0.634      0.702      0.624\n",
            "\n",
            "      Epoch    GPU_mem   box_loss   cls_loss   dfl_loss  Instances       Size\n"
          ]
        },
        {
          "output_type": "stream",
          "name": "stderr",
          "text": [
            "     45/150      4.58G     0.4961     0.8942      1.057         16        640: 100%|██████████| 72/72 [00:54<00:00,  1.31it/s]\n",
            "                 Class     Images  Instances      Box(P          R      mAP50  mAP50-95): 100%|██████████| 6/6 [00:04<00:00,  1.23it/s]\n"
          ]
        },
        {
          "output_type": "stream",
          "name": "stdout",
          "text": [
            "                   all        332        332      0.604      0.669      0.701      0.622\n",
            "\n",
            "      Epoch    GPU_mem   box_loss   cls_loss   dfl_loss  Instances       Size\n"
          ]
        },
        {
          "output_type": "stream",
          "name": "stderr",
          "text": [
            "     46/150      4.58G     0.4954     0.8947      1.062         16        640: 100%|██████████| 72/72 [00:56<00:00,  1.29it/s]\n",
            "                 Class     Images  Instances      Box(P          R      mAP50  mAP50-95): 100%|██████████| 6/6 [00:03<00:00,  1.52it/s]\n"
          ]
        },
        {
          "output_type": "stream",
          "name": "stdout",
          "text": [
            "                   all        332        332      0.623      0.653      0.701      0.623\n",
            "\n",
            "      Epoch    GPU_mem   box_loss   cls_loss   dfl_loss  Instances       Size\n"
          ]
        },
        {
          "output_type": "stream",
          "name": "stderr",
          "text": [
            "     47/150      4.58G     0.4938     0.8827       1.06         15        640: 100%|██████████| 72/72 [00:55<00:00,  1.30it/s]\n",
            "                 Class     Images  Instances      Box(P          R      mAP50  mAP50-95): 100%|██████████| 6/6 [00:04<00:00,  1.24it/s]"
          ]
        },
        {
          "output_type": "stream",
          "name": "stdout",
          "text": [
            "                   all        332        332      0.643      0.647      0.707      0.624\n"
          ]
        },
        {
          "output_type": "stream",
          "name": "stderr",
          "text": [
            "\n"
          ]
        },
        {
          "output_type": "stream",
          "name": "stdout",
          "text": [
            "\n",
            "      Epoch    GPU_mem   box_loss   cls_loss   dfl_loss  Instances       Size\n"
          ]
        },
        {
          "output_type": "stream",
          "name": "stderr",
          "text": [
            "     48/150      4.58G      0.502     0.8911      1.065         23        640: 100%|██████████| 72/72 [00:56<00:00,  1.27it/s]\n",
            "                 Class     Images  Instances      Box(P          R      mAP50  mAP50-95): 100%|██████████| 6/6 [00:04<00:00,  1.44it/s]"
          ]
        },
        {
          "output_type": "stream",
          "name": "stdout",
          "text": [
            "                   all        332        332      0.677      0.634      0.707      0.627\n"
          ]
        },
        {
          "output_type": "stream",
          "name": "stderr",
          "text": [
            "\n"
          ]
        },
        {
          "output_type": "stream",
          "name": "stdout",
          "text": [
            "\n",
            "      Epoch    GPU_mem   box_loss   cls_loss   dfl_loss  Instances       Size\n"
          ]
        },
        {
          "output_type": "stream",
          "name": "stderr",
          "text": [
            "     49/150      4.58G     0.4809      0.856      1.051         24        640: 100%|██████████| 72/72 [00:56<00:00,  1.28it/s]\n",
            "                 Class     Images  Instances      Box(P          R      mAP50  mAP50-95): 100%|██████████| 6/6 [00:05<00:00,  1.15it/s]"
          ]
        },
        {
          "output_type": "stream",
          "name": "stdout",
          "text": [
            "                   all        332        332      0.634      0.645      0.708      0.627\n"
          ]
        },
        {
          "output_type": "stream",
          "name": "stderr",
          "text": [
            "\n"
          ]
        },
        {
          "output_type": "stream",
          "name": "stdout",
          "text": [
            "\n",
            "      Epoch    GPU_mem   box_loss   cls_loss   dfl_loss  Instances       Size\n"
          ]
        },
        {
          "output_type": "stream",
          "name": "stderr",
          "text": [
            "     50/150      4.58G     0.4913     0.8738      1.061         18        640: 100%|██████████| 72/72 [00:55<00:00,  1.29it/s]\n",
            "                 Class     Images  Instances      Box(P          R      mAP50  mAP50-95): 100%|██████████| 6/6 [00:04<00:00,  1.44it/s]"
          ]
        },
        {
          "output_type": "stream",
          "name": "stdout",
          "text": [
            "                   all        332        332      0.665      0.634      0.706      0.625\n"
          ]
        },
        {
          "output_type": "stream",
          "name": "stderr",
          "text": [
            "\n"
          ]
        },
        {
          "output_type": "stream",
          "name": "stdout",
          "text": [
            "\n",
            "      Epoch    GPU_mem   box_loss   cls_loss   dfl_loss  Instances       Size\n"
          ]
        },
        {
          "output_type": "stream",
          "name": "stderr",
          "text": [
            "     51/150      4.58G     0.4825     0.8559      1.055         19        640: 100%|██████████| 72/72 [00:55<00:00,  1.29it/s]\n",
            "                 Class     Images  Instances      Box(P          R      mAP50  mAP50-95): 100%|██████████| 6/6 [00:04<00:00,  1.48it/s]\n"
          ]
        },
        {
          "output_type": "stream",
          "name": "stdout",
          "text": [
            "                   all        332        332      0.714      0.624      0.704      0.624\n",
            "\n",
            "      Epoch    GPU_mem   box_loss   cls_loss   dfl_loss  Instances       Size\n"
          ]
        },
        {
          "output_type": "stream",
          "name": "stderr",
          "text": [
            "     52/150      4.58G     0.4869     0.8444      1.054         18        640: 100%|██████████| 72/72 [00:54<00:00,  1.33it/s]\n",
            "                 Class     Images  Instances      Box(P          R      mAP50  mAP50-95): 100%|██████████| 6/6 [00:05<00:00,  1.11it/s]"
          ]
        },
        {
          "output_type": "stream",
          "name": "stdout",
          "text": [
            "                   all        332        332       0.64      0.649        0.7      0.625\n"
          ]
        },
        {
          "output_type": "stream",
          "name": "stderr",
          "text": [
            "\n"
          ]
        },
        {
          "output_type": "stream",
          "name": "stdout",
          "text": [
            "\n",
            "      Epoch    GPU_mem   box_loss   cls_loss   dfl_loss  Instances       Size\n"
          ]
        },
        {
          "output_type": "stream",
          "name": "stderr",
          "text": [
            "     53/150      4.58G     0.4828     0.8488      1.058         16        640: 100%|██████████| 72/72 [00:55<00:00,  1.30it/s]\n",
            "                 Class     Images  Instances      Box(P          R      mAP50  mAP50-95): 100%|██████████| 6/6 [00:04<00:00,  1.48it/s]\n"
          ]
        },
        {
          "output_type": "stream",
          "name": "stdout",
          "text": [
            "                   all        332        332      0.615      0.643      0.706      0.633\n",
            "\n",
            "      Epoch    GPU_mem   box_loss   cls_loss   dfl_loss  Instances       Size\n"
          ]
        },
        {
          "output_type": "stream",
          "name": "stderr",
          "text": [
            "     54/150      4.59G     0.4846     0.8362      1.056         20        640: 100%|██████████| 72/72 [00:55<00:00,  1.29it/s]\n",
            "                 Class     Images  Instances      Box(P          R      mAP50  mAP50-95): 100%|██████████| 6/6 [00:05<00:00,  1.10it/s]"
          ]
        },
        {
          "output_type": "stream",
          "name": "stdout",
          "text": [
            "                   all        332        332      0.595      0.689      0.713      0.638\n"
          ]
        },
        {
          "output_type": "stream",
          "name": "stderr",
          "text": [
            "\n"
          ]
        },
        {
          "output_type": "stream",
          "name": "stdout",
          "text": [
            "\n",
            "      Epoch    GPU_mem   box_loss   cls_loss   dfl_loss  Instances       Size\n"
          ]
        },
        {
          "output_type": "stream",
          "name": "stderr",
          "text": [
            "     55/150      4.59G     0.4755     0.8173      1.049         21        640: 100%|██████████| 72/72 [00:55<00:00,  1.30it/s]\n",
            "                 Class     Images  Instances      Box(P          R      mAP50  mAP50-95): 100%|██████████| 6/6 [00:03<00:00,  1.54it/s]\n"
          ]
        },
        {
          "output_type": "stream",
          "name": "stdout",
          "text": [
            "                   all        332        332      0.635       0.66      0.705       0.63\n",
            "\n",
            "      Epoch    GPU_mem   box_loss   cls_loss   dfl_loss  Instances       Size\n"
          ]
        },
        {
          "output_type": "stream",
          "name": "stderr",
          "text": [
            "     56/150      4.58G     0.4803     0.8292      1.052         17        640: 100%|██████████| 72/72 [00:55<00:00,  1.29it/s]\n",
            "                 Class     Images  Instances      Box(P          R      mAP50  mAP50-95): 100%|██████████| 6/6 [00:04<00:00,  1.39it/s]\n"
          ]
        },
        {
          "output_type": "stream",
          "name": "stdout",
          "text": [
            "                   all        332        332      0.631      0.656      0.716      0.642\n",
            "\n",
            "      Epoch    GPU_mem   box_loss   cls_loss   dfl_loss  Instances       Size\n"
          ]
        },
        {
          "output_type": "stream",
          "name": "stderr",
          "text": [
            "     57/150      4.58G     0.4727     0.8015      1.051         22        640: 100%|██████████| 72/72 [00:54<00:00,  1.31it/s]\n",
            "                 Class     Images  Instances      Box(P          R      mAP50  mAP50-95): 100%|██████████| 6/6 [00:04<00:00,  1.33it/s]"
          ]
        },
        {
          "output_type": "stream",
          "name": "stdout",
          "text": [
            "                   all        332        332      0.635      0.656      0.704      0.631\n"
          ]
        },
        {
          "output_type": "stream",
          "name": "stderr",
          "text": [
            "\n"
          ]
        },
        {
          "output_type": "stream",
          "name": "stdout",
          "text": [
            "\n",
            "      Epoch    GPU_mem   box_loss   cls_loss   dfl_loss  Instances       Size\n"
          ]
        },
        {
          "output_type": "stream",
          "name": "stderr",
          "text": [
            "     58/150      4.59G     0.4761     0.8112       1.05         16        640: 100%|██████████| 72/72 [00:55<00:00,  1.30it/s]\n",
            "                 Class     Images  Instances      Box(P          R      mAP50  mAP50-95): 100%|██████████| 6/6 [00:03<00:00,  1.54it/s]"
          ]
        },
        {
          "output_type": "stream",
          "name": "stdout",
          "text": [
            "                   all        332        332      0.624      0.674      0.706      0.632\n"
          ]
        },
        {
          "output_type": "stream",
          "name": "stderr",
          "text": [
            "\n"
          ]
        },
        {
          "output_type": "stream",
          "name": "stdout",
          "text": [
            "\n",
            "      Epoch    GPU_mem   box_loss   cls_loss   dfl_loss  Instances       Size\n"
          ]
        },
        {
          "output_type": "stream",
          "name": "stderr",
          "text": [
            "     59/150      4.58G      0.478      0.803      1.049         20        640: 100%|██████████| 72/72 [00:55<00:00,  1.30it/s]\n",
            "                 Class     Images  Instances      Box(P          R      mAP50  mAP50-95): 100%|██████████| 6/6 [00:05<00:00,  1.06it/s]"
          ]
        },
        {
          "output_type": "stream",
          "name": "stdout",
          "text": [
            "                   all        332        332      0.618      0.673        0.7      0.622\n"
          ]
        },
        {
          "output_type": "stream",
          "name": "stderr",
          "text": [
            "\n"
          ]
        },
        {
          "output_type": "stream",
          "name": "stdout",
          "text": [
            "\n",
            "      Epoch    GPU_mem   box_loss   cls_loss   dfl_loss  Instances       Size\n"
          ]
        },
        {
          "output_type": "stream",
          "name": "stderr",
          "text": [
            "     60/150      4.58G     0.4658     0.7951      1.043         17        640: 100%|██████████| 72/72 [00:55<00:00,  1.30it/s]\n",
            "                 Class     Images  Instances      Box(P          R      mAP50  mAP50-95): 100%|██████████| 6/6 [00:03<00:00,  1.52it/s]\n"
          ]
        },
        {
          "output_type": "stream",
          "name": "stdout",
          "text": [
            "                   all        332        332      0.663       0.63      0.711      0.626\n",
            "\n",
            "      Epoch    GPU_mem   box_loss   cls_loss   dfl_loss  Instances       Size\n"
          ]
        },
        {
          "output_type": "stream",
          "name": "stderr",
          "text": [
            "     61/150      4.58G     0.4774     0.7851      1.052         24        640: 100%|██████████| 72/72 [00:55<00:00,  1.30it/s]\n",
            "                 Class     Images  Instances      Box(P          R      mAP50  mAP50-95): 100%|██████████| 6/6 [00:05<00:00,  1.18it/s]"
          ]
        },
        {
          "output_type": "stream",
          "name": "stdout",
          "text": [
            "                   all        332        332      0.637      0.647      0.696      0.622\n"
          ]
        },
        {
          "output_type": "stream",
          "name": "stderr",
          "text": [
            "\n"
          ]
        },
        {
          "output_type": "stream",
          "name": "stdout",
          "text": [
            "\n",
            "      Epoch    GPU_mem   box_loss   cls_loss   dfl_loss  Instances       Size\n"
          ]
        },
        {
          "output_type": "stream",
          "name": "stderr",
          "text": [
            "     62/150      4.58G     0.4723     0.7856      1.041         24        640: 100%|██████████| 72/72 [00:55<00:00,  1.30it/s]\n",
            "                 Class     Images  Instances      Box(P          R      mAP50  mAP50-95): 100%|██████████| 6/6 [00:03<00:00,  1.52it/s]"
          ]
        },
        {
          "output_type": "stream",
          "name": "stdout",
          "text": [
            "                   all        332        332      0.679      0.633      0.711      0.636\n"
          ]
        },
        {
          "output_type": "stream",
          "name": "stderr",
          "text": [
            "\n"
          ]
        },
        {
          "output_type": "stream",
          "name": "stdout",
          "text": [
            "\n",
            "      Epoch    GPU_mem   box_loss   cls_loss   dfl_loss  Instances       Size\n"
          ]
        },
        {
          "output_type": "stream",
          "name": "stderr",
          "text": [
            "     63/150      4.58G     0.4602     0.7554      1.038         17        640: 100%|██████████| 72/72 [00:55<00:00,  1.29it/s]\n",
            "                 Class     Images  Instances      Box(P          R      mAP50  mAP50-95): 100%|██████████| 6/6 [00:04<00:00,  1.37it/s]\n"
          ]
        },
        {
          "output_type": "stream",
          "name": "stdout",
          "text": [
            "                   all        332        332      0.592      0.667      0.694       0.62\n",
            "\n",
            "      Epoch    GPU_mem   box_loss   cls_loss   dfl_loss  Instances       Size\n"
          ]
        },
        {
          "output_type": "stream",
          "name": "stderr",
          "text": [
            "     64/150      4.58G     0.4599     0.7601      1.041         21        640: 100%|██████████| 72/72 [00:54<00:00,  1.33it/s]\n",
            "                 Class     Images  Instances      Box(P          R      mAP50  mAP50-95): 100%|██████████| 6/6 [00:05<00:00,  1.18it/s]"
          ]
        },
        {
          "output_type": "stream",
          "name": "stdout",
          "text": [
            "                   all        332        332      0.656      0.656      0.715      0.632\n"
          ]
        },
        {
          "output_type": "stream",
          "name": "stderr",
          "text": [
            "\n"
          ]
        },
        {
          "output_type": "stream",
          "name": "stdout",
          "text": [
            "\n",
            "      Epoch    GPU_mem   box_loss   cls_loss   dfl_loss  Instances       Size\n"
          ]
        },
        {
          "output_type": "stream",
          "name": "stderr",
          "text": [
            "     65/150      4.58G     0.4645     0.7639      1.043         18        640: 100%|██████████| 72/72 [00:55<00:00,  1.31it/s]\n",
            "                 Class     Images  Instances      Box(P          R      mAP50  mAP50-95): 100%|██████████| 6/6 [00:03<00:00,  1.55it/s]\n"
          ]
        },
        {
          "output_type": "stream",
          "name": "stdout",
          "text": [
            "                   all        332        332      0.677      0.634      0.699      0.627\n",
            "\n",
            "      Epoch    GPU_mem   box_loss   cls_loss   dfl_loss  Instances       Size\n"
          ]
        },
        {
          "output_type": "stream",
          "name": "stderr",
          "text": [
            "     66/150      4.58G     0.4606     0.7502      1.044         19        640: 100%|██████████| 72/72 [00:55<00:00,  1.30it/s]\n",
            "                 Class     Images  Instances      Box(P          R      mAP50  mAP50-95): 100%|██████████| 6/6 [00:05<00:00,  1.19it/s]"
          ]
        },
        {
          "output_type": "stream",
          "name": "stdout",
          "text": [
            "                   all        332        332      0.649      0.643      0.703      0.625\n"
          ]
        },
        {
          "output_type": "stream",
          "name": "stderr",
          "text": [
            "\n"
          ]
        },
        {
          "output_type": "stream",
          "name": "stdout",
          "text": [
            "\n",
            "      Epoch    GPU_mem   box_loss   cls_loss   dfl_loss  Instances       Size\n"
          ]
        },
        {
          "output_type": "stream",
          "name": "stderr",
          "text": [
            "     67/150      4.58G     0.4586      0.748      1.042         18        640: 100%|██████████| 72/72 [00:55<00:00,  1.30it/s]\n",
            "                 Class     Images  Instances      Box(P          R      mAP50  mAP50-95): 100%|██████████| 6/6 [00:03<00:00,  1.59it/s]\n"
          ]
        },
        {
          "output_type": "stream",
          "name": "stdout",
          "text": [
            "                   all        332        332      0.655      0.632      0.709      0.631\n",
            "\n",
            "      Epoch    GPU_mem   box_loss   cls_loss   dfl_loss  Instances       Size\n"
          ]
        },
        {
          "output_type": "stream",
          "name": "stderr",
          "text": [
            "     68/150      4.58G     0.4633     0.7449      1.039         22        640: 100%|██████████| 72/72 [00:56<00:00,  1.28it/s]\n",
            "                 Class     Images  Instances      Box(P          R      mAP50  mAP50-95): 100%|██████████| 6/6 [00:04<00:00,  1.41it/s]"
          ]
        },
        {
          "output_type": "stream",
          "name": "stdout",
          "text": [
            "                   all        332        332      0.662      0.668       0.72      0.641\n"
          ]
        },
        {
          "output_type": "stream",
          "name": "stderr",
          "text": [
            "\n"
          ]
        },
        {
          "output_type": "stream",
          "name": "stdout",
          "text": [
            "\n",
            "      Epoch    GPU_mem   box_loss   cls_loss   dfl_loss  Instances       Size\n"
          ]
        },
        {
          "output_type": "stream",
          "name": "stderr",
          "text": [
            "     69/150      4.58G     0.4604     0.7307      1.047         18        640: 100%|██████████| 72/72 [00:54<00:00,  1.31it/s]\n",
            "                 Class     Images  Instances      Box(P          R      mAP50  mAP50-95): 100%|██████████| 6/6 [00:04<00:00,  1.22it/s]\n"
          ]
        },
        {
          "output_type": "stream",
          "name": "stdout",
          "text": [
            "                   all        332        332      0.677      0.651      0.714      0.639\n",
            "\n",
            "      Epoch    GPU_mem   box_loss   cls_loss   dfl_loss  Instances       Size\n"
          ]
        },
        {
          "output_type": "stream",
          "name": "stderr",
          "text": [
            "     70/150      4.58G     0.4422     0.7397      1.025         21        640: 100%|██████████| 72/72 [00:55<00:00,  1.29it/s]\n",
            "                 Class     Images  Instances      Box(P          R      mAP50  mAP50-95): 100%|██████████| 6/6 [00:03<00:00,  1.51it/s]\n"
          ]
        },
        {
          "output_type": "stream",
          "name": "stdout",
          "text": [
            "                   all        332        332      0.663      0.624      0.703      0.624\n",
            "\n",
            "      Epoch    GPU_mem   box_loss   cls_loss   dfl_loss  Instances       Size\n"
          ]
        },
        {
          "output_type": "stream",
          "name": "stderr",
          "text": [
            "     71/150      4.58G     0.4649      0.736      1.044         21        640: 100%|██████████| 72/72 [00:55<00:00,  1.30it/s]\n",
            "                 Class     Images  Instances      Box(P          R      mAP50  mAP50-95): 100%|██████████| 6/6 [00:05<00:00,  1.09it/s]\n"
          ]
        },
        {
          "output_type": "stream",
          "name": "stdout",
          "text": [
            "                   all        332        332      0.641      0.648      0.708      0.631\n",
            "\n",
            "      Epoch    GPU_mem   box_loss   cls_loss   dfl_loss  Instances       Size\n"
          ]
        },
        {
          "output_type": "stream",
          "name": "stderr",
          "text": [
            "     72/150      4.58G     0.4543      0.712      1.037         16        640: 100%|██████████| 72/72 [00:55<00:00,  1.31it/s]\n",
            "                 Class     Images  Instances      Box(P          R      mAP50  mAP50-95): 100%|██████████| 6/6 [00:04<00:00,  1.46it/s]\n"
          ]
        },
        {
          "output_type": "stream",
          "name": "stdout",
          "text": [
            "                   all        332        332      0.649      0.675      0.708      0.629\n",
            "\n",
            "      Epoch    GPU_mem   box_loss   cls_loss   dfl_loss  Instances       Size\n"
          ]
        },
        {
          "output_type": "stream",
          "name": "stderr",
          "text": [
            "     73/150      4.59G     0.4601       0.72      1.042         17        640: 100%|██████████| 72/72 [00:55<00:00,  1.30it/s]\n",
            "                 Class     Images  Instances      Box(P          R      mAP50  mAP50-95): 100%|██████████| 6/6 [00:04<00:00,  1.37it/s]"
          ]
        },
        {
          "output_type": "stream",
          "name": "stdout",
          "text": [
            "                   all        332        332       0.65      0.667      0.703      0.625\n"
          ]
        },
        {
          "output_type": "stream",
          "name": "stderr",
          "text": [
            "\n"
          ]
        },
        {
          "output_type": "stream",
          "name": "stdout",
          "text": [
            "\n",
            "      Epoch    GPU_mem   box_loss   cls_loss   dfl_loss  Instances       Size\n"
          ]
        },
        {
          "output_type": "stream",
          "name": "stderr",
          "text": [
            "     74/150      4.58G     0.4499     0.7061      1.036         15        640: 100%|██████████| 72/72 [00:54<00:00,  1.31it/s]\n",
            "                 Class     Images  Instances      Box(P          R      mAP50  mAP50-95): 100%|██████████| 6/6 [00:04<00:00,  1.26it/s]"
          ]
        },
        {
          "output_type": "stream",
          "name": "stdout",
          "text": [
            "                   all        332        332      0.665      0.636      0.707      0.628\n"
          ]
        },
        {
          "output_type": "stream",
          "name": "stderr",
          "text": [
            "\n"
          ]
        },
        {
          "output_type": "stream",
          "name": "stdout",
          "text": [
            "\n",
            "      Epoch    GPU_mem   box_loss   cls_loss   dfl_loss  Instances       Size\n"
          ]
        },
        {
          "output_type": "stream",
          "name": "stderr",
          "text": [
            "     75/150      4.58G     0.4431     0.6868      1.031         17        640: 100%|██████████| 72/72 [00:55<00:00,  1.30it/s]\n",
            "                 Class     Images  Instances      Box(P          R      mAP50  mAP50-95): 100%|██████████| 6/6 [00:03<00:00,  1.50it/s]"
          ]
        },
        {
          "output_type": "stream",
          "name": "stdout",
          "text": [
            "                   all        332        332      0.649      0.639      0.705      0.629\n"
          ]
        },
        {
          "output_type": "stream",
          "name": "stderr",
          "text": [
            "\n"
          ]
        },
        {
          "output_type": "stream",
          "name": "stdout",
          "text": [
            "\n",
            "      Epoch    GPU_mem   box_loss   cls_loss   dfl_loss  Instances       Size\n"
          ]
        },
        {
          "output_type": "stream",
          "name": "stderr",
          "text": [
            "     76/150      4.58G     0.4532     0.6927      1.031         22        640: 100%|██████████| 72/72 [00:55<00:00,  1.30it/s]\n",
            "                 Class     Images  Instances      Box(P          R      mAP50  mAP50-95): 100%|██████████| 6/6 [00:05<00:00,  1.06it/s]\n"
          ]
        },
        {
          "output_type": "stream",
          "name": "stdout",
          "text": [
            "                   all        332        332      0.665       0.64      0.705      0.632\n",
            "\n",
            "      Epoch    GPU_mem   box_loss   cls_loss   dfl_loss  Instances       Size\n"
          ]
        },
        {
          "output_type": "stream",
          "name": "stderr",
          "text": [
            "     77/150      4.58G     0.4564     0.7032      1.041         21        640: 100%|██████████| 72/72 [00:55<00:00,  1.29it/s]\n",
            "                 Class     Images  Instances      Box(P          R      mAP50  mAP50-95): 100%|██████████| 6/6 [00:03<00:00,  1.55it/s]"
          ]
        },
        {
          "output_type": "stream",
          "name": "stdout",
          "text": [
            "                   all        332        332      0.664      0.634      0.701      0.625\n"
          ]
        },
        {
          "output_type": "stream",
          "name": "stderr",
          "text": [
            "\n"
          ]
        },
        {
          "output_type": "stream",
          "name": "stdout",
          "text": [
            "\n",
            "      Epoch    GPU_mem   box_loss   cls_loss   dfl_loss  Instances       Size\n"
          ]
        },
        {
          "output_type": "stream",
          "name": "stderr",
          "text": [
            "     78/150      4.59G     0.4558     0.7197      1.042         15        640: 100%|██████████| 72/72 [00:54<00:00,  1.31it/s]\n",
            "                 Class     Images  Instances      Box(P          R      mAP50  mAP50-95): 100%|██████████| 6/6 [00:04<00:00,  1.37it/s]\n"
          ]
        },
        {
          "output_type": "stream",
          "name": "stdout",
          "text": [
            "                   all        332        332      0.652       0.66      0.709      0.628\n",
            "\n",
            "      Epoch    GPU_mem   box_loss   cls_loss   dfl_loss  Instances       Size\n"
          ]
        },
        {
          "output_type": "stream",
          "name": "stderr",
          "text": [
            "     79/150      4.58G     0.4436     0.6841      1.031         25        640: 100%|██████████| 72/72 [00:57<00:00,  1.26it/s]\n",
            "                 Class     Images  Instances      Box(P          R      mAP50  mAP50-95): 100%|██████████| 6/6 [00:04<00:00,  1.50it/s]"
          ]
        },
        {
          "output_type": "stream",
          "name": "stdout",
          "text": [
            "                   all        332        332      0.673      0.634      0.705      0.629\n"
          ]
        },
        {
          "output_type": "stream",
          "name": "stderr",
          "text": [
            "\n"
          ]
        },
        {
          "output_type": "stream",
          "name": "stdout",
          "text": [
            "\n",
            "      Epoch    GPU_mem   box_loss   cls_loss   dfl_loss  Instances       Size\n"
          ]
        },
        {
          "output_type": "stream",
          "name": "stderr",
          "text": [
            "     80/150      4.58G     0.4383     0.6766      1.027         26        640: 100%|██████████| 72/72 [00:54<00:00,  1.31it/s]\n",
            "                 Class     Images  Instances      Box(P          R      mAP50  mAP50-95): 100%|██████████| 6/6 [00:04<00:00,  1.39it/s]"
          ]
        },
        {
          "output_type": "stream",
          "name": "stdout",
          "text": [
            "                   all        332        332        0.6      0.686      0.705      0.632\n"
          ]
        },
        {
          "output_type": "stream",
          "name": "stderr",
          "text": [
            "\n"
          ]
        },
        {
          "output_type": "stream",
          "name": "stdout",
          "text": [
            "\n",
            "      Epoch    GPU_mem   box_loss   cls_loss   dfl_loss  Instances       Size\n"
          ]
        },
        {
          "output_type": "stream",
          "name": "stderr",
          "text": [
            "     81/150      4.59G     0.4443     0.6989      1.036         18        640: 100%|██████████| 72/72 [00:54<00:00,  1.33it/s]\n",
            "                 Class     Images  Instances      Box(P          R      mAP50  mAP50-95): 100%|██████████| 6/6 [00:05<00:00,  1.19it/s]"
          ]
        },
        {
          "output_type": "stream",
          "name": "stdout",
          "text": [
            "                   all        332        332      0.624      0.652      0.699      0.624\n"
          ]
        },
        {
          "output_type": "stream",
          "name": "stderr",
          "text": [
            "\n"
          ]
        },
        {
          "output_type": "stream",
          "name": "stdout",
          "text": [
            "\n",
            "      Epoch    GPU_mem   box_loss   cls_loss   dfl_loss  Instances       Size\n"
          ]
        },
        {
          "output_type": "stream",
          "name": "stderr",
          "text": [
            "     82/150      4.59G     0.4485     0.6836      1.035         22        640: 100%|██████████| 72/72 [00:56<00:00,  1.28it/s]\n",
            "                 Class     Images  Instances      Box(P          R      mAP50  mAP50-95): 100%|██████████| 6/6 [00:03<00:00,  1.55it/s]\n"
          ]
        },
        {
          "output_type": "stream",
          "name": "stdout",
          "text": [
            "                   all        332        332      0.649      0.659      0.708      0.631\n",
            "\n",
            "      Epoch    GPU_mem   box_loss   cls_loss   dfl_loss  Instances       Size\n"
          ]
        },
        {
          "output_type": "stream",
          "name": "stderr",
          "text": [
            "     83/150      4.58G     0.4476     0.6833      1.027         23        640: 100%|██████████| 72/72 [00:54<00:00,  1.32it/s]\n",
            "                 Class     Images  Instances      Box(P          R      mAP50  mAP50-95): 100%|██████████| 6/6 [00:05<00:00,  1.18it/s]"
          ]
        },
        {
          "output_type": "stream",
          "name": "stdout",
          "text": [
            "                   all        332        332      0.647      0.661      0.712      0.633\n"
          ]
        },
        {
          "output_type": "stream",
          "name": "stderr",
          "text": [
            "\n"
          ]
        },
        {
          "output_type": "stream",
          "name": "stdout",
          "text": [
            "\n",
            "      Epoch    GPU_mem   box_loss   cls_loss   dfl_loss  Instances       Size\n"
          ]
        },
        {
          "output_type": "stream",
          "name": "stderr",
          "text": [
            "     84/150      4.59G     0.4348     0.6633       1.03         23        640: 100%|██████████| 72/72 [00:55<00:00,  1.29it/s]\n",
            "                 Class     Images  Instances      Box(P          R      mAP50  mAP50-95): 100%|██████████| 6/6 [00:04<00:00,  1.50it/s]\n"
          ]
        },
        {
          "output_type": "stream",
          "name": "stdout",
          "text": [
            "                   all        332        332      0.641      0.663      0.715      0.629\n",
            "\n",
            "      Epoch    GPU_mem   box_loss   cls_loss   dfl_loss  Instances       Size\n"
          ]
        },
        {
          "output_type": "stream",
          "name": "stderr",
          "text": [
            "     85/150      4.58G     0.4359     0.6708      1.023         20        640: 100%|██████████| 72/72 [00:55<00:00,  1.30it/s]\n",
            "                 Class     Images  Instances      Box(P          R      mAP50  mAP50-95): 100%|██████████| 6/6 [00:04<00:00,  1.49it/s]\n"
          ]
        },
        {
          "output_type": "stream",
          "name": "stdout",
          "text": [
            "                   all        332        332      0.628      0.676      0.712      0.633\n",
            "\n",
            "      Epoch    GPU_mem   box_loss   cls_loss   dfl_loss  Instances       Size\n"
          ]
        },
        {
          "output_type": "stream",
          "name": "stderr",
          "text": [
            "     86/150      4.58G     0.4442     0.6601      1.029         18        640: 100%|██████████| 72/72 [00:54<00:00,  1.32it/s]\n",
            "                 Class     Images  Instances      Box(P          R      mAP50  mAP50-95): 100%|██████████| 6/6 [00:05<00:00,  1.18it/s]"
          ]
        },
        {
          "output_type": "stream",
          "name": "stdout",
          "text": [
            "                   all        332        332      0.674      0.623      0.697      0.616\n"
          ]
        },
        {
          "output_type": "stream",
          "name": "stderr",
          "text": [
            "\n"
          ]
        },
        {
          "output_type": "stream",
          "name": "stdout",
          "text": [
            "\n",
            "      Epoch    GPU_mem   box_loss   cls_loss   dfl_loss  Instances       Size\n"
          ]
        },
        {
          "output_type": "stream",
          "name": "stderr",
          "text": [
            "     87/150      4.58G     0.4352     0.6556       1.02         20        640: 100%|██████████| 72/72 [00:55<00:00,  1.30it/s]\n",
            "                 Class     Images  Instances      Box(P          R      mAP50  mAP50-95): 100%|██████████| 6/6 [00:04<00:00,  1.40it/s]"
          ]
        },
        {
          "output_type": "stream",
          "name": "stdout",
          "text": [
            "                   all        332        332      0.643      0.645      0.712      0.636\n"
          ]
        },
        {
          "output_type": "stream",
          "name": "stderr",
          "text": [
            "\n"
          ]
        },
        {
          "output_type": "stream",
          "name": "stdout",
          "text": [
            "\n",
            "      Epoch    GPU_mem   box_loss   cls_loss   dfl_loss  Instances       Size\n"
          ]
        },
        {
          "output_type": "stream",
          "name": "stderr",
          "text": [
            "     88/150      4.58G     0.4366     0.6451      1.025         22        640: 100%|██████████| 72/72 [00:55<00:00,  1.30it/s]\n",
            "                 Class     Images  Instances      Box(P          R      mAP50  mAP50-95): 100%|██████████| 6/6 [00:05<00:00,  1.16it/s]\n"
          ]
        },
        {
          "output_type": "stream",
          "name": "stdout",
          "text": [
            "                   all        332        332      0.683      0.627      0.703      0.626\n",
            "\n",
            "      Epoch    GPU_mem   box_loss   cls_loss   dfl_loss  Instances       Size\n"
          ]
        },
        {
          "output_type": "stream",
          "name": "stderr",
          "text": [
            "     89/150      4.59G     0.4258     0.6507      1.024         19        640: 100%|██████████| 72/72 [00:55<00:00,  1.29it/s]\n",
            "                 Class     Images  Instances      Box(P          R      mAP50  mAP50-95): 100%|██████████| 6/6 [00:04<00:00,  1.44it/s]"
          ]
        },
        {
          "output_type": "stream",
          "name": "stdout",
          "text": [
            "                   all        332        332      0.649      0.636      0.695      0.614\n"
          ]
        },
        {
          "output_type": "stream",
          "name": "stderr",
          "text": [
            "\n"
          ]
        },
        {
          "output_type": "stream",
          "name": "stdout",
          "text": [
            "\n",
            "      Epoch    GPU_mem   box_loss   cls_loss   dfl_loss  Instances       Size\n"
          ]
        },
        {
          "output_type": "stream",
          "name": "stderr",
          "text": [
            "     90/150      4.58G     0.4332     0.6456      1.026         18        640: 100%|██████████| 72/72 [00:56<00:00,  1.28it/s]\n",
            "                 Class     Images  Instances      Box(P          R      mAP50  mAP50-95): 100%|██████████| 6/6 [00:05<00:00,  1.16it/s]"
          ]
        },
        {
          "output_type": "stream",
          "name": "stdout",
          "text": [
            "                   all        332        332      0.669      0.628      0.698      0.627\n"
          ]
        },
        {
          "output_type": "stream",
          "name": "stderr",
          "text": [
            "\n"
          ]
        },
        {
          "output_type": "stream",
          "name": "stdout",
          "text": [
            "\n",
            "      Epoch    GPU_mem   box_loss   cls_loss   dfl_loss  Instances       Size\n"
          ]
        },
        {
          "output_type": "stream",
          "name": "stderr",
          "text": [
            "     91/150      4.59G     0.4361     0.6441      1.024         17        640: 100%|██████████| 72/72 [00:55<00:00,  1.30it/s]\n",
            "                 Class     Images  Instances      Box(P          R      mAP50  mAP50-95): 100%|██████████| 6/6 [00:03<00:00,  1.50it/s]\n"
          ]
        },
        {
          "output_type": "stream",
          "name": "stdout",
          "text": [
            "                   all        332        332      0.659      0.637      0.704      0.627\n",
            "\n",
            "      Epoch    GPU_mem   box_loss   cls_loss   dfl_loss  Instances       Size\n"
          ]
        },
        {
          "output_type": "stream",
          "name": "stderr",
          "text": [
            "     92/150      4.58G     0.4311     0.6461      1.021         20        640: 100%|██████████| 72/72 [00:54<00:00,  1.32it/s]\n",
            "                 Class     Images  Instances      Box(P          R      mAP50  mAP50-95): 100%|██████████| 6/6 [00:04<00:00,  1.47it/s]\n"
          ]
        },
        {
          "output_type": "stream",
          "name": "stdout",
          "text": [
            "                   all        332        332      0.665       0.63      0.701      0.626\n",
            "\n",
            "      Epoch    GPU_mem   box_loss   cls_loss   dfl_loss  Instances       Size\n"
          ]
        },
        {
          "output_type": "stream",
          "name": "stderr",
          "text": [
            "     93/150      4.58G     0.4216     0.6274      1.019         20        640: 100%|██████████| 72/72 [00:55<00:00,  1.29it/s]\n",
            "                 Class     Images  Instances      Box(P          R      mAP50  mAP50-95): 100%|██████████| 6/6 [00:04<00:00,  1.22it/s]\n"
          ]
        },
        {
          "output_type": "stream",
          "name": "stdout",
          "text": [
            "                   all        332        332      0.668      0.628      0.708      0.633\n",
            "\n",
            "      Epoch    GPU_mem   box_loss   cls_loss   dfl_loss  Instances       Size\n"
          ]
        },
        {
          "output_type": "stream",
          "name": "stderr",
          "text": [
            "     94/150      4.58G     0.4316     0.6521       1.02         18        640: 100%|██████████| 72/72 [00:56<00:00,  1.27it/s]\n",
            "                 Class     Images  Instances      Box(P          R      mAP50  mAP50-95): 100%|██████████| 6/6 [00:04<00:00,  1.48it/s]\n"
          ]
        },
        {
          "output_type": "stream",
          "name": "stdout",
          "text": [
            "                   all        332        332      0.647      0.638      0.712      0.634\n",
            "\n",
            "      Epoch    GPU_mem   box_loss   cls_loss   dfl_loss  Instances       Size\n"
          ]
        },
        {
          "output_type": "stream",
          "name": "stderr",
          "text": [
            "     95/150      4.58G     0.4344     0.6272      1.026         19        640: 100%|██████████| 72/72 [00:56<00:00,  1.28it/s]\n",
            "                 Class     Images  Instances      Box(P          R      mAP50  mAP50-95): 100%|██████████| 6/6 [00:05<00:00,  1.10it/s]"
          ]
        },
        {
          "output_type": "stream",
          "name": "stdout",
          "text": [
            "                   all        332        332      0.655      0.632      0.706      0.631\n"
          ]
        },
        {
          "output_type": "stream",
          "name": "stderr",
          "text": [
            "\n"
          ]
        },
        {
          "output_type": "stream",
          "name": "stdout",
          "text": [
            "\n",
            "      Epoch    GPU_mem   box_loss   cls_loss   dfl_loss  Instances       Size\n"
          ]
        },
        {
          "output_type": "stream",
          "name": "stderr",
          "text": [
            "     96/150      4.58G     0.4299     0.6236      1.024         23        640: 100%|██████████| 72/72 [00:56<00:00,  1.27it/s]\n",
            "                 Class     Images  Instances      Box(P          R      mAP50  mAP50-95): 100%|██████████| 6/6 [00:03<00:00,  1.60it/s]\n"
          ]
        },
        {
          "output_type": "stream",
          "name": "stdout",
          "text": [
            "                   all        332        332      0.654      0.644      0.714      0.635\n",
            "\n",
            "      Epoch    GPU_mem   box_loss   cls_loss   dfl_loss  Instances       Size\n"
          ]
        },
        {
          "output_type": "stream",
          "name": "stderr",
          "text": [
            "     97/150      4.58G     0.4296     0.6293      1.015         18        640: 100%|██████████| 72/72 [00:57<00:00,  1.25it/s]\n",
            "                 Class     Images  Instances      Box(P          R      mAP50  mAP50-95): 100%|██████████| 6/6 [00:05<00:00,  1.16it/s]"
          ]
        },
        {
          "output_type": "stream",
          "name": "stdout",
          "text": [
            "                   all        332        332      0.616      0.668      0.711      0.629\n"
          ]
        },
        {
          "output_type": "stream",
          "name": "stderr",
          "text": [
            "\n"
          ]
        },
        {
          "output_type": "stream",
          "name": "stdout",
          "text": [
            "\n",
            "      Epoch    GPU_mem   box_loss   cls_loss   dfl_loss  Instances       Size\n"
          ]
        },
        {
          "output_type": "stream",
          "name": "stderr",
          "text": [
            "     98/150      4.58G     0.4276     0.6217       1.02         20        640: 100%|██████████| 72/72 [00:57<00:00,  1.25it/s]\n",
            "                 Class     Images  Instances      Box(P          R      mAP50  mAP50-95): 100%|██████████| 6/6 [00:03<00:00,  1.52it/s]\n"
          ]
        },
        {
          "output_type": "stream",
          "name": "stdout",
          "text": [
            "                   all        332        332      0.599      0.681      0.707      0.627\n",
            "\n",
            "      Epoch    GPU_mem   box_loss   cls_loss   dfl_loss  Instances       Size\n"
          ]
        },
        {
          "output_type": "stream",
          "name": "stderr",
          "text": [
            "     99/150      4.59G     0.4354     0.6415      1.022         18        640: 100%|██████████| 72/72 [00:56<00:00,  1.26it/s]\n",
            "                 Class     Images  Instances      Box(P          R      mAP50  mAP50-95): 100%|██████████| 6/6 [00:05<00:00,  1.10it/s]"
          ]
        },
        {
          "output_type": "stream",
          "name": "stdout",
          "text": [
            "                   all        332        332      0.633      0.678      0.711      0.636\n"
          ]
        },
        {
          "output_type": "stream",
          "name": "stderr",
          "text": [
            "\n"
          ]
        },
        {
          "output_type": "stream",
          "name": "stdout",
          "text": [
            "\n",
            "      Epoch    GPU_mem   box_loss   cls_loss   dfl_loss  Instances       Size\n"
          ]
        },
        {
          "output_type": "stream",
          "name": "stderr",
          "text": [
            "    100/150      4.58G     0.4183     0.6124      1.016         16        640: 100%|██████████| 72/72 [00:57<00:00,  1.25it/s]\n",
            "                 Class     Images  Instances      Box(P          R      mAP50  mAP50-95): 100%|██████████| 6/6 [00:03<00:00,  1.54it/s]"
          ]
        },
        {
          "output_type": "stream",
          "name": "stdout",
          "text": [
            "                   all        332        332      0.652      0.656      0.712      0.629\n"
          ]
        },
        {
          "output_type": "stream",
          "name": "stderr",
          "text": [
            "\n"
          ]
        },
        {
          "output_type": "stream",
          "name": "stdout",
          "text": [
            "\n",
            "      Epoch    GPU_mem   box_loss   cls_loss   dfl_loss  Instances       Size\n"
          ]
        },
        {
          "output_type": "stream",
          "name": "stderr",
          "text": [
            "    101/150      4.58G     0.4261     0.6173      1.015         19        640: 100%|██████████| 72/72 [00:57<00:00,  1.25it/s]\n",
            "                 Class     Images  Instances      Box(P          R      mAP50  mAP50-95): 100%|██████████| 6/6 [00:05<00:00,  1.19it/s]"
          ]
        },
        {
          "output_type": "stream",
          "name": "stdout",
          "text": [
            "                   all        332        332      0.624      0.684      0.707      0.635\n"
          ]
        },
        {
          "output_type": "stream",
          "name": "stderr",
          "text": [
            "\n"
          ]
        },
        {
          "output_type": "stream",
          "name": "stdout",
          "text": [
            "\n",
            "      Epoch    GPU_mem   box_loss   cls_loss   dfl_loss  Instances       Size\n"
          ]
        },
        {
          "output_type": "stream",
          "name": "stderr",
          "text": [
            "    102/150      4.58G     0.4239     0.6101      1.022         13        640: 100%|██████████| 72/72 [00:55<00:00,  1.29it/s]\n",
            "                 Class     Images  Instances      Box(P          R      mAP50  mAP50-95): 100%|██████████| 6/6 [00:04<00:00,  1.44it/s]\n"
          ]
        },
        {
          "output_type": "stream",
          "name": "stdout",
          "text": [
            "                   all        332        332      0.663      0.628      0.701       0.63\n",
            "\n",
            "      Epoch    GPU_mem   box_loss   cls_loss   dfl_loss  Instances       Size\n"
          ]
        },
        {
          "output_type": "stream",
          "name": "stderr",
          "text": [
            "    103/150      4.58G     0.4278     0.6271      1.022         19        640: 100%|██████████| 72/72 [00:55<00:00,  1.29it/s]\n",
            "                 Class     Images  Instances      Box(P          R      mAP50  mAP50-95): 100%|██████████| 6/6 [00:05<00:00,  1.09it/s]"
          ]
        },
        {
          "output_type": "stream",
          "name": "stdout",
          "text": [
            "                   all        332        332      0.649      0.654      0.707      0.627\n"
          ]
        },
        {
          "output_type": "stream",
          "name": "stderr",
          "text": [
            "\n"
          ]
        },
        {
          "output_type": "stream",
          "name": "stdout",
          "text": [
            "\n",
            "      Epoch    GPU_mem   box_loss   cls_loss   dfl_loss  Instances       Size\n"
          ]
        },
        {
          "output_type": "stream",
          "name": "stderr",
          "text": [
            "    104/150      4.59G     0.4115     0.6033      1.009         22        640: 100%|██████████| 72/72 [00:55<00:00,  1.30it/s]\n",
            "                 Class     Images  Instances      Box(P          R      mAP50  mAP50-95): 100%|██████████| 6/6 [00:03<00:00,  1.53it/s]\n"
          ]
        },
        {
          "output_type": "stream",
          "name": "stdout",
          "text": [
            "                   all        332        332      0.661      0.644      0.704       0.63\n",
            "\n",
            "      Epoch    GPU_mem   box_loss   cls_loss   dfl_loss  Instances       Size\n"
          ]
        },
        {
          "output_type": "stream",
          "name": "stderr",
          "text": [
            "    105/150      4.59G     0.4156     0.6143      1.011         22        640: 100%|██████████| 72/72 [00:55<00:00,  1.30it/s]\n",
            "                 Class     Images  Instances      Box(P          R      mAP50  mAP50-95): 100%|██████████| 6/6 [00:03<00:00,  1.56it/s]\n"
          ]
        },
        {
          "output_type": "stream",
          "name": "stdout",
          "text": [
            "                   all        332        332      0.649      0.656      0.703      0.629\n",
            "\n",
            "      Epoch    GPU_mem   box_loss   cls_loss   dfl_loss  Instances       Size\n"
          ]
        },
        {
          "output_type": "stream",
          "name": "stderr",
          "text": [
            "    106/150      4.58G     0.4166     0.5939      1.018         23        640: 100%|██████████| 72/72 [00:55<00:00,  1.30it/s]\n",
            "                 Class     Images  Instances      Box(P          R      mAP50  mAP50-95): 100%|██████████| 6/6 [00:05<00:00,  1.19it/s]"
          ]
        },
        {
          "output_type": "stream",
          "name": "stdout",
          "text": [
            "                   all        332        332      0.654      0.647      0.712      0.632\n"
          ]
        },
        {
          "output_type": "stream",
          "name": "stderr",
          "text": [
            "\n"
          ]
        },
        {
          "output_type": "stream",
          "name": "stdout",
          "text": [
            "\n",
            "      Epoch    GPU_mem   box_loss   cls_loss   dfl_loss  Instances       Size\n"
          ]
        },
        {
          "output_type": "stream",
          "name": "stderr",
          "text": [
            "    107/150      4.58G     0.4211     0.5951      1.018         24        640: 100%|██████████| 72/72 [00:55<00:00,  1.30it/s]\n",
            "                 Class     Images  Instances      Box(P          R      mAP50  mAP50-95): 100%|██████████| 6/6 [00:04<00:00,  1.43it/s]\n"
          ]
        },
        {
          "output_type": "stream",
          "name": "stdout",
          "text": [
            "                   all        332        332      0.663      0.626      0.706       0.63\n",
            "\n",
            "      Epoch    GPU_mem   box_loss   cls_loss   dfl_loss  Instances       Size\n"
          ]
        },
        {
          "output_type": "stream",
          "name": "stderr",
          "text": [
            "    108/150      4.58G     0.4207     0.5997      1.013         21        640: 100%|██████████| 72/72 [00:54<00:00,  1.32it/s]\n",
            "                 Class     Images  Instances      Box(P          R      mAP50  mAP50-95): 100%|██████████| 6/6 [00:05<00:00,  1.16it/s]"
          ]
        },
        {
          "output_type": "stream",
          "name": "stdout",
          "text": [
            "                   all        332        332      0.657       0.63      0.705      0.631\n"
          ]
        },
        {
          "output_type": "stream",
          "name": "stderr",
          "text": [
            "\n"
          ]
        },
        {
          "output_type": "stream",
          "name": "stdout",
          "text": [
            "\n",
            "      Epoch    GPU_mem   box_loss   cls_loss   dfl_loss  Instances       Size\n"
          ]
        },
        {
          "output_type": "stream",
          "name": "stderr",
          "text": [
            "    109/150      4.58G     0.4194     0.5916      1.015         20        640: 100%|██████████| 72/72 [00:55<00:00,  1.30it/s]\n",
            "                 Class     Images  Instances      Box(P          R      mAP50  mAP50-95): 100%|██████████| 6/6 [00:04<00:00,  1.40it/s]"
          ]
        },
        {
          "output_type": "stream",
          "name": "stdout",
          "text": [
            "                   all        332        332      0.637      0.669      0.707      0.634\n"
          ]
        },
        {
          "output_type": "stream",
          "name": "stderr",
          "text": [
            "\n"
          ]
        },
        {
          "output_type": "stream",
          "name": "stdout",
          "text": [
            "\n",
            "      Epoch    GPU_mem   box_loss   cls_loss   dfl_loss  Instances       Size\n"
          ]
        },
        {
          "output_type": "stream",
          "name": "stderr",
          "text": [
            "    110/150      4.58G     0.4205     0.5901      1.015         18        640: 100%|██████████| 72/72 [00:54<00:00,  1.31it/s]\n",
            "                 Class     Images  Instances      Box(P          R      mAP50  mAP50-95): 100%|██████████| 6/6 [00:03<00:00,  1.51it/s]"
          ]
        },
        {
          "output_type": "stream",
          "name": "stdout",
          "text": [
            "                   all        332        332      0.656      0.643       0.71      0.634\n"
          ]
        },
        {
          "output_type": "stream",
          "name": "stderr",
          "text": [
            "\n"
          ]
        },
        {
          "output_type": "stream",
          "name": "stdout",
          "text": [
            "\n",
            "      Epoch    GPU_mem   box_loss   cls_loss   dfl_loss  Instances       Size\n"
          ]
        },
        {
          "output_type": "stream",
          "name": "stderr",
          "text": [
            "    111/150      4.58G     0.4148     0.5941      1.011         23        640: 100%|██████████| 72/72 [00:54<00:00,  1.31it/s]\n",
            "                 Class     Images  Instances      Box(P          R      mAP50  mAP50-95): 100%|██████████| 6/6 [00:05<00:00,  1.06it/s]"
          ]
        },
        {
          "output_type": "stream",
          "name": "stdout",
          "text": [
            "                   all        332        332      0.663       0.64      0.712      0.633\n"
          ]
        },
        {
          "output_type": "stream",
          "name": "stderr",
          "text": [
            "\n"
          ]
        },
        {
          "output_type": "stream",
          "name": "stdout",
          "text": [
            "\n",
            "      Epoch    GPU_mem   box_loss   cls_loss   dfl_loss  Instances       Size\n"
          ]
        },
        {
          "output_type": "stream",
          "name": "stderr",
          "text": [
            "    112/150      4.59G     0.4113     0.5807      1.015         18        640: 100%|██████████| 72/72 [00:55<00:00,  1.30it/s]\n",
            "                 Class     Images  Instances      Box(P          R      mAP50  mAP50-95): 100%|██████████| 6/6 [00:04<00:00,  1.43it/s]\n"
          ]
        },
        {
          "output_type": "stream",
          "name": "stdout",
          "text": [
            "                   all        332        332       0.65      0.677      0.713      0.637\n",
            "\n",
            "      Epoch    GPU_mem   box_loss   cls_loss   dfl_loss  Instances       Size\n"
          ]
        },
        {
          "output_type": "stream",
          "name": "stderr",
          "text": [
            "    113/150      4.58G     0.4119     0.5946       1.01         21        640: 100%|██████████| 72/72 [00:56<00:00,  1.27it/s]\n",
            "                 Class     Images  Instances      Box(P          R      mAP50  mAP50-95): 100%|██████████| 6/6 [00:05<00:00,  1.10it/s]"
          ]
        },
        {
          "output_type": "stream",
          "name": "stdout",
          "text": [
            "                   all        332        332      0.653      0.668      0.706      0.627\n"
          ]
        },
        {
          "output_type": "stream",
          "name": "stderr",
          "text": [
            "\n"
          ]
        },
        {
          "output_type": "stream",
          "name": "stdout",
          "text": [
            "\n",
            "      Epoch    GPU_mem   box_loss   cls_loss   dfl_loss  Instances       Size\n"
          ]
        },
        {
          "output_type": "stream",
          "name": "stderr",
          "text": [
            "    114/150      4.58G     0.4031     0.5692      1.006         18        640: 100%|██████████| 72/72 [00:56<00:00,  1.27it/s]\n",
            "                 Class     Images  Instances      Box(P          R      mAP50  mAP50-95): 100%|██████████| 6/6 [00:04<00:00,  1.42it/s]"
          ]
        },
        {
          "output_type": "stream",
          "name": "stdout",
          "text": [
            "                   all        332        332      0.656      0.663      0.707      0.627\n"
          ]
        },
        {
          "output_type": "stream",
          "name": "stderr",
          "text": [
            "\n"
          ]
        },
        {
          "output_type": "stream",
          "name": "stdout",
          "text": [
            "\n",
            "      Epoch    GPU_mem   box_loss   cls_loss   dfl_loss  Instances       Size\n"
          ]
        },
        {
          "output_type": "stream",
          "name": "stderr",
          "text": [
            "    115/150      4.58G     0.4048     0.5801       1.01         26        640: 100%|██████████| 72/72 [00:57<00:00,  1.26it/s]\n",
            "                 Class     Images  Instances      Box(P          R      mAP50  mAP50-95): 100%|██████████| 6/6 [00:05<00:00,  1.09it/s]\n"
          ]
        },
        {
          "output_type": "stream",
          "name": "stdout",
          "text": [
            "                   all        332        332      0.643       0.66      0.701      0.623\n",
            "\n",
            "      Epoch    GPU_mem   box_loss   cls_loss   dfl_loss  Instances       Size\n"
          ]
        },
        {
          "output_type": "stream",
          "name": "stderr",
          "text": [
            "    116/150      4.58G     0.4039     0.5645       1.01         20        640: 100%|██████████| 72/72 [00:56<00:00,  1.28it/s]\n",
            "                 Class     Images  Instances      Box(P          R      mAP50  mAP50-95): 100%|██████████| 6/6 [00:04<00:00,  1.43it/s]"
          ]
        },
        {
          "output_type": "stream",
          "name": "stdout",
          "text": [
            "                   all        332        332      0.645       0.67      0.697      0.623\n"
          ]
        },
        {
          "output_type": "stream",
          "name": "stderr",
          "text": [
            "\n"
          ]
        },
        {
          "output_type": "stream",
          "name": "stdout",
          "text": [
            "\n",
            "      Epoch    GPU_mem   box_loss   cls_loss   dfl_loss  Instances       Size\n"
          ]
        },
        {
          "output_type": "stream",
          "name": "stderr",
          "text": [
            "    117/150      4.58G     0.4104     0.5587      1.006         20        640: 100%|██████████| 72/72 [00:55<00:00,  1.29it/s]\n",
            "                 Class     Images  Instances      Box(P          R      mAP50  mAP50-95): 100%|██████████| 6/6 [00:04<00:00,  1.29it/s]\n"
          ]
        },
        {
          "output_type": "stream",
          "name": "stdout",
          "text": [
            "                   all        332        332      0.652      0.666      0.705      0.627\n",
            "\n",
            "      Epoch    GPU_mem   box_loss   cls_loss   dfl_loss  Instances       Size\n"
          ]
        },
        {
          "output_type": "stream",
          "name": "stderr",
          "text": [
            "    118/150      4.58G     0.4046     0.5636       1.01         21        640: 100%|██████████| 72/72 [00:56<00:00,  1.28it/s]\n",
            "                 Class     Images  Instances      Box(P          R      mAP50  mAP50-95): 100%|██████████| 6/6 [00:03<00:00,  1.62it/s]\n"
          ]
        },
        {
          "output_type": "stream",
          "name": "stdout",
          "text": [
            "                   all        332        332      0.637      0.676      0.707      0.632\n",
            "\n",
            "      Epoch    GPU_mem   box_loss   cls_loss   dfl_loss  Instances       Size\n"
          ]
        },
        {
          "output_type": "stream",
          "name": "stderr",
          "text": [
            "    119/150      4.58G     0.4048     0.5736      1.009         21        640: 100%|██████████| 72/72 [00:56<00:00,  1.28it/s]\n",
            "                 Class     Images  Instances      Box(P          R      mAP50  mAP50-95): 100%|██████████| 6/6 [00:04<00:00,  1.49it/s]"
          ]
        },
        {
          "output_type": "stream",
          "name": "stdout",
          "text": [
            "                   all        332        332      0.655      0.648       0.71      0.636\n"
          ]
        },
        {
          "output_type": "stream",
          "name": "stderr",
          "text": [
            "\n"
          ]
        },
        {
          "output_type": "stream",
          "name": "stdout",
          "text": [
            "\n",
            "      Epoch    GPU_mem   box_loss   cls_loss   dfl_loss  Instances       Size\n"
          ]
        },
        {
          "output_type": "stream",
          "name": "stderr",
          "text": [
            "    120/150      4.58G     0.3947     0.5567     0.9999         20        640: 100%|██████████| 72/72 [00:56<00:00,  1.28it/s]\n",
            "                 Class     Images  Instances      Box(P          R      mAP50  mAP50-95): 100%|██████████| 6/6 [00:04<00:00,  1.31it/s]"
          ]
        },
        {
          "output_type": "stream",
          "name": "stdout",
          "text": [
            "                   all        332        332      0.682      0.642      0.714      0.635\n"
          ]
        },
        {
          "output_type": "stream",
          "name": "stderr",
          "text": [
            "\n"
          ]
        },
        {
          "output_type": "stream",
          "name": "stdout",
          "text": [
            "\n",
            "      Epoch    GPU_mem   box_loss   cls_loss   dfl_loss  Instances       Size\n"
          ]
        },
        {
          "output_type": "stream",
          "name": "stderr",
          "text": [
            "    121/150      4.58G     0.4057     0.5685      1.007         24        640: 100%|██████████| 72/72 [00:56<00:00,  1.28it/s]\n",
            "                 Class     Images  Instances      Box(P          R      mAP50  mAP50-95): 100%|██████████| 6/6 [00:04<00:00,  1.41it/s]\n"
          ]
        },
        {
          "output_type": "stream",
          "name": "stdout",
          "text": [
            "                   all        332        332      0.661      0.645      0.709       0.63\n",
            "\n",
            "      Epoch    GPU_mem   box_loss   cls_loss   dfl_loss  Instances       Size\n"
          ]
        },
        {
          "output_type": "stream",
          "name": "stderr",
          "text": [
            "    122/150      4.59G     0.4045     0.5673      1.005         15        640: 100%|██████████| 72/72 [00:56<00:00,  1.28it/s]\n",
            "                 Class     Images  Instances      Box(P          R      mAP50  mAP50-95): 100%|██████████| 6/6 [00:05<00:00,  1.13it/s]"
          ]
        },
        {
          "output_type": "stream",
          "name": "stdout",
          "text": [
            "                   all        332        332      0.652      0.655      0.707      0.632\n"
          ]
        },
        {
          "output_type": "stream",
          "name": "stderr",
          "text": [
            "\n"
          ]
        },
        {
          "output_type": "stream",
          "name": "stdout",
          "text": [
            "\n",
            "      Epoch    GPU_mem   box_loss   cls_loss   dfl_loss  Instances       Size\n"
          ]
        },
        {
          "output_type": "stream",
          "name": "stderr",
          "text": [
            "    123/150      4.58G     0.4009     0.5755          1         22        640: 100%|██████████| 72/72 [00:57<00:00,  1.26it/s]\n",
            "                 Class     Images  Instances      Box(P          R      mAP50  mAP50-95): 100%|██████████| 6/6 [00:04<00:00,  1.48it/s]\n"
          ]
        },
        {
          "output_type": "stream",
          "name": "stdout",
          "text": [
            "                   all        332        332      0.642      0.664      0.711      0.632\n",
            "\n",
            "      Epoch    GPU_mem   box_loss   cls_loss   dfl_loss  Instances       Size\n"
          ]
        },
        {
          "output_type": "stream",
          "name": "stderr",
          "text": [
            "    124/150      4.58G     0.3955     0.5451     0.9991         21        640: 100%|██████████| 72/72 [00:55<00:00,  1.29it/s]\n",
            "                 Class     Images  Instances      Box(P          R      mAP50  mAP50-95): 100%|██████████| 6/6 [00:05<00:00,  1.11it/s]\n"
          ]
        },
        {
          "output_type": "stream",
          "name": "stdout",
          "text": [
            "                   all        332        332      0.641      0.661      0.703      0.628\n",
            "\n",
            "      Epoch    GPU_mem   box_loss   cls_loss   dfl_loss  Instances       Size\n"
          ]
        },
        {
          "output_type": "stream",
          "name": "stderr",
          "text": [
            "    125/150      4.58G     0.4004      0.546      1.004         18        640: 100%|██████████| 72/72 [00:56<00:00,  1.28it/s]\n",
            "                 Class     Images  Instances      Box(P          R      mAP50  mAP50-95): 100%|██████████| 6/6 [00:04<00:00,  1.32it/s]\n"
          ]
        },
        {
          "output_type": "stream",
          "name": "stdout",
          "text": [
            "                   all        332        332      0.643      0.642      0.707      0.628\n",
            "\n",
            "      Epoch    GPU_mem   box_loss   cls_loss   dfl_loss  Instances       Size\n"
          ]
        },
        {
          "output_type": "stream",
          "name": "stderr",
          "text": [
            "    126/150      4.58G     0.3955     0.5588      1.005         18        640: 100%|██████████| 72/72 [00:56<00:00,  1.28it/s]\n",
            "                 Class     Images  Instances      Box(P          R      mAP50  mAP50-95): 100%|██████████| 6/6 [00:05<00:00,  1.15it/s]"
          ]
        },
        {
          "output_type": "stream",
          "name": "stdout",
          "text": [
            "                   all        332        332      0.646      0.645      0.707      0.633\n"
          ]
        },
        {
          "output_type": "stream",
          "name": "stderr",
          "text": [
            "\n"
          ]
        },
        {
          "output_type": "stream",
          "name": "stdout",
          "text": [
            "\n",
            "      Epoch    GPU_mem   box_loss   cls_loss   dfl_loss  Instances       Size\n"
          ]
        },
        {
          "output_type": "stream",
          "name": "stderr",
          "text": [
            "    127/150      4.59G     0.3937     0.5382      1.002         15        640: 100%|██████████| 72/72 [00:56<00:00,  1.28it/s]\n",
            "                 Class     Images  Instances      Box(P          R      mAP50  mAP50-95): 100%|██████████| 6/6 [00:04<00:00,  1.41it/s]\n"
          ]
        },
        {
          "output_type": "stream",
          "name": "stdout",
          "text": [
            "                   all        332        332      0.658      0.642      0.705       0.63\n",
            "\n",
            "      Epoch    GPU_mem   box_loss   cls_loss   dfl_loss  Instances       Size\n"
          ]
        },
        {
          "output_type": "stream",
          "name": "stderr",
          "text": [
            "    128/150      4.59G     0.4003     0.5499      1.006         15        640: 100%|██████████| 72/72 [00:56<00:00,  1.28it/s]\n",
            "                 Class     Images  Instances      Box(P          R      mAP50  mAP50-95): 100%|██████████| 6/6 [00:05<00:00,  1.17it/s]\n"
          ]
        },
        {
          "output_type": "stream",
          "name": "stdout",
          "text": [
            "                   all        332        332       0.66      0.648      0.707      0.632\n",
            "\n",
            "      Epoch    GPU_mem   box_loss   cls_loss   dfl_loss  Instances       Size\n"
          ]
        },
        {
          "output_type": "stream",
          "name": "stderr",
          "text": [
            "    129/150      4.59G     0.3901     0.5475     0.9984         20        640: 100%|██████████| 72/72 [00:56<00:00,  1.27it/s]\n",
            "                 Class     Images  Instances      Box(P          R      mAP50  mAP50-95): 100%|██████████| 6/6 [00:04<00:00,  1.41it/s]\n"
          ]
        },
        {
          "output_type": "stream",
          "name": "stdout",
          "text": [
            "                   all        332        332      0.634       0.67        0.7      0.622\n",
            "\n",
            "      Epoch    GPU_mem   box_loss   cls_loss   dfl_loss  Instances       Size\n"
          ]
        },
        {
          "output_type": "stream",
          "name": "stderr",
          "text": [
            "    130/150      4.58G     0.3935     0.5345      1.001         19        640: 100%|██████████| 72/72 [00:56<00:00,  1.27it/s]\n",
            "                 Class     Images  Instances      Box(P          R      mAP50  mAP50-95): 100%|██████████| 6/6 [00:05<00:00,  1.15it/s]\n"
          ]
        },
        {
          "output_type": "stream",
          "name": "stdout",
          "text": [
            "                   all        332        332      0.663      0.641      0.699      0.624\n",
            "\n",
            "      Epoch    GPU_mem   box_loss   cls_loss   dfl_loss  Instances       Size\n"
          ]
        },
        {
          "output_type": "stream",
          "name": "stderr",
          "text": [
            "    131/150      4.58G     0.3888     0.5413      1.002         19        640: 100%|██████████| 72/72 [00:56<00:00,  1.27it/s]\n",
            "                 Class     Images  Instances      Box(P          R      mAP50  mAP50-95): 100%|██████████| 6/6 [00:04<00:00,  1.40it/s]\n"
          ]
        },
        {
          "output_type": "stream",
          "name": "stdout",
          "text": [
            "                   all        332        332      0.662       0.64      0.703      0.629\n",
            "\n",
            "      Epoch    GPU_mem   box_loss   cls_loss   dfl_loss  Instances       Size\n"
          ]
        },
        {
          "output_type": "stream",
          "name": "stderr",
          "text": [
            "    132/150      4.58G     0.3884     0.5198      1.001         21        640: 100%|██████████| 72/72 [00:55<00:00,  1.29it/s]\n",
            "                 Class     Images  Instances      Box(P          R      mAP50  mAP50-95): 100%|██████████| 6/6 [00:03<00:00,  1.51it/s]"
          ]
        },
        {
          "output_type": "stream",
          "name": "stdout",
          "text": [
            "                   all        332        332       0.66       0.64      0.704      0.627\n"
          ]
        },
        {
          "output_type": "stream",
          "name": "stderr",
          "text": [
            "\n"
          ]
        },
        {
          "output_type": "stream",
          "name": "stdout",
          "text": [
            "\n",
            "      Epoch    GPU_mem   box_loss   cls_loss   dfl_loss  Instances       Size\n"
          ]
        },
        {
          "output_type": "stream",
          "name": "stderr",
          "text": [
            "    133/150      4.59G     0.3894     0.5208     0.9962         18        640: 100%|██████████| 72/72 [00:56<00:00,  1.26it/s]\n",
            "                 Class     Images  Instances      Box(P          R      mAP50  mAP50-95): 100%|██████████| 6/6 [00:04<00:00,  1.44it/s]"
          ]
        },
        {
          "output_type": "stream",
          "name": "stdout",
          "text": [
            "                   all        332        332      0.675       0.63      0.706      0.631\n"
          ]
        },
        {
          "output_type": "stream",
          "name": "stderr",
          "text": [
            "\n"
          ]
        },
        {
          "output_type": "stream",
          "name": "stdout",
          "text": [
            "\n",
            "      Epoch    GPU_mem   box_loss   cls_loss   dfl_loss  Instances       Size\n"
          ]
        },
        {
          "output_type": "stream",
          "name": "stderr",
          "text": [
            "    134/150      4.58G     0.3899     0.5273      1.002         23        640: 100%|██████████| 72/72 [00:56<00:00,  1.28it/s]\n",
            "                 Class     Images  Instances      Box(P          R      mAP50  mAP50-95): 100%|██████████| 6/6 [00:03<00:00,  1.52it/s]\n"
          ]
        },
        {
          "output_type": "stream",
          "name": "stdout",
          "text": [
            "                   all        332        332      0.663      0.637      0.708      0.629\n",
            "\n",
            "      Epoch    GPU_mem   box_loss   cls_loss   dfl_loss  Instances       Size\n"
          ]
        },
        {
          "output_type": "stream",
          "name": "stderr",
          "text": [
            "    135/150      4.58G      0.389     0.5322      0.998         24        640: 100%|██████████| 72/72 [00:55<00:00,  1.29it/s]\n",
            "                 Class     Images  Instances      Box(P          R      mAP50  mAP50-95): 100%|██████████| 6/6 [00:05<00:00,  1.06it/s]"
          ]
        },
        {
          "output_type": "stream",
          "name": "stdout",
          "text": [
            "                   all        332        332      0.673      0.639      0.709       0.63\n"
          ]
        },
        {
          "output_type": "stream",
          "name": "stderr",
          "text": [
            "\n"
          ]
        },
        {
          "output_type": "stream",
          "name": "stdout",
          "text": [
            "\n",
            "      Epoch    GPU_mem   box_loss   cls_loss   dfl_loss  Instances       Size\n"
          ]
        },
        {
          "output_type": "stream",
          "name": "stderr",
          "text": [
            "    136/150      4.58G     0.3925     0.5317     0.9977         19        640: 100%|██████████| 72/72 [00:55<00:00,  1.29it/s]\n",
            "                 Class     Images  Instances      Box(P          R      mAP50  mAP50-95): 100%|██████████| 6/6 [00:03<00:00,  1.52it/s]\n"
          ]
        },
        {
          "output_type": "stream",
          "name": "stdout",
          "text": [
            "                   all        332        332       0.64      0.671      0.712      0.637\n",
            "\n",
            "      Epoch    GPU_mem   box_loss   cls_loss   dfl_loss  Instances       Size\n"
          ]
        },
        {
          "output_type": "stream",
          "name": "stderr",
          "text": [
            "    137/150      4.58G       0.39     0.5382      1.002         24        640: 100%|██████████| 72/72 [00:56<00:00,  1.28it/s]\n",
            "                 Class     Images  Instances      Box(P          R      mAP50  mAP50-95): 100%|██████████| 6/6 [00:05<00:00,  1.15it/s]"
          ]
        },
        {
          "output_type": "stream",
          "name": "stdout",
          "text": [
            "                   all        332        332      0.626      0.676      0.709      0.634\n"
          ]
        },
        {
          "output_type": "stream",
          "name": "stderr",
          "text": [
            "\n"
          ]
        },
        {
          "output_type": "stream",
          "name": "stdout",
          "text": [
            "\n",
            "      Epoch    GPU_mem   box_loss   cls_loss   dfl_loss  Instances       Size\n"
          ]
        },
        {
          "output_type": "stream",
          "name": "stderr",
          "text": [
            "    138/150      4.58G      0.389     0.5289      0.997         23        640: 100%|██████████| 72/72 [00:56<00:00,  1.28it/s]\n",
            "                 Class     Images  Instances      Box(P          R      mAP50  mAP50-95): 100%|██████████| 6/6 [00:03<00:00,  1.51it/s]"
          ]
        },
        {
          "output_type": "stream",
          "name": "stdout",
          "text": [
            "                   all        332        332      0.645      0.661      0.712      0.637\n"
          ]
        },
        {
          "output_type": "stream",
          "name": "stderr",
          "text": [
            "\n"
          ]
        },
        {
          "output_type": "stream",
          "name": "stdout",
          "text": [
            "\n",
            "      Epoch    GPU_mem   box_loss   cls_loss   dfl_loss  Instances       Size\n"
          ]
        },
        {
          "output_type": "stream",
          "name": "stderr",
          "text": [
            "    139/150      4.58G     0.3907     0.5407      1.001         21        640: 100%|██████████| 72/72 [00:56<00:00,  1.28it/s]\n",
            "                 Class     Images  Instances      Box(P          R      mAP50  mAP50-95): 100%|██████████| 6/6 [00:04<00:00,  1.33it/s]"
          ]
        },
        {
          "output_type": "stream",
          "name": "stdout",
          "text": [
            "                   all        332        332      0.668      0.637      0.711      0.632\n"
          ]
        },
        {
          "output_type": "stream",
          "name": "stderr",
          "text": [
            "\n"
          ]
        },
        {
          "output_type": "stream",
          "name": "stdout",
          "text": [
            "\n",
            "      Epoch    GPU_mem   box_loss   cls_loss   dfl_loss  Instances       Size\n"
          ]
        },
        {
          "output_type": "stream",
          "name": "stderr",
          "text": [
            "    140/150      4.58G     0.3873     0.5298      1.002         24        640: 100%|██████████| 72/72 [00:56<00:00,  1.27it/s]\n",
            "                 Class     Images  Instances      Box(P          R      mAP50  mAP50-95): 100%|██████████| 6/6 [00:04<00:00,  1.49it/s]\n"
          ]
        },
        {
          "output_type": "stream",
          "name": "stdout",
          "text": [
            "                   all        332        332      0.664      0.635      0.705      0.629\n",
            "Closing dataloader mosaic\n",
            "\u001b[34m\u001b[1malbumentations: \u001b[0mBlur(p=0.01, blur_limit=(3, 7)), MedianBlur(p=0.01, blur_limit=(3, 7)), ToGray(p=0.01), CLAHE(p=0.01, clip_limit=(1, 4.0), tile_grid_size=(8, 8))\n",
            "\n",
            "      Epoch    GPU_mem   box_loss   cls_loss   dfl_loss  Instances       Size\n"
          ]
        },
        {
          "output_type": "stream",
          "name": "stderr",
          "text": [
            "    141/150      4.96G     0.3098      0.368     0.9731          8        640: 100%|██████████| 72/72 [00:56<00:00,  1.28it/s]\n",
            "                 Class     Images  Instances      Box(P          R      mAP50  mAP50-95): 100%|██████████| 6/6 [00:04<00:00,  1.46it/s]\n"
          ]
        },
        {
          "output_type": "stream",
          "name": "stdout",
          "text": [
            "                   all        332        332      0.667      0.632      0.693      0.615\n",
            "\n",
            "      Epoch    GPU_mem   box_loss   cls_loss   dfl_loss  Instances       Size\n"
          ]
        },
        {
          "output_type": "stream",
          "name": "stderr",
          "text": [
            "    142/150      4.58G     0.2998     0.3316     0.9591          8        640: 100%|██████████| 72/72 [00:51<00:00,  1.39it/s]\n",
            "                 Class     Images  Instances      Box(P          R      mAP50  mAP50-95): 100%|██████████| 6/6 [00:05<00:00,  1.19it/s]"
          ]
        },
        {
          "output_type": "stream",
          "name": "stdout",
          "text": [
            "                   all        332        332      0.666      0.635      0.696       0.62\n"
          ]
        },
        {
          "output_type": "stream",
          "name": "stderr",
          "text": [
            "\n"
          ]
        },
        {
          "output_type": "stream",
          "name": "stdout",
          "text": [
            "\n",
            "      Epoch    GPU_mem   box_loss   cls_loss   dfl_loss  Instances       Size\n"
          ]
        },
        {
          "output_type": "stream",
          "name": "stderr",
          "text": [
            "    143/150      4.58G     0.2966     0.3312     0.9619          8        640: 100%|██████████| 72/72 [00:51<00:00,  1.40it/s]\n",
            "                 Class     Images  Instances      Box(P          R      mAP50  mAP50-95): 100%|██████████| 6/6 [00:05<00:00,  1.17it/s]\n"
          ]
        },
        {
          "output_type": "stream",
          "name": "stdout",
          "text": [
            "                   all        332        332      0.658       0.64      0.695      0.616\n",
            "\n",
            "      Epoch    GPU_mem   box_loss   cls_loss   dfl_loss  Instances       Size\n"
          ]
        },
        {
          "output_type": "stream",
          "name": "stderr",
          "text": [
            "    144/150      4.58G     0.2938     0.3233      0.957          8        640: 100%|██████████| 72/72 [00:53<00:00,  1.36it/s]\n",
            "                 Class     Images  Instances      Box(P          R      mAP50  mAP50-95): 100%|██████████| 6/6 [00:03<00:00,  1.52it/s]\n"
          ]
        },
        {
          "output_type": "stream",
          "name": "stdout",
          "text": [
            "                   all        332        332      0.669      0.639      0.697       0.62\n",
            "\n",
            "      Epoch    GPU_mem   box_loss   cls_loss   dfl_loss  Instances       Size\n"
          ]
        },
        {
          "output_type": "stream",
          "name": "stderr",
          "text": [
            "    145/150      4.59G     0.2916     0.3159     0.9568          8        640: 100%|██████████| 72/72 [00:52<00:00,  1.38it/s]\n",
            "                 Class     Images  Instances      Box(P          R      mAP50  mAP50-95): 100%|██████████| 6/6 [00:04<00:00,  1.47it/s]\n"
          ]
        },
        {
          "output_type": "stream",
          "name": "stdout",
          "text": [
            "                   all        332        332      0.663      0.641      0.698      0.615\n",
            "\n",
            "      Epoch    GPU_mem   box_loss   cls_loss   dfl_loss  Instances       Size\n"
          ]
        },
        {
          "output_type": "stream",
          "name": "stderr",
          "text": [
            "    146/150      4.58G      0.293     0.3138     0.9556          8        640: 100%|██████████| 72/72 [00:52<00:00,  1.37it/s]\n",
            "                 Class     Images  Instances      Box(P          R      mAP50  mAP50-95): 100%|██████████| 6/6 [00:04<00:00,  1.46it/s]\n"
          ]
        },
        {
          "output_type": "stream",
          "name": "stdout",
          "text": [
            "                   all        332        332       0.68      0.635      0.694      0.619\n",
            "\n",
            "      Epoch    GPU_mem   box_loss   cls_loss   dfl_loss  Instances       Size\n"
          ]
        },
        {
          "output_type": "stream",
          "name": "stderr",
          "text": [
            "    147/150      4.59G      0.291     0.3143      0.954          8        640: 100%|██████████| 72/72 [00:52<00:00,  1.36it/s]\n",
            "                 Class     Images  Instances      Box(P          R      mAP50  mAP50-95): 100%|██████████| 6/6 [00:04<00:00,  1.45it/s]\n"
          ]
        },
        {
          "output_type": "stream",
          "name": "stdout",
          "text": [
            "                   all        332        332      0.678      0.629      0.695       0.62\n",
            "\n",
            "      Epoch    GPU_mem   box_loss   cls_loss   dfl_loss  Instances       Size\n"
          ]
        },
        {
          "output_type": "stream",
          "name": "stderr",
          "text": [
            "    148/150      4.58G     0.2917     0.3078     0.9488          8        640: 100%|██████████| 72/72 [00:51<00:00,  1.39it/s]\n",
            "                 Class     Images  Instances      Box(P          R      mAP50  mAP50-95): 100%|██████████| 6/6 [00:04<00:00,  1.21it/s]"
          ]
        },
        {
          "output_type": "stream",
          "name": "stdout",
          "text": [
            "                   all        332        332      0.678      0.631      0.695      0.622\n"
          ]
        },
        {
          "output_type": "stream",
          "name": "stderr",
          "text": [
            "\n"
          ]
        },
        {
          "output_type": "stream",
          "name": "stdout",
          "text": [
            "\n",
            "      Epoch    GPU_mem   box_loss   cls_loss   dfl_loss  Instances       Size\n"
          ]
        },
        {
          "output_type": "stream",
          "name": "stderr",
          "text": [
            "    149/150      4.58G       0.29     0.3063     0.9509          8        640: 100%|██████████| 72/72 [00:51<00:00,  1.40it/s]\n",
            "                 Class     Images  Instances      Box(P          R      mAP50  mAP50-95): 100%|██████████| 6/6 [00:05<00:00,  1.14it/s]"
          ]
        },
        {
          "output_type": "stream",
          "name": "stdout",
          "text": [
            "                   all        332        332      0.676       0.63      0.697      0.623\n"
          ]
        },
        {
          "output_type": "stream",
          "name": "stderr",
          "text": [
            "\n"
          ]
        },
        {
          "output_type": "stream",
          "name": "stdout",
          "text": [
            "\n",
            "      Epoch    GPU_mem   box_loss   cls_loss   dfl_loss  Instances       Size\n"
          ]
        },
        {
          "output_type": "stream",
          "name": "stderr",
          "text": [
            "    150/150      4.58G     0.2873     0.3077     0.9468          8        640: 100%|██████████| 72/72 [00:54<00:00,  1.33it/s]\n",
            "                 Class     Images  Instances      Box(P          R      mAP50  mAP50-95): 100%|██████████| 6/6 [00:04<00:00,  1.44it/s]\n"
          ]
        },
        {
          "output_type": "stream",
          "name": "stdout",
          "text": [
            "                   all        332        332      0.677      0.627      0.696      0.622\n",
            "\n",
            "150 epochs completed in 2.582 hours.\n",
            "Optimizer stripped from runs/detect/train2/weights/last.pt, 6.3MB\n",
            "Optimizer stripped from runs/detect/train2/weights/best.pt, 6.3MB\n",
            "\n",
            "Validating runs/detect/train2/weights/best.pt...\n",
            "Ultralytics YOLOv8.1.20 🚀 Python-3.10.12 torch-2.1.0+cu121 CUDA:0 (Tesla T4, 15102MiB)\n",
            "Model summary (fused): 168 layers, 3016568 parameters, 0 gradients, 8.1 GFLOPs\n"
          ]
        },
        {
          "output_type": "stream",
          "name": "stderr",
          "text": [
            "                 Class     Images  Instances      Box(P          R      mAP50  mAP50-95): 100%|██████████| 6/6 [00:09<00:00,  1.50s/it]\n"
          ]
        },
        {
          "output_type": "stream",
          "name": "stdout",
          "text": [
            "                   all        332        332      0.631      0.657      0.716      0.642\n",
            "all motor vehicle prohibited        332          4      0.927          1      0.995      0.884\n",
            "       axle load limit        332          7      0.937          1      0.995      0.946\n",
            "      compulsary ahead        332          4      0.908          1      0.995      0.921\n",
            "  compulsary keep left        332          8      0.751      0.378      0.709      0.624\n",
            " compulsary keep right        332          7      0.619       0.93      0.924      0.916\n",
            "compulsary turn left ahead        332          4      0.744      0.732      0.773      0.726\n",
            "compulsary turn right ahead        332         12      0.737      0.936       0.94      0.837\n",
            "            cross road        332          6      0.857      0.833       0.86       0.72\n",
            "         dangerous dip        332          7          1      0.925      0.995       0.75\n",
            "         falling rocks        332          8      0.934      0.875      0.982      0.864\n",
            "         gap in median        332          9      0.956      0.889      0.984      0.855\n",
            "              give way        332          5      0.904          1      0.995      0.832\n",
            "guarded level crossing        332          2      0.853          1      0.995      0.945\n",
            "          height limit        332          2      0.796          1      0.995      0.945\n",
            "       horn prohibited        332          5      0.763          1      0.962      0.916\n",
            "        hospital ahead        332          3      0.738          1      0.995      0.755\n",
            "    hump or rough road        332          4          1      0.696      0.888      0.804\n",
            "       left hand curve        332          5      0.603      0.324      0.648      0.482\n",
            "     left reverse bend        332         10      0.872      0.686      0.782      0.715\n",
            "  left turn prohibited        332          8      0.766      0.875       0.89      0.769\n",
            "          loose gravel        332          4      0.886          1      0.995      0.933\n",
            "           men at work        332          7      0.942          1      0.995      0.903\n",
            "   narrow bridge ahead        332          9      0.867      0.889      0.961      0.882\n",
            "     narrow road ahead        332          5      0.769          1      0.995      0.895\n",
            "              no entry        332          7      0.949          1      0.995      0.884\n",
            "            no parking        332          2      0.827          1      0.995      0.995\n",
            "no stopping or standing        332          2       0.81          1      0.995      0.995\n",
            " overtaking prohibited        332          6      0.622          1      0.995      0.944\n",
            "      pass either side        332          7      0.778          1      0.978      0.919\n",
            "   pedestrian crossing        332         12      0.945      0.917      0.975      0.739\n",
            "     petrol pump ahead        332          5          1      0.887      0.995      0.735\n",
            "quay side or river bank        332          6      0.814          1      0.995      0.939\n",
            "      restriction ends        332          5       0.91          1      0.995      0.853\n",
            "      right hand curve        332          7      0.686      0.571      0.766      0.658\n",
            "    right reverse bend        332          3       0.49      0.667      0.665      0.582\n",
            " right turn prohibited        332          6      0.853          1      0.972       0.85\n",
            "     road widens ahead        332          5       0.92        0.8      0.962      0.962\n",
            "            roundabout        332          9      0.997      0.889      0.937      0.846\n",
            "          school ahead        332          8      0.951          1      0.995      0.877\n",
            "        side road left        332          7          1      0.449       0.96      0.912\n",
            "       side road right        332          6          0          0          0          0\n",
            "         slippery road        332          9          0          0          0          0\n",
            "       speed limit 100        332          9     0.0438     0.0487      0.322      0.293\n",
            "        speed limit 30        332          9     0.0509     0.0566      0.345      0.321\n",
            "        speed limit 50        332          4          0          0          0          0\n",
            "staggered intersection        332          7          0          0          0          0\n",
            "          steep ascent        332          5      0.281        0.2      0.528       0.48\n",
            "         steep descent        332          4          0          0          0          0\n",
            "                  stop        332          1          0          0          0          0\n",
            "   straight prohibited        332          5          0          0          0          0\n",
            "        t intersection        332         10          0          0    0.00617    0.00617\n",
            "                u turn        332          8          0          0     0.0652     0.0613\n",
            "     u turn prohibited        332          7          0          0          0          0\n",
            "unguarded level crossing        332          6          0          0          0          0\n",
            "Speed: 0.2ms preprocess, 3.1ms inference, 0.0ms loss, 7.8ms postprocess per image\n",
            "Results saved to \u001b[1mruns/detect/train2\u001b[0m\n"
          ]
        },
        {
          "output_type": "execute_result",
          "data": {
            "text/plain": [
              "ultralytics.utils.metrics.DetMetrics object with attributes:\n",
              "\n",
              "ap_class_index: array([ 0,  1,  2,  3,  4,  5,  6,  7,  8,  9, 10, 11, 12, 13, 14, 15, 16, 17, 18, 19, 20, 21, 22, 23, 24, 25, 26, 27, 28, 29, 30, 31, 32, 33, 34, 35, 36, 37, 38, 39, 40, 41, 42, 43, 44, 45, 46, 47, 48, 49, 50, 51, 52, 53])\n",
              "box: ultralytics.utils.metrics.Metric object\n",
              "confusion_matrix: <ultralytics.utils.metrics.ConfusionMatrix object at 0x7dea5b6988e0>\n",
              "curves: ['Precision-Recall(B)', 'F1-Confidence(B)', 'Precision-Confidence(B)', 'Recall-Confidence(B)']\n",
              "curves_results: [[array([          0,    0.001001,    0.002002,    0.003003,    0.004004,    0.005005,    0.006006,    0.007007,    0.008008,    0.009009,     0.01001,    0.011011,    0.012012,    0.013013,    0.014014,    0.015015,    0.016016,    0.017017,    0.018018,    0.019019,     0.02002,    0.021021,    0.022022,    0.023023,\n",
              "          0.024024,    0.025025,    0.026026,    0.027027,    0.028028,    0.029029,     0.03003,    0.031031,    0.032032,    0.033033,    0.034034,    0.035035,    0.036036,    0.037037,    0.038038,    0.039039,     0.04004,    0.041041,    0.042042,    0.043043,    0.044044,    0.045045,    0.046046,    0.047047,\n",
              "          0.048048,    0.049049,     0.05005,    0.051051,    0.052052,    0.053053,    0.054054,    0.055055,    0.056056,    0.057057,    0.058058,    0.059059,     0.06006,    0.061061,    0.062062,    0.063063,    0.064064,    0.065065,    0.066066,    0.067067,    0.068068,    0.069069,     0.07007,    0.071071,\n",
              "          0.072072,    0.073073,    0.074074,    0.075075,    0.076076,    0.077077,    0.078078,    0.079079,     0.08008,    0.081081,    0.082082,    0.083083,    0.084084,    0.085085,    0.086086,    0.087087,    0.088088,    0.089089,     0.09009,    0.091091,    0.092092,    0.093093,    0.094094,    0.095095,\n",
              "          0.096096,    0.097097,    0.098098,    0.099099,      0.1001,      0.1011,      0.1021,      0.1031,      0.1041,     0.10511,     0.10611,     0.10711,     0.10811,     0.10911,     0.11011,     0.11111,     0.11211,     0.11311,     0.11411,     0.11512,     0.11612,     0.11712,     0.11812,     0.11912,\n",
              "           0.12012,     0.12112,     0.12212,     0.12312,     0.12412,     0.12513,     0.12613,     0.12713,     0.12813,     0.12913,     0.13013,     0.13113,     0.13213,     0.13313,     0.13413,     0.13514,     0.13614,     0.13714,     0.13814,     0.13914,     0.14014,     0.14114,     0.14214,     0.14314,\n",
              "           0.14414,     0.14515,     0.14615,     0.14715,     0.14815,     0.14915,     0.15015,     0.15115,     0.15215,     0.15315,     0.15415,     0.15516,     0.15616,     0.15716,     0.15816,     0.15916,     0.16016,     0.16116,     0.16216,     0.16316,     0.16416,     0.16517,     0.16617,     0.16717,\n",
              "           0.16817,     0.16917,     0.17017,     0.17117,     0.17217,     0.17317,     0.17417,     0.17518,     0.17618,     0.17718,     0.17818,     0.17918,     0.18018,     0.18118,     0.18218,     0.18318,     0.18418,     0.18519,     0.18619,     0.18719,     0.18819,     0.18919,     0.19019,     0.19119,\n",
              "           0.19219,     0.19319,     0.19419,      0.1952,      0.1962,      0.1972,      0.1982,      0.1992,      0.2002,      0.2012,      0.2022,      0.2032,      0.2042,     0.20521,     0.20621,     0.20721,     0.20821,     0.20921,     0.21021,     0.21121,     0.21221,     0.21321,     0.21421,     0.21522,\n",
              "           0.21622,     0.21722,     0.21822,     0.21922,     0.22022,     0.22122,     0.22222,     0.22322,     0.22422,     0.22523,     0.22623,     0.22723,     0.22823,     0.22923,     0.23023,     0.23123,     0.23223,     0.23323,     0.23423,     0.23524,     0.23624,     0.23724,     0.23824,     0.23924,\n",
              "           0.24024,     0.24124,     0.24224,     0.24324,     0.24424,     0.24525,     0.24625,     0.24725,     0.24825,     0.24925,     0.25025,     0.25125,     0.25225,     0.25325,     0.25425,     0.25526,     0.25626,     0.25726,     0.25826,     0.25926,     0.26026,     0.26126,     0.26226,     0.26326,\n",
              "           0.26426,     0.26527,     0.26627,     0.26727,     0.26827,     0.26927,     0.27027,     0.27127,     0.27227,     0.27327,     0.27427,     0.27528,     0.27628,     0.27728,     0.27828,     0.27928,     0.28028,     0.28128,     0.28228,     0.28328,     0.28428,     0.28529,     0.28629,     0.28729,\n",
              "           0.28829,     0.28929,     0.29029,     0.29129,     0.29229,     0.29329,     0.29429,      0.2953,      0.2963,      0.2973,      0.2983,      0.2993,      0.3003,      0.3013,      0.3023,      0.3033,      0.3043,     0.30531,     0.30631,     0.30731,     0.30831,     0.30931,     0.31031,     0.31131,\n",
              "           0.31231,     0.31331,     0.31431,     0.31532,     0.31632,     0.31732,     0.31832,     0.31932,     0.32032,     0.32132,     0.32232,     0.32332,     0.32432,     0.32533,     0.32633,     0.32733,     0.32833,     0.32933,     0.33033,     0.33133,     0.33233,     0.33333,     0.33433,     0.33534,\n",
              "           0.33634,     0.33734,     0.33834,     0.33934,     0.34034,     0.34134,     0.34234,     0.34334,     0.34434,     0.34535,     0.34635,     0.34735,     0.34835,     0.34935,     0.35035,     0.35135,     0.35235,     0.35335,     0.35435,     0.35536,     0.35636,     0.35736,     0.35836,     0.35936,\n",
              "           0.36036,     0.36136,     0.36236,     0.36336,     0.36436,     0.36537,     0.36637,     0.36737,     0.36837,     0.36937,     0.37037,     0.37137,     0.37237,     0.37337,     0.37437,     0.37538,     0.37638,     0.37738,     0.37838,     0.37938,     0.38038,     0.38138,     0.38238,     0.38338,\n",
              "           0.38438,     0.38539,     0.38639,     0.38739,     0.38839,     0.38939,     0.39039,     0.39139,     0.39239,     0.39339,     0.39439,      0.3954,      0.3964,      0.3974,      0.3984,      0.3994,      0.4004,      0.4014,      0.4024,      0.4034,      0.4044,     0.40541,     0.40641,     0.40741,\n",
              "           0.40841,     0.40941,     0.41041,     0.41141,     0.41241,     0.41341,     0.41441,     0.41542,     0.41642,     0.41742,     0.41842,     0.41942,     0.42042,     0.42142,     0.42242,     0.42342,     0.42442,     0.42543,     0.42643,     0.42743,     0.42843,     0.42943,     0.43043,     0.43143,\n",
              "           0.43243,     0.43343,     0.43443,     0.43544,     0.43644,     0.43744,     0.43844,     0.43944,     0.44044,     0.44144,     0.44244,     0.44344,     0.44444,     0.44545,     0.44645,     0.44745,     0.44845,     0.44945,     0.45045,     0.45145,     0.45245,     0.45345,     0.45445,     0.45546,\n",
              "           0.45646,     0.45746,     0.45846,     0.45946,     0.46046,     0.46146,     0.46246,     0.46346,     0.46446,     0.46547,     0.46647,     0.46747,     0.46847,     0.46947,     0.47047,     0.47147,     0.47247,     0.47347,     0.47447,     0.47548,     0.47648,     0.47748,     0.47848,     0.47948,\n",
              "           0.48048,     0.48148,     0.48248,     0.48348,     0.48448,     0.48549,     0.48649,     0.48749,     0.48849,     0.48949,     0.49049,     0.49149,     0.49249,     0.49349,     0.49449,      0.4955,      0.4965,      0.4975,      0.4985,      0.4995,      0.5005,      0.5015,      0.5025,      0.5035,\n",
              "            0.5045,     0.50551,     0.50651,     0.50751,     0.50851,     0.50951,     0.51051,     0.51151,     0.51251,     0.51351,     0.51451,     0.51552,     0.51652,     0.51752,     0.51852,     0.51952,     0.52052,     0.52152,     0.52252,     0.52352,     0.52452,     0.52553,     0.52653,     0.52753,\n",
              "           0.52853,     0.52953,     0.53053,     0.53153,     0.53253,     0.53353,     0.53453,     0.53554,     0.53654,     0.53754,     0.53854,     0.53954,     0.54054,     0.54154,     0.54254,     0.54354,     0.54454,     0.54555,     0.54655,     0.54755,     0.54855,     0.54955,     0.55055,     0.55155,\n",
              "           0.55255,     0.55355,     0.55455,     0.55556,     0.55656,     0.55756,     0.55856,     0.55956,     0.56056,     0.56156,     0.56256,     0.56356,     0.56456,     0.56557,     0.56657,     0.56757,     0.56857,     0.56957,     0.57057,     0.57157,     0.57257,     0.57357,     0.57457,     0.57558,\n",
              "           0.57658,     0.57758,     0.57858,     0.57958,     0.58058,     0.58158,     0.58258,     0.58358,     0.58458,     0.58559,     0.58659,     0.58759,     0.58859,     0.58959,     0.59059,     0.59159,     0.59259,     0.59359,     0.59459,      0.5956,      0.5966,      0.5976,      0.5986,      0.5996,\n",
              "            0.6006,      0.6016,      0.6026,      0.6036,      0.6046,     0.60561,     0.60661,     0.60761,     0.60861,     0.60961,     0.61061,     0.61161,     0.61261,     0.61361,     0.61461,     0.61562,     0.61662,     0.61762,     0.61862,     0.61962,     0.62062,     0.62162,     0.62262,     0.62362,\n",
              "           0.62462,     0.62563,     0.62663,     0.62763,     0.62863,     0.62963,     0.63063,     0.63163,     0.63263,     0.63363,     0.63463,     0.63564,     0.63664,     0.63764,     0.63864,     0.63964,     0.64064,     0.64164,     0.64264,     0.64364,     0.64464,     0.64565,     0.64665,     0.64765,\n",
              "           0.64865,     0.64965,     0.65065,     0.65165,     0.65265,     0.65365,     0.65465,     0.65566,     0.65666,     0.65766,     0.65866,     0.65966,     0.66066,     0.66166,     0.66266,     0.66366,     0.66466,     0.66567,     0.66667,     0.66767,     0.66867,     0.66967,     0.67067,     0.67167,\n",
              "           0.67267,     0.67367,     0.67467,     0.67568,     0.67668,     0.67768,     0.67868,     0.67968,     0.68068,     0.68168,     0.68268,     0.68368,     0.68468,     0.68569,     0.68669,     0.68769,     0.68869,     0.68969,     0.69069,     0.69169,     0.69269,     0.69369,     0.69469,      0.6957,\n",
              "            0.6967,      0.6977,      0.6987,      0.6997,      0.7007,      0.7017,      0.7027,      0.7037,      0.7047,     0.70571,     0.70671,     0.70771,     0.70871,     0.70971,     0.71071,     0.71171,     0.71271,     0.71371,     0.71471,     0.71572,     0.71672,     0.71772,     0.71872,     0.71972,\n",
              "           0.72072,     0.72172,     0.72272,     0.72372,     0.72472,     0.72573,     0.72673,     0.72773,     0.72873,     0.72973,     0.73073,     0.73173,     0.73273,     0.73373,     0.73473,     0.73574,     0.73674,     0.73774,     0.73874,     0.73974,     0.74074,     0.74174,     0.74274,     0.74374,\n",
              "           0.74474,     0.74575,     0.74675,     0.74775,     0.74875,     0.74975,     0.75075,     0.75175,     0.75275,     0.75375,     0.75475,     0.75576,     0.75676,     0.75776,     0.75876,     0.75976,     0.76076,     0.76176,     0.76276,     0.76376,     0.76476,     0.76577,     0.76677,     0.76777,\n",
              "           0.76877,     0.76977,     0.77077,     0.77177,     0.77277,     0.77377,     0.77477,     0.77578,     0.77678,     0.77778,     0.77878,     0.77978,     0.78078,     0.78178,     0.78278,     0.78378,     0.78478,     0.78579,     0.78679,     0.78779,     0.78879,     0.78979,     0.79079,     0.79179,\n",
              "           0.79279,     0.79379,     0.79479,      0.7958,      0.7968,      0.7978,      0.7988,      0.7998,      0.8008,      0.8018,      0.8028,      0.8038,      0.8048,     0.80581,     0.80681,     0.80781,     0.80881,     0.80981,     0.81081,     0.81181,     0.81281,     0.81381,     0.81481,     0.81582,\n",
              "           0.81682,     0.81782,     0.81882,     0.81982,     0.82082,     0.82182,     0.82282,     0.82382,     0.82482,     0.82583,     0.82683,     0.82783,     0.82883,     0.82983,     0.83083,     0.83183,     0.83283,     0.83383,     0.83483,     0.83584,     0.83684,     0.83784,     0.83884,     0.83984,\n",
              "           0.84084,     0.84184,     0.84284,     0.84384,     0.84484,     0.84585,     0.84685,     0.84785,     0.84885,     0.84985,     0.85085,     0.85185,     0.85285,     0.85385,     0.85485,     0.85586,     0.85686,     0.85786,     0.85886,     0.85986,     0.86086,     0.86186,     0.86286,     0.86386,\n",
              "           0.86486,     0.86587,     0.86687,     0.86787,     0.86887,     0.86987,     0.87087,     0.87187,     0.87287,     0.87387,     0.87487,     0.87588,     0.87688,     0.87788,     0.87888,     0.87988,     0.88088,     0.88188,     0.88288,     0.88388,     0.88488,     0.88589,     0.88689,     0.88789,\n",
              "           0.88889,     0.88989,     0.89089,     0.89189,     0.89289,     0.89389,     0.89489,      0.8959,      0.8969,      0.8979,      0.8989,      0.8999,      0.9009,      0.9019,      0.9029,      0.9039,      0.9049,     0.90591,     0.90691,     0.90791,     0.90891,     0.90991,     0.91091,     0.91191,\n",
              "           0.91291,     0.91391,     0.91491,     0.91592,     0.91692,     0.91792,     0.91892,     0.91992,     0.92092,     0.92192,     0.92292,     0.92392,     0.92492,     0.92593,     0.92693,     0.92793,     0.92893,     0.92993,     0.93093,     0.93193,     0.93293,     0.93393,     0.93493,     0.93594,\n",
              "           0.93694,     0.93794,     0.93894,     0.93994,     0.94094,     0.94194,     0.94294,     0.94394,     0.94494,     0.94595,     0.94695,     0.94795,     0.94895,     0.94995,     0.95095,     0.95195,     0.95295,     0.95395,     0.95495,     0.95596,     0.95696,     0.95796,     0.95896,     0.95996,\n",
              "           0.96096,     0.96196,     0.96296,     0.96396,     0.96496,     0.96597,     0.96697,     0.96797,     0.96897,     0.96997,     0.97097,     0.97197,     0.97297,     0.97397,     0.97497,     0.97598,     0.97698,     0.97798,     0.97898,     0.97998,     0.98098,     0.98198,     0.98298,     0.98398,\n",
              "           0.98498,     0.98599,     0.98699,     0.98799,     0.98899,     0.98999,     0.99099,     0.99199,     0.99299,     0.99399,     0.99499,       0.996,       0.997,       0.998,       0.999,           1]), array([[          1,           1,           1, ...,           1,           1,           0],\n",
              "       [          1,           1,           1, ...,           1,           1,           0],\n",
              "       [          1,           1,           1, ...,           1,           1,           0],\n",
              "       ...,\n",
              "       [   0.083333,    0.083333,    0.083333, ...,   0.0007007,  0.00035035,           0],\n",
              "       [          0,           0,           0, ...,           0,           0,           0],\n",
              "       [          0,           0,           0, ...,           0,           0,           0]]), 'Recall', 'Precision'], [array([          0,    0.001001,    0.002002,    0.003003,    0.004004,    0.005005,    0.006006,    0.007007,    0.008008,    0.009009,     0.01001,    0.011011,    0.012012,    0.013013,    0.014014,    0.015015,    0.016016,    0.017017,    0.018018,    0.019019,     0.02002,    0.021021,    0.022022,    0.023023,\n",
              "          0.024024,    0.025025,    0.026026,    0.027027,    0.028028,    0.029029,     0.03003,    0.031031,    0.032032,    0.033033,    0.034034,    0.035035,    0.036036,    0.037037,    0.038038,    0.039039,     0.04004,    0.041041,    0.042042,    0.043043,    0.044044,    0.045045,    0.046046,    0.047047,\n",
              "          0.048048,    0.049049,     0.05005,    0.051051,    0.052052,    0.053053,    0.054054,    0.055055,    0.056056,    0.057057,    0.058058,    0.059059,     0.06006,    0.061061,    0.062062,    0.063063,    0.064064,    0.065065,    0.066066,    0.067067,    0.068068,    0.069069,     0.07007,    0.071071,\n",
              "          0.072072,    0.073073,    0.074074,    0.075075,    0.076076,    0.077077,    0.078078,    0.079079,     0.08008,    0.081081,    0.082082,    0.083083,    0.084084,    0.085085,    0.086086,    0.087087,    0.088088,    0.089089,     0.09009,    0.091091,    0.092092,    0.093093,    0.094094,    0.095095,\n",
              "          0.096096,    0.097097,    0.098098,    0.099099,      0.1001,      0.1011,      0.1021,      0.1031,      0.1041,     0.10511,     0.10611,     0.10711,     0.10811,     0.10911,     0.11011,     0.11111,     0.11211,     0.11311,     0.11411,     0.11512,     0.11612,     0.11712,     0.11812,     0.11912,\n",
              "           0.12012,     0.12112,     0.12212,     0.12312,     0.12412,     0.12513,     0.12613,     0.12713,     0.12813,     0.12913,     0.13013,     0.13113,     0.13213,     0.13313,     0.13413,     0.13514,     0.13614,     0.13714,     0.13814,     0.13914,     0.14014,     0.14114,     0.14214,     0.14314,\n",
              "           0.14414,     0.14515,     0.14615,     0.14715,     0.14815,     0.14915,     0.15015,     0.15115,     0.15215,     0.15315,     0.15415,     0.15516,     0.15616,     0.15716,     0.15816,     0.15916,     0.16016,     0.16116,     0.16216,     0.16316,     0.16416,     0.16517,     0.16617,     0.16717,\n",
              "           0.16817,     0.16917,     0.17017,     0.17117,     0.17217,     0.17317,     0.17417,     0.17518,     0.17618,     0.17718,     0.17818,     0.17918,     0.18018,     0.18118,     0.18218,     0.18318,     0.18418,     0.18519,     0.18619,     0.18719,     0.18819,     0.18919,     0.19019,     0.19119,\n",
              "           0.19219,     0.19319,     0.19419,      0.1952,      0.1962,      0.1972,      0.1982,      0.1992,      0.2002,      0.2012,      0.2022,      0.2032,      0.2042,     0.20521,     0.20621,     0.20721,     0.20821,     0.20921,     0.21021,     0.21121,     0.21221,     0.21321,     0.21421,     0.21522,\n",
              "           0.21622,     0.21722,     0.21822,     0.21922,     0.22022,     0.22122,     0.22222,     0.22322,     0.22422,     0.22523,     0.22623,     0.22723,     0.22823,     0.22923,     0.23023,     0.23123,     0.23223,     0.23323,     0.23423,     0.23524,     0.23624,     0.23724,     0.23824,     0.23924,\n",
              "           0.24024,     0.24124,     0.24224,     0.24324,     0.24424,     0.24525,     0.24625,     0.24725,     0.24825,     0.24925,     0.25025,     0.25125,     0.25225,     0.25325,     0.25425,     0.25526,     0.25626,     0.25726,     0.25826,     0.25926,     0.26026,     0.26126,     0.26226,     0.26326,\n",
              "           0.26426,     0.26527,     0.26627,     0.26727,     0.26827,     0.26927,     0.27027,     0.27127,     0.27227,     0.27327,     0.27427,     0.27528,     0.27628,     0.27728,     0.27828,     0.27928,     0.28028,     0.28128,     0.28228,     0.28328,     0.28428,     0.28529,     0.28629,     0.28729,\n",
              "           0.28829,     0.28929,     0.29029,     0.29129,     0.29229,     0.29329,     0.29429,      0.2953,      0.2963,      0.2973,      0.2983,      0.2993,      0.3003,      0.3013,      0.3023,      0.3033,      0.3043,     0.30531,     0.30631,     0.30731,     0.30831,     0.30931,     0.31031,     0.31131,\n",
              "           0.31231,     0.31331,     0.31431,     0.31532,     0.31632,     0.31732,     0.31832,     0.31932,     0.32032,     0.32132,     0.32232,     0.32332,     0.32432,     0.32533,     0.32633,     0.32733,     0.32833,     0.32933,     0.33033,     0.33133,     0.33233,     0.33333,     0.33433,     0.33534,\n",
              "           0.33634,     0.33734,     0.33834,     0.33934,     0.34034,     0.34134,     0.34234,     0.34334,     0.34434,     0.34535,     0.34635,     0.34735,     0.34835,     0.34935,     0.35035,     0.35135,     0.35235,     0.35335,     0.35435,     0.35536,     0.35636,     0.35736,     0.35836,     0.35936,\n",
              "           0.36036,     0.36136,     0.36236,     0.36336,     0.36436,     0.36537,     0.36637,     0.36737,     0.36837,     0.36937,     0.37037,     0.37137,     0.37237,     0.37337,     0.37437,     0.37538,     0.37638,     0.37738,     0.37838,     0.37938,     0.38038,     0.38138,     0.38238,     0.38338,\n",
              "           0.38438,     0.38539,     0.38639,     0.38739,     0.38839,     0.38939,     0.39039,     0.39139,     0.39239,     0.39339,     0.39439,      0.3954,      0.3964,      0.3974,      0.3984,      0.3994,      0.4004,      0.4014,      0.4024,      0.4034,      0.4044,     0.40541,     0.40641,     0.40741,\n",
              "           0.40841,     0.40941,     0.41041,     0.41141,     0.41241,     0.41341,     0.41441,     0.41542,     0.41642,     0.41742,     0.41842,     0.41942,     0.42042,     0.42142,     0.42242,     0.42342,     0.42442,     0.42543,     0.42643,     0.42743,     0.42843,     0.42943,     0.43043,     0.43143,\n",
              "           0.43243,     0.43343,     0.43443,     0.43544,     0.43644,     0.43744,     0.43844,     0.43944,     0.44044,     0.44144,     0.44244,     0.44344,     0.44444,     0.44545,     0.44645,     0.44745,     0.44845,     0.44945,     0.45045,     0.45145,     0.45245,     0.45345,     0.45445,     0.45546,\n",
              "           0.45646,     0.45746,     0.45846,     0.45946,     0.46046,     0.46146,     0.46246,     0.46346,     0.46446,     0.46547,     0.46647,     0.46747,     0.46847,     0.46947,     0.47047,     0.47147,     0.47247,     0.47347,     0.47447,     0.47548,     0.47648,     0.47748,     0.47848,     0.47948,\n",
              "           0.48048,     0.48148,     0.48248,     0.48348,     0.48448,     0.48549,     0.48649,     0.48749,     0.48849,     0.48949,     0.49049,     0.49149,     0.49249,     0.49349,     0.49449,      0.4955,      0.4965,      0.4975,      0.4985,      0.4995,      0.5005,      0.5015,      0.5025,      0.5035,\n",
              "            0.5045,     0.50551,     0.50651,     0.50751,     0.50851,     0.50951,     0.51051,     0.51151,     0.51251,     0.51351,     0.51451,     0.51552,     0.51652,     0.51752,     0.51852,     0.51952,     0.52052,     0.52152,     0.52252,     0.52352,     0.52452,     0.52553,     0.52653,     0.52753,\n",
              "           0.52853,     0.52953,     0.53053,     0.53153,     0.53253,     0.53353,     0.53453,     0.53554,     0.53654,     0.53754,     0.53854,     0.53954,     0.54054,     0.54154,     0.54254,     0.54354,     0.54454,     0.54555,     0.54655,     0.54755,     0.54855,     0.54955,     0.55055,     0.55155,\n",
              "           0.55255,     0.55355,     0.55455,     0.55556,     0.55656,     0.55756,     0.55856,     0.55956,     0.56056,     0.56156,     0.56256,     0.56356,     0.56456,     0.56557,     0.56657,     0.56757,     0.56857,     0.56957,     0.57057,     0.57157,     0.57257,     0.57357,     0.57457,     0.57558,\n",
              "           0.57658,     0.57758,     0.57858,     0.57958,     0.58058,     0.58158,     0.58258,     0.58358,     0.58458,     0.58559,     0.58659,     0.58759,     0.58859,     0.58959,     0.59059,     0.59159,     0.59259,     0.59359,     0.59459,      0.5956,      0.5966,      0.5976,      0.5986,      0.5996,\n",
              "            0.6006,      0.6016,      0.6026,      0.6036,      0.6046,     0.60561,     0.60661,     0.60761,     0.60861,     0.60961,     0.61061,     0.61161,     0.61261,     0.61361,     0.61461,     0.61562,     0.61662,     0.61762,     0.61862,     0.61962,     0.62062,     0.62162,     0.62262,     0.62362,\n",
              "           0.62462,     0.62563,     0.62663,     0.62763,     0.62863,     0.62963,     0.63063,     0.63163,     0.63263,     0.63363,     0.63463,     0.63564,     0.63664,     0.63764,     0.63864,     0.63964,     0.64064,     0.64164,     0.64264,     0.64364,     0.64464,     0.64565,     0.64665,     0.64765,\n",
              "           0.64865,     0.64965,     0.65065,     0.65165,     0.65265,     0.65365,     0.65465,     0.65566,     0.65666,     0.65766,     0.65866,     0.65966,     0.66066,     0.66166,     0.66266,     0.66366,     0.66466,     0.66567,     0.66667,     0.66767,     0.66867,     0.66967,     0.67067,     0.67167,\n",
              "           0.67267,     0.67367,     0.67467,     0.67568,     0.67668,     0.67768,     0.67868,     0.67968,     0.68068,     0.68168,     0.68268,     0.68368,     0.68468,     0.68569,     0.68669,     0.68769,     0.68869,     0.68969,     0.69069,     0.69169,     0.69269,     0.69369,     0.69469,      0.6957,\n",
              "            0.6967,      0.6977,      0.6987,      0.6997,      0.7007,      0.7017,      0.7027,      0.7037,      0.7047,     0.70571,     0.70671,     0.70771,     0.70871,     0.70971,     0.71071,     0.71171,     0.71271,     0.71371,     0.71471,     0.71572,     0.71672,     0.71772,     0.71872,     0.71972,\n",
              "           0.72072,     0.72172,     0.72272,     0.72372,     0.72472,     0.72573,     0.72673,     0.72773,     0.72873,     0.72973,     0.73073,     0.73173,     0.73273,     0.73373,     0.73473,     0.73574,     0.73674,     0.73774,     0.73874,     0.73974,     0.74074,     0.74174,     0.74274,     0.74374,\n",
              "           0.74474,     0.74575,     0.74675,     0.74775,     0.74875,     0.74975,     0.75075,     0.75175,     0.75275,     0.75375,     0.75475,     0.75576,     0.75676,     0.75776,     0.75876,     0.75976,     0.76076,     0.76176,     0.76276,     0.76376,     0.76476,     0.76577,     0.76677,     0.76777,\n",
              "           0.76877,     0.76977,     0.77077,     0.77177,     0.77277,     0.77377,     0.77477,     0.77578,     0.77678,     0.77778,     0.77878,     0.77978,     0.78078,     0.78178,     0.78278,     0.78378,     0.78478,     0.78579,     0.78679,     0.78779,     0.78879,     0.78979,     0.79079,     0.79179,\n",
              "           0.79279,     0.79379,     0.79479,      0.7958,      0.7968,      0.7978,      0.7988,      0.7998,      0.8008,      0.8018,      0.8028,      0.8038,      0.8048,     0.80581,     0.80681,     0.80781,     0.80881,     0.80981,     0.81081,     0.81181,     0.81281,     0.81381,     0.81481,     0.81582,\n",
              "           0.81682,     0.81782,     0.81882,     0.81982,     0.82082,     0.82182,     0.82282,     0.82382,     0.82482,     0.82583,     0.82683,     0.82783,     0.82883,     0.82983,     0.83083,     0.83183,     0.83283,     0.83383,     0.83483,     0.83584,     0.83684,     0.83784,     0.83884,     0.83984,\n",
              "           0.84084,     0.84184,     0.84284,     0.84384,     0.84484,     0.84585,     0.84685,     0.84785,     0.84885,     0.84985,     0.85085,     0.85185,     0.85285,     0.85385,     0.85485,     0.85586,     0.85686,     0.85786,     0.85886,     0.85986,     0.86086,     0.86186,     0.86286,     0.86386,\n",
              "           0.86486,     0.86587,     0.86687,     0.86787,     0.86887,     0.86987,     0.87087,     0.87187,     0.87287,     0.87387,     0.87487,     0.87588,     0.87688,     0.87788,     0.87888,     0.87988,     0.88088,     0.88188,     0.88288,     0.88388,     0.88488,     0.88589,     0.88689,     0.88789,\n",
              "           0.88889,     0.88989,     0.89089,     0.89189,     0.89289,     0.89389,     0.89489,      0.8959,      0.8969,      0.8979,      0.8989,      0.8999,      0.9009,      0.9019,      0.9029,      0.9039,      0.9049,     0.90591,     0.90691,     0.90791,     0.90891,     0.90991,     0.91091,     0.91191,\n",
              "           0.91291,     0.91391,     0.91491,     0.91592,     0.91692,     0.91792,     0.91892,     0.91992,     0.92092,     0.92192,     0.92292,     0.92392,     0.92492,     0.92593,     0.92693,     0.92793,     0.92893,     0.92993,     0.93093,     0.93193,     0.93293,     0.93393,     0.93493,     0.93594,\n",
              "           0.93694,     0.93794,     0.93894,     0.93994,     0.94094,     0.94194,     0.94294,     0.94394,     0.94494,     0.94595,     0.94695,     0.94795,     0.94895,     0.94995,     0.95095,     0.95195,     0.95295,     0.95395,     0.95495,     0.95596,     0.95696,     0.95796,     0.95896,     0.95996,\n",
              "           0.96096,     0.96196,     0.96296,     0.96396,     0.96496,     0.96597,     0.96697,     0.96797,     0.96897,     0.96997,     0.97097,     0.97197,     0.97297,     0.97397,     0.97497,     0.97598,     0.97698,     0.97798,     0.97898,     0.97998,     0.98098,     0.98198,     0.98298,     0.98398,\n",
              "           0.98498,     0.98599,     0.98699,     0.98799,     0.98899,     0.98999,     0.99099,     0.99199,     0.99299,     0.99399,     0.99499,       0.996,       0.997,       0.998,       0.999,           1]), array([[     0.1039,      0.1039,     0.14331, ...,           0,           0,           0],\n",
              "       [    0.26923,     0.26923,     0.42654, ...,           0,           0,           0],\n",
              "       [    0.11429,     0.11429,     0.21723, ...,           0,           0,           0],\n",
              "       ...,\n",
              "       [   0.083333,    0.083333,     0.12067, ...,           0,           0,           0],\n",
              "       [          0,           0,           0, ...,           0,           0,           0],\n",
              "       [          0,           0,           0, ...,           0,           0,           0]]), 'Confidence', 'F1'], [array([          0,    0.001001,    0.002002,    0.003003,    0.004004,    0.005005,    0.006006,    0.007007,    0.008008,    0.009009,     0.01001,    0.011011,    0.012012,    0.013013,    0.014014,    0.015015,    0.016016,    0.017017,    0.018018,    0.019019,     0.02002,    0.021021,    0.022022,    0.023023,\n",
              "          0.024024,    0.025025,    0.026026,    0.027027,    0.028028,    0.029029,     0.03003,    0.031031,    0.032032,    0.033033,    0.034034,    0.035035,    0.036036,    0.037037,    0.038038,    0.039039,     0.04004,    0.041041,    0.042042,    0.043043,    0.044044,    0.045045,    0.046046,    0.047047,\n",
              "          0.048048,    0.049049,     0.05005,    0.051051,    0.052052,    0.053053,    0.054054,    0.055055,    0.056056,    0.057057,    0.058058,    0.059059,     0.06006,    0.061061,    0.062062,    0.063063,    0.064064,    0.065065,    0.066066,    0.067067,    0.068068,    0.069069,     0.07007,    0.071071,\n",
              "          0.072072,    0.073073,    0.074074,    0.075075,    0.076076,    0.077077,    0.078078,    0.079079,     0.08008,    0.081081,    0.082082,    0.083083,    0.084084,    0.085085,    0.086086,    0.087087,    0.088088,    0.089089,     0.09009,    0.091091,    0.092092,    0.093093,    0.094094,    0.095095,\n",
              "          0.096096,    0.097097,    0.098098,    0.099099,      0.1001,      0.1011,      0.1021,      0.1031,      0.1041,     0.10511,     0.10611,     0.10711,     0.10811,     0.10911,     0.11011,     0.11111,     0.11211,     0.11311,     0.11411,     0.11512,     0.11612,     0.11712,     0.11812,     0.11912,\n",
              "           0.12012,     0.12112,     0.12212,     0.12312,     0.12412,     0.12513,     0.12613,     0.12713,     0.12813,     0.12913,     0.13013,     0.13113,     0.13213,     0.13313,     0.13413,     0.13514,     0.13614,     0.13714,     0.13814,     0.13914,     0.14014,     0.14114,     0.14214,     0.14314,\n",
              "           0.14414,     0.14515,     0.14615,     0.14715,     0.14815,     0.14915,     0.15015,     0.15115,     0.15215,     0.15315,     0.15415,     0.15516,     0.15616,     0.15716,     0.15816,     0.15916,     0.16016,     0.16116,     0.16216,     0.16316,     0.16416,     0.16517,     0.16617,     0.16717,\n",
              "           0.16817,     0.16917,     0.17017,     0.17117,     0.17217,     0.17317,     0.17417,     0.17518,     0.17618,     0.17718,     0.17818,     0.17918,     0.18018,     0.18118,     0.18218,     0.18318,     0.18418,     0.18519,     0.18619,     0.18719,     0.18819,     0.18919,     0.19019,     0.19119,\n",
              "           0.19219,     0.19319,     0.19419,      0.1952,      0.1962,      0.1972,      0.1982,      0.1992,      0.2002,      0.2012,      0.2022,      0.2032,      0.2042,     0.20521,     0.20621,     0.20721,     0.20821,     0.20921,     0.21021,     0.21121,     0.21221,     0.21321,     0.21421,     0.21522,\n",
              "           0.21622,     0.21722,     0.21822,     0.21922,     0.22022,     0.22122,     0.22222,     0.22322,     0.22422,     0.22523,     0.22623,     0.22723,     0.22823,     0.22923,     0.23023,     0.23123,     0.23223,     0.23323,     0.23423,     0.23524,     0.23624,     0.23724,     0.23824,     0.23924,\n",
              "           0.24024,     0.24124,     0.24224,     0.24324,     0.24424,     0.24525,     0.24625,     0.24725,     0.24825,     0.24925,     0.25025,     0.25125,     0.25225,     0.25325,     0.25425,     0.25526,     0.25626,     0.25726,     0.25826,     0.25926,     0.26026,     0.26126,     0.26226,     0.26326,\n",
              "           0.26426,     0.26527,     0.26627,     0.26727,     0.26827,     0.26927,     0.27027,     0.27127,     0.27227,     0.27327,     0.27427,     0.27528,     0.27628,     0.27728,     0.27828,     0.27928,     0.28028,     0.28128,     0.28228,     0.28328,     0.28428,     0.28529,     0.28629,     0.28729,\n",
              "           0.28829,     0.28929,     0.29029,     0.29129,     0.29229,     0.29329,     0.29429,      0.2953,      0.2963,      0.2973,      0.2983,      0.2993,      0.3003,      0.3013,      0.3023,      0.3033,      0.3043,     0.30531,     0.30631,     0.30731,     0.30831,     0.30931,     0.31031,     0.31131,\n",
              "           0.31231,     0.31331,     0.31431,     0.31532,     0.31632,     0.31732,     0.31832,     0.31932,     0.32032,     0.32132,     0.32232,     0.32332,     0.32432,     0.32533,     0.32633,     0.32733,     0.32833,     0.32933,     0.33033,     0.33133,     0.33233,     0.33333,     0.33433,     0.33534,\n",
              "           0.33634,     0.33734,     0.33834,     0.33934,     0.34034,     0.34134,     0.34234,     0.34334,     0.34434,     0.34535,     0.34635,     0.34735,     0.34835,     0.34935,     0.35035,     0.35135,     0.35235,     0.35335,     0.35435,     0.35536,     0.35636,     0.35736,     0.35836,     0.35936,\n",
              "           0.36036,     0.36136,     0.36236,     0.36336,     0.36436,     0.36537,     0.36637,     0.36737,     0.36837,     0.36937,     0.37037,     0.37137,     0.37237,     0.37337,     0.37437,     0.37538,     0.37638,     0.37738,     0.37838,     0.37938,     0.38038,     0.38138,     0.38238,     0.38338,\n",
              "           0.38438,     0.38539,     0.38639,     0.38739,     0.38839,     0.38939,     0.39039,     0.39139,     0.39239,     0.39339,     0.39439,      0.3954,      0.3964,      0.3974,      0.3984,      0.3994,      0.4004,      0.4014,      0.4024,      0.4034,      0.4044,     0.40541,     0.40641,     0.40741,\n",
              "           0.40841,     0.40941,     0.41041,     0.41141,     0.41241,     0.41341,     0.41441,     0.41542,     0.41642,     0.41742,     0.41842,     0.41942,     0.42042,     0.42142,     0.42242,     0.42342,     0.42442,     0.42543,     0.42643,     0.42743,     0.42843,     0.42943,     0.43043,     0.43143,\n",
              "           0.43243,     0.43343,     0.43443,     0.43544,     0.43644,     0.43744,     0.43844,     0.43944,     0.44044,     0.44144,     0.44244,     0.44344,     0.44444,     0.44545,     0.44645,     0.44745,     0.44845,     0.44945,     0.45045,     0.45145,     0.45245,     0.45345,     0.45445,     0.45546,\n",
              "           0.45646,     0.45746,     0.45846,     0.45946,     0.46046,     0.46146,     0.46246,     0.46346,     0.46446,     0.46547,     0.46647,     0.46747,     0.46847,     0.46947,     0.47047,     0.47147,     0.47247,     0.47347,     0.47447,     0.47548,     0.47648,     0.47748,     0.47848,     0.47948,\n",
              "           0.48048,     0.48148,     0.48248,     0.48348,     0.48448,     0.48549,     0.48649,     0.48749,     0.48849,     0.48949,     0.49049,     0.49149,     0.49249,     0.49349,     0.49449,      0.4955,      0.4965,      0.4975,      0.4985,      0.4995,      0.5005,      0.5015,      0.5025,      0.5035,\n",
              "            0.5045,     0.50551,     0.50651,     0.50751,     0.50851,     0.50951,     0.51051,     0.51151,     0.51251,     0.51351,     0.51451,     0.51552,     0.51652,     0.51752,     0.51852,     0.51952,     0.52052,     0.52152,     0.52252,     0.52352,     0.52452,     0.52553,     0.52653,     0.52753,\n",
              "           0.52853,     0.52953,     0.53053,     0.53153,     0.53253,     0.53353,     0.53453,     0.53554,     0.53654,     0.53754,     0.53854,     0.53954,     0.54054,     0.54154,     0.54254,     0.54354,     0.54454,     0.54555,     0.54655,     0.54755,     0.54855,     0.54955,     0.55055,     0.55155,\n",
              "           0.55255,     0.55355,     0.55455,     0.55556,     0.55656,     0.55756,     0.55856,     0.55956,     0.56056,     0.56156,     0.56256,     0.56356,     0.56456,     0.56557,     0.56657,     0.56757,     0.56857,     0.56957,     0.57057,     0.57157,     0.57257,     0.57357,     0.57457,     0.57558,\n",
              "           0.57658,     0.57758,     0.57858,     0.57958,     0.58058,     0.58158,     0.58258,     0.58358,     0.58458,     0.58559,     0.58659,     0.58759,     0.58859,     0.58959,     0.59059,     0.59159,     0.59259,     0.59359,     0.59459,      0.5956,      0.5966,      0.5976,      0.5986,      0.5996,\n",
              "            0.6006,      0.6016,      0.6026,      0.6036,      0.6046,     0.60561,     0.60661,     0.60761,     0.60861,     0.60961,     0.61061,     0.61161,     0.61261,     0.61361,     0.61461,     0.61562,     0.61662,     0.61762,     0.61862,     0.61962,     0.62062,     0.62162,     0.62262,     0.62362,\n",
              "           0.62462,     0.62563,     0.62663,     0.62763,     0.62863,     0.62963,     0.63063,     0.63163,     0.63263,     0.63363,     0.63463,     0.63564,     0.63664,     0.63764,     0.63864,     0.63964,     0.64064,     0.64164,     0.64264,     0.64364,     0.64464,     0.64565,     0.64665,     0.64765,\n",
              "           0.64865,     0.64965,     0.65065,     0.65165,     0.65265,     0.65365,     0.65465,     0.65566,     0.65666,     0.65766,     0.65866,     0.65966,     0.66066,     0.66166,     0.66266,     0.66366,     0.66466,     0.66567,     0.66667,     0.66767,     0.66867,     0.66967,     0.67067,     0.67167,\n",
              "           0.67267,     0.67367,     0.67467,     0.67568,     0.67668,     0.67768,     0.67868,     0.67968,     0.68068,     0.68168,     0.68268,     0.68368,     0.68468,     0.68569,     0.68669,     0.68769,     0.68869,     0.68969,     0.69069,     0.69169,     0.69269,     0.69369,     0.69469,      0.6957,\n",
              "            0.6967,      0.6977,      0.6987,      0.6997,      0.7007,      0.7017,      0.7027,      0.7037,      0.7047,     0.70571,     0.70671,     0.70771,     0.70871,     0.70971,     0.71071,     0.71171,     0.71271,     0.71371,     0.71471,     0.71572,     0.71672,     0.71772,     0.71872,     0.71972,\n",
              "           0.72072,     0.72172,     0.72272,     0.72372,     0.72472,     0.72573,     0.72673,     0.72773,     0.72873,     0.72973,     0.73073,     0.73173,     0.73273,     0.73373,     0.73473,     0.73574,     0.73674,     0.73774,     0.73874,     0.73974,     0.74074,     0.74174,     0.74274,     0.74374,\n",
              "           0.74474,     0.74575,     0.74675,     0.74775,     0.74875,     0.74975,     0.75075,     0.75175,     0.75275,     0.75375,     0.75475,     0.75576,     0.75676,     0.75776,     0.75876,     0.75976,     0.76076,     0.76176,     0.76276,     0.76376,     0.76476,     0.76577,     0.76677,     0.76777,\n",
              "           0.76877,     0.76977,     0.77077,     0.77177,     0.77277,     0.77377,     0.77477,     0.77578,     0.77678,     0.77778,     0.77878,     0.77978,     0.78078,     0.78178,     0.78278,     0.78378,     0.78478,     0.78579,     0.78679,     0.78779,     0.78879,     0.78979,     0.79079,     0.79179,\n",
              "           0.79279,     0.79379,     0.79479,      0.7958,      0.7968,      0.7978,      0.7988,      0.7998,      0.8008,      0.8018,      0.8028,      0.8038,      0.8048,     0.80581,     0.80681,     0.80781,     0.80881,     0.80981,     0.81081,     0.81181,     0.81281,     0.81381,     0.81481,     0.81582,\n",
              "           0.81682,     0.81782,     0.81882,     0.81982,     0.82082,     0.82182,     0.82282,     0.82382,     0.82482,     0.82583,     0.82683,     0.82783,     0.82883,     0.82983,     0.83083,     0.83183,     0.83283,     0.83383,     0.83483,     0.83584,     0.83684,     0.83784,     0.83884,     0.83984,\n",
              "           0.84084,     0.84184,     0.84284,     0.84384,     0.84484,     0.84585,     0.84685,     0.84785,     0.84885,     0.84985,     0.85085,     0.85185,     0.85285,     0.85385,     0.85485,     0.85586,     0.85686,     0.85786,     0.85886,     0.85986,     0.86086,     0.86186,     0.86286,     0.86386,\n",
              "           0.86486,     0.86587,     0.86687,     0.86787,     0.86887,     0.86987,     0.87087,     0.87187,     0.87287,     0.87387,     0.87487,     0.87588,     0.87688,     0.87788,     0.87888,     0.87988,     0.88088,     0.88188,     0.88288,     0.88388,     0.88488,     0.88589,     0.88689,     0.88789,\n",
              "           0.88889,     0.88989,     0.89089,     0.89189,     0.89289,     0.89389,     0.89489,      0.8959,      0.8969,      0.8979,      0.8989,      0.8999,      0.9009,      0.9019,      0.9029,      0.9039,      0.9049,     0.90591,     0.90691,     0.90791,     0.90891,     0.90991,     0.91091,     0.91191,\n",
              "           0.91291,     0.91391,     0.91491,     0.91592,     0.91692,     0.91792,     0.91892,     0.91992,     0.92092,     0.92192,     0.92292,     0.92392,     0.92492,     0.92593,     0.92693,     0.92793,     0.92893,     0.92993,     0.93093,     0.93193,     0.93293,     0.93393,     0.93493,     0.93594,\n",
              "           0.93694,     0.93794,     0.93894,     0.93994,     0.94094,     0.94194,     0.94294,     0.94394,     0.94494,     0.94595,     0.94695,     0.94795,     0.94895,     0.94995,     0.95095,     0.95195,     0.95295,     0.95395,     0.95495,     0.95596,     0.95696,     0.95796,     0.95896,     0.95996,\n",
              "           0.96096,     0.96196,     0.96296,     0.96396,     0.96496,     0.96597,     0.96697,     0.96797,     0.96897,     0.96997,     0.97097,     0.97197,     0.97297,     0.97397,     0.97497,     0.97598,     0.97698,     0.97798,     0.97898,     0.97998,     0.98098,     0.98198,     0.98298,     0.98398,\n",
              "           0.98498,     0.98599,     0.98699,     0.98799,     0.98899,     0.98999,     0.99099,     0.99199,     0.99299,     0.99399,     0.99499,       0.996,       0.997,       0.998,       0.999,           1]), array([[   0.054795,    0.054795,    0.077183, ...,           1,           1,           1],\n",
              "       [    0.15556,     0.15556,     0.27109, ...,           1,           1,           1],\n",
              "       [   0.060606,    0.060606,     0.12185, ...,           1,           1,           1],\n",
              "       ...,\n",
              "       [    0.04375,     0.04375,    0.064801, ...,           1,           1,           1],\n",
              "       [          0,           0,           0, ...,           1,           1,           1],\n",
              "       [          0,           0,           0, ...,           1,           1,           1]]), 'Confidence', 'Precision'], [array([          0,    0.001001,    0.002002,    0.003003,    0.004004,    0.005005,    0.006006,    0.007007,    0.008008,    0.009009,     0.01001,    0.011011,    0.012012,    0.013013,    0.014014,    0.015015,    0.016016,    0.017017,    0.018018,    0.019019,     0.02002,    0.021021,    0.022022,    0.023023,\n",
              "          0.024024,    0.025025,    0.026026,    0.027027,    0.028028,    0.029029,     0.03003,    0.031031,    0.032032,    0.033033,    0.034034,    0.035035,    0.036036,    0.037037,    0.038038,    0.039039,     0.04004,    0.041041,    0.042042,    0.043043,    0.044044,    0.045045,    0.046046,    0.047047,\n",
              "          0.048048,    0.049049,     0.05005,    0.051051,    0.052052,    0.053053,    0.054054,    0.055055,    0.056056,    0.057057,    0.058058,    0.059059,     0.06006,    0.061061,    0.062062,    0.063063,    0.064064,    0.065065,    0.066066,    0.067067,    0.068068,    0.069069,     0.07007,    0.071071,\n",
              "          0.072072,    0.073073,    0.074074,    0.075075,    0.076076,    0.077077,    0.078078,    0.079079,     0.08008,    0.081081,    0.082082,    0.083083,    0.084084,    0.085085,    0.086086,    0.087087,    0.088088,    0.089089,     0.09009,    0.091091,    0.092092,    0.093093,    0.094094,    0.095095,\n",
              "          0.096096,    0.097097,    0.098098,    0.099099,      0.1001,      0.1011,      0.1021,      0.1031,      0.1041,     0.10511,     0.10611,     0.10711,     0.10811,     0.10911,     0.11011,     0.11111,     0.11211,     0.11311,     0.11411,     0.11512,     0.11612,     0.11712,     0.11812,     0.11912,\n",
              "           0.12012,     0.12112,     0.12212,     0.12312,     0.12412,     0.12513,     0.12613,     0.12713,     0.12813,     0.12913,     0.13013,     0.13113,     0.13213,     0.13313,     0.13413,     0.13514,     0.13614,     0.13714,     0.13814,     0.13914,     0.14014,     0.14114,     0.14214,     0.14314,\n",
              "           0.14414,     0.14515,     0.14615,     0.14715,     0.14815,     0.14915,     0.15015,     0.15115,     0.15215,     0.15315,     0.15415,     0.15516,     0.15616,     0.15716,     0.15816,     0.15916,     0.16016,     0.16116,     0.16216,     0.16316,     0.16416,     0.16517,     0.16617,     0.16717,\n",
              "           0.16817,     0.16917,     0.17017,     0.17117,     0.17217,     0.17317,     0.17417,     0.17518,     0.17618,     0.17718,     0.17818,     0.17918,     0.18018,     0.18118,     0.18218,     0.18318,     0.18418,     0.18519,     0.18619,     0.18719,     0.18819,     0.18919,     0.19019,     0.19119,\n",
              "           0.19219,     0.19319,     0.19419,      0.1952,      0.1962,      0.1972,      0.1982,      0.1992,      0.2002,      0.2012,      0.2022,      0.2032,      0.2042,     0.20521,     0.20621,     0.20721,     0.20821,     0.20921,     0.21021,     0.21121,     0.21221,     0.21321,     0.21421,     0.21522,\n",
              "           0.21622,     0.21722,     0.21822,     0.21922,     0.22022,     0.22122,     0.22222,     0.22322,     0.22422,     0.22523,     0.22623,     0.22723,     0.22823,     0.22923,     0.23023,     0.23123,     0.23223,     0.23323,     0.23423,     0.23524,     0.23624,     0.23724,     0.23824,     0.23924,\n",
              "           0.24024,     0.24124,     0.24224,     0.24324,     0.24424,     0.24525,     0.24625,     0.24725,     0.24825,     0.24925,     0.25025,     0.25125,     0.25225,     0.25325,     0.25425,     0.25526,     0.25626,     0.25726,     0.25826,     0.25926,     0.26026,     0.26126,     0.26226,     0.26326,\n",
              "           0.26426,     0.26527,     0.26627,     0.26727,     0.26827,     0.26927,     0.27027,     0.27127,     0.27227,     0.27327,     0.27427,     0.27528,     0.27628,     0.27728,     0.27828,     0.27928,     0.28028,     0.28128,     0.28228,     0.28328,     0.28428,     0.28529,     0.28629,     0.28729,\n",
              "           0.28829,     0.28929,     0.29029,     0.29129,     0.29229,     0.29329,     0.29429,      0.2953,      0.2963,      0.2973,      0.2983,      0.2993,      0.3003,      0.3013,      0.3023,      0.3033,      0.3043,     0.30531,     0.30631,     0.30731,     0.30831,     0.30931,     0.31031,     0.31131,\n",
              "           0.31231,     0.31331,     0.31431,     0.31532,     0.31632,     0.31732,     0.31832,     0.31932,     0.32032,     0.32132,     0.32232,     0.32332,     0.32432,     0.32533,     0.32633,     0.32733,     0.32833,     0.32933,     0.33033,     0.33133,     0.33233,     0.33333,     0.33433,     0.33534,\n",
              "           0.33634,     0.33734,     0.33834,     0.33934,     0.34034,     0.34134,     0.34234,     0.34334,     0.34434,     0.34535,     0.34635,     0.34735,     0.34835,     0.34935,     0.35035,     0.35135,     0.35235,     0.35335,     0.35435,     0.35536,     0.35636,     0.35736,     0.35836,     0.35936,\n",
              "           0.36036,     0.36136,     0.36236,     0.36336,     0.36436,     0.36537,     0.36637,     0.36737,     0.36837,     0.36937,     0.37037,     0.37137,     0.37237,     0.37337,     0.37437,     0.37538,     0.37638,     0.37738,     0.37838,     0.37938,     0.38038,     0.38138,     0.38238,     0.38338,\n",
              "           0.38438,     0.38539,     0.38639,     0.38739,     0.38839,     0.38939,     0.39039,     0.39139,     0.39239,     0.39339,     0.39439,      0.3954,      0.3964,      0.3974,      0.3984,      0.3994,      0.4004,      0.4014,      0.4024,      0.4034,      0.4044,     0.40541,     0.40641,     0.40741,\n",
              "           0.40841,     0.40941,     0.41041,     0.41141,     0.41241,     0.41341,     0.41441,     0.41542,     0.41642,     0.41742,     0.41842,     0.41942,     0.42042,     0.42142,     0.42242,     0.42342,     0.42442,     0.42543,     0.42643,     0.42743,     0.42843,     0.42943,     0.43043,     0.43143,\n",
              "           0.43243,     0.43343,     0.43443,     0.43544,     0.43644,     0.43744,     0.43844,     0.43944,     0.44044,     0.44144,     0.44244,     0.44344,     0.44444,     0.44545,     0.44645,     0.44745,     0.44845,     0.44945,     0.45045,     0.45145,     0.45245,     0.45345,     0.45445,     0.45546,\n",
              "           0.45646,     0.45746,     0.45846,     0.45946,     0.46046,     0.46146,     0.46246,     0.46346,     0.46446,     0.46547,     0.46647,     0.46747,     0.46847,     0.46947,     0.47047,     0.47147,     0.47247,     0.47347,     0.47447,     0.47548,     0.47648,     0.47748,     0.47848,     0.47948,\n",
              "           0.48048,     0.48148,     0.48248,     0.48348,     0.48448,     0.48549,     0.48649,     0.48749,     0.48849,     0.48949,     0.49049,     0.49149,     0.49249,     0.49349,     0.49449,      0.4955,      0.4965,      0.4975,      0.4985,      0.4995,      0.5005,      0.5015,      0.5025,      0.5035,\n",
              "            0.5045,     0.50551,     0.50651,     0.50751,     0.50851,     0.50951,     0.51051,     0.51151,     0.51251,     0.51351,     0.51451,     0.51552,     0.51652,     0.51752,     0.51852,     0.51952,     0.52052,     0.52152,     0.52252,     0.52352,     0.52452,     0.52553,     0.52653,     0.52753,\n",
              "           0.52853,     0.52953,     0.53053,     0.53153,     0.53253,     0.53353,     0.53453,     0.53554,     0.53654,     0.53754,     0.53854,     0.53954,     0.54054,     0.54154,     0.54254,     0.54354,     0.54454,     0.54555,     0.54655,     0.54755,     0.54855,     0.54955,     0.55055,     0.55155,\n",
              "           0.55255,     0.55355,     0.55455,     0.55556,     0.55656,     0.55756,     0.55856,     0.55956,     0.56056,     0.56156,     0.56256,     0.56356,     0.56456,     0.56557,     0.56657,     0.56757,     0.56857,     0.56957,     0.57057,     0.57157,     0.57257,     0.57357,     0.57457,     0.57558,\n",
              "           0.57658,     0.57758,     0.57858,     0.57958,     0.58058,     0.58158,     0.58258,     0.58358,     0.58458,     0.58559,     0.58659,     0.58759,     0.58859,     0.58959,     0.59059,     0.59159,     0.59259,     0.59359,     0.59459,      0.5956,      0.5966,      0.5976,      0.5986,      0.5996,\n",
              "            0.6006,      0.6016,      0.6026,      0.6036,      0.6046,     0.60561,     0.60661,     0.60761,     0.60861,     0.60961,     0.61061,     0.61161,     0.61261,     0.61361,     0.61461,     0.61562,     0.61662,     0.61762,     0.61862,     0.61962,     0.62062,     0.62162,     0.62262,     0.62362,\n",
              "           0.62462,     0.62563,     0.62663,     0.62763,     0.62863,     0.62963,     0.63063,     0.63163,     0.63263,     0.63363,     0.63463,     0.63564,     0.63664,     0.63764,     0.63864,     0.63964,     0.64064,     0.64164,     0.64264,     0.64364,     0.64464,     0.64565,     0.64665,     0.64765,\n",
              "           0.64865,     0.64965,     0.65065,     0.65165,     0.65265,     0.65365,     0.65465,     0.65566,     0.65666,     0.65766,     0.65866,     0.65966,     0.66066,     0.66166,     0.66266,     0.66366,     0.66466,     0.66567,     0.66667,     0.66767,     0.66867,     0.66967,     0.67067,     0.67167,\n",
              "           0.67267,     0.67367,     0.67467,     0.67568,     0.67668,     0.67768,     0.67868,     0.67968,     0.68068,     0.68168,     0.68268,     0.68368,     0.68468,     0.68569,     0.68669,     0.68769,     0.68869,     0.68969,     0.69069,     0.69169,     0.69269,     0.69369,     0.69469,      0.6957,\n",
              "            0.6967,      0.6977,      0.6987,      0.6997,      0.7007,      0.7017,      0.7027,      0.7037,      0.7047,     0.70571,     0.70671,     0.70771,     0.70871,     0.70971,     0.71071,     0.71171,     0.71271,     0.71371,     0.71471,     0.71572,     0.71672,     0.71772,     0.71872,     0.71972,\n",
              "           0.72072,     0.72172,     0.72272,     0.72372,     0.72472,     0.72573,     0.72673,     0.72773,     0.72873,     0.72973,     0.73073,     0.73173,     0.73273,     0.73373,     0.73473,     0.73574,     0.73674,     0.73774,     0.73874,     0.73974,     0.74074,     0.74174,     0.74274,     0.74374,\n",
              "           0.74474,     0.74575,     0.74675,     0.74775,     0.74875,     0.74975,     0.75075,     0.75175,     0.75275,     0.75375,     0.75475,     0.75576,     0.75676,     0.75776,     0.75876,     0.75976,     0.76076,     0.76176,     0.76276,     0.76376,     0.76476,     0.76577,     0.76677,     0.76777,\n",
              "           0.76877,     0.76977,     0.77077,     0.77177,     0.77277,     0.77377,     0.77477,     0.77578,     0.77678,     0.77778,     0.77878,     0.77978,     0.78078,     0.78178,     0.78278,     0.78378,     0.78478,     0.78579,     0.78679,     0.78779,     0.78879,     0.78979,     0.79079,     0.79179,\n",
              "           0.79279,     0.79379,     0.79479,      0.7958,      0.7968,      0.7978,      0.7988,      0.7998,      0.8008,      0.8018,      0.8028,      0.8038,      0.8048,     0.80581,     0.80681,     0.80781,     0.80881,     0.80981,     0.81081,     0.81181,     0.81281,     0.81381,     0.81481,     0.81582,\n",
              "           0.81682,     0.81782,     0.81882,     0.81982,     0.82082,     0.82182,     0.82282,     0.82382,     0.82482,     0.82583,     0.82683,     0.82783,     0.82883,     0.82983,     0.83083,     0.83183,     0.83283,     0.83383,     0.83483,     0.83584,     0.83684,     0.83784,     0.83884,     0.83984,\n",
              "           0.84084,     0.84184,     0.84284,     0.84384,     0.84484,     0.84585,     0.84685,     0.84785,     0.84885,     0.84985,     0.85085,     0.85185,     0.85285,     0.85385,     0.85485,     0.85586,     0.85686,     0.85786,     0.85886,     0.85986,     0.86086,     0.86186,     0.86286,     0.86386,\n",
              "           0.86486,     0.86587,     0.86687,     0.86787,     0.86887,     0.86987,     0.87087,     0.87187,     0.87287,     0.87387,     0.87487,     0.87588,     0.87688,     0.87788,     0.87888,     0.87988,     0.88088,     0.88188,     0.88288,     0.88388,     0.88488,     0.88589,     0.88689,     0.88789,\n",
              "           0.88889,     0.88989,     0.89089,     0.89189,     0.89289,     0.89389,     0.89489,      0.8959,      0.8969,      0.8979,      0.8989,      0.8999,      0.9009,      0.9019,      0.9029,      0.9039,      0.9049,     0.90591,     0.90691,     0.90791,     0.90891,     0.90991,     0.91091,     0.91191,\n",
              "           0.91291,     0.91391,     0.91491,     0.91592,     0.91692,     0.91792,     0.91892,     0.91992,     0.92092,     0.92192,     0.92292,     0.92392,     0.92492,     0.92593,     0.92693,     0.92793,     0.92893,     0.92993,     0.93093,     0.93193,     0.93293,     0.93393,     0.93493,     0.93594,\n",
              "           0.93694,     0.93794,     0.93894,     0.93994,     0.94094,     0.94194,     0.94294,     0.94394,     0.94494,     0.94595,     0.94695,     0.94795,     0.94895,     0.94995,     0.95095,     0.95195,     0.95295,     0.95395,     0.95495,     0.95596,     0.95696,     0.95796,     0.95896,     0.95996,\n",
              "           0.96096,     0.96196,     0.96296,     0.96396,     0.96496,     0.96597,     0.96697,     0.96797,     0.96897,     0.96997,     0.97097,     0.97197,     0.97297,     0.97397,     0.97497,     0.97598,     0.97698,     0.97798,     0.97898,     0.97998,     0.98098,     0.98198,     0.98298,     0.98398,\n",
              "           0.98498,     0.98599,     0.98699,     0.98799,     0.98899,     0.98999,     0.99099,     0.99199,     0.99299,     0.99399,     0.99499,       0.996,       0.997,       0.998,       0.999,           1]), array([[          1,           1,           1, ...,           0,           0,           0],\n",
              "       [          1,           1,           1, ...,           0,           0,           0],\n",
              "       [          1,           1,           1, ...,           0,           0,           0],\n",
              "       ...,\n",
              "       [      0.875,       0.875,       0.875, ...,           0,           0,           0],\n",
              "       [          0,           0,           0, ...,           0,           0,           0],\n",
              "       [          0,           0,           0, ...,           0,           0,           0]]), 'Confidence', 'Recall']]\n",
              "fitness: 0.6494860314498606\n",
              "keys: ['metrics/precision(B)', 'metrics/recall(B)', 'metrics/mAP50(B)', 'metrics/mAP50-95(B)']\n",
              "maps: array([    0.88398,     0.94637,     0.92058,     0.62359,     0.91571,     0.72589,     0.83715,     0.71965,     0.74965,     0.86402,     0.85486,     0.83239,     0.94525,     0.94525,     0.91555,      0.7548,     0.80424,     0.48216,     0.71525,     0.76873,     0.93307,     0.90317,     0.88192,      0.8955,\n",
              "           0.88369,       0.995,       0.995,     0.94421,     0.91874,     0.73947,     0.73491,     0.93948,     0.85309,     0.65765,      0.5824,      0.8497,     0.96167,     0.84582,     0.87683,     0.91217,           0,           0,     0.29339,     0.32065,           0,           0,     0.48041,           0,\n",
              "                 0,           0,   0.0061732,    0.061274,           0,           0,     0.64204,     0.64204])\n",
              "names: {0: 'all motor vehicle prohibited', 1: 'axle load limit', 2: 'compulsary ahead', 3: 'compulsary keep left', 4: 'compulsary keep right', 5: 'compulsary turn left ahead', 6: 'compulsary turn right ahead', 7: 'cross road', 8: 'dangerous dip', 9: 'falling rocks', 10: 'gap in median', 11: 'give way', 12: 'guarded level crossing', 13: 'height limit', 14: 'horn prohibited', 15: 'hospital ahead', 16: 'hump or rough road', 17: 'left hand curve', 18: 'left reverse bend', 19: 'left turn prohibited', 20: 'loose gravel', 21: 'men at work', 22: 'narrow bridge ahead', 23: 'narrow road ahead', 24: 'no entry', 25: 'no parking', 26: 'no stopping or standing', 27: 'overtaking prohibited', 28: 'pass either side', 29: 'pedestrian crossing', 30: 'petrol pump ahead', 31: 'quay side or river bank', 32: 'restriction ends', 33: 'right hand curve', 34: 'right reverse bend', 35: 'right turn prohibited', 36: 'road widens ahead', 37: 'roundabout', 38: 'school ahead', 39: 'side road left', 40: 'side road right', 41: 'slippery road', 42: 'speed limit 100', 43: 'speed limit 30', 44: 'speed limit 50', 45: 'staggered intersection', 46: 'steep ascent', 47: 'steep descent', 48: 'stop', 49: 'straight prohibited', 50: 't intersection', 51: 'u turn', 52: 'u turn prohibited', 53: 'unguarded level crossing', 54: 'width limit', 55: 'y intersection'}\n",
              "plot: True\n",
              "results_dict: {'metrics/precision(B)': 0.6307189472993625, 'metrics/recall(B)': 0.6565435214707351, 'metrics/mAP50(B)': 0.716456353726256, 'metrics/mAP50-95(B)': 0.6420448845302611, 'fitness': 0.6494860314498606}\n",
              "save_dir: PosixPath('runs/detect/train2')\n",
              "speed: {'preprocess': 0.2454253564397973, 'inference': 3.06746184107769, 'loss': 0.0008753983371229057, 'postprocess': 7.833202201199818}\n",
              "task: 'detect'"
            ]
          },
          "metadata": {},
          "execution_count": 5
        }
      ],
      "source": [
        "from ultralytics import YOLO\n",
        "\n",
        "model = YOLO()\n",
        "#model - YOLO(\"yolov8m.pt\") # Load a pretrained YOLOv8n model\n",
        "\n",
        "model.train(data=\"/content/drive/MyDrive/Traffic SignBoard Recognition using Deep Learning/Dataset/YOLOV8 Format Dataset/data.yaml\", epochs=150, batch=32) # train the model"
      ]
    },
    {
      "cell_type": "code",
      "execution_count": 4,
      "metadata": {
        "vscode": {
          "languageId": "plaintext"
        },
        "id": "wNJ4VK6qDmvE"
      },
      "outputs": [],
      "source": [
        "# # Train through CLI\n",
        "# !yolo task=detect mode=train model-yolov8m.pt data=data.yaml epochs=100 imgsz=640 batch=32 patience=80 workers=1"
      ]
    },
    {
      "cell_type": "markdown",
      "metadata": {
        "id": "5EWfeqNfDmvF"
      },
      "source": [
        "## FOR VALIDATING THE MODEL:"
      ]
    },
    {
      "cell_type": "code",
      "execution_count": 7,
      "metadata": {
        "vscode": {
          "languageId": "plaintext"
        },
        "id": "ZW0M2a8gDmvF",
        "colab": {
          "base_uri": "https://localhost:8080/"
        },
        "outputId": "78741266-b228-4269-be62-f02cb3001ae8"
      },
      "outputs": [
        {
          "output_type": "stream",
          "name": "stdout",
          "text": [
            "WARNING ⚠️ 'line_thickness' is deprecated and will be removed in 'ultralytics 8.299999999999999' in the future. Please use 'line_width' instead.\n",
            "Ultralytics YOLOv8.1.20 🚀 Python-3.10.12 torch-2.1.0+cu121 CPU (Intel Xeon 2.20GHz)\n",
            "Model summary (fused): 168 layers, 3016568 parameters, 0 gradients, 8.1 GFLOPs\n",
            "Downloading https://ultralytics.com/assets/Arial.ttf to '/root/.config/Ultralytics/Arial.ttf'...\n",
            "100% 755k/755k [00:00<00:00, 4.73MB/s]\n",
            "\u001b[34m\u001b[1mval: \u001b[0mScanning /content/drive/MyDrive/Traffic SignBoard Recognition using Deep Learning/Dataset/YOLOV8 Format Dataset/valid/labels.cache... 332 images, 0 backgrounds, 0 corrupt: 100% 332/332 [00:00<?, ?it/s]\n",
            "                 Class     Images  Instances      Box(P          R      mAP50  mAP50-95): 100% 21/21 [02:07<00:00,  6.06s/it]\n",
            "                   all        332        332      0.631      0.656      0.716      0.642\n",
            "all motor vehicle prohibited        332          4      0.927          1      0.995      0.884\n",
            "       axle load limit        332          7      0.937          1      0.995      0.946\n",
            "      compulsary ahead        332          4      0.908          1      0.995      0.921\n",
            "  compulsary keep left        332          8      0.751      0.377      0.709      0.624\n",
            " compulsary keep right        332          7      0.619       0.93      0.924      0.916\n",
            "compulsary turn left ahead        332          4      0.745      0.735      0.773      0.726\n",
            "compulsary turn right ahead        332         12      0.736      0.929       0.94      0.837\n",
            "            cross road        332          6      0.855      0.833      0.859      0.721\n",
            "         dangerous dip        332          7          1      0.925      0.995       0.75\n",
            "         falling rocks        332          8      0.934      0.875      0.982      0.864\n",
            "         gap in median        332          9      0.956      0.889      0.984      0.855\n",
            "              give way        332          5      0.904          1      0.995       0.82\n",
            "guarded level crossing        332          2      0.852          1      0.995      0.945\n",
            "          height limit        332          2      0.795          1      0.995      0.945\n",
            "       horn prohibited        332          5      0.763          1      0.962      0.916\n",
            "        hospital ahead        332          3      0.738          1      0.995      0.755\n",
            "    hump or rough road        332          4          1      0.696      0.888      0.804\n",
            "       left hand curve        332          5      0.603      0.324      0.648      0.482\n",
            "     left reverse bend        332         10      0.872      0.685      0.782      0.715\n",
            "  left turn prohibited        332          8      0.765      0.875       0.89      0.769\n",
            "          loose gravel        332          4      0.886          1      0.995      0.933\n",
            "           men at work        332          7      0.942          1      0.995      0.903\n",
            "   narrow bridge ahead        332          9      0.867      0.889      0.961      0.882\n",
            "     narrow road ahead        332          5       0.77          1      0.995      0.895\n",
            "              no entry        332          7       0.95          1      0.995      0.884\n",
            "            no parking        332          2      0.826          1      0.995      0.995\n",
            "no stopping or standing        332          2      0.811          1      0.995      0.995\n",
            " overtaking prohibited        332          6      0.622          1      0.995      0.927\n",
            "      pass either side        332          7      0.777          1      0.978      0.919\n",
            "   pedestrian crossing        332         12      0.945      0.917      0.975      0.739\n",
            "     petrol pump ahead        332          5          1      0.886      0.995      0.735\n",
            "quay side or river bank        332          6      0.814          1      0.995      0.939\n",
            "      restriction ends        332          5      0.909          1      0.995      0.853\n",
            "      right hand curve        332          7      0.686      0.571      0.766      0.658\n",
            "    right reverse bend        332          3      0.491      0.667      0.665      0.582\n",
            " right turn prohibited        332          6      0.854          1      0.972       0.85\n",
            "     road widens ahead        332          5      0.921        0.8      0.962      0.962\n",
            "            roundabout        332          9      0.999      0.889      0.937      0.869\n",
            "          school ahead        332          8      0.951          1      0.995      0.877\n",
            "        side road left        332          7          1      0.451      0.943      0.893\n",
            "       side road right        332          6          0          0          0          0\n",
            "         slippery road        332          9          0          0          0          0\n",
            "       speed limit 100        332          9     0.0439     0.0487      0.322      0.293\n",
            "        speed limit 30        332          9     0.0509     0.0565      0.345      0.321\n",
            "        speed limit 50        332          4          0          0          0          0\n",
            "staggered intersection        332          7          0          0          0          0\n",
            "          steep ascent        332          5      0.281        0.2      0.528       0.48\n",
            "         steep descent        332          4          0          0          0          0\n",
            "                  stop        332          1          0          0          0          0\n",
            "   straight prohibited        332          5          0          0          0          0\n",
            "        t intersection        332         10          0          0    0.00617    0.00617\n",
            "                u turn        332          8          0          0     0.0652     0.0612\n",
            "     u turn prohibited        332          7          0          0          0          0\n",
            "unguarded level crossing        332          6          0          0          0          0\n",
            "Speed: 9.0ms preprocess, 322.0ms inference, 0.0ms loss, 1.6ms postprocess per image\n",
            "Results saved to \u001b[1mruns/detect/val\u001b[0m\n",
            "💡 Learn more at https://docs.ultralytics.com/modes/val\n"
          ]
        }
      ],
      "source": [
        "import locale\n",
        "locale.getpreferredencoding = lambda: \"UTF-8\"\n",
        "\n",
        "from ultralytics import YOLO\n",
        "# validate: validate the mode on images it has not seen before\n",
        "!yolo task=detect mode=validate mode=val model='/content/runs/detect/train/weights/best.pt' data=\"/content/drive/MyDrive/Traffic SignBoard Recognition using Deep Learning/Dataset/YOLOV8 Format Dataset/data.yaml\" show=True save_txt=True line_thickness=1"
      ]
    },
    {
      "cell_type": "code",
      "source": [
        "!zip -r /content/runs/detect/val.zip /content/runs/detect/val"
      ],
      "metadata": {
        "colab": {
          "base_uri": "https://localhost:8080/"
        },
        "id": "I0Ki4lhQduK7",
        "outputId": "18f00800-a302-4337-b428-b1d987af916b"
      },
      "execution_count": 8,
      "outputs": [
        {
          "output_type": "stream",
          "name": "stdout",
          "text": [
            "  adding: content/runs/detect/val/ (stored 0%)\n",
            "  adding: content/runs/detect/val/val_batch1_pred.jpg (deflated 12%)\n",
            "  adding: content/runs/detect/val/confusion_matrix.png (deflated 15%)\n",
            "  adding: content/runs/detect/val/P_curve.png (deflated 10%)\n",
            "  adding: content/runs/detect/val/val_batch1_labels.jpg (deflated 12%)\n",
            "  adding: content/runs/detect/val/val_batch2_labels.jpg (deflated 16%)\n",
            "  adding: content/runs/detect/val/val_batch0_pred.jpg (deflated 14%)\n",
            "  adding: content/runs/detect/val/val_batch0_labels.jpg (deflated 14%)\n",
            "  adding: content/runs/detect/val/PR_curve.png (deflated 16%)\n",
            "  adding: content/runs/detect/val/F1_curve.png (deflated 10%)\n",
            "  adding: content/runs/detect/val/R_curve.png (deflated 11%)\n",
            "  adding: content/runs/detect/val/val_batch2_pred.jpg (deflated 16%)\n",
            "  adding: content/runs/detect/val/confusion_matrix_normalized.png (deflated 15%)\n",
            "  adding: content/runs/detect/val/labels/ (stored 0%)\n",
            "  adding: content/runs/detect/val/labels/give_way-64_jpg.rf.99d8e5726a6b6904b83afc9adb6a1294.txt (deflated 76%)\n",
            "  adding: content/runs/detect/val/labels/pass_either_side-23_jpg.rf.d2ce299b1d052df667285f2fa70f93d2.txt (deflated 68%)\n",
            "  adding: content/runs/detect/val/labels/unguarded_level_crossing-53_jpeg_jpg.rf.7c11b7ecef7a5e01f4091e03580c6950.txt (deflated 76%)\n",
            "  adding: content/runs/detect/val/labels/right_hand_curve-28_jpg.rf.875708f06a6074f675e6ced972e14750.txt (deflated 70%)\n",
            "  adding: content/runs/detect/val/labels/t_intersection-24_jpeg_jpg.rf.05eb68e5a0fd277b921122f54f5f5d3d.txt (deflated 76%)\n",
            "  adding: content/runs/detect/val/labels/speed_limit_50-33_png_jpg.rf.1716bc56cf36ae6d32532da988dad3ee.txt (deflated 69%)\n",
            "  adding: content/runs/detect/val/labels/u_turn-23_jpg.rf.98bda2c3fa9288cdc43a16eb2fc5a03c.txt (deflated 71%)\n",
            "  adding: content/runs/detect/val/labels/gap_in_median-9_jpg.rf.f366cb2563ccc62fc09594fdf78a22f3.txt (deflated 30%)\n",
            "  adding: content/runs/detect/val/labels/compulsary_ahead-38_png_jpg.rf.942ea443febd4f50e584d2aa28c5a6fc.txt (deflated 73%)\n",
            "  adding: content/runs/detect/val/labels/left_hand_curve-68_jpg.rf.777f0bd4fe397d72570c1d8f51f04923.txt (deflated 83%)\n",
            "  adding: content/runs/detect/val/labels/side_road_left-8_jpg.rf.f07219a16fa3505c944e417e5618df55.txt (deflated 68%)\n",
            "  adding: content/runs/detect/val/labels/side_road_left-10_jpg.rf.a7f532ca1e915b5f7fb8d9ef2d4c96d7.txt (deflated 62%)\n",
            "  adding: content/runs/detect/val/labels/compulsary_turn_left_ahead-1_png_jpg.rf.472225d2a9a5d79a501bf69a2e9b8367.txt (deflated 77%)\n",
            "  adding: content/runs/detect/val/labels/petrol_pump_ahead-2_jpeg_jpg.rf.dcbda455d424f7f66bb37b73d0c4588a.txt (deflated 69%)\n",
            "  adding: content/runs/detect/val/labels/left_turn_prohibited-13_jpg.rf.7585a4b2ffad319d63aae9473cffc766.txt (deflated 73%)\n",
            "  adding: content/runs/detect/val/labels/restriction_ends-13_png_jpg.rf.d8e115aa53262c85b321f3c98d3a9d45.txt (deflated 72%)\n",
            "  adding: content/runs/detect/val/labels/steep_ascent-28_jpg.rf.30baf0348bee75c20f9208c01487b021.txt (deflated 76%)\n",
            "  adding: content/runs/detect/val/labels/speed_limit_100-51_png_jpg.rf.68a92e7f88a92bac18f35692713d0204.txt (deflated 72%)\n",
            "  adding: content/runs/detect/val/labels/no_entry-27_png_jpg.rf.e9317df66475273090137a209ddda355.txt (deflated 75%)\n",
            "  adding: content/runs/detect/val/labels/pedestrian_crossing-42_png_jpg.rf.415392208f79c0b41324198eca5d17ca.txt (deflated 67%)\n",
            "  adding: content/runs/detect/val/labels/steep_ascent-39_jpg.rf.6b0f32ff2105145f9bff021ea3367361.txt (deflated 75%)\n",
            "  adding: content/runs/detect/val/labels/axle_load_limit-41_jpg.rf.c155c206337503707144a3c34d2149b7.txt (deflated 74%)\n",
            "  adding: content/runs/detect/val/labels/right_turn_prohibited-43_jpg.rf.556b2593abb9c6c4750fb031561cba7b.txt (deflated 72%)\n",
            "  adding: content/runs/detect/val/labels/guarded_level_crossing-39_jpg.rf.ed2b1fda06ca387d12b98f38c9572b3d.txt (deflated 76%)\n",
            "  adding: content/runs/detect/val/labels/hospital_ahead-18_jpg.rf.e001f3bfac015fa36078dac55e3ef90a.txt (deflated 63%)\n",
            "  adding: content/runs/detect/val/labels/pedestrian_crossing-24_jpg.rf.5c7b60b05cf5018f0d1bb017dfbd395b.txt (deflated 56%)\n",
            "  adding: content/runs/detect/val/labels/speed_limit_100-20_png_jpg.rf.918881bdc35b13e3639a15551fda26bf.txt (deflated 75%)\n",
            "  adding: content/runs/detect/val/labels/axle_load_limit-33_png_jpg.rf.4125dc6508c454e06aaf18bd6e8e0e00.txt (deflated 79%)\n",
            "  adding: content/runs/detect/val/labels/quay_side_or_river_bank-48_jpg.rf.6ac0fbec40a60c235446798fcc53a8cb.txt (deflated 61%)\n",
            "  adding: content/runs/detect/val/labels/no_stopping_or_standing-50_jpg.rf.a8a125ffcbd519c2fed715584d4db143.txt (deflated 63%)\n",
            "  adding: content/runs/detect/val/labels/horn_prohibited-48_jpg.rf.fc9da1c593737ae31ddb29ca17db8c0b.txt (deflated 67%)\n",
            "  adding: content/runs/detect/val/labels/narrow_bridge_ahead-29_jpeg_jpg.rf.e8800340298f1ea903124a6e33bc031b.txt (deflated 73%)\n",
            "  adding: content/runs/detect/val/labels/height_limit-9_jpeg_jpg.rf.05c3719c5c04fe11b18726cb2d879277.txt (deflated 75%)\n",
            "  adding: content/runs/detect/val/labels/staggered_intersection-5_jpeg_jpg.rf.6bc9b391a0a708eaf115f9f1306d6938.txt (deflated 76%)\n",
            "  adding: content/runs/detect/val/labels/t_intersection-10_png_jpg.rf.f161e54d9bab25c0c398fb476589483f.txt (deflated 68%)\n",
            "  adding: content/runs/detect/val/labels/right_turn_prohibited-10_jpg.rf.a3550ab464d6fdf186c0695d003ebff9.txt (deflated 79%)\n",
            "  adding: content/runs/detect/val/labels/restriction_ends-33_png_jpg.rf.def62a1388ea6b74518c53e0c2dd44fa.txt (deflated 79%)\n",
            "  adding: content/runs/detect/val/labels/right_hand_curve-10_jpg.rf.4a3c90da595330fa7caba23f545c06c6.txt (deflated 68%)\n",
            "  adding: content/runs/detect/val/labels/left_turn_prohibited-24_jpg.rf.6da70c56abd62a8cd9747fd00f9b9d7b.txt (deflated 77%)\n",
            "  adding: content/runs/detect/val/labels/road_widens_ahead-20_png_jpg.rf.c8abfaac06e41fcf1c023919e0f12ad4.txt (deflated 75%)\n",
            "  adding: content/runs/detect/val/labels/left_turn_prohibited-43_jpg.rf.0f98e8efbf366fb13bcbc4aed74c2d66.txt (deflated 78%)\n",
            "  adding: content/runs/detect/val/labels/men_at_work-56_png_jpg.rf.b9b5c6e187c4a03f69138fa21a9c45a3.txt (deflated 79%)\n",
            "  adding: content/runs/detect/val/labels/compulsary_keep_left-56_jpg.rf.899ad0e16e76ecfbf1010fda79fc3c60.txt (deflated 74%)\n",
            "  adding: content/runs/detect/val/labels/falling_rocks-48_jpg.rf.566f4e9756b1f1b4c796f5098de251be.txt (deflated 50%)\n",
            "  adding: content/runs/detect/val/labels/school_ahead-27_jpg.rf.a5965c709659d92afb675d3482cc675a.txt (deflated 79%)\n",
            "  adding: content/runs/detect/val/labels/narrow_bridge_ahead-44_jpg.rf.c01ed619ac328f861ba82c5154097288.txt (deflated 71%)\n",
            "  adding: content/runs/detect/val/labels/pass_either_side-24_jpg.rf.1dc2bf3c1dc1715d9a041b0fe200b467.txt (deflated 74%)\n",
            "  adding: content/runs/detect/val/labels/right_hand_curve-13_jpg.rf.55f7102f3c6b950e742ff3d26250ef37.txt (deflated 69%)\n",
            "  adding: content/runs/detect/val/labels/falling_rocks-14_jpg.rf.52b8d0466ea56d8c5f8c07050a1d0fa8.txt (deflated 81%)\n",
            "  adding: content/runs/detect/val/labels/compulsary_turn_right_ahead-47_png_jpg.rf.19a3fb855a44f47b7aad9a8b10c307b2.txt (deflated 78%)\n",
            "  adding: content/runs/detect/val/labels/compulsary_turn_left_ahead-9_png_jpg.rf.e56aef3417bd039d9446d678ca23081f.txt (deflated 76%)\n",
            "  adding: content/runs/detect/val/labels/y_intersection-50_jpg.rf.6d19fe750c2ee37361353aa9740a1cf6.txt (deflated 76%)\n",
            "  adding: content/runs/detect/val/labels/narrow_bridge_ahead-23_jpeg_jpg.rf.5b93f3d7151e520ae8537bfbb4db13d4.txt (deflated 73%)\n",
            "  adding: content/runs/detect/val/labels/roundabout-7_jpg.rf.616783e8b0ee486199a16511bae57da3.txt (deflated 75%)\n",
            "  adding: content/runs/detect/val/labels/hump_or_rough_road-35_jpg.rf.36ebc68e660c2a1550845da34003f54a.txt (deflated 61%)\n",
            "  adding: content/runs/detect/val/labels/steep_ascent-30_jpg.rf.6eef364c66bba00e5518d0cb3e5280c1.txt (deflated 74%)\n",
            "  adding: content/runs/detect/val/labels/slippery_road-20_jpg.rf.9fba34ce5d5adb3cdd83a0dc9704e81c.txt (deflated 65%)\n",
            "  adding: content/runs/detect/val/labels/left_hand_curve-54_png_jpg.rf.256c83dab638a0c2d192b1731ba34106.txt (deflated 70%)\n",
            "  adding: content/runs/detect/val/labels/slippery_road-33_jpg.rf.f041666ad9a3897d408e1f2b6a47961b.txt (deflated 78%)\n",
            "  adding: content/runs/detect/val/labels/dangerous_dip-43_jpg.rf.ffe3f1bb8e6d8e1a3c090c1ba9185805.txt (deflated 81%)\n",
            "  adding: content/runs/detect/val/labels/steep_descent-44_jpeg_jpg.rf.da3b3bf6b36247f3df198648e7e1a040.txt (deflated 74%)\n",
            "  adding: content/runs/detect/val/labels/steep_descent-48_jpg.rf.c52b6ee9fa3168155120b89b10f1ee9d.txt (deflated 80%)\n",
            "  adding: content/runs/detect/val/labels/left_reverse_bend-22_jpg.rf.6b1155794b7e63bcb5b5f35b2b730b83.txt (deflated 81%)\n",
            "  adding: content/runs/detect/val/labels/left_reverse_bend-13_jpg.rf.d8b222d5b6e92b765da2effa3e1bc421.txt (deflated 64%)\n",
            "  adding: content/runs/detect/val/labels/side_road_left-52_jpg.rf.9caa8130f0b286be4d8a8f403719c45c.txt (deflated 75%)\n",
            "  adding: content/runs/detect/val/labels/horn_prohibited-37_jpg.rf.4f22ed86ba955816932e8c43b10cd64b.txt (deflated 74%)\n",
            "  adding: content/runs/detect/val/labels/falling_rocks-36_jpg.rf.68d3bb2a6906cc89b0a2ab52ae408773.txt (deflated 70%)\n",
            "  adding: content/runs/detect/val/labels/compulsary_keep_right-51_png_jpg.rf.553157a999318950a50acd6232eca05e.txt (deflated 78%)\n",
            "  adding: content/runs/detect/val/labels/speed_limit_30-18_png_jpg.rf.99573bd5aaba5444543f372a37cadf4f.txt (deflated 74%)\n",
            "  adding: content/runs/detect/val/labels/stop-19_jpg.rf.74fc9551258b10946a28c494961107df.txt (deflated 68%)\n",
            "  adding: content/runs/detect/val/labels/cross_road-35_jpg.rf.9a9d2d8cd9af7550defb5817201c5d93.txt (deflated 76%)\n",
            "  adding: content/runs/detect/val/labels/roundabout-19_jpg.rf.bab23229873eb1918da51565e084aece.txt (deflated 77%)\n",
            "  adding: content/runs/detect/val/labels/no_entry-46_jpg.rf.1039bedb85df76da2ad0093a9f4fb9eb.txt (deflated 75%)\n",
            "  adding: content/runs/detect/val/labels/gap_in_median-10_jpg.rf.92f77e3270a4eb7c999004ae3517fb15.txt (deflated 57%)\n",
            "  adding: content/runs/detect/val/labels/gap_in_median-4_jpg.rf.546b91071572bcdac62d8164fa3414c9.txt (deflated 60%)\n",
            "  adding: content/runs/detect/val/labels/right_hand_curve-63_png_jpg.rf.801888655ebcc88ca474deccc446b2a1.txt (deflated 48%)\n",
            "  adding: content/runs/detect/val/labels/no_parking-43_jpg.rf.b254baad0da3dc55fea5debc78b8bd32.txt (deflated 69%)\n",
            "  adding: content/runs/detect/val/labels/u_turn_prohibited-62_jpg.rf.33b10d16ad81ed930390aac04fa66426.txt (deflated 79%)\n",
            "  adding: content/runs/detect/val/labels/narrow_road_ahead-36_jpg.rf.038d5b177771aef7eecb939675f4d5df.txt (deflated 75%)\n",
            "  adding: content/runs/detect/val/labels/gap_in_median-5_jpg.rf.909038c2b4465b7acb31499b640a0da2.txt (deflated 30%)\n",
            "  adding: content/runs/detect/val/labels/steep_descent-42_jpg.rf.462367a4af6c900304fd73af51cb153a.txt (deflated 77%)\n",
            "  adding: content/runs/detect/val/labels/cross_road-58_jpg.rf.e004ee60d24fe35a4cb83f497b5b30b8.txt (deflated 68%)\n",
            "  adding: content/runs/detect/val/labels/compulsary_keep_right-54_png_jpg.rf.1c3dd93872c5bcb7dd102ddbc83c24ae.txt (deflated 71%)\n",
            "  adding: content/runs/detect/val/labels/roundabout-42_jpg.rf.39272a5a39a147857f8187ff69a20385.txt (deflated 74%)\n",
            "  adding: content/runs/detect/val/labels/pedestrian_crossing-57_jpg.rf.26f6038fc4b28e1cc312a017c6271055.txt (deflated 75%)\n",
            "  adding: content/runs/detect/val/labels/unguarded_level_crossing-39_jpeg_jpg.rf.fe54298c87f4af1cc9e320b4930cf66b.txt (deflated 72%)\n",
            "  adding: content/runs/detect/val/labels/compulsary_keep_right-31_png_jpg.rf.092476c7a5e80a53ec7cafad2c72b7a9.txt (deflated 56%)\n",
            "  adding: content/runs/detect/val/labels/narrow_bridge_ahead-12_png_jpg.rf.d2089df494698cefc8b86791b33ed64a.txt (deflated 73%)\n",
            "  adding: content/runs/detect/val/labels/speed_limit_50-46_png_jpg.rf.d2e0f5a9c5994aecc5fb18dc40c8678b.txt (deflated 74%)\n",
            "  adding: content/runs/detect/val/labels/dangerous_dip-46_jpg.rf.12bc947e6988485c7813f0419dc16460.txt (deflated 74%)\n",
            "  adding: content/runs/detect/val/labels/no_entry-53_png_jpg.rf.e8de9ccdbd1fe6c05365ecf12f39cb17.txt (deflated 77%)\n",
            "  adding: content/runs/detect/val/labels/y_intersection-31_png_jpg.rf.0218a7f6481df5ef206c419f2ff94ea5.txt (deflated 71%)\n",
            "  adding: content/runs/detect/val/labels/quay_side_or_river_bank-16_jpg.rf.a0a674106c7d298d6e7027e809c9cd44.txt (deflated 75%)\n",
            "  adding: content/runs/detect/val/labels/u_turn_prohibited-0_jpg.rf.0e6b55390a7f374180a696f94354775a.txt (deflated 78%)\n",
            "  adding: content/runs/detect/val/labels/overtaking_prohibited-62_jpg.rf.ffb96f18daac5aa159d2cccdf0d38bc7.txt (deflated 80%)\n",
            "  adding: content/runs/detect/val/labels/school_ahead-47_jpg.rf.605b841bba3e095efc79293d515693ea.txt (deflated 82%)\n",
            "  adding: content/runs/detect/val/labels/y_intersection-34_jpg.rf.a2eabb665a0263c21993b480d72f91f1.txt (deflated 71%)\n",
            "  adding: content/runs/detect/val/labels/t_intersection-2_jpeg_jpg.rf.814fc2eeb8ca6100d1b0eaa993e5da65.txt (deflated 73%)\n",
            "  adding: content/runs/detect/val/labels/gap_in_median-11_jpg.rf.933a3cb2e1ebf647916cbf987f3946a6.txt (deflated 66%)\n",
            "  adding: content/runs/detect/val/labels/compulsary_ahead-44_png_jpg.rf.8945681c1eb4b82d66a2751af9c893a7.txt (deflated 73%)\n",
            "  adding: content/runs/detect/val/labels/pedestrian_crossing-9_jpg.rf.22cc7e9884dafba7fac856cedb474fea.txt (deflated 72%)\n",
            "  adding: content/runs/detect/val/labels/axle_load_limit-16_jpg.rf.90a46d49b463803be2d630d7d311a2c4.txt (deflated 75%)\n",
            "  adding: content/runs/detect/val/labels/overtaking_prohibited-0_jpg.rf.bb67940b03a41d17649164240c39e4ce.txt (deflated 73%)\n",
            "  adding: content/runs/detect/val/labels/falling_rocks-31_jpg.rf.38fdab696f94fafa1fe3d5cd5d68dd98.txt (deflated 71%)\n",
            "  adding: content/runs/detect/val/labels/t_intersection-5_png_jpg.rf.4b0a6f5b1713eb640dba174071138a68.txt (deflated 68%)\n",
            "  adding: content/runs/detect/val/labels/u_turn_prohibited-50_jpg.rf.4917607f5ab5179c0f79b12f2d0ea588.txt (deflated 75%)\n",
            "  adding: content/runs/detect/val/labels/all_motor_vehicle_prohibited-21_jpg.rf.e20ded7822ba535c781cf60814798bdb.txt (deflated 65%)\n",
            "  adding: content/runs/detect/val/labels/compulsary_turn_right_ahead-1_png_jpg.rf.c9fc512a47c4e11e04e631220721ad42.txt (deflated 77%)\n",
            "  adding: content/runs/detect/val/labels/men_at_work-19_jpg.rf.fe844ef70fdfa358843724f4824f1aa6.txt (deflated 80%)\n",
            "  adding: content/runs/detect/val/labels/speed_limit_30-2_jpg.rf.3e84879e6f6331406835b9005ca4fea8.txt (deflated 79%)\n",
            "  adding: content/runs/detect/val/labels/no_stopping_or_standing-35_jpg.rf.9fb57feb2b5d1a3cbab732d821fec3b8.txt (deflated 68%)\n",
            "  adding: content/runs/detect/val/labels/speed_limit_30-10_jpg.rf.ae811c23d2d7e2db1d1e93bea246065c.txt (deflated 78%)\n",
            "  adding: content/runs/detect/val/labels/gap_in_median-18_jpg.rf.c37f2cf69f8a0ed14b4eed7e5661cb4e.txt (deflated 61%)\n",
            "  adding: content/runs/detect/val/labels/roundabout-30_jpg.rf.5814d4eaa65c6dd1e51c9aed965f1d33.txt (deflated 74%)\n",
            "  adding: content/runs/detect/val/labels/compulsary_keep_left-35_jpg.rf.e837c3867871be3e3132a575c984afad.txt (deflated 71%)\n",
            "  adding: content/runs/detect/val/labels/slippery_road-41_jpg.rf.68e158afa402da10157dc3089645652f.txt (deflated 75%)\n",
            "  adding: content/runs/detect/val/labels/left_reverse_bend-7_jpg.rf.f2ef4de2ea5dc48d3167c6304e05bbb3.txt (deflated 78%)\n",
            "  adding: content/runs/detect/val/labels/right_turn_prohibited-53_jpg.rf.4e03e4afafcb8cb45778bc0ae489873b.txt (deflated 67%)\n",
            "  adding: content/runs/detect/val/labels/left_reverse_bend-36_png_jpg.rf.ec67d7211ac1c8514a0f5a02b60eb0a6.txt (deflated 73%)\n",
            "  adding: content/runs/detect/val/labels/y_intersection-46_jpg.rf.d6d5778600609f665766cb856b37c9be.txt (deflated 68%)\n",
            "  adding: content/runs/detect/val/labels/pass_either_side-57_jpg.rf.8c585bf9d1a3e9153c893cbb5fcc2edd.txt (deflated 70%)\n",
            "  adding: content/runs/detect/val/labels/compulsary_keep_right-14_png_jpg.rf.52afb80baa5884c78f3e04dad87674e2.txt (deflated 64%)\n",
            "  adding: content/runs/detect/val/labels/falling_rocks-40_jpg.rf.65773f87aa68a18272c1caac7232ca41.txt (deflated 67%)\n",
            "  adding: content/runs/detect/val/labels/school_ahead-13_jpg.rf.5f83195300514abaa2daec22770e2ee7.txt (deflated 73%)\n",
            "  adding: content/runs/detect/val/labels/pass_either_side-17_jpg.rf.4c5007811598e19de0254391352dee2c.txt (deflated 66%)\n",
            "  adding: content/runs/detect/val/labels/u_turn_prohibited-22_jpg.rf.b05ef0461a2d892c5a375ea0cde72f68.txt (deflated 73%)\n",
            "  adding: content/runs/detect/val/labels/pedestrian_crossing-12_jpg.rf.a6749851b9e207f4aeaf4fb03a13d324.txt (deflated 70%)\n",
            "  adding: content/runs/detect/val/labels/hump_or_rough_road-63_jpg.rf.22f94b8721032712e1490dba9d1ffed4.txt (deflated 73%)\n",
            "  adding: content/runs/detect/val/labels/straight_prohibited-10_jpg.rf.6d111c11af677f101e47afd5ea4a0c6c.txt (deflated 79%)\n",
            "  adding: content/runs/detect/val/labels/roundabout-17_jpg.rf.ab2451c80f2e6735dd3c0939655ef06f.txt (deflated 78%)\n",
            "  adding: content/runs/detect/val/labels/all_motor_vehicle_prohibited-44_jpg.rf.62f3336b71decf0bca86a162f0923441.txt (deflated 70%)\n",
            "  adding: content/runs/detect/val/labels/u_turn_prohibited-6_jpg.rf.ff6608115c1cd72f370f38b9783a8b9f.txt (deflated 75%)\n",
            "  adding: content/runs/detect/val/labels/side_road_left-5_jpg.rf.f327276103b75ba3e474f7bd96ad1d6b.txt (deflated 79%)\n",
            "  adding: content/runs/detect/val/labels/school_ahead-56_png_jpg.rf.577de54b18776ffa659813ad2726376e.txt (deflated 75%)\n",
            "  adding: content/runs/detect/val/labels/compulsary_turn_right_ahead-0_jpg.rf.13093116ab4a2a3726c13af25b8ad50b.txt (deflated 76%)\n",
            "  adding: content/runs/detect/val/labels/overtaking_prohibited-26_jpeg_jpg.rf.1c0118fd186b7869e074be4c1aa060ea.txt (deflated 77%)\n",
            "  adding: content/runs/detect/val/labels/staggered_intersection-11_jpeg_jpg.rf.4896381e9ef7138dad37490d98c45cbc.txt (deflated 74%)\n",
            "  adding: content/runs/detect/val/labels/narrow_bridge_ahead-4_png_jpg.rf.9ccf11585ee8753ad92560a1c194e4f2.txt (deflated 77%)\n",
            "  adding: content/runs/detect/val/labels/cross_road-41_jpg.rf.e615904ad01c28fc430e299108d43652.txt (deflated 11%)\n",
            "  adding: content/runs/detect/val/labels/all_motor_vehicle_prohibited-10_jpg.rf.1dbb56802da681e949fbeab89383ec66.txt (deflated 77%)\n",
            "  adding: content/runs/detect/val/labels/right_turn_prohibited-47_jpg.rf.b17ec3a62c0f201801e9f9d51e88d60b.txt (deflated 72%)\n",
            "  adding: content/runs/detect/val/labels/stop-45_jpg.rf.435847f135f3a96ab31b046469047297.txt (deflated 66%)\n",
            "  adding: content/runs/detect/val/labels/pedestrian_crossing-58_jpg.rf.8a288af821af0a95ce8b4d47cd4a40f6.txt (deflated 78%)\n",
            "  adding: content/runs/detect/val/labels/speed_limit_100-52_png_jpg.rf.15b23512665a0c114a5936c5366a6821.txt (deflated 71%)\n",
            "  adding: content/runs/detect/val/labels/guarded_level_crossing-24_jpg.rf.2a3ac7a1a5173696c6c18800814c2573.txt (deflated 83%)\n",
            "  adding: content/runs/detect/val/labels/narrow_bridge_ahead-7_jpeg_jpg.rf.9942ef8cf1f0f0e1f4da6afd632f2ae9.txt (deflated 77%)\n",
            "  adding: content/runs/detect/val/labels/unguarded_level_crossing-0_jpg.rf.ac1717afbf1e5a7eafc61936cb62911d.txt (deflated 73%)\n",
            "  adding: content/runs/detect/val/labels/u_turn-51_jpg.rf.3b352b64cd0db65c1e13c26390d9b467.txt (deflated 72%)\n",
            "  adding: content/runs/detect/val/labels/right_hand_curve-47_jpg.rf.2ab2b97987e21b70a4b335bfb7fe72a6.txt (deflated 79%)\n",
            "  adding: content/runs/detect/val/labels/staggered_intersection-47_jpeg_jpg.rf.5a8a39209243245bfdd78dc65a94c7b6.txt (deflated 81%)\n",
            "  adding: content/runs/detect/val/labels/left_turn_prohibited-27_jpg.rf.83f442190ac16fa9b3fc358eb0ee1b7d.txt (deflated 75%)\n",
            "  adding: content/runs/detect/val/labels/y_intersection-3_jpeg_jpg.rf.4817c18890f7d1b78b1496f3b2f93061.txt (deflated 70%)\n",
            "  adding: content/runs/detect/val/labels/left_reverse_bend-59_jpg.rf.f9d7e305d2db31580e7ce211240bfb64.txt (deflated 75%)\n",
            "  adding: content/runs/detect/val/labels/falling_rocks-8_jpeg_jpg.rf.4a132ee3de49126656fa751650e6c3b8.txt (deflated 75%)\n",
            "  adding: content/runs/detect/val/labels/height_limit-12_png_jpg.rf.c97881c7acf8aef74fca5589682cb40d.txt (deflated 69%)\n",
            "  adding: content/runs/detect/val/labels/speed_limit_50-23_png_jpg.rf.bc6dbe8279d03ebca08bd4a5c13241af.txt (deflated 60%)\n",
            "  adding: content/runs/detect/val/labels/quay_side_or_river_bank-54_jpg.rf.8b8841abd9f8c04e8bdac70934fe9d29.txt (deflated 78%)\n",
            "  adding: content/runs/detect/val/labels/left_turn_prohibited-41_jpg.rf.d69f354eeec95edb8d70972e09d0a4b0.txt (deflated 72%)\n",
            "  adding: content/runs/detect/val/labels/restriction_ends-50_png_jpg.rf.58cae14f9f9f5a34327087014424d9f9.txt (deflated 77%)\n",
            "  adding: content/runs/detect/val/labels/u_turn-3_jpg.rf.67683e0116e41bf41aa120b6479ee519.txt (deflated 83%)\n",
            "  adding: content/runs/detect/val/labels/no_entry-43_png_jpg.rf.9bd8be48b218f1612fc3991891ec505e.txt (deflated 79%)\n",
            "  adding: content/runs/detect/val/labels/speed_limit_30-55_png_jpg.rf.cc6a4dc8dc780af242cdbe104d913550.txt (deflated 76%)\n",
            "  adding: content/runs/detect/val/labels/quay_side_or_river_bank-51_jpg.rf.0acce2d2800970d6e19ba568dd01ab3b.txt (deflated 78%)\n",
            "  adding: content/runs/detect/val/labels/quay_side_or_river_bank-24_png_jpg.rf.8120ebbdad1768ed2b6e9119312376d5.txt (deflated 66%)\n",
            "  adding: content/runs/detect/val/labels/left_hand_curve-14_jpg.rf.12446e55472c111ce49b83c20e88726b.txt (deflated 75%)\n",
            "  adding: content/runs/detect/val/labels/speed_limit_30-50_png_jpg.rf.ae37684ce8c5fdd72b42908b254e44a4.txt (deflated 74%)\n",
            "  adding: content/runs/detect/val/labels/overtaking_prohibited-19_jpg.rf.5eb3581430d74d16e819c5b57b78b737.txt (deflated 77%)\n",
            "  adding: content/runs/detect/val/labels/pass_either_side-30_jpg.rf.e1ef22e9751770a2a2ce97bd4432ec98.txt (deflated 65%)\n",
            "  adding: content/runs/detect/val/labels/road_widens_ahead-34_jpg.rf.9743020d66b4240950a0d87a605ee605.txt (deflated 81%)\n",
            "  adding: content/runs/detect/val/labels/compulsary_turn_right_ahead-50_png_jpg.rf.42821050e10b616ab2af644db03a965e.txt (deflated 70%)\n",
            "  adding: content/runs/detect/val/labels/narrow_road_ahead-55_png_jpg.rf.580dfb087c8cbdc77f2f2ad1ae2acdb6.txt (deflated 76%)\n",
            "  adding: content/runs/detect/val/labels/t_intersection-4_jpeg_jpg.rf.efeb443b53692408ab4e75911c1dde31.txt (deflated 52%)\n",
            "  adding: content/runs/detect/val/labels/roundabout-54_jpg.rf.6cd71c3ca24b64a62f77c1fe998118c6.txt (deflated 71%)\n",
            "  adding: content/runs/detect/val/labels/right_hand_curve-62_png_jpg.rf.12bdc4289355f6bf5af96d38c7c114cb.txt (deflated 69%)\n",
            "  adding: content/runs/detect/val/labels/u_turn-39_jpg.rf.2ece8b7711a0e49fda45daa5db6f949a.txt (deflated 75%)\n",
            "  adding: content/runs/detect/val/labels/side_road_left-29_jpg.rf.3a85b52099030db4138863c3ecee30ac.txt (deflated 72%)\n",
            "  adding: content/runs/detect/val/labels/compulsary_keep_left-0_png_jpg.rf.34a20c7fb47f64c93dcd8ec3d2920d25.txt (deflated 84%)\n",
            "  adding: content/runs/detect/val/labels/hump_or_rough_road-45_jpg.rf.68459742e4efcc372770a3ac49fdb399.txt (deflated 82%)\n",
            "  adding: content/runs/detect/val/labels/quay_side_or_river_bank-19_jpeg_jpg.rf.116bbba2a228ce7a885761a76056a187.txt (deflated 67%)\n",
            "  adding: content/runs/detect/val/labels/falling_rocks-45_png_jpg.rf.6dfba998327a608cfa2723bb3bbc6283.txt (deflated 68%)\n",
            "  adding: content/runs/detect/val/labels/horn_prohibited-36_jpg.rf.509bd9326245056cc319f82fcc787db6.txt (deflated 76%)\n",
            "  adding: content/runs/detect/val/labels/staggered_intersection-0_png_jpg.rf.9d39378cc15d7ba1244060b858bfba0c.txt (deflated 81%)\n",
            "  adding: content/runs/detect/val/labels/dangerous_dip-20_jpg.rf.ee429f316489bbc397367ca1cccb7ed3.txt (deflated 83%)\n",
            "  adding: content/runs/detect/val/labels/roundabout-61_jpg.rf.11232447649020befd723d4ad382c633.txt (deflated 79%)\n",
            "  adding: content/runs/detect/val/labels/no_parking-19_jpg.rf.0e21815174d37fc003848b1582435064.txt (deflated 77%)\n",
            "  adding: content/runs/detect/val/labels/dangerous_dip-29_jpg.rf.d553c8d63a9982b4e76e1969e0654efb.txt (deflated 77%)\n",
            "  adding: content/runs/detect/val/labels/compulsary_turn_right_ahead-43_png_jpg.rf.2582ef10628e0679e471f4f6a75f3cda.txt (deflated 81%)\n",
            "  adding: content/runs/detect/val/labels/compulsary_ahead-42_png_jpg.rf.06b99d5f39f362ffd9f1d6ec51fc15f4.txt (deflated 77%)\n",
            "  adding: content/runs/detect/val/labels/compulsary_turn_left_ahead-50_png_jpg.rf.3f103246b2205c10a9124b99167d4230.txt (deflated 65%)\n",
            "  adding: content/runs/detect/val/labels/right_turn_prohibited-2_jpg.rf.b1b5204a600aa59f2a565558037f27bf.txt (deflated 73%)\n",
            "  adding: content/runs/detect/val/labels/speed_limit_50-38_png_jpg.rf.3f636d7044c7394331d3e22f7c4686c9.txt (deflated 68%)\n",
            "  adding: content/runs/detect/val/labels/cross_road-49_jpg.rf.60c58784343993f43b4f808d854097eb.txt (deflated 74%)\n",
            "  adding: content/runs/detect/val/labels/loose_gravel-18_jpeg_jpg.rf.7d06ee1efd02079a6e520df610aa7b9e.txt (deflated 71%)\n",
            "  adding: content/runs/detect/val/labels/compulsary_keep_right-28_png_jpg.rf.e4d35f62a52d04830a39056d1cad874d.txt (deflated 63%)\n",
            "  adding: content/runs/detect/val/labels/speed_limit_100-0_jpg.rf.1d8edc5599b996abbfe0e1aac4d00b8d.txt (deflated 68%)\n",
            "  adding: content/runs/detect/val/labels/dangerous_dip-35_jpg.rf.b4acf243af2e5fb1eb5e62577f508727.txt (deflated 72%)\n",
            "  adding: content/runs/detect/val/labels/pedestrian_crossing-18_jpg.rf.ba29ec13531e5f2165cb1eab122ee291.txt (deflated 80%)\n",
            "  adding: content/runs/detect/val/labels/u_turn-28_jpg.rf.cc23ea762c971130fe95b26d224404f8.txt (deflated 74%)\n",
            "  adding: content/runs/detect/val/labels/men_at_work-20_png_jpg.rf.5c129cb9eb4a485c0fa86f3344c4e982.txt (deflated 80%)\n",
            "  adding: content/runs/detect/val/labels/right_reverse_bend-37_jpg.rf.4690302cc0e34e1039c3e527931b532e.txt (deflated 80%)\n",
            "  adding: content/runs/detect/val/labels/loose_gravel-30_jpeg_jpg.rf.cc363c017efe7d035a30ebce4fe7246a.txt (deflated 69%)\n",
            "  adding: content/runs/detect/val/labels/compulsary_keep_left-46_jpg.rf.f46b92ad6641ceadc2cc036559b8aa6c.txt (deflated 28%)\n",
            "  adding: content/runs/detect/val/labels/right_reverse_bend-31_jpg.rf.ccad32ea24ffca4476de14e26006b58c.txt (deflated 76%)\n",
            "  adding: content/runs/detect/val/labels/y_intersection-32_png_jpg.rf.99e571c6617a2eb88bf77c8e9f03db95.txt (deflated 78%)\n",
            "  adding: content/runs/detect/val/labels/narrow_bridge_ahead-16_png_jpg.rf.d8e199427ecf2072ea72cf16a87857e9.txt (deflated 81%)\n",
            "  adding: content/runs/detect/val/labels/hospital_ahead-8_jpg.rf.30401d01dbbeca48f3686d5201d49685.txt (deflated 69%)\n",
            "  adding: content/runs/detect/val/labels/pedestrian_crossing-17_jpg.rf.e8825af9cd2b565d2152b1bea484a5a4.txt (deflated 76%)\n",
            "  adding: content/runs/detect/val/labels/u_turn-29_jpg.rf.2d11bd8dcb81c1fe72ba35a4cc32c3d7.txt (deflated 79%)\n",
            "  adding: content/runs/detect/val/labels/speed_limit_30-58_png_jpg.rf.001e066ba379763bba61b7f50ef9f81c.txt (deflated 79%)\n",
            "  adding: content/runs/detect/val/labels/speed_limit_50-59_png_jpg.rf.eb1fef70d4f0b4335f15351bf949f54a.txt (deflated 39%)\n",
            "  adding: content/runs/detect/val/labels/compulsary_keep_left-51_jpg.rf.16edcf9b2786f0aa9b86334e44907cd3.txt (deflated 64%)\n",
            "  adding: content/runs/detect/val/labels/pass_either_side-33_jpg.rf.8019291287de7706e5cf5815de02cfaa.txt (deflated 75%)\n",
            "  adding: content/runs/detect/val/labels/axle_load_limit-49_jpg.rf.34f47c16aea844d00d3e201e509e2be6.txt (deflated 71%)\n",
            "  adding: content/runs/detect/val/labels/compulsary_keep_right-36_png_jpg.rf.4f3dde17e9fd4e13d0198363ff0e8ee4.txt (deflated 52%)\n",
            "  adding: content/runs/detect/val/labels/narrow_road_ahead-12_jpg.rf.3434a1a1179c3cf49ce3d8a69201630e.txt (deflated 71%)\n",
            "  adding: content/runs/detect/val/labels/give_way-19_png_jpg.rf.f5c0ed9ce3e2bde3832c772d81147fe9.txt (deflated 41%)\n",
            "  adding: content/runs/detect/val/labels/steep_ascent-8_jpeg_jpg.rf.aa8f64edd8b83b58015bf3f38672a268.txt (deflated 78%)\n",
            "  adding: content/runs/detect/val/labels/steep_ascent-21_jpeg_jpg.rf.94aa4d81ebaaca7db1574905c3fe910a.txt (deflated 76%)\n",
            "  adding: content/runs/detect/val/labels/left_reverse_bend-26_png_jpg.rf.740fb236ed9adcfbf2f39e4de00fbafe.txt (deflated 74%)\n",
            "  adding: content/runs/detect/val/labels/right_turn_prohibited-12_jpg.rf.e1ba2040b2f14d4686bf1183f18f76d2.txt (deflated 74%)\n",
            "  adding: content/runs/detect/val/labels/speed_limit_50-15_png_jpg.rf.d6e9cc40417f22bad054855ce8dfea59.txt (deflated 77%)\n",
            "  adding: content/runs/detect/val/labels/left_reverse_bend-40_png_jpg.rf.4de76999c11a363ab15ce0bfbd4e694f.txt (deflated 72%)\n",
            "  adding: content/runs/detect/val/labels/loose_gravel-12_jpeg_jpg.rf.42e5b18fa1f4ec1080cedf2879fe2242.txt (deflated 76%)\n",
            "  adding: content/runs/detect/val/labels/narrow_road_ahead-56_png_jpg.rf.cc2abc1e112df389b8b808b4e3434d16.txt (deflated 69%)\n",
            "  adding: content/runs/detect/val/labels/falling_rocks-2_jpeg_jpg.rf.2f297c20dfcd0aab6196c3882abb7627.txt (deflated 51%)\n",
            "  adding: content/runs/detect/val/labels/u_turn-49_jpg.rf.7365e9ec9fd9a4bb340aba335eb5b0ab.txt (deflated 74%)\n",
            "  adding: content/runs/detect/val/labels/road_widens_ahead-26_jpg.rf.4eefc4e9a6e009914de749be52956a84.txt (deflated 75%)\n",
            "  adding: content/runs/detect/val/labels/speed_limit_100-54_png_jpg.rf.d14cd9d498f234f9ca49172532067125.txt (deflated 71%)\n",
            "  adding: content/runs/detect/val/labels/narrow_bridge_ahead-24_jpg.rf.0afc2edc4c5b73809d36cc126e0a9920.txt (deflated 80%)\n",
            "  adding: content/runs/detect/val/labels/road_widens_ahead-2_jpeg_jpg.rf.0a67d114e39715eb56497914b394a89e.txt (deflated 71%)\n",
            "  adding: content/runs/detect/val/labels/men_at_work-43_png_jpg.rf.32749f7bfca78f93ad32355d711cac91.txt (deflated 76%)\n",
            "  adding: content/runs/detect/val/labels/men_at_work-31_png_jpg.rf.351933d72ec8c9a4e811d7110daa4000.txt (deflated 77%)\n",
            "  adding: content/runs/detect/val/labels/petrol_pump_ahead-47_jpg.rf.2e4d8409004f4866c073e82a1eef6160.txt (deflated 65%)\n",
            "  adding: content/runs/detect/val/labels/compulsary_keep_left-12_jpg.rf.0fea50173c4dbef5def49b01424f227a.txt (deflated 13%)\n",
            "  adding: content/runs/detect/val/labels/all_motor_vehicle_prohibited-0_jpg.rf.5f579808557e097a5d3c51ac7df1720e.txt (deflated 82%)\n",
            "  adding: content/runs/detect/val/labels/unguarded_level_crossing-40_jpeg_jpg.rf.08301473883d1623ceac0aad25f8179d.txt (deflated 73%)\n",
            "  adding: content/runs/detect/val/labels/pedestrian_crossing-21_jpg.rf.88d82938f4311e3d3932836001991e61.txt (deflated 75%)\n",
            "  adding: content/runs/detect/val/labels/speed_limit_50-16_png_jpg.rf.87f30e7a2b171b40b04c5c00fc9cdf8b.txt (deflated 77%)\n",
            "  adding: content/runs/detect/val/labels/give_way-40_png_jpg.rf.a431b432c526dd360fe39593dafb537b.txt (deflated 39%)\n",
            "  adding: content/runs/detect/val/labels/petrol_pump_ahead-11_jpeg_jpg.rf.a6d3c59595c20f8c757c2666f22451da.txt (deflated 78%)\n",
            "  adding: content/runs/detect/val/labels/compulsary_turn_right_ahead-17_png_jpg.rf.9ed6e91a08fdac539a5f5e9fe7e839b9.txt (deflated 76%)\n",
            "  adding: content/runs/detect/val/labels/u_turn-48_jpg.rf.824fd3cf1bdd8be647b258d17a6b45bc.txt (deflated 73%)\n",
            "  adding: content/runs/detect/val/labels/roundabout-48_jpg.rf.89e7279f37ef651a18f294ac68064cc3.txt (deflated 71%)\n",
            "  adding: content/runs/detect/val/labels/compulsary_turn_right_ahead-51_png_jpg.rf.92c46b29594efc8d90b5513f2c09a997.txt (deflated 72%)\n",
            "  adding: content/runs/detect/val/labels/slippery_road-59_jpg.rf.6057145fbf2e01ae0f13a2ce5c7078ba.txt (deflated 71%)\n",
            "  adding: content/runs/detect/val/labels/no_entry-16_jpg.rf.dcf961d0901617c37db13888c30c4256.txt (deflated 79%)\n",
            "  adding: content/runs/detect/val/labels/pedestrian_crossing-5_jpg.rf.4ed0445bd58e9808654891c0497da3a9.txt (deflated 68%)\n",
            "  adding: content/runs/detect/val/labels/no_entry-23_png_jpg.rf.a69b9bdab6e873f9b39629427b3293ef.txt (deflated 72%)\n",
            "  adding: content/runs/detect/val/labels/right_reverse_bend-6_jpeg_jpg.rf.ee6d2b61eeabe1d1a64e90d1126473b1.txt (deflated 81%)\n",
            "  adding: content/runs/detect/val/labels/compulsary_keep_right-22_png_jpg.rf.37c25caf4e7a021affe95cde95eb2d2a.txt (deflated 57%)\n",
            "  adding: content/runs/detect/val/labels/left_hand_curve-29_jpg.rf.c06c14f4e705150cde1ad74416be82e5.txt (deflated 81%)\n",
            "  adding: content/runs/detect/val/labels/petrol_pump_ahead-4_jpeg_jpg.rf.a82868002537b172744336b39fd0f2cf.txt (deflated 63%)\n",
            "  adding: content/runs/detect/val/labels/left_reverse_bend-5_jpg.rf.18866b866f7905f520ff92600111214e.txt (deflated 75%)\n",
            "  adding: content/runs/detect/val/labels/pedestrian_crossing-61_jpg.rf.1a336aad5974eb188f88e0ca49e18ea7.txt (deflated 61%)\n",
            "  adding: content/runs/detect/val/labels/men_at_work-23_png_jpg.rf.d8f5d3d1af8952cc55ab643b314fb774.txt (deflated 80%)\n",
            "  adding: content/runs/detect/val/labels/school_ahead-29_jpg.rf.6ca00df97da3ac02d2909e21313df6db.txt (deflated 75%)\n",
            "  adding: content/runs/detect/val/labels/men_at_work-18_jpg.rf.76f808ab88f48cddd2816f90101385ce.txt (deflated 70%)\n",
            "  adding: content/runs/detect/val/labels/left_reverse_bend-10_png_jpg.rf.c982e859b17c842271471e87d5d877ea.txt (deflated 74%)\n",
            "  adding: content/runs/detect/val/labels/restriction_ends-11_jpeg_jpg.rf.ec2927ec60260537cdb5bdb1a9722f6d.txt (deflated 76%)\n",
            "  adding: content/runs/detect/val/labels/compulsary_keep_left-10_png_jpg.rf.a061af01bbaea327e1166603d6503074.txt (deflated 70%)\n",
            "  adding: content/runs/detect/val/labels/road_widens_ahead-37_jpeg_jpg.rf.28472ed735699eb2afc932b396f135a8.txt (deflated 77%)\n",
            "  adding: content/runs/detect/val/labels/restriction_ends-28_png_jpg.rf.75822c7c785c913da1d26b042b9f02e5.txt (deflated 67%)\n",
            "  adding: content/runs/detect/val/labels/narrow_road_ahead-60_jpg.rf.083da416d84a5c5c6754c2492eb64921.txt (deflated 61%)\n",
            "  adding: content/runs/detect/val/labels/unguarded_level_crossing-27_jpeg_jpg.rf.3b7596cb1437d11fc21435dd3558171a.txt (deflated 63%)\n",
            "  adding: content/runs/detect/val/labels/u_turn-17_jpg.rf.b7f91fa8c75a6a96cf7275360384ee76.txt (deflated 72%)\n",
            "  adding: content/runs/detect/val/labels/compulsary_turn_left_ahead-17_jpg.rf.42e256c6be43f714c23001cc838fec7a.txt (deflated 75%)\n",
            "  adding: content/runs/detect/val/labels/speed_limit_100-39_png_jpg.rf.202e8580b51707a4b34ab9a9895d02f5.txt (deflated 75%)\n",
            "  adding: content/runs/detect/val/labels/school_ahead-7_jpg.rf.22d13d6ca9e04b1e9664c3447500960b.txt (deflated 85%)\n",
            "  adding: content/runs/detect/val/labels/steep_ascent-4_png_jpg.rf.87ceebf3655175c89e5ec24013569222.txt (deflated 78%)\n",
            "  adding: content/runs/detect/val/labels/speed_limit_50-35_png_jpg.rf.6b54a03eafc040e27d7ac8a0d51209b6.txt (deflated 79%)\n",
            "  adding: content/runs/detect/val/labels/left_turn_prohibited-14_jpg.rf.e301aa27d13eb81350a76983f1d35a7e.txt (deflated 76%)\n",
            "  adding: content/runs/detect/val/labels/roundabout-28_jpg.rf.58bf519e86498b493540320fa9ba23b5.txt (deflated 68%)\n",
            "  adding: content/runs/detect/val/labels/axle_load_limit-64_jpg.rf.8deeeb7ca95dc1727ee0d01c46798d3f.txt (deflated 78%)\n",
            "  adding: content/runs/detect/val/labels/give_way-11_png_jpg.rf.b22877a74aa4c9bac89954baefe92d04.txt (deflated 54%)\n",
            "  adding: content/runs/detect/val/labels/right_hand_curve-27_jpg.rf.0953e78a70653ebb600f461e7a2ece58.txt (deflated 79%)\n",
            "  adding: content/runs/detect/val/labels/speed_limit_30-28_png_jpg.rf.56ff111969dde2afe817c3915324d50f.txt (deflated 69%)\n",
            "  adding: content/runs/detect/val/labels/compulsary_ahead-40_png_jpg.rf.44111c095046518489912100f238254f.txt (deflated 76%)\n",
            "  adding: content/runs/detect/val/labels/slippery_road-48_png_jpg.rf.b06243814e4f6d13454563582ac7e71b.txt (deflated 71%)\n",
            "  adding: content/runs/detect/val/labels/stop-33_jpg.rf.82f45866458665b4da8247abe4268ff4.txt (deflated 76%)\n",
            "  adding: content/runs/detect/val/labels/overtaking_prohibited-16_jpg.rf.86460ad84d253701ee23ceb33b4a0c61.txt (deflated 72%)\n",
            "  adding: content/runs/detect/val/labels/steep_descent-14_png_jpg.rf.360829c96fd27c989a8fe584afbf3f3d.txt (deflated 76%)\n",
            "  adding: content/runs/detect/val/labels/hump_or_rough_road-12_jpg.rf.6d05309cf3b29daf41b4de0f0ad47938.txt (deflated 47%)\n",
            "  adding: content/runs/detect/val/labels/compulsary_keep_left-41_png_jpg.rf.abcecd47ac41bb01742eb2ba575654f4.txt (deflated 76%)\n",
            "  adding: content/runs/detect/val/labels/steep_ascent-19_jpeg_jpg.rf.c58b42bbfea9827765cbcbf1694d216c.txt (deflated 72%)\n",
            "  adding: content/runs/detect/val/labels/u_turn-45_jpg.rf.da8da3c66b3201f9f578deceb91c8d8d.txt (deflated 67%)\n",
            "  adding: content/runs/detect/val/labels/left_hand_curve-27_jpg.rf.aa980caa0775df8bd51dffd77065db51.txt (deflated 81%)\n",
            "  adding: content/runs/detect/val/labels/horn_prohibited-50_jpg.rf.0b7764f5482619ad4092f2f2d252cf71.txt (deflated 73%)\n",
            "  adding: content/runs/detect/val/labels/stop-63_png_jpg.rf.3261fcee2bc076dcf93c32eba49f1bd9.txt (deflated 62%)\n",
            "  adding: content/runs/detect/val/labels/axle_load_limit-19_png_jpg.rf.60d1756a49d78f038033408ffaf136f1.txt (deflated 75%)\n",
            "  adding: content/runs/detect/val/labels/hospital_ahead-15_jpg.rf.b15c6112aaed3604781590e2d410449d.txt (deflated 52%)\n",
            "  adding: content/runs/detect/val/labels/horn_prohibited-38_jpg.rf.e496b2be45e729d4d5b37c2e87528700.txt (deflated 68%)\n",
            "  adding: content/runs/detect/val/labels/gap_in_median-46_jpg.rf.61821513560725878a5b6cce06a88bc8.txt (deflated 68%)\n",
            "  adding: content/runs/detect/val/labels/school_ahead-6_jpg.rf.fd81ff5f8cdbd95381d0494e31c3c3fb.txt (deflated 76%)\n",
            "  adding: content/runs/detect/val/labels/dangerous_dip-11_jpeg_jpg.rf.ac3612d5d8674355e07d2ad37048430d.txt (deflated 79%)\n",
            "  adding: content/runs/detect/val/labels/side_road_left-48_jpg.rf.1bc611fe320e479305407138b217eaf2.txt (deflated 72%)\n",
            "  adding: content/runs/detect/val/labels/loose_gravel-50_jpg.rf.f5efb35f2de7ea9e2de0142c1c7c0a5e.txt (deflated 61%)\n",
            "  adding: content/runs/detect/val/labels/left_turn_prohibited-67_jpg.rf.1e9c9c47f9f82a918265a3da3ae096d2.txt (deflated 72%)\n",
            "  adding: content/runs/detect/val/labels/compulsary_turn_right_ahead-55_jpeg_jpg.rf.5043b3c5ff0e48bbf0d075e77deeab99.txt (deflated 76%)\n",
            "  adding: content/runs/detect/val/labels/school_ahead-46_png_jpg.rf.e95713bba4a5e244199afce550f22aeb.txt (deflated 79%)\n",
            "  adding: content/runs/detect/val/labels/compulsary_turn_right_ahead-25_png_jpg.rf.0589164d2388209d93729315138a0e62.txt (deflated 79%)\n",
            "  adding: content/runs/detect/val/labels/cross_road-7_jpg.rf.afd2941015a48b3f24ebfc3e3e743f5a.txt (deflated 67%)\n",
            "  adding: content/runs/detect/val/labels/unguarded_level_crossing-36_png_jpg.rf.6f1f69bc76c5e1a5aa4c8090d908bb3f.txt (deflated 56%)\n",
            "  adding: content/runs/detect/val/labels/speed_limit_50-55_png_jpg.rf.2b4eca848af788c35f63e0f1072f4d39.txt (deflated 73%)\n",
            "  adding: content/runs/detect/val/labels/dangerous_dip-42_jpg.rf.9999d30de0db1c40307750bf6fa94ac7.txt (deflated 77%)\n",
            "  adding: content/runs/detect/val/labels/gap_in_median-52_jpg.rf.89ecfcd72c02788176fcbe613abb2644.txt (deflated 65%)\n",
            "  adding: content/runs/detect/val/labels/u_turn_prohibited-34_jpg.rf.be5d11af36c9e6997be55c2cb41684ef.txt (deflated 73%)\n",
            "  adding: content/runs/detect/val/labels/give_way-6_png_jpg.rf.0f876d13fed61653d02affbf468de73f.txt (deflated 63%)\n",
            "  adding: content/runs/detect/val/labels/compulsary_turn_right_ahead-16_png_jpg.rf.43ba138e9ab305968e99b0393c6f9b83.txt (deflated 80%)\n",
            "  adding: content/runs/detect/val/labels/speed_limit_30-36_png_jpg.rf.dfe6cb797ed996505fefbab79f8c633e.txt (deflated 71%)\n",
            "  adding: content/runs/detect/val/labels/speed_limit_100-18_png_jpg.rf.b25e9234568c72fbd0da31a94d91518a.txt (deflated 71%)\n",
            "  adding: content/runs/detect/val/labels/u_turn_prohibited-63_jpg.rf.38929570a22119155fcf178f0facb138.txt (deflated 75%)\n",
            "  adding: content/runs/detect/val/labels/narrow_bridge_ahead-2_png_jpg.rf.b223c31cb12993391bc0c53beb5da694.txt (deflated 76%)\n",
            "  adding: content/runs/detect/val/labels/left_turn_prohibited-36_jpg.rf.cdad9a8a67cebf5591f402e8ca68247a.txt (deflated 68%)\n",
            "  adding: content/runs/detect/val/labels/axle_load_limit-47_jpg.rf.57503e5d6cf5858a7c811d461c28a648.txt (deflated 83%)\n",
            "  adding: content/runs/detect/val/labels/u_turn_prohibited-33_jpg.rf.447aa9f086c68bc511118bf2718ae585.txt (deflated 72%)\n",
            "  adding: content/runs/detect/val/labels/steep_descent-49_jpg.rf.2dba2b2f6fdf602f55b2d47e1a6f2ea7.txt (deflated 78%)\n",
            "  adding: content/runs/detect/val/labels/compulsary_turn_right_ahead-27_png_jpg.rf.a8b6c89de101fa33ed0f0aa9ac5fbec8.txt (deflated 79%)\n",
            "  adding: content/runs/detect/val/labels/left_reverse_bend-44_png_jpg.rf.c866a8a70f8e7e4b17720716310f9373.txt (deflated 79%)\n",
            "  adding: content/runs/detect/val/labels/side_road_left-24_jpeg_jpg.rf.e25dd5eadd4360828f5aed2c791cc0fc.txt (deflated 75%)\n",
            "  adding: content/runs/detect/val/labels/petrol_pump_ahead-13_jpeg_jpg.rf.326f6e6d31252f077a15a1f3e41a807a.txt (deflated 70%)\n",
            "  adding: content/runs/detect/val/labels/compulsary_turn_right_ahead-28_png_jpg.rf.10edd6aa122f08877c28dac59a826a87.txt (deflated 82%)\n",
            "  adding: content/runs/detect/val/labels/no_entry-4_jpg.rf.bc1f7b17720d345111ff20d9be5e00b7.txt (deflated 61%)\n",
            "  adding: content/runs/detect/val/labels/pedestrian_crossing-27_jpg.rf.80a6fcd3289a8d807139bb5c5c25a726.txt (deflated 71%)\n",
            "  adding: content/runs/detect/val/labels/slippery_road-29_jpg.rf.e3a302fc917e1d8dc85845694ded1375.txt (deflated 80%)\n",
            "  adding: content/runs/detect/val/labels/cross_road-50_jpg.rf.14a961fbfb11db58808f41f4ce39bf37.txt (deflated 69%)\n",
            "  adding: content/runs/detect/val/labels/pass_either_side-58_jpg.rf.0f6508781aa6db0885b1cb9597762373.txt (deflated 80%)\n",
            "  adding: content/runs/detect/val/labels/gap_in_median-51_jpg.rf.f95f4eeaded2c07e3426171fd9b7c6e4.txt (deflated 77%)\n",
            "  adding: content/runs/detect/val/labels/speed_limit_100-38_png_jpg.rf.651a083a39c12e92c5b737d9c40124ce.txt (deflated 77%)\n",
            "  adding: content/runs/detect/val/labels/speed_limit_100-41_png_jpg.rf.06b3a7cb24df6a86eda474c49e46f092.txt (deflated 65%)\n",
            "  adding: content/runs/detect/val/labels/speed_limit_30-65_png_jpg.rf.7c147938ce410b48336d3b1eb4f64d04.txt (deflated 76%)\n",
            "  adding: content/runs/detect/val/labels/overtaking_prohibited-39_jpg.rf.2d16bedef12f8fe5e1212d5b300412bb.txt (deflated 77%)\n",
            "  adding: content/runs/detect/val/labels/unguarded_level_crossing-44_png_jpg.rf.c846c5401f22bcaf335dfcca2f9dc210.txt (deflated 68%)\n"
          ]
        }
      ]
    },
    {
      "cell_type": "markdown",
      "metadata": {
        "id": "ySbf7EzmDmvF"
      },
      "source": [
        "## FOR PREDICTING WITH THE MODEL:"
      ]
    },
    {
      "cell_type": "code",
      "execution_count": null,
      "metadata": {
        "vscode": {
          "languageId": "plaintext"
        },
        "id": "GINOv3paDmvF"
      },
      "outputs": [],
      "source": [
        "# from ultralytics import YOLO\n",
        "# model = YOLO(\"/content/yolov8n.pt\")\n",
        "# model.predict(source=\"/content/drive/MyDrive/Traffic SignBoard Recognition using Deep Learning/Dataset/YOLOV8 Format Dataset/test/images/all_motor_vehicle_prohibited-37_png_jpg.rf.76844219d51089903bc8cb56897367ef.jpg\", show=True, save=True, conf=0.5)"
      ]
    },
    {
      "cell_type": "code",
      "execution_count": 14,
      "metadata": {
        "vscode": {
          "languageId": "plaintext"
        },
        "id": "aZqd19SXDmvG",
        "colab": {
          "base_uri": "https://localhost:8080/"
        },
        "outputId": "7efb832c-88fb-4e8e-9ee2-6dc6c1012ce7"
      },
      "outputs": [
        {
          "output_type": "stream",
          "name": "stdout",
          "text": [
            "Ultralytics YOLOv8.1.20 🚀 Python-3.10.12 torch-2.1.0+cu121 CPU (Intel Xeon 2.20GHz)\n",
            "Model summary (fused): 168 layers, 3016568 parameters, 0 gradients, 8.1 GFLOPs\n",
            "\n",
            "image 1/665 /content/drive/MyDrive/Traffic SignBoard Recognition using Deep Learning/Dataset/YOLOV8 Format Dataset/test/images/all_motor_vehicle_prohibited-13_jpg.rf.bb8bd8753022dfce989c354a478fad26.jpg: 640x640 1 all motor vehicle prohibited, 275.0ms\n",
            "image 2/665 /content/drive/MyDrive/Traffic SignBoard Recognition using Deep Learning/Dataset/YOLOV8 Format Dataset/test/images/all_motor_vehicle_prohibited-17_jpg.rf.e85ea0aeb559ca9a1e63080ef432614b.jpg: 640x640 1 all motor vehicle prohibited, 370.7ms\n",
            "image 3/665 /content/drive/MyDrive/Traffic SignBoard Recognition using Deep Learning/Dataset/YOLOV8 Format Dataset/test/images/all_motor_vehicle_prohibited-18_jpg.rf.b8a03b7e63dc2e508ab6e1272ece5e4d.jpg: 640x640 1 all motor vehicle prohibited, 1 overtaking prohibited, 346.0ms\n",
            "image 4/665 /content/drive/MyDrive/Traffic SignBoard Recognition using Deep Learning/Dataset/YOLOV8 Format Dataset/test/images/all_motor_vehicle_prohibited-22_jpg.rf.7ac0a25cd8d3141f766fc476ed2f5ced.jpg: 640x640 1 all motor vehicle prohibited, 351.8ms\n",
            "image 5/665 /content/drive/MyDrive/Traffic SignBoard Recognition using Deep Learning/Dataset/YOLOV8 Format Dataset/test/images/all_motor_vehicle_prohibited-27_png_jpg.rf.9278dd89d9d295e59fcf303faa3f9a94.jpg: 640x640 1 all motor vehicle prohibited, 221.3ms\n",
            "image 6/665 /content/drive/MyDrive/Traffic SignBoard Recognition using Deep Learning/Dataset/YOLOV8 Format Dataset/test/images/all_motor_vehicle_prohibited-29_jpg.rf.2f00c3b900596a056fecb1a4397bf975.jpg: 640x640 1 all motor vehicle prohibited, 224.5ms\n",
            "image 7/665 /content/drive/MyDrive/Traffic SignBoard Recognition using Deep Learning/Dataset/YOLOV8 Format Dataset/test/images/all_motor_vehicle_prohibited-32_jpg.rf.c06b0ecc20d8eb809b2cc212245749eb.jpg: 640x640 1 horn prohibited, 393.9ms\n",
            "image 8/665 /content/drive/MyDrive/Traffic SignBoard Recognition using Deep Learning/Dataset/YOLOV8 Format Dataset/test/images/all_motor_vehicle_prohibited-33_JPG_jpg.rf.4a00ba9f63145c6a8dd9e4075df18df0.jpg: 640x640 1 all motor vehicle prohibited, 413.3ms\n",
            "image 9/665 /content/drive/MyDrive/Traffic SignBoard Recognition using Deep Learning/Dataset/YOLOV8 Format Dataset/test/images/all_motor_vehicle_prohibited-36_png_jpg.rf.2a4904d244290e03b50f7a31f0a18d75.jpg: 640x640 1 all motor vehicle prohibited, 301.2ms\n",
            "image 10/665 /content/drive/MyDrive/Traffic SignBoard Recognition using Deep Learning/Dataset/YOLOV8 Format Dataset/test/images/all_motor_vehicle_prohibited-37_png_jpg.rf.76844219d51089903bc8cb56897367ef.jpg: 640x640 1 all motor vehicle prohibited, 410.5ms\n",
            "image 11/665 /content/drive/MyDrive/Traffic SignBoard Recognition using Deep Learning/Dataset/YOLOV8 Format Dataset/test/images/all_motor_vehicle_prohibited-38_png_jpg.rf.0d3f20b428757c9c1ae0b92caefe1dbe.jpg: 640x640 1 all motor vehicle prohibited, 235.6ms\n",
            "image 12/665 /content/drive/MyDrive/Traffic SignBoard Recognition using Deep Learning/Dataset/YOLOV8 Format Dataset/test/images/all_motor_vehicle_prohibited-45_jpg.rf.c63511dd3748bf0c1e883ca6c00b71df.jpg: 640x640 1 overtaking prohibited, 242.6ms\n",
            "image 13/665 /content/drive/MyDrive/Traffic SignBoard Recognition using Deep Learning/Dataset/YOLOV8 Format Dataset/test/images/all_motor_vehicle_prohibited-48_jpg.rf.896e140ba93ccbe1aa768aba2d9eb7d5.jpg: 640x640 1 all motor vehicle prohibited, 215.1ms\n",
            "image 14/665 /content/drive/MyDrive/Traffic SignBoard Recognition using Deep Learning/Dataset/YOLOV8 Format Dataset/test/images/all_motor_vehicle_prohibited-4_jpg.rf.e9d523d9d90b88c49dc024848b024d13.jpg: 640x640 1 overtaking prohibited, 233.3ms\n",
            "image 15/665 /content/drive/MyDrive/Traffic SignBoard Recognition using Deep Learning/Dataset/YOLOV8 Format Dataset/test/images/all_motor_vehicle_prohibited-55_jpg.rf.1ff5f4c0024a7c0341338d569af1dc39.jpg: 640x640 1 all motor vehicle prohibited, 259.0ms\n",
            "image 16/665 /content/drive/MyDrive/Traffic SignBoard Recognition using Deep Learning/Dataset/YOLOV8 Format Dataset/test/images/all_motor_vehicle_prohibited-57_jpg.rf.9220c2ff8540270ce6e85af152e73144.jpg: 640x640 1 all motor vehicle prohibited, 1 overtaking prohibited, 234.7ms\n",
            "image 17/665 /content/drive/MyDrive/Traffic SignBoard Recognition using Deep Learning/Dataset/YOLOV8 Format Dataset/test/images/all_motor_vehicle_prohibited-66_jpg.rf.7e592919a966a5410def44cf92785187.jpg: 640x640 1 all motor vehicle prohibited, 223.5ms\n",
            "image 18/665 /content/drive/MyDrive/Traffic SignBoard Recognition using Deep Learning/Dataset/YOLOV8 Format Dataset/test/images/axle_load_limit-0_jpg.rf.41ef8930b3b19ec4d3d7da7731355824.jpg: 640x640 1 axle load limit, 238.5ms\n",
            "image 19/665 /content/drive/MyDrive/Traffic SignBoard Recognition using Deep Learning/Dataset/YOLOV8 Format Dataset/test/images/axle_load_limit-10_png_jpg.rf.ca23eac651c679889a90558a788396a3.jpg: 640x640 1 axle load limit, 224.7ms\n",
            "image 20/665 /content/drive/MyDrive/Traffic SignBoard Recognition using Deep Learning/Dataset/YOLOV8 Format Dataset/test/images/axle_load_limit-11_jpeg_jpg.rf.40f629e95f44e4ced71c08feaa9a4469.jpg: 640x640 1 axle load limit, 232.3ms\n",
            "image 21/665 /content/drive/MyDrive/Traffic SignBoard Recognition using Deep Learning/Dataset/YOLOV8 Format Dataset/test/images/axle_load_limit-29_jpg.rf.49e528bd10a434e5b5ba72108c810e2c.jpg: 640x640 1 axle load limit, 248.5ms\n",
            "image 22/665 /content/drive/MyDrive/Traffic SignBoard Recognition using Deep Learning/Dataset/YOLOV8 Format Dataset/test/images/axle_load_limit-32_jpg.rf.7ddbb2d1b4f71c3e03de6a7959d17ea7.jpg: 640x640 1 axle load limit, 247.1ms\n",
            "image 23/665 /content/drive/MyDrive/Traffic SignBoard Recognition using Deep Learning/Dataset/YOLOV8 Format Dataset/test/images/axle_load_limit-38_jpg.rf.afdd5e7038e44457ff8b9523b3082ab3.jpg: 640x640 1 axle load limit, 223.9ms\n",
            "image 24/665 /content/drive/MyDrive/Traffic SignBoard Recognition using Deep Learning/Dataset/YOLOV8 Format Dataset/test/images/axle_load_limit-40_jpg.rf.035b2e4df703c168dedab83c4c6a7290.jpg: 640x640 1 axle load limit, 224.1ms\n",
            "image 25/665 /content/drive/MyDrive/Traffic SignBoard Recognition using Deep Learning/Dataset/YOLOV8 Format Dataset/test/images/axle_load_limit-42_jpg.rf.56b41084bffbb195c38363ee3dd48873.jpg: 640x640 1 axle load limit, 234.9ms\n",
            "image 26/665 /content/drive/MyDrive/Traffic SignBoard Recognition using Deep Learning/Dataset/YOLOV8 Format Dataset/test/images/axle_load_limit-53_jpg.rf.8d07a4ada4bd803899f90fac1e382615.jpg: 640x640 1 axle load limit, 229.5ms\n",
            "image 27/665 /content/drive/MyDrive/Traffic SignBoard Recognition using Deep Learning/Dataset/YOLOV8 Format Dataset/test/images/axle_load_limit-54_jpg.rf.f377ad18e584e40925e0ffa0980ca55e.jpg: 640x640 1 axle load limit, 233.5ms\n",
            "image 28/665 /content/drive/MyDrive/Traffic SignBoard Recognition using Deep Learning/Dataset/YOLOV8 Format Dataset/test/images/axle_load_limit-66_jpg.rf.7d1633db28bee56484479dbdbb735d8c.jpg: 640x640 1 axle load limit, 238.8ms\n",
            "image 29/665 /content/drive/MyDrive/Traffic SignBoard Recognition using Deep Learning/Dataset/YOLOV8 Format Dataset/test/images/compulsary_ahead-11_png_jpg.rf.ec3759c072c2820415fc2dd467672a72.jpg: 640x640 1 compulsary ahead, 227.7ms\n",
            "image 30/665 /content/drive/MyDrive/Traffic SignBoard Recognition using Deep Learning/Dataset/YOLOV8 Format Dataset/test/images/compulsary_ahead-12_png_jpg.rf.f06101a77178ee2f1bdc84de374f239b.jpg: 640x640 1 compulsary ahead, 235.8ms\n",
            "image 31/665 /content/drive/MyDrive/Traffic SignBoard Recognition using Deep Learning/Dataset/YOLOV8 Format Dataset/test/images/compulsary_ahead-18_png_jpg.rf.ac85c35dcbce31090bac4efd5af84045.jpg: 640x640 1 compulsary ahead, 234.6ms\n",
            "image 32/665 /content/drive/MyDrive/Traffic SignBoard Recognition using Deep Learning/Dataset/YOLOV8 Format Dataset/test/images/compulsary_ahead-1_png_jpg.rf.1e82c3c4965ff231ae06117a90e6ee10.jpg: 640x640 1 compulsary ahead, 227.9ms\n",
            "image 33/665 /content/drive/MyDrive/Traffic SignBoard Recognition using Deep Learning/Dataset/YOLOV8 Format Dataset/test/images/compulsary_ahead-26_png_jpg.rf.f96d477a5b9eee4a3d2db9c996c57c80.jpg: 640x640 1 compulsary ahead, 247.2ms\n",
            "image 34/665 /content/drive/MyDrive/Traffic SignBoard Recognition using Deep Learning/Dataset/YOLOV8 Format Dataset/test/images/compulsary_ahead-32_png_jpg.rf.2ca4b62ba7e45ae2538fb2b437a2b506.jpg: 640x640 1 compulsary ahead, 231.7ms\n",
            "image 35/665 /content/drive/MyDrive/Traffic SignBoard Recognition using Deep Learning/Dataset/YOLOV8 Format Dataset/test/images/compulsary_ahead-35_png_jpg.rf.9b68195a99b1fec14766a3abe29ec38c.jpg: 640x640 1 compulsary ahead, 223.7ms\n",
            "image 36/665 /content/drive/MyDrive/Traffic SignBoard Recognition using Deep Learning/Dataset/YOLOV8 Format Dataset/test/images/compulsary_ahead-36_png_jpg.rf.31fe8b2e69d322a5149b33d8ae0acc16.jpg: 640x640 1 compulsary ahead, 227.1ms\n",
            "image 37/665 /content/drive/MyDrive/Traffic SignBoard Recognition using Deep Learning/Dataset/YOLOV8 Format Dataset/test/images/compulsary_ahead-37_png_jpg.rf.df00f4e19891d4742ab850e24da42b81.jpg: 640x640 1 compulsary ahead, 243.7ms\n",
            "image 38/665 /content/drive/MyDrive/Traffic SignBoard Recognition using Deep Learning/Dataset/YOLOV8 Format Dataset/test/images/compulsary_ahead-47_png_jpg.rf.eb74ac0138649749bac2e7ff57b619f9.jpg: 640x640 1 compulsary ahead, 225.3ms\n",
            "image 39/665 /content/drive/MyDrive/Traffic SignBoard Recognition using Deep Learning/Dataset/YOLOV8 Format Dataset/test/images/compulsary_ahead-5_png_jpg.rf.040d9a480338c8995a286a9576aefabe.jpg: 640x640 1 compulsary ahead, 322.7ms\n",
            "image 40/665 /content/drive/MyDrive/Traffic SignBoard Recognition using Deep Learning/Dataset/YOLOV8 Format Dataset/test/images/compulsary_keep_left-11_jpg.rf.da650f1d3948aeee2e59f9ca7226debd.jpg: 640x640 1 compulsary keep left, 349.9ms\n",
            "image 41/665 /content/drive/MyDrive/Traffic SignBoard Recognition using Deep Learning/Dataset/YOLOV8 Format Dataset/test/images/compulsary_keep_left-14_jpg.rf.ae1b19e5361a41237b7c60b8250b4798.jpg: 640x640 1 compulsary keep left, 324.6ms\n",
            "image 42/665 /content/drive/MyDrive/Traffic SignBoard Recognition using Deep Learning/Dataset/YOLOV8 Format Dataset/test/images/compulsary_keep_left-19_jpg.rf.99cc1c1c97b0b91724c0daae571554b6.jpg: 640x640 1 compulsary keep left, 236.3ms\n",
            "image 43/665 /content/drive/MyDrive/Traffic SignBoard Recognition using Deep Learning/Dataset/YOLOV8 Format Dataset/test/images/compulsary_keep_left-1_png_jpg.rf.b6fafd56563ab32dba404653097b69e4.jpg: 640x640 1 compulsary keep left, 348.0ms\n",
            "image 44/665 /content/drive/MyDrive/Traffic SignBoard Recognition using Deep Learning/Dataset/YOLOV8 Format Dataset/test/images/compulsary_keep_left-32_jpg.rf.17c3630e0e181d52b9dd0e17432cb8ab.jpg: 640x640 1 compulsary keep left, 498.0ms\n",
            "image 45/665 /content/drive/MyDrive/Traffic SignBoard Recognition using Deep Learning/Dataset/YOLOV8 Format Dataset/test/images/compulsary_keep_left-33_jpg.rf.3f77a2f2e2a8a5c071196d1971b3fe6f.jpg: 640x640 1 compulsary keep left, 587.8ms\n",
            "image 46/665 /content/drive/MyDrive/Traffic SignBoard Recognition using Deep Learning/Dataset/YOLOV8 Format Dataset/test/images/compulsary_keep_left-45_png_jpg.rf.1a8beb01aa60a2c3612221464ebee60f.jpg: 640x640 1 compulsary keep right, 396.6ms\n",
            "image 47/665 /content/drive/MyDrive/Traffic SignBoard Recognition using Deep Learning/Dataset/YOLOV8 Format Dataset/test/images/compulsary_keep_left-49_jpg.rf.b3bb1cae6050ae1ed8da2b2cbe8a0de3.jpg: 640x640 (no detections), 330.5ms\n",
            "image 48/665 /content/drive/MyDrive/Traffic SignBoard Recognition using Deep Learning/Dataset/YOLOV8 Format Dataset/test/images/compulsary_keep_left-55_jpg.rf.b3f055c2446d671edc1ce53352293ddc.jpg: 640x640 1 compulsary keep left, 340.6ms\n",
            "image 49/665 /content/drive/MyDrive/Traffic SignBoard Recognition using Deep Learning/Dataset/YOLOV8 Format Dataset/test/images/compulsary_keep_left-58_jpg.rf.3303c7b6afce76d7c64493f9bf799a57.jpg: 640x640 1 compulsary keep left, 340.8ms\n",
            "image 50/665 /content/drive/MyDrive/Traffic SignBoard Recognition using Deep Learning/Dataset/YOLOV8 Format Dataset/test/images/compulsary_keep_left-59_jpg.rf.b95bc30067c2c2593d69f06b5b51aa39.jpg: 640x640 1 compulsary keep left, 1 compulsary keep right, 359.0ms\n",
            "image 51/665 /content/drive/MyDrive/Traffic SignBoard Recognition using Deep Learning/Dataset/YOLOV8 Format Dataset/test/images/compulsary_keep_left-5_jpg.rf.2ac24da89ea8f3a5cf6a43af65af9185.jpg: 640x640 1 compulsary keep right, 344.8ms\n",
            "image 52/665 /content/drive/MyDrive/Traffic SignBoard Recognition using Deep Learning/Dataset/YOLOV8 Format Dataset/test/images/compulsary_keep_left-6_jpg.rf.09119277178dd7e289febe59a4452182.jpg: 640x640 1 compulsary keep right, 367.1ms\n",
            "image 53/665 /content/drive/MyDrive/Traffic SignBoard Recognition using Deep Learning/Dataset/YOLOV8 Format Dataset/test/images/compulsary_keep_right-0_jpg.rf.33f8a8d1a39cad3f6864989f516903a8.jpg: 640x640 1 compulsary keep left, 1 pass either side, 340.1ms\n",
            "image 54/665 /content/drive/MyDrive/Traffic SignBoard Recognition using Deep Learning/Dataset/YOLOV8 Format Dataset/test/images/compulsary_keep_right-16_png_jpg.rf.bae9e148631ac7717f2df8539fcadee0.jpg: 640x640 1 compulsary keep right, 342.4ms\n",
            "image 55/665 /content/drive/MyDrive/Traffic SignBoard Recognition using Deep Learning/Dataset/YOLOV8 Format Dataset/test/images/compulsary_keep_right-21_png_jpg.rf.437379e1b6c9858731b62c9576cfcedc.jpg: 640x640 1 compulsary keep right, 353.1ms\n",
            "image 56/665 /content/drive/MyDrive/Traffic SignBoard Recognition using Deep Learning/Dataset/YOLOV8 Format Dataset/test/images/compulsary_keep_right-23_png_jpg.rf.19610966232fabbc7a6c4aeb4697ce15.jpg: 640x640 1 compulsary keep right, 360.3ms\n",
            "image 57/665 /content/drive/MyDrive/Traffic SignBoard Recognition using Deep Learning/Dataset/YOLOV8 Format Dataset/test/images/compulsary_keep_right-30_png_jpg.rf.b0dc8763da8eb443230903a0a7a9bcdc.jpg: 640x640 1 compulsary keep right, 359.4ms\n",
            "image 58/665 /content/drive/MyDrive/Traffic SignBoard Recognition using Deep Learning/Dataset/YOLOV8 Format Dataset/test/images/compulsary_keep_right-37_png_jpg.rf.1ca1e5e1d28592f88a14ee01ac6dd342.jpg: 640x640 1 compulsary keep right, 256.8ms\n",
            "image 59/665 /content/drive/MyDrive/Traffic SignBoard Recognition using Deep Learning/Dataset/YOLOV8 Format Dataset/test/images/compulsary_keep_right-50_png_jpg.rf.a4b047086f22a19d1469493361e8a3fa.jpg: 640x640 1 compulsary keep left, 230.0ms\n",
            "image 60/665 /content/drive/MyDrive/Traffic SignBoard Recognition using Deep Learning/Dataset/YOLOV8 Format Dataset/test/images/compulsary_keep_right-55_jpeg_jpg.rf.1e0fe3249029d870168ac8e7ed527118.jpg: 640x640 1 compulsary keep left, 215.8ms\n",
            "image 61/665 /content/drive/MyDrive/Traffic SignBoard Recognition using Deep Learning/Dataset/YOLOV8 Format Dataset/test/images/compulsary_keep_right-61_png_jpg.rf.0f73956ea8df453b9c97e428bcc5e1bc.jpg: 640x640 1 compulsary keep right, 223.3ms\n",
            "image 62/665 /content/drive/MyDrive/Traffic SignBoard Recognition using Deep Learning/Dataset/YOLOV8 Format Dataset/test/images/compulsary_keep_right-7_png_jpg.rf.45476e52241df729cc613818a717aae9.jpg: 640x640 1 compulsary keep right, 213.9ms\n",
            "image 63/665 /content/drive/MyDrive/Traffic SignBoard Recognition using Deep Learning/Dataset/YOLOV8 Format Dataset/test/images/compulsary_turn_left_ahead-14_png_jpg.rf.c8c5df6721ee783c8da8fa58e2479610.jpg: 640x640 1 compulsary turn left ahead, 1 compulsary turn right ahead, 236.5ms\n",
            "image 64/665 /content/drive/MyDrive/Traffic SignBoard Recognition using Deep Learning/Dataset/YOLOV8 Format Dataset/test/images/compulsary_turn_left_ahead-16_png_jpg.rf.f224549c87292b9cc00674954a39c4af.jpg: 640x640 1 compulsary turn left ahead, 217.0ms\n",
            "image 65/665 /content/drive/MyDrive/Traffic SignBoard Recognition using Deep Learning/Dataset/YOLOV8 Format Dataset/test/images/compulsary_turn_left_ahead-19_jpg.rf.5d698aaa87ae362d7ca49f5a510d70af.jpg: 640x640 1 compulsary turn left ahead, 221.5ms\n",
            "image 66/665 /content/drive/MyDrive/Traffic SignBoard Recognition using Deep Learning/Dataset/YOLOV8 Format Dataset/test/images/compulsary_turn_left_ahead-23_png_jpg.rf.d624fa94f8457ec32d3afaca920ee761.jpg: 640x640 1 compulsary turn right ahead, 232.9ms\n",
            "image 67/665 /content/drive/MyDrive/Traffic SignBoard Recognition using Deep Learning/Dataset/YOLOV8 Format Dataset/test/images/compulsary_turn_left_ahead-25_png_jpg.rf.94035a565bc1ca9dcee58831f3d58452.jpg: 640x640 1 compulsary turn right ahead, 240.8ms\n",
            "image 68/665 /content/drive/MyDrive/Traffic SignBoard Recognition using Deep Learning/Dataset/YOLOV8 Format Dataset/test/images/compulsary_turn_left_ahead-28_jpg.rf.f9b534eb45d229f3d175b9e90f5f1488.jpg: 640x640 1 compulsary turn right ahead, 217.7ms\n",
            "image 69/665 /content/drive/MyDrive/Traffic SignBoard Recognition using Deep Learning/Dataset/YOLOV8 Format Dataset/test/images/compulsary_turn_left_ahead-29_jpg.rf.f6a192fad6a304175b59e0d2d7bc94d3.jpg: 640x640 1 compulsary turn left ahead, 219.8ms\n",
            "image 70/665 /content/drive/MyDrive/Traffic SignBoard Recognition using Deep Learning/Dataset/YOLOV8 Format Dataset/test/images/compulsary_turn_left_ahead-34_png_jpg.rf.c7bbfdf6566b702f763600c50c300af9.jpg: 640x640 1 compulsary turn left ahead, 230.0ms\n",
            "image 71/665 /content/drive/MyDrive/Traffic SignBoard Recognition using Deep Learning/Dataset/YOLOV8 Format Dataset/test/images/compulsary_turn_left_ahead-37_png_jpg.rf.66a62d5cc80566a5af2210d30184c4a8.jpg: 640x640 1 compulsary turn left ahead, 236.8ms\n",
            "image 72/665 /content/drive/MyDrive/Traffic SignBoard Recognition using Deep Learning/Dataset/YOLOV8 Format Dataset/test/images/compulsary_turn_left_ahead-3_png_jpg.rf.4d2cf5db2f0be4fc06676b9e184995f3.jpg: 640x640 1 compulsary turn left ahead, 223.4ms\n",
            "image 73/665 /content/drive/MyDrive/Traffic SignBoard Recognition using Deep Learning/Dataset/YOLOV8 Format Dataset/test/images/compulsary_turn_left_ahead-42_png_jpg.rf.78fc3f78c6aecf53743afb6178f25c98.jpg: 640x640 1 compulsary turn left ahead, 228.4ms\n",
            "image 74/665 /content/drive/MyDrive/Traffic SignBoard Recognition using Deep Learning/Dataset/YOLOV8 Format Dataset/test/images/compulsary_turn_left_ahead-4_png_jpg.rf.1ea0fab535f428d17ea45311e2fe0e8b.jpg: 640x640 1 compulsary turn left ahead, 231.2ms\n",
            "image 75/665 /content/drive/MyDrive/Traffic SignBoard Recognition using Deep Learning/Dataset/YOLOV8 Format Dataset/test/images/compulsary_turn_left_ahead-52_jpeg_jpg.rf.72b4e92e99875c2ad20229c982e48704.jpg: 640x640 1 compulsary turn right ahead, 235.1ms\n",
            "image 76/665 /content/drive/MyDrive/Traffic SignBoard Recognition using Deep Learning/Dataset/YOLOV8 Format Dataset/test/images/compulsary_turn_left_ahead-54_png_jpg.rf.478cf85f5395c2aa0ee4a7e2f9c85ac3.jpg: 640x640 1 compulsary turn left ahead, 218.7ms\n",
            "image 77/665 /content/drive/MyDrive/Traffic SignBoard Recognition using Deep Learning/Dataset/YOLOV8 Format Dataset/test/images/compulsary_turn_left_ahead-56_jpeg_jpg.rf.4c9306f9e833e93eba88086484a23020.jpg: 640x640 1 compulsary turn left ahead, 219.0ms\n",
            "image 78/665 /content/drive/MyDrive/Traffic SignBoard Recognition using Deep Learning/Dataset/YOLOV8 Format Dataset/test/images/compulsary_turn_right_ahead-11_png_jpg.rf.62aa07c7af02854fac4e7aaa63291441.jpg: 640x640 1 compulsary turn right ahead, 217.2ms\n",
            "image 79/665 /content/drive/MyDrive/Traffic SignBoard Recognition using Deep Learning/Dataset/YOLOV8 Format Dataset/test/images/compulsary_turn_right_ahead-19_png_jpg.rf.fecb46e93bc160a9b50a9be8eb7635bb.jpg: 640x640 1 compulsary turn right ahead, 238.4ms\n",
            "image 80/665 /content/drive/MyDrive/Traffic SignBoard Recognition using Deep Learning/Dataset/YOLOV8 Format Dataset/test/images/compulsary_turn_right_ahead-21_png_jpg.rf.9ad37a7ea725cf549ff1c58136878acb.jpg: 640x640 1 compulsary turn right ahead, 225.2ms\n",
            "image 81/665 /content/drive/MyDrive/Traffic SignBoard Recognition using Deep Learning/Dataset/YOLOV8 Format Dataset/test/images/compulsary_turn_right_ahead-26_png_jpg.rf.932989bc649606c21fe16a34169c0974.jpg: 640x640 1 compulsary turn right ahead, 220.3ms\n",
            "image 82/665 /content/drive/MyDrive/Traffic SignBoard Recognition using Deep Learning/Dataset/YOLOV8 Format Dataset/test/images/compulsary_turn_right_ahead-33_png_jpg.rf.576437d842190ed4e35c0d00328a5e91.jpg: 640x640 1 compulsary turn right ahead, 213.0ms\n",
            "image 83/665 /content/drive/MyDrive/Traffic SignBoard Recognition using Deep Learning/Dataset/YOLOV8 Format Dataset/test/images/compulsary_turn_right_ahead-36_png_jpg.rf.beb707cb0e8a9a3fd463274d11364abe.jpg: 640x640 1 compulsary turn right ahead, 216.2ms\n",
            "image 84/665 /content/drive/MyDrive/Traffic SignBoard Recognition using Deep Learning/Dataset/YOLOV8 Format Dataset/test/images/compulsary_turn_right_ahead-37_png_jpg.rf.917fac3060ff909003d30898e824b6f8.jpg: 640x640 1 compulsary turn right ahead, 220.9ms\n",
            "image 85/665 /content/drive/MyDrive/Traffic SignBoard Recognition using Deep Learning/Dataset/YOLOV8 Format Dataset/test/images/compulsary_turn_right_ahead-40_png_jpg.rf.7e468fb0da9aeb685ae065aa6a110276.jpg: 640x640 1 compulsary turn right ahead, 213.3ms\n",
            "image 86/665 /content/drive/MyDrive/Traffic SignBoard Recognition using Deep Learning/Dataset/YOLOV8 Format Dataset/test/images/compulsary_turn_right_ahead-48_png_jpg.rf.a3ca9368c5eb1e5504f4f5f2eb8cd696.jpg: 640x640 1 compulsary turn right ahead, 221.5ms\n",
            "image 87/665 /content/drive/MyDrive/Traffic SignBoard Recognition using Deep Learning/Dataset/YOLOV8 Format Dataset/test/images/compulsary_turn_right_ahead-49_png_jpg.rf.73bab253d9d14871b509c90c21bf8d4d.jpg: 640x640 1 compulsary turn right ahead, 220.4ms\n",
            "image 88/665 /content/drive/MyDrive/Traffic SignBoard Recognition using Deep Learning/Dataset/YOLOV8 Format Dataset/test/images/compulsary_turn_right_ahead-56_jpg.rf.6ae6daddf963ee240bdab417a5b842ec.jpg: 640x640 1 compulsary turn right ahead, 234.0ms\n",
            "image 89/665 /content/drive/MyDrive/Traffic SignBoard Recognition using Deep Learning/Dataset/YOLOV8 Format Dataset/test/images/compulsary_turn_right_ahead-6_jpg.rf.ec7cb2d675846d1a83e778a391849d29.jpg: 640x640 1 compulsary turn right ahead, 215.3ms\n",
            "image 90/665 /content/drive/MyDrive/Traffic SignBoard Recognition using Deep Learning/Dataset/YOLOV8 Format Dataset/test/images/cross_road-0_jpg.rf.e2992ecddef19f47a1641b5d9400a64f.jpg: 640x640 1 cross road, 227.0ms\n",
            "image 91/665 /content/drive/MyDrive/Traffic SignBoard Recognition using Deep Learning/Dataset/YOLOV8 Format Dataset/test/images/cross_road-11_jpg.rf.9bad608e73948aa7536a7c2f3d31ae2f.jpg: 640x640 1 compulsary keep left, 1 cross road, 218.9ms\n",
            "image 92/665 /content/drive/MyDrive/Traffic SignBoard Recognition using Deep Learning/Dataset/YOLOV8 Format Dataset/test/images/cross_road-12_jpg.rf.fbe509df827775b1252711029b98b51f.jpg: 640x640 1 cross road, 255.8ms\n",
            "image 93/665 /content/drive/MyDrive/Traffic SignBoard Recognition using Deep Learning/Dataset/YOLOV8 Format Dataset/test/images/cross_road-16_jpg.rf.7f45a59ce9dbe8c62728b0a8b52f3513.jpg: 640x640 1 cross road, 229.7ms\n",
            "image 94/665 /content/drive/MyDrive/Traffic SignBoard Recognition using Deep Learning/Dataset/YOLOV8 Format Dataset/test/images/cross_road-25_jpg.rf.7dae55134fa9476503105e1f5af1243a.jpg: 640x640 1 cross road, 236.3ms\n",
            "image 95/665 /content/drive/MyDrive/Traffic SignBoard Recognition using Deep Learning/Dataset/YOLOV8 Format Dataset/test/images/cross_road-28_jpg.rf.d4cc95e4e1ef1a8f2dd60482069c6268.jpg: 640x640 1 cross road, 227.2ms\n",
            "image 96/665 /content/drive/MyDrive/Traffic SignBoard Recognition using Deep Learning/Dataset/YOLOV8 Format Dataset/test/images/cross_road-31_jpg.rf.abfd9f8349e5b6c8362aa4f04e773e61.jpg: 640x640 1 cross road, 217.4ms\n",
            "image 97/665 /content/drive/MyDrive/Traffic SignBoard Recognition using Deep Learning/Dataset/YOLOV8 Format Dataset/test/images/cross_road-34_jpg.rf.6dd9fac790d58ffbfb2d78feafe15a65.jpg: 640x640 1 cross road, 259.4ms\n",
            "image 98/665 /content/drive/MyDrive/Traffic SignBoard Recognition using Deep Learning/Dataset/YOLOV8 Format Dataset/test/images/cross_road-38_jpg.rf.83df8533c1ca7ca258097344c4323a23.jpg: 640x640 1 cross road, 332.4ms\n",
            "image 99/665 /content/drive/MyDrive/Traffic SignBoard Recognition using Deep Learning/Dataset/YOLOV8 Format Dataset/test/images/cross_road-39_jpg.rf.0072698310813cd19c4683cb233821a4.jpg: 640x640 1 cross road, 340.0ms\n",
            "image 100/665 /content/drive/MyDrive/Traffic SignBoard Recognition using Deep Learning/Dataset/YOLOV8 Format Dataset/test/images/cross_road-46_jpg.rf.af369debc93c30f33d8f469b0bb4662f.jpg: 640x640 1 cross road, 322.8ms\n",
            "image 101/665 /content/drive/MyDrive/Traffic SignBoard Recognition using Deep Learning/Dataset/YOLOV8 Format Dataset/test/images/cross_road-47_jpg.rf.88b0fe60f916b38b96f2c8054666ee8a.jpg: 640x640 1 cross road, 369.5ms\n",
            "image 102/665 /content/drive/MyDrive/Traffic SignBoard Recognition using Deep Learning/Dataset/YOLOV8 Format Dataset/test/images/cross_road-57_jpg.rf.ddd01f469c72600b0dc39cb8c949fff3.jpg: 640x640 1 cross road, 344.0ms\n",
            "image 103/665 /content/drive/MyDrive/Traffic SignBoard Recognition using Deep Learning/Dataset/YOLOV8 Format Dataset/test/images/cross_road-5_jpg.rf.456ab0316bb4a710fa6d3e49b3b6185d.jpg: 640x640 1 cross road, 342.9ms\n",
            "image 104/665 /content/drive/MyDrive/Traffic SignBoard Recognition using Deep Learning/Dataset/YOLOV8 Format Dataset/test/images/dangerous_dip-12_jpg.rf.404e6e9d6a8855e7fac188d05e776c7a.jpg: 640x640 1 dangerous dip, 340.6ms\n",
            "image 105/665 /content/drive/MyDrive/Traffic SignBoard Recognition using Deep Learning/Dataset/YOLOV8 Format Dataset/test/images/dangerous_dip-15_jpg.rf.1dd533dc155e1133fea1e5ad39172a20.jpg: 640x640 1 dangerous dip, 340.2ms\n",
            "image 106/665 /content/drive/MyDrive/Traffic SignBoard Recognition using Deep Learning/Dataset/YOLOV8 Format Dataset/test/images/dangerous_dip-16_jpg.rf.e2eeb099761a3e3a53a59c9c4393fc57.jpg: 640x640 1 dangerous dip, 359.3ms\n",
            "image 107/665 /content/drive/MyDrive/Traffic SignBoard Recognition using Deep Learning/Dataset/YOLOV8 Format Dataset/test/images/dangerous_dip-26_jpeg_jpg.rf.3e00b9bfd10c3db289039fa8ef60b47b.jpg: 640x640 1 dangerous dip, 349.8ms\n",
            "image 108/665 /content/drive/MyDrive/Traffic SignBoard Recognition using Deep Learning/Dataset/YOLOV8 Format Dataset/test/images/dangerous_dip-2_jpg.rf.e790c40876aef22cbe95b37148734277.jpg: 640x640 1 dangerous dip, 334.7ms\n",
            "image 109/665 /content/drive/MyDrive/Traffic SignBoard Recognition using Deep Learning/Dataset/YOLOV8 Format Dataset/test/images/dangerous_dip-36_jpeg_jpg.rf.94aac3aae4aa524aae3d0ed30a62a2a9.jpg: 640x640 1 dangerous dip, 344.7ms\n",
            "image 110/665 /content/drive/MyDrive/Traffic SignBoard Recognition using Deep Learning/Dataset/YOLOV8 Format Dataset/test/images/dangerous_dip-3_jpg.rf.fe9164491384ad40989a8dabd1577081.jpg: 640x640 1 dangerous dip, 360.8ms\n",
            "image 111/665 /content/drive/MyDrive/Traffic SignBoard Recognition using Deep Learning/Dataset/YOLOV8 Format Dataset/test/images/dangerous_dip-47_jpg.rf.b3f21c4af5f4140b3785929d662b2852.jpg: 640x640 1 dangerous dip, 337.0ms\n",
            "image 112/665 /content/drive/MyDrive/Traffic SignBoard Recognition using Deep Learning/Dataset/YOLOV8 Format Dataset/test/images/dangerous_dip-5_jpg.rf.251084d568887df41957098a1311c4ae.jpg: 640x640 1 dangerous dip, 344.7ms\n",
            "image 113/665 /content/drive/MyDrive/Traffic SignBoard Recognition using Deep Learning/Dataset/YOLOV8 Format Dataset/test/images/dangerous_dip-6_png_jpg.rf.970e75f2a805cd14bb84164e8a1f5a7b.jpg: 640x640 1 dangerous dip, 252.8ms\n",
            "image 114/665 /content/drive/MyDrive/Traffic SignBoard Recognition using Deep Learning/Dataset/YOLOV8 Format Dataset/test/images/falling_rocks-10_jpeg_jpg.rf.6c06f7b77175c56db266ade17437e4a1.jpg: 640x640 1 falling rocks, 1 overtaking prohibited, 215.9ms\n",
            "image 115/665 /content/drive/MyDrive/Traffic SignBoard Recognition using Deep Learning/Dataset/YOLOV8 Format Dataset/test/images/falling_rocks-18_jpg.rf.84bf2e3dfde70721a7120d4bad240d7f.jpg: 640x640 1 falling rocks, 224.0ms\n",
            "image 116/665 /content/drive/MyDrive/Traffic SignBoard Recognition using Deep Learning/Dataset/YOLOV8 Format Dataset/test/images/falling_rocks-20_jpg.rf.679024d8bd39ba0bdb8c32740a8dc8f3.jpg: 640x640 1 falling rocks, 219.9ms\n",
            "image 117/665 /content/drive/MyDrive/Traffic SignBoard Recognition using Deep Learning/Dataset/YOLOV8 Format Dataset/test/images/falling_rocks-21_jpeg_jpg.rf.7df6edd0aa2cb3b023f6e8171efe487a.jpg: 640x640 1 falling rocks, 250.9ms\n",
            "image 118/665 /content/drive/MyDrive/Traffic SignBoard Recognition using Deep Learning/Dataset/YOLOV8 Format Dataset/test/images/falling_rocks-23_jpeg_jpg.rf.624052bb876ffe95776823ad4c48ac65.jpg: 640x640 1 falling rocks, 214.8ms\n",
            "image 119/665 /content/drive/MyDrive/Traffic SignBoard Recognition using Deep Learning/Dataset/YOLOV8 Format Dataset/test/images/falling_rocks-24_jpeg_jpg.rf.8d2e99c5426c2e28bf0aa7065ad7ef25.jpg: 640x640 1 falling rocks, 222.5ms\n",
            "image 120/665 /content/drive/MyDrive/Traffic SignBoard Recognition using Deep Learning/Dataset/YOLOV8 Format Dataset/test/images/falling_rocks-28_jpeg_jpg.rf.c08e14cf1cf04ec12880f1fb00c3f64b.jpg: 640x640 1 falling rocks, 217.6ms\n",
            "image 121/665 /content/drive/MyDrive/Traffic SignBoard Recognition using Deep Learning/Dataset/YOLOV8 Format Dataset/test/images/falling_rocks-29_jpg.rf.caf0728ed5519bf7e1c7b4f1d136632c.jpg: 640x640 1 falling rocks, 230.8ms\n",
            "image 122/665 /content/drive/MyDrive/Traffic SignBoard Recognition using Deep Learning/Dataset/YOLOV8 Format Dataset/test/images/falling_rocks-32_jpeg_jpg.rf.807df4caca26e2b92d1eaf4fe16dcfab.jpg: 640x640 1 falling rocks, 225.2ms\n",
            "image 123/665 /content/drive/MyDrive/Traffic SignBoard Recognition using Deep Learning/Dataset/YOLOV8 Format Dataset/test/images/falling_rocks-41_jpeg_jpg.rf.5ab613e216791f4d3f9e0344f9101271.jpg: 640x640 1 falling rocks, 223.6ms\n",
            "image 124/665 /content/drive/MyDrive/Traffic SignBoard Recognition using Deep Learning/Dataset/YOLOV8 Format Dataset/test/images/falling_rocks-43_jpeg_jpg.rf.64e3a23f7a51e2feb58751d97e55ad46.jpg: 640x640 1 falling rocks, 218.5ms\n",
            "image 125/665 /content/drive/MyDrive/Traffic SignBoard Recognition using Deep Learning/Dataset/YOLOV8 Format Dataset/test/images/falling_rocks-46_jpeg_jpg.rf.e7f7061615fb4054797a0e22291d1735.jpg: 640x640 1 falling rocks, 233.4ms\n",
            "image 126/665 /content/drive/MyDrive/Traffic SignBoard Recognition using Deep Learning/Dataset/YOLOV8 Format Dataset/test/images/falling_rocks-49_jpg.rf.faf65642bff84b78e2285d006b78621a.jpg: 640x640 1 falling rocks, 216.0ms\n",
            "image 127/665 /content/drive/MyDrive/Traffic SignBoard Recognition using Deep Learning/Dataset/YOLOV8 Format Dataset/test/images/falling_rocks-51_jpg.rf.0b5aac27ae5dc5b2978f5802ae5606de.jpg: 640x640 1 falling rocks, 225.9ms\n",
            "image 128/665 /content/drive/MyDrive/Traffic SignBoard Recognition using Deep Learning/Dataset/YOLOV8 Format Dataset/test/images/falling_rocks-54_jpeg_jpg.rf.f7d70f5e47e27ce182491c716e38d500.jpg: 640x640 1 falling rocks, 239.0ms\n",
            "image 129/665 /content/drive/MyDrive/Traffic SignBoard Recognition using Deep Learning/Dataset/YOLOV8 Format Dataset/test/images/falling_rocks-58_jpg.rf.9a58087922318cd68253db2c74816341.jpg: 640x640 1 falling rocks, 231.3ms\n",
            "image 130/665 /content/drive/MyDrive/Traffic SignBoard Recognition using Deep Learning/Dataset/YOLOV8 Format Dataset/test/images/falling_rocks-5_jpg.rf.70e22b4d7dced1b1572daea0834f7884.jpg: 640x640 1 falling rocks, 234.0ms\n",
            "image 131/665 /content/drive/MyDrive/Traffic SignBoard Recognition using Deep Learning/Dataset/YOLOV8 Format Dataset/test/images/falling_rocks-60_jpg.rf.52405bbe76b646260fc3e5c572ef27ba.jpg: 640x640 1 falling rocks, 225.5ms\n",
            "image 132/665 /content/drive/MyDrive/Traffic SignBoard Recognition using Deep Learning/Dataset/YOLOV8 Format Dataset/test/images/falling_rocks-61_jpg.rf.0a1b8c8151e60e4c55f3ab6e94dd13ef.jpg: 640x640 1 falling rocks, 225.4ms\n",
            "image 133/665 /content/drive/MyDrive/Traffic SignBoard Recognition using Deep Learning/Dataset/YOLOV8 Format Dataset/test/images/falling_rocks-63_jpg.rf.c0baac30567f0b273386612ac17541d4.jpg: 640x640 1 falling rocks, 232.3ms\n",
            "image 134/665 /content/drive/MyDrive/Traffic SignBoard Recognition using Deep Learning/Dataset/YOLOV8 Format Dataset/test/images/falling_rocks-7_jpg.rf.c787de755122e1b8bc999ad36313ae9b.jpg: 640x640 1 falling rocks, 228.5ms\n",
            "image 135/665 /content/drive/MyDrive/Traffic SignBoard Recognition using Deep Learning/Dataset/YOLOV8 Format Dataset/test/images/gap_in_median-12_jpg.rf.a0c2dd4816e2b38c548955c79d619b54.jpg: 640x640 1 gap in median, 225.4ms\n",
            "image 136/665 /content/drive/MyDrive/Traffic SignBoard Recognition using Deep Learning/Dataset/YOLOV8 Format Dataset/test/images/gap_in_median-17_jpg.rf.eeb28502b2f3ffb510f3991f6b12553b.jpg: 640x640 (no detections), 228.4ms\n",
            "image 137/665 /content/drive/MyDrive/Traffic SignBoard Recognition using Deep Learning/Dataset/YOLOV8 Format Dataset/test/images/gap_in_median-26_jpg.rf.d7b8d71a7d5bb5367473d926f5ca2445.jpg: 640x640 1 gap in median, 228.5ms\n",
            "image 138/665 /content/drive/MyDrive/Traffic SignBoard Recognition using Deep Learning/Dataset/YOLOV8 Format Dataset/test/images/gap_in_median-32_jpg.rf.6cceed81ecdae03a52984321c90e4ca6.jpg: 640x640 1 gap in median, 219.7ms\n",
            "image 139/665 /content/drive/MyDrive/Traffic SignBoard Recognition using Deep Learning/Dataset/YOLOV8 Format Dataset/test/images/gap_in_median-33_jpg.rf.f054a840b28e1be315d99a577c4055e3.jpg: 640x640 1 gap in median, 233.5ms\n",
            "image 140/665 /content/drive/MyDrive/Traffic SignBoard Recognition using Deep Learning/Dataset/YOLOV8 Format Dataset/test/images/gap_in_median-39_jpg.rf.ab1df63536801548a4d697244d9aecfb.jpg: 640x640 1 gap in median, 222.5ms\n",
            "image 141/665 /content/drive/MyDrive/Traffic SignBoard Recognition using Deep Learning/Dataset/YOLOV8 Format Dataset/test/images/gap_in_median-3_jpg.rf.4c3af4caf98eabc3a7c3215d4aaf77a5.jpg: 640x640 1 gap in median, 238.4ms\n",
            "image 142/665 /content/drive/MyDrive/Traffic SignBoard Recognition using Deep Learning/Dataset/YOLOV8 Format Dataset/test/images/gap_in_median-41_jpg.rf.cc71bfdf7b6eccf59ee9ffb2965ea7d3.jpg: 640x640 1 gap in median, 222.7ms\n",
            "image 143/665 /content/drive/MyDrive/Traffic SignBoard Recognition using Deep Learning/Dataset/YOLOV8 Format Dataset/test/images/gap_in_median-43_jpg.rf.2b57d07864489e8d7d4f910f3e3d2e6a.jpg: 640x640 1 gap in median, 245.1ms\n",
            "image 144/665 /content/drive/MyDrive/Traffic SignBoard Recognition using Deep Learning/Dataset/YOLOV8 Format Dataset/test/images/give_way-10_png_jpg.rf.b1ba0cabb92a26bb8865b843cb49ff99.jpg: 640x640 1 give way, 215.3ms\n",
            "image 145/665 /content/drive/MyDrive/Traffic SignBoard Recognition using Deep Learning/Dataset/YOLOV8 Format Dataset/test/images/give_way-14_png_jpg.rf.2f1e544c0f4c751274762354f8c5d1c1.jpg: 640x640 1 give way, 249.8ms\n",
            "image 146/665 /content/drive/MyDrive/Traffic SignBoard Recognition using Deep Learning/Dataset/YOLOV8 Format Dataset/test/images/give_way-17_png_jpg.rf.6d30861030ba12b0ecafc4d8bebacd6d.jpg: 640x640 1 give way, 228.4ms\n",
            "image 147/665 /content/drive/MyDrive/Traffic SignBoard Recognition using Deep Learning/Dataset/YOLOV8 Format Dataset/test/images/give_way-24_png_jpg.rf.4e49cf51737f46b92aa79890e0d985c2.jpg: 640x640 1 give way, 218.2ms\n",
            "image 148/665 /content/drive/MyDrive/Traffic SignBoard Recognition using Deep Learning/Dataset/YOLOV8 Format Dataset/test/images/give_way-27_png_jpg.rf.32b7afc28e76d72520310ff7ee79125e.jpg: 640x640 1 give way, 220.0ms\n",
            "image 149/665 /content/drive/MyDrive/Traffic SignBoard Recognition using Deep Learning/Dataset/YOLOV8 Format Dataset/test/images/give_way-2_png_jpg.rf.54d599e25c583ee1116da5e66821ddeb.jpg: 640x640 1 give way, 252.2ms\n",
            "image 150/665 /content/drive/MyDrive/Traffic SignBoard Recognition using Deep Learning/Dataset/YOLOV8 Format Dataset/test/images/give_way-33_png_jpg.rf.6287bc87fe598d165c666426ff17deb4.jpg: 640x640 1 give way, 229.8ms\n",
            "image 151/665 /content/drive/MyDrive/Traffic SignBoard Recognition using Deep Learning/Dataset/YOLOV8 Format Dataset/test/images/give_way-4_png_jpg.rf.63c4e3db74164f9604823269e616ff03.jpg: 640x640 1 give way, 221.4ms\n",
            "image 152/665 /content/drive/MyDrive/Traffic SignBoard Recognition using Deep Learning/Dataset/YOLOV8 Format Dataset/test/images/give_way-62_jpg.rf.1cb317ee85387f980f6c2a2c340ca522.jpg: 640x640 1 give way, 342.5ms\n",
            "image 153/665 /content/drive/MyDrive/Traffic SignBoard Recognition using Deep Learning/Dataset/YOLOV8 Format Dataset/test/images/give_way-63_jpg.rf.78f9d3abd34e2ff301333fcf73325542.jpg: 640x640 1 give way, 340.9ms\n",
            "image 154/665 /content/drive/MyDrive/Traffic SignBoard Recognition using Deep Learning/Dataset/YOLOV8 Format Dataset/test/images/give_way-66_jpg.rf.748f0cccd8a3c54865f071587b4b3d3a.jpg: 640x640 1 give way, 357.6ms\n",
            "image 155/665 /content/drive/MyDrive/Traffic SignBoard Recognition using Deep Learning/Dataset/YOLOV8 Format Dataset/test/images/give_way-67_jpg.rf.27e4492a16c31b4f40688b6a19a5eca8.jpg: 640x640 1 give way, 340.0ms\n",
            "image 156/665 /content/drive/MyDrive/Traffic SignBoard Recognition using Deep Learning/Dataset/YOLOV8 Format Dataset/test/images/give_way-9_png_jpg.rf.d7520230d9922ae8517ab51218337049.jpg: 640x640 1 give way, 333.3ms\n",
            "image 157/665 /content/drive/MyDrive/Traffic SignBoard Recognition using Deep Learning/Dataset/YOLOV8 Format Dataset/test/images/guarded_level_crossing-13_jpeg_jpg.rf.29efead57fcf7e9aba4170c3f18ae3fc.jpg: 640x640 1 guarded level crossing, 326.9ms\n",
            "image 158/665 /content/drive/MyDrive/Traffic SignBoard Recognition using Deep Learning/Dataset/YOLOV8 Format Dataset/test/images/guarded_level_crossing-16_jpg.rf.628e780ffce6aec18aba947b12ce6fca.jpg: 640x640 1 guarded level crossing, 332.0ms\n",
            "image 159/665 /content/drive/MyDrive/Traffic SignBoard Recognition using Deep Learning/Dataset/YOLOV8 Format Dataset/test/images/guarded_level_crossing-20_jpg.rf.2a5d61dbfbdef4caa9229ac0eae584f7.jpg: 640x640 1 guarded level crossing, 322.6ms\n",
            "image 160/665 /content/drive/MyDrive/Traffic SignBoard Recognition using Deep Learning/Dataset/YOLOV8 Format Dataset/test/images/guarded_level_crossing-22_jpg.rf.029517fe48d6a5f932aea1b42d39a31e.jpg: 640x640 1 guarded level crossing, 355.7ms\n",
            "image 161/665 /content/drive/MyDrive/Traffic SignBoard Recognition using Deep Learning/Dataset/YOLOV8 Format Dataset/test/images/guarded_level_crossing-29_png_jpg.rf.767a3fc3611f6e2de94e38d36dbb092d.jpg: 640x640 1 guarded level crossing, 361.6ms\n",
            "image 162/665 /content/drive/MyDrive/Traffic SignBoard Recognition using Deep Learning/Dataset/YOLOV8 Format Dataset/test/images/guarded_level_crossing-30_jpg.rf.d7f83ad584e354184ebbf5a1a5c8844d.jpg: 640x640 1 guarded level crossing, 340.4ms\n",
            "image 163/665 /content/drive/MyDrive/Traffic SignBoard Recognition using Deep Learning/Dataset/YOLOV8 Format Dataset/test/images/guarded_level_crossing-34_jpg.rf.5cfff31696a56cf0cb398bdd0aaf73c0.jpg: 640x640 1 guarded level crossing, 338.0ms\n",
            "image 164/665 /content/drive/MyDrive/Traffic SignBoard Recognition using Deep Learning/Dataset/YOLOV8 Format Dataset/test/images/guarded_level_crossing-36_jpeg_jpg.rf.05aff31575c179aca4a7097499dfe3e3.jpg: 640x640 1 guarded level crossing, 351.5ms\n",
            "image 165/665 /content/drive/MyDrive/Traffic SignBoard Recognition using Deep Learning/Dataset/YOLOV8 Format Dataset/test/images/guarded_level_crossing-38_jpg.rf.e8f6f9e7779dbf2cdb6429179bcbd206.jpg: 640x640 1 guarded level crossing, 335.6ms\n",
            "image 166/665 /content/drive/MyDrive/Traffic SignBoard Recognition using Deep Learning/Dataset/YOLOV8 Format Dataset/test/images/guarded_level_crossing-45_jpg.rf.08eb9c2fe64d0f79d63844456dea22cd.jpg: 640x640 1 guarded level crossing, 334.8ms\n",
            "image 167/665 /content/drive/MyDrive/Traffic SignBoard Recognition using Deep Learning/Dataset/YOLOV8 Format Dataset/test/images/guarded_level_crossing-48_jpg.rf.02fe06028f3706a99cf0ecd31631cd6b.jpg: 640x640 1 guarded level crossing, 331.5ms\n",
            "image 168/665 /content/drive/MyDrive/Traffic SignBoard Recognition using Deep Learning/Dataset/YOLOV8 Format Dataset/test/images/guarded_level_crossing-49_jpg.rf.92ee3b61d9c331a27ccc508fedb28d6b.jpg: 640x640 1 guarded level crossing, 219.9ms\n",
            "image 169/665 /content/drive/MyDrive/Traffic SignBoard Recognition using Deep Learning/Dataset/YOLOV8 Format Dataset/test/images/guarded_level_crossing-55_png_jpg.rf.0a3d26ebbbddd8734155199216a68adf.jpg: 640x640 1 guarded level crossing, 217.9ms\n",
            "image 170/665 /content/drive/MyDrive/Traffic SignBoard Recognition using Deep Learning/Dataset/YOLOV8 Format Dataset/test/images/guarded_level_crossing-56_jpg.rf.f35439c45b05af7173d4779ef906b134.jpg: 640x640 1 guarded level crossing, 236.8ms\n",
            "image 171/665 /content/drive/MyDrive/Traffic SignBoard Recognition using Deep Learning/Dataset/YOLOV8 Format Dataset/test/images/guarded_level_crossing-8_jpeg_jpg.rf.9e11f22d5ae04d37816ca004be6bd0ee.jpg: 640x640 1 guarded level crossing, 235.3ms\n",
            "image 172/665 /content/drive/MyDrive/Traffic SignBoard Recognition using Deep Learning/Dataset/YOLOV8 Format Dataset/test/images/height_limit-10_png_jpg.rf.83b1c3e5d7e514d0f80947689fe0d9be.jpg: 640x640 1 height limit, 223.1ms\n",
            "image 173/665 /content/drive/MyDrive/Traffic SignBoard Recognition using Deep Learning/Dataset/YOLOV8 Format Dataset/test/images/height_limit-11_jpeg_jpg.rf.484b8cac90b349c53fa39aef3c2bd86f.jpg: 640x640 1 height limit, 228.2ms\n",
            "image 174/665 /content/drive/MyDrive/Traffic SignBoard Recognition using Deep Learning/Dataset/YOLOV8 Format Dataset/test/images/height_limit-18_jpeg_jpg.rf.5c41739204a55e179aef975c58a1bd5e.jpg: 640x640 1 height limit, 246.6ms\n",
            "image 175/665 /content/drive/MyDrive/Traffic SignBoard Recognition using Deep Learning/Dataset/YOLOV8 Format Dataset/test/images/height_limit-19_jpg.rf.dbe647b818aa4ac31691c2be853a2ed3.jpg: 640x640 1 narrow bridge ahead, 221.1ms\n",
            "image 176/665 /content/drive/MyDrive/Traffic SignBoard Recognition using Deep Learning/Dataset/YOLOV8 Format Dataset/test/images/height_limit-21_jpg.rf.409e519e41ec1717b6f09d06ef08e482.jpg: 640x640 1 narrow bridge ahead, 221.5ms\n",
            "image 177/665 /content/drive/MyDrive/Traffic SignBoard Recognition using Deep Learning/Dataset/YOLOV8 Format Dataset/test/images/height_limit-22_jpeg_jpg.rf.8b6443e320d310b48c456f088d843c4f.jpg: 640x640 1 height limit, 2 width limits, 224.0ms\n",
            "image 178/665 /content/drive/MyDrive/Traffic SignBoard Recognition using Deep Learning/Dataset/YOLOV8 Format Dataset/test/images/height_limit-24_jpg.rf.03338511aa99b5038bcf859a1f58e1cc.jpg: 640x640 1 height limit, 222.8ms\n",
            "image 179/665 /content/drive/MyDrive/Traffic SignBoard Recognition using Deep Learning/Dataset/YOLOV8 Format Dataset/test/images/height_limit-2_png_jpg.rf.f75a5fd774f009b02bd6d7f38fe62491.jpg: 640x640 1 height limit, 220.6ms\n",
            "image 180/665 /content/drive/MyDrive/Traffic SignBoard Recognition using Deep Learning/Dataset/YOLOV8 Format Dataset/test/images/height_limit-34_jpg.rf.cde5f51348ed265541a7b5df825d80d4.jpg: 640x640 1 height limit, 222.7ms\n",
            "image 181/665 /content/drive/MyDrive/Traffic SignBoard Recognition using Deep Learning/Dataset/YOLOV8 Format Dataset/test/images/height_limit-45_png_jpg.rf.c0ca954ea0b8f045249cfcd6ea9dc92e.jpg: 640x640 1 height limit, 236.2ms\n",
            "image 182/665 /content/drive/MyDrive/Traffic SignBoard Recognition using Deep Learning/Dataset/YOLOV8 Format Dataset/test/images/height_limit-49_jpeg_jpg.rf.287cccd132b51b4dc03204c7dbdd52cf.jpg: 640x640 1 height limit, 223.0ms\n",
            "image 183/665 /content/drive/MyDrive/Traffic SignBoard Recognition using Deep Learning/Dataset/YOLOV8 Format Dataset/test/images/height_limit-55_png_jpg.rf.fbfbbffdf05155774f95a929b5d61f33.jpg: 640x640 1 height limit, 232.4ms\n",
            "image 184/665 /content/drive/MyDrive/Traffic SignBoard Recognition using Deep Learning/Dataset/YOLOV8 Format Dataset/test/images/height_limit-56_jpg.rf.ab1b63b65519517a6a6949bcc5c0ffe8.jpg: 640x640 1 height limit, 217.9ms\n",
            "image 185/665 /content/drive/MyDrive/Traffic SignBoard Recognition using Deep Learning/Dataset/YOLOV8 Format Dataset/test/images/height_limit-6_png_jpg.rf.ea92bd8cd1d5c503f1f55fb9f9e1134a.jpg: 640x640 1 height limit, 230.4ms\n",
            "image 186/665 /content/drive/MyDrive/Traffic SignBoard Recognition using Deep Learning/Dataset/YOLOV8 Format Dataset/test/images/horn_prohibited-0_jpg.rf.e262b9bcfff34b8b6d464dda6a03234e.jpg: 640x640 1 horn prohibited, 221.8ms\n",
            "image 187/665 /content/drive/MyDrive/Traffic SignBoard Recognition using Deep Learning/Dataset/YOLOV8 Format Dataset/test/images/horn_prohibited-17_jpg.rf.1ac0dcadbc1cf79f9d4ea47d59f4016e.jpg: 640x640 1 horn prohibited, 231.5ms\n",
            "image 188/665 /content/drive/MyDrive/Traffic SignBoard Recognition using Deep Learning/Dataset/YOLOV8 Format Dataset/test/images/horn_prohibited-18_jpg.rf.e98e94e5d7d0a5f66b6ab9695f31a92c.jpg: 640x640 1 horn prohibited, 227.2ms\n",
            "image 189/665 /content/drive/MyDrive/Traffic SignBoard Recognition using Deep Learning/Dataset/YOLOV8 Format Dataset/test/images/horn_prohibited-23_jpg.rf.e801996fc0060d7adf12d87f6c298f5c.jpg: 640x640 1 horn prohibited, 222.4ms\n",
            "image 190/665 /content/drive/MyDrive/Traffic SignBoard Recognition using Deep Learning/Dataset/YOLOV8 Format Dataset/test/images/horn_prohibited-25_jpg.rf.95e636e45b4cb7f22065ee2fdad6b6df.jpg: 640x640 1 horn prohibited, 217.8ms\n",
            "image 191/665 /content/drive/MyDrive/Traffic SignBoard Recognition using Deep Learning/Dataset/YOLOV8 Format Dataset/test/images/horn_prohibited-44_jpg.rf.f90c20ddb01d7e046d1e4826de51d02a.jpg: 640x640 1 horn prohibited, 253.3ms\n",
            "image 192/665 /content/drive/MyDrive/Traffic SignBoard Recognition using Deep Learning/Dataset/YOLOV8 Format Dataset/test/images/horn_prohibited-54_jpg.rf.34ecbdfec3e8c3c3487a3009fe81d7fb.jpg: 640x640 1 horn prohibited, 223.1ms\n",
            "image 193/665 /content/drive/MyDrive/Traffic SignBoard Recognition using Deep Learning/Dataset/YOLOV8 Format Dataset/test/images/horn_prohibited-58_jpg.rf.e7b0550796bfd42aad7797502aeecf63.jpg: 640x640 1 horn prohibited, 231.3ms\n",
            "image 194/665 /content/drive/MyDrive/Traffic SignBoard Recognition using Deep Learning/Dataset/YOLOV8 Format Dataset/test/images/horn_prohibited-5_jpg.rf.fa95b6428fc6e59fc9aed5c8a529de99.jpg: 640x640 1 horn prohibited, 223.3ms\n",
            "image 195/665 /content/drive/MyDrive/Traffic SignBoard Recognition using Deep Learning/Dataset/YOLOV8 Format Dataset/test/images/horn_prohibited-69_jpg.rf.ca83e1205ef61f0bf5a71d4bc80749b8.jpg: 640x640 1 horn prohibited, 230.4ms\n",
            "image 196/665 /content/drive/MyDrive/Traffic SignBoard Recognition using Deep Learning/Dataset/YOLOV8 Format Dataset/test/images/hospital_ahead-1_jpeg_jpg.rf.e5ae06738b671dd9110ebb7910039f07.jpg: 640x640 1 hospital ahead, 229.0ms\n",
            "image 197/665 /content/drive/MyDrive/Traffic SignBoard Recognition using Deep Learning/Dataset/YOLOV8 Format Dataset/test/images/hospital_ahead-29_png_jpg.rf.32395d31ef0df241b97aced503919470.jpg: 640x640 1 hospital ahead, 233.1ms\n",
            "image 198/665 /content/drive/MyDrive/Traffic SignBoard Recognition using Deep Learning/Dataset/YOLOV8 Format Dataset/test/images/hospital_ahead-2_jpeg_jpg.rf.fcf055906c0c277e8473d171c4bd7ac3.jpg: 640x640 1 hospital ahead, 234.4ms\n",
            "image 199/665 /content/drive/MyDrive/Traffic SignBoard Recognition using Deep Learning/Dataset/YOLOV8 Format Dataset/test/images/hospital_ahead-47_jpeg_jpg.rf.115f9c9289a273e6fb9158ec54e4ca7f.jpg: 640x640 1 hospital ahead, 228.8ms\n",
            "image 200/665 /content/drive/MyDrive/Traffic SignBoard Recognition using Deep Learning/Dataset/YOLOV8 Format Dataset/test/images/hospital_ahead-56_jpg.rf.8204f4f324531224b8e1085aa94509e0.jpg: 640x640 2 hospital aheads, 213.7ms\n",
            "image 201/665 /content/drive/MyDrive/Traffic SignBoard Recognition using Deep Learning/Dataset/YOLOV8 Format Dataset/test/images/hospital_ahead-59_jpg.rf.f1467d3f5b3bf9f9862e665e386513d7.jpg: 640x640 1 hospital ahead, 218.5ms\n",
            "image 202/665 /content/drive/MyDrive/Traffic SignBoard Recognition using Deep Learning/Dataset/YOLOV8 Format Dataset/test/images/hospital_ahead-7_jpg.rf.d988f2171a7bfda5f37b529316ffd203.jpg: 640x640 1 hospital ahead, 216.7ms\n",
            "image 203/665 /content/drive/MyDrive/Traffic SignBoard Recognition using Deep Learning/Dataset/YOLOV8 Format Dataset/test/images/hospital_ahead-9_jpg.rf.8879c3639d7f5d65ac2d68719b8f4ae6.jpg: 640x640 1 hospital ahead, 231.0ms\n",
            "image 204/665 /content/drive/MyDrive/Traffic SignBoard Recognition using Deep Learning/Dataset/YOLOV8 Format Dataset/test/images/hump_or_rough_road-15_jpg.rf.fff1669097e301fe7b8040828e55bc07.jpg: 640x640 1 hump or rough road, 221.0ms\n",
            "image 205/665 /content/drive/MyDrive/Traffic SignBoard Recognition using Deep Learning/Dataset/YOLOV8 Format Dataset/test/images/hump_or_rough_road-16_jpg.rf.183a74f3777b244278437857eb70989f.jpg: 640x640 1 hump or rough road, 226.6ms\n",
            "image 206/665 /content/drive/MyDrive/Traffic SignBoard Recognition using Deep Learning/Dataset/YOLOV8 Format Dataset/test/images/hump_or_rough_road-19_jpg.rf.494a1f8a91200ea274722f9fa8f43575.jpg: 640x640 1 hump or rough road, 227.7ms\n",
            "image 207/665 /content/drive/MyDrive/Traffic SignBoard Recognition using Deep Learning/Dataset/YOLOV8 Format Dataset/test/images/hump_or_rough_road-20_jpg.rf.1d52321c5f694f965210813f48f1bc3e.jpg: 640x640 1 hump or rough road, 344.8ms\n",
            "image 208/665 /content/drive/MyDrive/Traffic SignBoard Recognition using Deep Learning/Dataset/YOLOV8 Format Dataset/test/images/hump_or_rough_road-2_jpg.rf.f055ebeee70c4fe530ef148ab8b87772.jpg: 640x640 1 hump or rough road, 334.7ms\n",
            "image 209/665 /content/drive/MyDrive/Traffic SignBoard Recognition using Deep Learning/Dataset/YOLOV8 Format Dataset/test/images/hump_or_rough_road-48_jpg.rf.76476d9e1fdc444c8c1a47aaaeacd744.jpg: 640x640 1 hump or rough road, 327.9ms\n",
            "image 210/665 /content/drive/MyDrive/Traffic SignBoard Recognition using Deep Learning/Dataset/YOLOV8 Format Dataset/test/images/hump_or_rough_road-52_jpg.rf.252982684cad5a9ba3ebb4fddcb12ebe.jpg: 640x640 1 hump or rough road, 335.9ms\n",
            "image 211/665 /content/drive/MyDrive/Traffic SignBoard Recognition using Deep Learning/Dataset/YOLOV8 Format Dataset/test/images/hump_or_rough_road-53_jpg.rf.f9be779e161fe34751506e5426592649.jpg: 640x640 1 hump or rough road, 359.8ms\n",
            "image 212/665 /content/drive/MyDrive/Traffic SignBoard Recognition using Deep Learning/Dataset/YOLOV8 Format Dataset/test/images/hump_or_rough_road-57_jpg.rf.e38ff4de7832a2514f39de50017ea7c7.jpg: 640x640 1 hump or rough road, 339.9ms\n",
            "image 213/665 /content/drive/MyDrive/Traffic SignBoard Recognition using Deep Learning/Dataset/YOLOV8 Format Dataset/test/images/hump_or_rough_road-64_jpg.rf.6aba98d7f63b600cbb704d3be4194f06.jpg: 640x640 1 hump or rough road, 349.5ms\n",
            "image 214/665 /content/drive/MyDrive/Traffic SignBoard Recognition using Deep Learning/Dataset/YOLOV8 Format Dataset/test/images/hump_or_rough_road-66_jpg.rf.69a939efe81cb456cb07db79e9a29df1.jpg: 640x640 1 hump or rough road, 321.0ms\n",
            "image 215/665 /content/drive/MyDrive/Traffic SignBoard Recognition using Deep Learning/Dataset/YOLOV8 Format Dataset/test/images/hump_or_rough_road-67_jpg.rf.9e3247bb45010559e14de8ec535543d3.jpg: 640x640 1 hump or rough road, 339.2ms\n",
            "image 216/665 /content/drive/MyDrive/Traffic SignBoard Recognition using Deep Learning/Dataset/YOLOV8 Format Dataset/test/images/left_hand_curve-13_jpg.rf.25b8ba8c98f4547b6e0302bd0e572e9e.jpg: 640x640 (no detections), 347.8ms\n",
            "image 217/665 /content/drive/MyDrive/Traffic SignBoard Recognition using Deep Learning/Dataset/YOLOV8 Format Dataset/test/images/left_hand_curve-23_jpg.rf.946c5ac968bd2e9f65b8b38b2c703849.jpg: 640x640 1 left hand curve, 346.1ms\n",
            "image 218/665 /content/drive/MyDrive/Traffic SignBoard Recognition using Deep Learning/Dataset/YOLOV8 Format Dataset/test/images/left_hand_curve-25_jpg.rf.aab1bbe88740624f5edd17ea93cb56e9.jpg: 640x640 1 right hand curve, 348.0ms\n",
            "image 219/665 /content/drive/MyDrive/Traffic SignBoard Recognition using Deep Learning/Dataset/YOLOV8 Format Dataset/test/images/left_hand_curve-30_jpg.rf.0142ae05bbba3cd71d474833af9ffd79.jpg: 640x640 1 right hand curve, 339.5ms\n",
            "image 220/665 /content/drive/MyDrive/Traffic SignBoard Recognition using Deep Learning/Dataset/YOLOV8 Format Dataset/test/images/left_hand_curve-43_png_jpg.rf.297099cf765859a4441d29578dbd8a52.jpg: 640x640 1 left hand curve, 216.4ms\n",
            "image 221/665 /content/drive/MyDrive/Traffic SignBoard Recognition using Deep Learning/Dataset/YOLOV8 Format Dataset/test/images/left_hand_curve-45_png_jpg.rf.46d8249e32e40a3f2499a0aad571ade9.jpg: 640x640 1 left hand curve, 232.0ms\n",
            "image 222/665 /content/drive/MyDrive/Traffic SignBoard Recognition using Deep Learning/Dataset/YOLOV8 Format Dataset/test/images/left_hand_curve-50_png_jpg.rf.fe97e53d7fbccb3c6c83277dad6b55fc.jpg: 640x640 1 left hand curve, 224.8ms\n",
            "image 223/665 /content/drive/MyDrive/Traffic SignBoard Recognition using Deep Learning/Dataset/YOLOV8 Format Dataset/test/images/left_hand_curve-58_jpg.rf.2ef926c93f92eff4cf84939bfeea6ff3.jpg: 640x640 1 left hand curve, 1 right hand curve, 217.9ms\n",
            "image 224/665 /content/drive/MyDrive/Traffic SignBoard Recognition using Deep Learning/Dataset/YOLOV8 Format Dataset/test/images/left_hand_curve-64_jpg.rf.7c8ccf5a1fc4f4fcd6e7279351684a9d.jpg: 640x640 1 left hand curve, 219.7ms\n",
            "image 225/665 /content/drive/MyDrive/Traffic SignBoard Recognition using Deep Learning/Dataset/YOLOV8 Format Dataset/test/images/left_reverse_bend-12_png_jpg.rf.cf92fb75d088e636a003b7f58a5a13a5.jpg: 640x640 1 left reverse bend, 231.1ms\n",
            "image 226/665 /content/drive/MyDrive/Traffic SignBoard Recognition using Deep Learning/Dataset/YOLOV8 Format Dataset/test/images/left_reverse_bend-14_png_jpg.rf.85b6e9c55f3c8e1acd8c2c0c6338dcb9.jpg: 640x640 1 left reverse bend, 225.8ms\n",
            "image 227/665 /content/drive/MyDrive/Traffic SignBoard Recognition using Deep Learning/Dataset/YOLOV8 Format Dataset/test/images/left_reverse_bend-18_jpg.rf.2c16ddc39fc19fc2139aeb4f5cf44d28.jpg: 640x640 (no detections), 221.0ms\n",
            "image 228/665 /content/drive/MyDrive/Traffic SignBoard Recognition using Deep Learning/Dataset/YOLOV8 Format Dataset/test/images/left_reverse_bend-19_png_jpg.rf.872c4469aa3a869f4f34c6120026da36.jpg: 640x640 1 left reverse bend, 226.1ms\n",
            "image 229/665 /content/drive/MyDrive/Traffic SignBoard Recognition using Deep Learning/Dataset/YOLOV8 Format Dataset/test/images/left_reverse_bend-20_jpg.rf.93485391d58b551abe47039d8e4e96d9.jpg: 640x640 1 right reverse bend, 215.7ms\n",
            "image 230/665 /content/drive/MyDrive/Traffic SignBoard Recognition using Deep Learning/Dataset/YOLOV8 Format Dataset/test/images/left_reverse_bend-21_jpg.rf.eb22423dd925ac40f7a1fa2327454996.jpg: 640x640 (no detections), 244.7ms\n",
            "image 231/665 /content/drive/MyDrive/Traffic SignBoard Recognition using Deep Learning/Dataset/YOLOV8 Format Dataset/test/images/left_reverse_bend-24_png_jpg.rf.4aaa6705d5ad7632e858d7a9def6509f.jpg: 640x640 1 left reverse bend, 236.0ms\n",
            "image 232/665 /content/drive/MyDrive/Traffic SignBoard Recognition using Deep Learning/Dataset/YOLOV8 Format Dataset/test/images/left_reverse_bend-27_png_jpg.rf.e189df4db4eb15fc153c71909bd01f81.jpg: 640x640 1 left reverse bend, 236.0ms\n",
            "image 233/665 /content/drive/MyDrive/Traffic SignBoard Recognition using Deep Learning/Dataset/YOLOV8 Format Dataset/test/images/left_reverse_bend-37_png_jpg.rf.e4cdc83a81e789749f6e05772804ff31.jpg: 640x640 1 right reverse bend, 226.2ms\n",
            "image 234/665 /content/drive/MyDrive/Traffic SignBoard Recognition using Deep Learning/Dataset/YOLOV8 Format Dataset/test/images/left_reverse_bend-51_jpg.rf.2fca2f5865697f9445fa05ca0c964a63.jpg: 640x640 1 left reverse bend, 220.9ms\n",
            "image 235/665 /content/drive/MyDrive/Traffic SignBoard Recognition using Deep Learning/Dataset/YOLOV8 Format Dataset/test/images/left_reverse_bend-54_jpg.rf.33a95c4724f6ab4305e992b5c5e9c9ba.jpg: 640x640 1 left reverse bend, 224.6ms\n",
            "image 236/665 /content/drive/MyDrive/Traffic SignBoard Recognition using Deep Learning/Dataset/YOLOV8 Format Dataset/test/images/left_reverse_bend-56_jpg.rf.4d3443768b8ab798edb40f0bde670a7d.jpg: 640x640 1 right reverse bend, 227.8ms\n",
            "image 237/665 /content/drive/MyDrive/Traffic SignBoard Recognition using Deep Learning/Dataset/YOLOV8 Format Dataset/test/images/left_turn_prohibited-0_jpg.rf.3fdfea03bf6af564859a589bedfbb362.jpg: 640x640 1 left turn prohibited, 226.0ms\n",
            "image 238/665 /content/drive/MyDrive/Traffic SignBoard Recognition using Deep Learning/Dataset/YOLOV8 Format Dataset/test/images/left_turn_prohibited-15_jpg.rf.6ccbe41e079a8f5585323123e08cd25e.jpg: 640x640 1 left turn prohibited, 230.0ms\n",
            "image 239/665 /content/drive/MyDrive/Traffic SignBoard Recognition using Deep Learning/Dataset/YOLOV8 Format Dataset/test/images/left_turn_prohibited-18_jpg.rf.ff79afaf8c2ac6b3297dbba8eea4a938.jpg: 640x640 1 left turn prohibited, 222.5ms\n",
            "image 240/665 /content/drive/MyDrive/Traffic SignBoard Recognition using Deep Learning/Dataset/YOLOV8 Format Dataset/test/images/left_turn_prohibited-20_jpg.rf.40df4d6256cee87cc442d815532a3c63.jpg: 640x640 1 left turn prohibited, 216.0ms\n",
            "image 241/665 /content/drive/MyDrive/Traffic SignBoard Recognition using Deep Learning/Dataset/YOLOV8 Format Dataset/test/images/left_turn_prohibited-21_jpg.rf.3e63ae9de47b4caed61c5b4cc7c26ec1.jpg: 640x640 1 left turn prohibited, 218.0ms\n",
            "image 242/665 /content/drive/MyDrive/Traffic SignBoard Recognition using Deep Learning/Dataset/YOLOV8 Format Dataset/test/images/left_turn_prohibited-22_jpg.rf.b01451f8e4ea6197afe2f0199989cbbb.jpg: 640x640 1 left turn prohibited, 231.4ms\n",
            "image 243/665 /content/drive/MyDrive/Traffic SignBoard Recognition using Deep Learning/Dataset/YOLOV8 Format Dataset/test/images/left_turn_prohibited-23_jpg.rf.a82ebe3aa797e88d8ff01874592d5d24.jpg: 640x640 1 left turn prohibited, 225.7ms\n",
            "image 244/665 /content/drive/MyDrive/Traffic SignBoard Recognition using Deep Learning/Dataset/YOLOV8 Format Dataset/test/images/left_turn_prohibited-26_jpg.rf.3893b4978f313b3b9ed9d07eb4de0440.jpg: 640x640 1 left turn prohibited, 223.4ms\n",
            "image 245/665 /content/drive/MyDrive/Traffic SignBoard Recognition using Deep Learning/Dataset/YOLOV8 Format Dataset/test/images/left_turn_prohibited-30_jpg.rf.1e3434fd5687b34616c0b8944a93e915.jpg: 640x640 1 left turn prohibited, 215.6ms\n",
            "image 246/665 /content/drive/MyDrive/Traffic SignBoard Recognition using Deep Learning/Dataset/YOLOV8 Format Dataset/test/images/left_turn_prohibited-34_jpg.rf.c77a5cdd5c6ca27d3a596734522c1a4e.jpg: 640x640 1 left turn prohibited, 235.1ms\n",
            "image 247/665 /content/drive/MyDrive/Traffic SignBoard Recognition using Deep Learning/Dataset/YOLOV8 Format Dataset/test/images/left_turn_prohibited-4_jpg.rf.ba6cc68fdb1cc85c1b6f9fc2657c5de7.jpg: 640x640 1 u turn prohibited, 221.0ms\n",
            "image 248/665 /content/drive/MyDrive/Traffic SignBoard Recognition using Deep Learning/Dataset/YOLOV8 Format Dataset/test/images/left_turn_prohibited-68_jpg.rf.ff23148133759a7423e9aa3903564b26.jpg: 640x640 1 horn prohibited, 221.9ms\n",
            "image 249/665 /content/drive/MyDrive/Traffic SignBoard Recognition using Deep Learning/Dataset/YOLOV8 Format Dataset/test/images/left_turn_prohibited-6_jpg.rf.b9c11a502ca68fd7cb7389ce63472d3c.jpg: 640x640 1 left turn prohibited, 223.2ms\n",
            "image 250/665 /content/drive/MyDrive/Traffic SignBoard Recognition using Deep Learning/Dataset/YOLOV8 Format Dataset/test/images/left_turn_prohibited-7_jpg.rf.e05721c7a300678c9e299e551ff38a90.jpg: 640x640 1 left turn prohibited, 238.3ms\n",
            "image 251/665 /content/drive/MyDrive/Traffic SignBoard Recognition using Deep Learning/Dataset/YOLOV8 Format Dataset/test/images/left_turn_prohibited-8_jpg.rf.724c35377465ef5e6b3df5c832baa537.jpg: 640x640 1 left turn prohibited, 223.9ms\n",
            "image 252/665 /content/drive/MyDrive/Traffic SignBoard Recognition using Deep Learning/Dataset/YOLOV8 Format Dataset/test/images/left_turn_prohibited-9_jpg.rf.2c7352ebabc050ee7777b6fe6029920f.jpg: 640x640 1 left turn prohibited, 221.7ms\n",
            "image 253/665 /content/drive/MyDrive/Traffic SignBoard Recognition using Deep Learning/Dataset/YOLOV8 Format Dataset/test/images/loose_gravel-10_jpeg_jpg.rf.a9cab1791599095acc8421ae6dfa422d.jpg: 640x640 1 loose gravel, 221.9ms\n",
            "image 254/665 /content/drive/MyDrive/Traffic SignBoard Recognition using Deep Learning/Dataset/YOLOV8 Format Dataset/test/images/loose_gravel-11_png_jpg.rf.daaacf7b2f50d2304ebf0f71f6420deb.jpg: 640x640 1 loose gravel, 229.6ms\n",
            "image 255/665 /content/drive/MyDrive/Traffic SignBoard Recognition using Deep Learning/Dataset/YOLOV8 Format Dataset/test/images/loose_gravel-13_jpeg_jpg.rf.561795050676636e4c8375c4fed712de.jpg: 640x640 1 loose gravel, 232.0ms\n",
            "image 256/665 /content/drive/MyDrive/Traffic SignBoard Recognition using Deep Learning/Dataset/YOLOV8 Format Dataset/test/images/loose_gravel-16_jpeg_jpg.rf.4cbcee0fc18b73338d377100566225b3.jpg: 640x640 1 loose gravel, 211.8ms\n",
            "image 257/665 /content/drive/MyDrive/Traffic SignBoard Recognition using Deep Learning/Dataset/YOLOV8 Format Dataset/test/images/loose_gravel-23_jpeg_jpg.rf.80dce1c3e7198e79f94379182e784d91.jpg: 640x640 1 loose gravel, 233.7ms\n",
            "image 258/665 /content/drive/MyDrive/Traffic SignBoard Recognition using Deep Learning/Dataset/YOLOV8 Format Dataset/test/images/loose_gravel-25_jpeg_jpg.rf.39bb93906725dabe321f51e76e3e48f2.jpg: 640x640 1 loose gravel, 247.4ms\n",
            "image 259/665 /content/drive/MyDrive/Traffic SignBoard Recognition using Deep Learning/Dataset/YOLOV8 Format Dataset/test/images/loose_gravel-31_png_jpg.rf.e7740a6bfbb00714e6293d078dda5089.jpg: 640x640 1 loose gravel, 334.9ms\n",
            "image 260/665 /content/drive/MyDrive/Traffic SignBoard Recognition using Deep Learning/Dataset/YOLOV8 Format Dataset/test/images/loose_gravel-6_jpeg_jpg.rf.1be27caa60be2a66e7db4eb6764d12d1.jpg: 640x640 1 loose gravel, 340.7ms\n",
            "image 261/665 /content/drive/MyDrive/Traffic SignBoard Recognition using Deep Learning/Dataset/YOLOV8 Format Dataset/test/images/loose_gravel-8_jpeg_jpg.rf.a8d2922e0ce15cdeb30a00ac94993975.jpg: 640x640 1 loose gravel, 348.7ms\n",
            "image 262/665 /content/drive/MyDrive/Traffic SignBoard Recognition using Deep Learning/Dataset/YOLOV8 Format Dataset/test/images/men_at_work-35_png_jpg.rf.ad408da895418b58a609378749aa1122.jpg: 640x640 1 men at work, 348.6ms\n",
            "image 263/665 /content/drive/MyDrive/Traffic SignBoard Recognition using Deep Learning/Dataset/YOLOV8 Format Dataset/test/images/men_at_work-37_png_jpg.rf.729c2d05556adf8aae5b1ce7502c4e8f.jpg: 640x640 1 men at work, 348.8ms\n",
            "image 264/665 /content/drive/MyDrive/Traffic SignBoard Recognition using Deep Learning/Dataset/YOLOV8 Format Dataset/test/images/men_at_work-3_jpeg_jpg.rf.70816d23cd0dad0ee264cf50731a6427.jpg: 640x640 1 men at work, 366.0ms\n",
            "image 265/665 /content/drive/MyDrive/Traffic SignBoard Recognition using Deep Learning/Dataset/YOLOV8 Format Dataset/test/images/men_at_work-45_png_jpg.rf.42bd07898d8ad2df5a40668aae392cc4.jpg: 640x640 1 men at work, 339.2ms\n",
            "image 266/665 /content/drive/MyDrive/Traffic SignBoard Recognition using Deep Learning/Dataset/YOLOV8 Format Dataset/test/images/men_at_work-48_png_jpg.rf.e378083dc6fbf218d1cfd01b062a0032.jpg: 640x640 1 men at work, 343.1ms\n",
            "image 267/665 /content/drive/MyDrive/Traffic SignBoard Recognition using Deep Learning/Dataset/YOLOV8 Format Dataset/test/images/men_at_work-52_png_jpg.rf.4aabb90d72bfb60d76701ddda99570a2.jpg: 640x640 1 men at work, 340.3ms\n",
            "image 268/665 /content/drive/MyDrive/Traffic SignBoard Recognition using Deep Learning/Dataset/YOLOV8 Format Dataset/test/images/men_at_work-68_png_jpg.rf.28c3353c48b49414fba1c24e7b69f0d6.jpg: 640x640 1 men at work, 339.5ms\n",
            "image 269/665 /content/drive/MyDrive/Traffic SignBoard Recognition using Deep Learning/Dataset/YOLOV8 Format Dataset/test/images/narrow_bridge_ahead-19_jpg.rf.a342e4937978b36024c1f9229b8a8334.jpg: 640x640 1 narrow bridge ahead, 1 pedestrian crossing, 346.9ms\n",
            "image 270/665 /content/drive/MyDrive/Traffic SignBoard Recognition using Deep Learning/Dataset/YOLOV8 Format Dataset/test/images/narrow_bridge_ahead-28_jpg.rf.b25a10a351c70ae568eecdbfd19c3476.jpg: 640x640 1 narrow bridge ahead, 214.5ms\n",
            "image 271/665 /content/drive/MyDrive/Traffic SignBoard Recognition using Deep Learning/Dataset/YOLOV8 Format Dataset/test/images/narrow_bridge_ahead-31_jpeg_jpg.rf.c6fbcb4b62c874ca583a105f76b4d3a9.jpg: 640x640 1 narrow bridge ahead, 222.3ms\n",
            "image 272/665 /content/drive/MyDrive/Traffic SignBoard Recognition using Deep Learning/Dataset/YOLOV8 Format Dataset/test/images/narrow_bridge_ahead-32_jpg.rf.96219b746280ac8a413dd6a000fbae64.jpg: 640x640 1 narrow bridge ahead, 234.0ms\n",
            "image 273/665 /content/drive/MyDrive/Traffic SignBoard Recognition using Deep Learning/Dataset/YOLOV8 Format Dataset/test/images/narrow_bridge_ahead-5_png_jpg.rf.7133732f2ba758aab14b291300c052ec.jpg: 640x640 1 narrow bridge ahead, 240.1ms\n",
            "image 274/665 /content/drive/MyDrive/Traffic SignBoard Recognition using Deep Learning/Dataset/YOLOV8 Format Dataset/test/images/narrow_bridge_ahead-68_jpg.rf.3160fadeb00c726f2a71a59992a4c6e7.jpg: 640x640 1 narrow bridge ahead, 221.7ms\n",
            "image 275/665 /content/drive/MyDrive/Traffic SignBoard Recognition using Deep Learning/Dataset/YOLOV8 Format Dataset/test/images/narrow_bridge_ahead-69_jpg.rf.708db688c28b04c9af26690a5f49c4b8.jpg: 640x640 1 narrow bridge ahead, 1 pedestrian crossing, 226.0ms\n",
            "image 276/665 /content/drive/MyDrive/Traffic SignBoard Recognition using Deep Learning/Dataset/YOLOV8 Format Dataset/test/images/narrow_bridge_ahead-70_jpg.rf.dced94d6ea153a3a5f7bdfae1c18c704.jpg: 640x640 1 narrow bridge ahead, 222.3ms\n",
            "image 277/665 /content/drive/MyDrive/Traffic SignBoard Recognition using Deep Learning/Dataset/YOLOV8 Format Dataset/test/images/narrow_bridge_ahead-71_jpg.rf.a0f83b9ef83d651181b7d87d9cf96081.jpg: 640x640 1 narrow bridge ahead, 237.3ms\n",
            "image 278/665 /content/drive/MyDrive/Traffic SignBoard Recognition using Deep Learning/Dataset/YOLOV8 Format Dataset/test/images/narrow_bridge_ahead-72_jpg.rf.14eeffa96b6ebc172deff97ef396007c.jpg: 640x640 1 narrow bridge ahead, 221.9ms\n",
            "image 279/665 /content/drive/MyDrive/Traffic SignBoard Recognition using Deep Learning/Dataset/YOLOV8 Format Dataset/test/images/narrow_bridge_ahead-73_jpg.rf.1d4e5873b8f96a79e6054e6ffd073587.jpg: 640x640 1 narrow bridge ahead, 229.9ms\n",
            "image 280/665 /content/drive/MyDrive/Traffic SignBoard Recognition using Deep Learning/Dataset/YOLOV8 Format Dataset/test/images/narrow_bridge_ahead-9_jpeg_jpg.rf.8145d9b4022819782e1aa487935d8562.jpg: 640x640 1 narrow bridge ahead, 223.6ms\n",
            "image 281/665 /content/drive/MyDrive/Traffic SignBoard Recognition using Deep Learning/Dataset/YOLOV8 Format Dataset/test/images/narrow_road_ahead-15_jpg.rf.4ba1c59e3219b5a7165f06605e6afab2.jpg: 640x640 1 narrow road ahead, 240.1ms\n",
            "image 282/665 /content/drive/MyDrive/Traffic SignBoard Recognition using Deep Learning/Dataset/YOLOV8 Format Dataset/test/images/narrow_road_ahead-17_jpg.rf.ea05c6b90816cc6a002faad895caad88.jpg: 640x640 1 narrow road ahead, 220.1ms\n",
            "image 283/665 /content/drive/MyDrive/Traffic SignBoard Recognition using Deep Learning/Dataset/YOLOV8 Format Dataset/test/images/narrow_road_ahead-19_jpg.rf.1cdc59c4157b57702a33d31220e56715.jpg: 640x640 1 narrow road ahead, 224.2ms\n",
            "image 284/665 /content/drive/MyDrive/Traffic SignBoard Recognition using Deep Learning/Dataset/YOLOV8 Format Dataset/test/images/narrow_road_ahead-21_jpg.rf.96487b02659574a1f1e6424c82c753d1.jpg: 640x640 1 narrow road ahead, 223.6ms\n",
            "image 285/665 /content/drive/MyDrive/Traffic SignBoard Recognition using Deep Learning/Dataset/YOLOV8 Format Dataset/test/images/narrow_road_ahead-27_png_jpg.rf.99b39ce6213e5adc7c35886bba416add.jpg: 640x640 1 narrow road ahead, 232.4ms\n",
            "image 286/665 /content/drive/MyDrive/Traffic SignBoard Recognition using Deep Learning/Dataset/YOLOV8 Format Dataset/test/images/narrow_road_ahead-33_jpg.rf.49d542fcb6275f90ca7d470d9e17ea3a.jpg: 640x640 1 narrow road ahead, 220.4ms\n",
            "image 287/665 /content/drive/MyDrive/Traffic SignBoard Recognition using Deep Learning/Dataset/YOLOV8 Format Dataset/test/images/narrow_road_ahead-37_jpg.rf.80708013ddd91c181e011adfa1894ad8.jpg: 640x640 1 narrow road ahead, 225.1ms\n",
            "image 288/665 /content/drive/MyDrive/Traffic SignBoard Recognition using Deep Learning/Dataset/YOLOV8 Format Dataset/test/images/narrow_road_ahead-38_jpg.rf.c5dc68a5fa68fa32ab6ef3b34b6d07d2.jpg: 640x640 1 narrow road ahead, 226.8ms\n",
            "image 289/665 /content/drive/MyDrive/Traffic SignBoard Recognition using Deep Learning/Dataset/YOLOV8 Format Dataset/test/images/narrow_road_ahead-39_png_jpg.rf.93847472f84080211750d70b43a9485e.jpg: 640x640 1 narrow road ahead, 232.1ms\n",
            "image 290/665 /content/drive/MyDrive/Traffic SignBoard Recognition using Deep Learning/Dataset/YOLOV8 Format Dataset/test/images/narrow_road_ahead-42_jpg.rf.93ce4260831d86ca423faee1127c5e1d.jpg: 640x640 1 narrow road ahead, 221.9ms\n",
            "image 291/665 /content/drive/MyDrive/Traffic SignBoard Recognition using Deep Learning/Dataset/YOLOV8 Format Dataset/test/images/narrow_road_ahead-43_png_jpg.rf.613523d4946b5e11caad64660fa85a06.jpg: 640x640 1 narrow road ahead, 233.6ms\n",
            "image 292/665 /content/drive/MyDrive/Traffic SignBoard Recognition using Deep Learning/Dataset/YOLOV8 Format Dataset/test/images/narrow_road_ahead-45_png_jpg.rf.4986b20912a63ef7cc32f780aa5bf905.jpg: 640x640 1 narrow road ahead, 231.4ms\n",
            "image 293/665 /content/drive/MyDrive/Traffic SignBoard Recognition using Deep Learning/Dataset/YOLOV8 Format Dataset/test/images/narrow_road_ahead-46_png_jpg.rf.151583be08ea0b247a9c8593b52c12c9.jpg: 640x640 1 narrow road ahead, 230.1ms\n",
            "image 294/665 /content/drive/MyDrive/Traffic SignBoard Recognition using Deep Learning/Dataset/YOLOV8 Format Dataset/test/images/narrow_road_ahead-50_png_jpg.rf.3754214e5227b4eda0cc3c342dc6bc8f.jpg: 640x640 1 narrow road ahead, 223.5ms\n",
            "image 295/665 /content/drive/MyDrive/Traffic SignBoard Recognition using Deep Learning/Dataset/YOLOV8 Format Dataset/test/images/narrow_road_ahead-65_png_jpg.rf.74240b338e7521f990656c542abfc6f9.jpg: 640x640 1 narrow road ahead, 230.2ms\n",
            "image 296/665 /content/drive/MyDrive/Traffic SignBoard Recognition using Deep Learning/Dataset/YOLOV8 Format Dataset/test/images/narrow_road_ahead-68_jpg.rf.15187a643828c7c70c33916e23c79582.jpg: 640x640 1 narrow road ahead, 226.1ms\n",
            "image 297/665 /content/drive/MyDrive/Traffic SignBoard Recognition using Deep Learning/Dataset/YOLOV8 Format Dataset/test/images/no_entry-10_jpg.rf.cd7eff67638dc3f99369227421f6a4d1.jpg: 640x640 1 no entry, 246.4ms\n",
            "image 298/665 /content/drive/MyDrive/Traffic SignBoard Recognition using Deep Learning/Dataset/YOLOV8 Format Dataset/test/images/no_entry-18_jpg.rf.7e85607cd7bdb643aa6eacf4634f7b8a.jpg: 640x640 1 no entry, 219.3ms\n",
            "image 299/665 /content/drive/MyDrive/Traffic SignBoard Recognition using Deep Learning/Dataset/YOLOV8 Format Dataset/test/images/no_entry-37_png_jpg.rf.23c5fcd95439e121b2c1a89a7d53fd8c.jpg: 640x640 1 no entry, 223.2ms\n",
            "image 300/665 /content/drive/MyDrive/Traffic SignBoard Recognition using Deep Learning/Dataset/YOLOV8 Format Dataset/test/images/no_entry-3_jpg.rf.92b29357d8711e608c95cf95d0b80484.jpg: 640x640 1 no entry, 236.4ms\n",
            "image 301/665 /content/drive/MyDrive/Traffic SignBoard Recognition using Deep Learning/Dataset/YOLOV8 Format Dataset/test/images/no_entry-44_jpg.rf.e90171cadd44287383b32c6d2a05029e.jpg: 640x640 1 no entry, 233.9ms\n",
            "image 302/665 /content/drive/MyDrive/Traffic SignBoard Recognition using Deep Learning/Dataset/YOLOV8 Format Dataset/test/images/no_entry-49_jpg.rf.b52d28b051b6904b7342b641f8d87201.jpg: 640x640 1 no entry, 230.2ms\n",
            "image 303/665 /content/drive/MyDrive/Traffic SignBoard Recognition using Deep Learning/Dataset/YOLOV8 Format Dataset/test/images/no_entry-50_jpg.rf.fc5a28e5335bca388523c288fa1944b5.jpg: 640x640 1 no entry, 225.4ms\n",
            "image 304/665 /content/drive/MyDrive/Traffic SignBoard Recognition using Deep Learning/Dataset/YOLOV8 Format Dataset/test/images/no_entry-52_jpg.rf.4d1500d7d903395a367acf2c75a11a7d.jpg: 640x640 1 no entry, 228.5ms\n",
            "image 305/665 /content/drive/MyDrive/Traffic SignBoard Recognition using Deep Learning/Dataset/YOLOV8 Format Dataset/test/images/no_entry-67_png_jpg.rf.8a056f47172ced4c870e86e13b04a6a3.jpg: 640x640 1 no entry, 233.1ms\n",
            "image 306/665 /content/drive/MyDrive/Traffic SignBoard Recognition using Deep Learning/Dataset/YOLOV8 Format Dataset/test/images/no_entry-68_jpg.rf.30276f360d7613d28e8a79159f79dbd5.jpg: 640x640 1 no entry, 214.2ms\n",
            "image 307/665 /content/drive/MyDrive/Traffic SignBoard Recognition using Deep Learning/Dataset/YOLOV8 Format Dataset/test/images/no_parking-0_jpg.rf.bedc90a64ec079815969cef6ff6e7ba1.jpg: 640x640 1 no parking, 215.7ms\n",
            "image 308/665 /content/drive/MyDrive/Traffic SignBoard Recognition using Deep Learning/Dataset/YOLOV8 Format Dataset/test/images/no_parking-16_jpg.rf.2166ca0f2b6263d26075b0d83528f146.jpg: 640x640 1 horn prohibited, 1 no parking, 217.6ms\n",
            "image 309/665 /content/drive/MyDrive/Traffic SignBoard Recognition using Deep Learning/Dataset/YOLOV8 Format Dataset/test/images/no_parking-1_jpg.rf.7bca74fdb9fca3e93f60cc5c314e7707.jpg: 640x640 1 no parking, 354.2ms\n",
            "image 310/665 /content/drive/MyDrive/Traffic SignBoard Recognition using Deep Learning/Dataset/YOLOV8 Format Dataset/test/images/no_parking-23_jpg.rf.f090ce0a678189efb6e83cebd580cb60.jpg: 640x640 1 no parking, 345.7ms\n",
            "image 311/665 /content/drive/MyDrive/Traffic SignBoard Recognition using Deep Learning/Dataset/YOLOV8 Format Dataset/test/images/no_parking-26_jpeg_jpg.rf.06e962b303ee95e661b3268374729945.jpg: 640x640 1 no parking, 333.6ms\n",
            "image 312/665 /content/drive/MyDrive/Traffic SignBoard Recognition using Deep Learning/Dataset/YOLOV8 Format Dataset/test/images/no_parking-28_jpeg_jpg.rf.ca3040f50893046ca6f3ebd2ba91f452.jpg: 640x640 1 horn prohibited, 332.8ms\n",
            "image 313/665 /content/drive/MyDrive/Traffic SignBoard Recognition using Deep Learning/Dataset/YOLOV8 Format Dataset/test/images/no_parking-39_jpg.rf.e0a39e7746f6f3b312e511ce2553b702.jpg: 640x640 1 no parking, 337.4ms\n",
            "image 314/665 /content/drive/MyDrive/Traffic SignBoard Recognition using Deep Learning/Dataset/YOLOV8 Format Dataset/test/images/no_parking-42_jpg.rf.cea6dfb7cab9c401bfb46d3b49ace243.jpg: 640x640 1 no parking, 1 overtaking prohibited, 328.9ms\n",
            "image 315/665 /content/drive/MyDrive/Traffic SignBoard Recognition using Deep Learning/Dataset/YOLOV8 Format Dataset/test/images/no_parking-46_jpg.rf.9308eda53ee17cb71b52b8183ac6b5c4.jpg: 640x640 1 no parking, 342.5ms\n",
            "image 316/665 /content/drive/MyDrive/Traffic SignBoard Recognition using Deep Learning/Dataset/YOLOV8 Format Dataset/test/images/no_parking-48_jpg.rf.446ad82d942a348104db677172a4d09f.jpg: 640x640 1 no parking, 317.9ms\n",
            "image 317/665 /content/drive/MyDrive/Traffic SignBoard Recognition using Deep Learning/Dataset/YOLOV8 Format Dataset/test/images/no_parking-50_jpg.rf.744cbf3a73d5493720f18ecdd17f6c2e.jpg: 640x640 1 no parking, 345.7ms\n",
            "image 318/665 /content/drive/MyDrive/Traffic SignBoard Recognition using Deep Learning/Dataset/YOLOV8 Format Dataset/test/images/no_parking-5_jpg.rf.4f23d4879e3fb19314927cdebaf6f2c9.jpg: 640x640 1 no parking, 353.1ms\n",
            "image 319/665 /content/drive/MyDrive/Traffic SignBoard Recognition using Deep Learning/Dataset/YOLOV8 Format Dataset/test/images/no_parking-70_jpg.rf.067e80f2df0611973cf1caaf642edb98.jpg: 640x640 1 no parking, 353.3ms\n",
            "image 320/665 /content/drive/MyDrive/Traffic SignBoard Recognition using Deep Learning/Dataset/YOLOV8 Format Dataset/test/images/no_parking-72_jpg.rf.3f85296da991dd5c9c07536cd7a3235b.jpg: 640x640 1 no parking, 273.1ms\n",
            "image 321/665 /content/drive/MyDrive/Traffic SignBoard Recognition using Deep Learning/Dataset/YOLOV8 Format Dataset/test/images/no_parking-73_jpg.rf.9ecbb48d7427b710cb6dc684b9d717d5.jpg: 640x640 1 no parking, 226.1ms\n",
            "image 322/665 /content/drive/MyDrive/Traffic SignBoard Recognition using Deep Learning/Dataset/YOLOV8 Format Dataset/test/images/no_stopping_or_standing-0_jpeg_jpg.rf.c1f87eed73358d7eba69a3c58af11c1d.jpg: 640x640 1 no stopping or standing, 221.3ms\n",
            "image 323/665 /content/drive/MyDrive/Traffic SignBoard Recognition using Deep Learning/Dataset/YOLOV8 Format Dataset/test/images/no_stopping_or_standing-10_jpg.rf.1e9795d4af878593eab8588c421156bb.jpg: 640x640 1 no stopping or standing, 220.6ms\n",
            "image 324/665 /content/drive/MyDrive/Traffic SignBoard Recognition using Deep Learning/Dataset/YOLOV8 Format Dataset/test/images/no_stopping_or_standing-15_jpg.rf.5b97984633396ebdaee7181f332044c4.jpg: 640x640 1 no stopping or standing, 220.6ms\n",
            "image 325/665 /content/drive/MyDrive/Traffic SignBoard Recognition using Deep Learning/Dataset/YOLOV8 Format Dataset/test/images/no_stopping_or_standing-1_jpeg_jpg.rf.a2719c085c22e128c0b53c09e8cc0a2b.jpg: 640x640 1 no stopping or standing, 239.7ms\n",
            "image 326/665 /content/drive/MyDrive/Traffic SignBoard Recognition using Deep Learning/Dataset/YOLOV8 Format Dataset/test/images/no_stopping_or_standing-29_jpg.rf.8fd1bd667c5cda58b3cf9aa378d8ca11.jpg: 640x640 1 no stopping or standing, 216.3ms\n",
            "image 327/665 /content/drive/MyDrive/Traffic SignBoard Recognition using Deep Learning/Dataset/YOLOV8 Format Dataset/test/images/no_stopping_or_standing-33_jpg.rf.3c19320f6dd8ee46e3d4c43ef6c5ed04.jpg: 640x640 1 no stopping or standing, 225.0ms\n",
            "image 328/665 /content/drive/MyDrive/Traffic SignBoard Recognition using Deep Learning/Dataset/YOLOV8 Format Dataset/test/images/no_stopping_or_standing-36_jpg.rf.de7509b8c6b0fa015218f4d2d7193b8a.jpg: 640x640 1 no stopping or standing, 220.0ms\n",
            "image 329/665 /content/drive/MyDrive/Traffic SignBoard Recognition using Deep Learning/Dataset/YOLOV8 Format Dataset/test/images/no_stopping_or_standing-40_jpg.rf.82acbade0be57f0d0aaf6e570d321b81.jpg: 640x640 1 no stopping or standing, 231.1ms\n",
            "image 330/665 /content/drive/MyDrive/Traffic SignBoard Recognition using Deep Learning/Dataset/YOLOV8 Format Dataset/test/images/no_stopping_or_standing-44_jpg.rf.af89fa3c2192362222819544d237e373.jpg: 640x640 1 no stopping or standing, 224.8ms\n",
            "image 331/665 /content/drive/MyDrive/Traffic SignBoard Recognition using Deep Learning/Dataset/YOLOV8 Format Dataset/test/images/no_stopping_or_standing-49_jpg.rf.8eaf8a268cf87a6a07bf6dc2c7936ead.jpg: 640x640 1 left turn prohibited, 1 no stopping or standing, 238.2ms\n",
            "image 332/665 /content/drive/MyDrive/Traffic SignBoard Recognition using Deep Learning/Dataset/YOLOV8 Format Dataset/test/images/no_stopping_or_standing-4_jpg.rf.8bf024dd4fc99f20bcd7aedb24d9f259.jpg: 640x640 1 no stopping or standing, 226.2ms\n",
            "image 333/665 /content/drive/MyDrive/Traffic SignBoard Recognition using Deep Learning/Dataset/YOLOV8 Format Dataset/test/images/no_stopping_or_standing-54_jpg.rf.f3484caea002f4d723cef2573d0386b5.jpg: 640x640 1 horn prohibited, 1 no stopping or standing, 242.6ms\n",
            "image 334/665 /content/drive/MyDrive/Traffic SignBoard Recognition using Deep Learning/Dataset/YOLOV8 Format Dataset/test/images/no_stopping_or_standing-57_jpg.rf.020a837bc272bcad4c01f771cf08f510.jpg: 640x640 1 no stopping or standing, 226.2ms\n",
            "image 335/665 /content/drive/MyDrive/Traffic SignBoard Recognition using Deep Learning/Dataset/YOLOV8 Format Dataset/test/images/no_stopping_or_standing-58_jpg.rf.799ea799c19a3aba0a437cd3c1159d3e.jpg: 640x640 1 no stopping or standing, 213.6ms\n",
            "image 336/665 /content/drive/MyDrive/Traffic SignBoard Recognition using Deep Learning/Dataset/YOLOV8 Format Dataset/test/images/no_stopping_or_standing-8_jpg.rf.db0a55bc2017df993afcdba6799b2326.jpg: 640x640 1 no stopping or standing, 232.8ms\n",
            "image 337/665 /content/drive/MyDrive/Traffic SignBoard Recognition using Deep Learning/Dataset/YOLOV8 Format Dataset/test/images/overtaking_prohibited-12_jpg.rf.747adcdbe3502cb91d16ee9d80b25170.jpg: 640x640 1 overtaking prohibited, 227.9ms\n",
            "image 338/665 /content/drive/MyDrive/Traffic SignBoard Recognition using Deep Learning/Dataset/YOLOV8 Format Dataset/test/images/overtaking_prohibited-17_jpeg_jpg.rf.8f6ef39a52496906458c7d6d5bf16536.jpg: 640x640 1 overtaking prohibited, 219.0ms\n",
            "image 339/665 /content/drive/MyDrive/Traffic SignBoard Recognition using Deep Learning/Dataset/YOLOV8 Format Dataset/test/images/overtaking_prohibited-1_jpg.rf.9744a33b5375255ba3b3eb1fa4ccf6e8.jpg: 640x640 1 overtaking prohibited, 224.3ms\n",
            "image 340/665 /content/drive/MyDrive/Traffic SignBoard Recognition using Deep Learning/Dataset/YOLOV8 Format Dataset/test/images/overtaking_prohibited-27_jpg.rf.2cdf551c235df8a1b789909e905ac13f.jpg: 640x640 1 overtaking prohibited, 220.4ms\n",
            "image 341/665 /content/drive/MyDrive/Traffic SignBoard Recognition using Deep Learning/Dataset/YOLOV8 Format Dataset/test/images/overtaking_prohibited-29_jpeg_jpg.rf.32a2026cf545b2bfe228c3900525e1cb.jpg: 640x640 1 overtaking prohibited, 227.3ms\n",
            "image 342/665 /content/drive/MyDrive/Traffic SignBoard Recognition using Deep Learning/Dataset/YOLOV8 Format Dataset/test/images/overtaking_prohibited-48_jpg.rf.bae9c65d8e33cd0e73a6623aaccf336c.jpg: 640x640 1 overtaking prohibited, 1 speed limit 50, 221.7ms\n",
            "image 343/665 /content/drive/MyDrive/Traffic SignBoard Recognition using Deep Learning/Dataset/YOLOV8 Format Dataset/test/images/overtaking_prohibited-49_jpg.rf.753bbbb1621e954284b1ac50a16c7e46.jpg: 640x640 1 no parking, 1 overtaking prohibited, 224.0ms\n",
            "image 344/665 /content/drive/MyDrive/Traffic SignBoard Recognition using Deep Learning/Dataset/YOLOV8 Format Dataset/test/images/overtaking_prohibited-5_jpg.rf.f4b74a37317ee722a0b5976c43a2e413.jpg: 640x640 1 overtaking prohibited, 238.4ms\n",
            "image 345/665 /content/drive/MyDrive/Traffic SignBoard Recognition using Deep Learning/Dataset/YOLOV8 Format Dataset/test/images/overtaking_prohibited-6_jpeg_jpg.rf.a3fa21c72422ca7b077e2be42f2654fe.jpg: 640x640 1 overtaking prohibited, 238.2ms\n",
            "image 346/665 /content/drive/MyDrive/Traffic SignBoard Recognition using Deep Learning/Dataset/YOLOV8 Format Dataset/test/images/pass_either_side-11_png_jpg.rf.e8ff7cbf87a3ec79702ee716250ff8d6.jpg: 640x640 1 compulsary keep right, 214.0ms\n",
            "image 347/665 /content/drive/MyDrive/Traffic SignBoard Recognition using Deep Learning/Dataset/YOLOV8 Format Dataset/test/images/pass_either_side-12_jpeg_jpg.rf.df89b0a9ec9e8cc81dc41d7f7fb9e4e8.jpg: 640x640 1 pass either side, 1 steep ascent, 222.4ms\n",
            "image 348/665 /content/drive/MyDrive/Traffic SignBoard Recognition using Deep Learning/Dataset/YOLOV8 Format Dataset/test/images/pass_either_side-1_png_jpg.rf.8b502e2f8da088e519dd45db4b89df5c.jpg: 640x640 1 pass either side, 226.4ms\n",
            "image 349/665 /content/drive/MyDrive/Traffic SignBoard Recognition using Deep Learning/Dataset/YOLOV8 Format Dataset/test/images/pass_either_side-20_jpg.rf.98cab4ce5bfae993947d184f5b89c038.jpg: 640x640 1 pass either side, 509.8ms\n",
            "image 350/665 /content/drive/MyDrive/Traffic SignBoard Recognition using Deep Learning/Dataset/YOLOV8 Format Dataset/test/images/pass_either_side-27_jpg.rf.f45e67014d52cd1e78fa167e7e11c356.jpg: 640x640 1 pass either side, 244.7ms\n",
            "image 351/665 /content/drive/MyDrive/Traffic SignBoard Recognition using Deep Learning/Dataset/YOLOV8 Format Dataset/test/images/pass_either_side-3_png_jpg.rf.7f9df252d0bd2fd59c876050b5505c4a.jpg: 640x640 1 pass either side, 223.7ms\n",
            "image 352/665 /content/drive/MyDrive/Traffic SignBoard Recognition using Deep Learning/Dataset/YOLOV8 Format Dataset/test/images/pass_either_side-42_jpg.rf.d38c1a2bf8ca5c90e901790b940bd44e.jpg: 640x640 1 pass either side, 236.9ms\n",
            "image 353/665 /content/drive/MyDrive/Traffic SignBoard Recognition using Deep Learning/Dataset/YOLOV8 Format Dataset/test/images/pass_either_side-44_jpeg_jpg.rf.d8c8647cc7a768bf87ab3699e58f44f8.jpg: 640x640 1 pass either side, 225.8ms\n",
            "image 354/665 /content/drive/MyDrive/Traffic SignBoard Recognition using Deep Learning/Dataset/YOLOV8 Format Dataset/test/images/pass_either_side-47_jpg.rf.81bc8b498c153aa9893cc1df1d2a788c.jpg: 640x640 1 pass either side, 218.8ms\n",
            "image 355/665 /content/drive/MyDrive/Traffic SignBoard Recognition using Deep Learning/Dataset/YOLOV8 Format Dataset/test/images/pass_either_side-4_jpeg_jpg.rf.7d2625a81d247cedd491968d3fcacae5.jpg: 640x640 1 pass either side, 227.2ms\n",
            "image 356/665 /content/drive/MyDrive/Traffic SignBoard Recognition using Deep Learning/Dataset/YOLOV8 Format Dataset/test/images/pass_either_side-54_jpg.rf.22366fcd1babbe3974f1ca0e4e292ac8.jpg: 640x640 1 pass either side, 234.4ms\n",
            "image 357/665 /content/drive/MyDrive/Traffic SignBoard Recognition using Deep Learning/Dataset/YOLOV8 Format Dataset/test/images/pass_either_side-55_jpg.rf.619df516fab0266f8ea60b4d48ef41d0.jpg: 640x640 1 pass either side, 225.1ms\n",
            "image 358/665 /content/drive/MyDrive/Traffic SignBoard Recognition using Deep Learning/Dataset/YOLOV8 Format Dataset/test/images/pass_either_side-63_jpg.rf.d15151a049974cf263da63267fdb4ecc.jpg: 640x640 1 pass either side, 331.1ms\n",
            "image 359/665 /content/drive/MyDrive/Traffic SignBoard Recognition using Deep Learning/Dataset/YOLOV8 Format Dataset/test/images/pass_either_side-7_jpeg_jpg.rf.9fcc6ae079ca8d0e0044925356f6fe54.jpg: 640x640 1 pass either side, 349.8ms\n",
            "image 360/665 /content/drive/MyDrive/Traffic SignBoard Recognition using Deep Learning/Dataset/YOLOV8 Format Dataset/test/images/pedestrian_crossing-15_jpg.rf.c36a88af50947804c7a2f655a96e1fce.jpg: 640x640 1 pedestrian crossing, 330.8ms\n",
            "image 361/665 /content/drive/MyDrive/Traffic SignBoard Recognition using Deep Learning/Dataset/YOLOV8 Format Dataset/test/images/pedestrian_crossing-20_jpg.rf.a6db72c06b5ff2698e5f7b021ea0a792.jpg: 640x640 1 pedestrian crossing, 334.5ms\n",
            "image 362/665 /content/drive/MyDrive/Traffic SignBoard Recognition using Deep Learning/Dataset/YOLOV8 Format Dataset/test/images/pedestrian_crossing-25_jpg.rf.bd75b60c9a21d9907b7dbe3eee8bc565.jpg: 640x640 1 pedestrian crossing, 359.6ms\n",
            "image 363/665 /content/drive/MyDrive/Traffic SignBoard Recognition using Deep Learning/Dataset/YOLOV8 Format Dataset/test/images/pedestrian_crossing-26_jpg.rf.8bfe90a406c60b7c4ae56016cdacb343.jpg: 640x640 1 pedestrian crossing, 338.6ms\n",
            "image 364/665 /content/drive/MyDrive/Traffic SignBoard Recognition using Deep Learning/Dataset/YOLOV8 Format Dataset/test/images/pedestrian_crossing-32_png_jpg.rf.fc83605548b1a50d93ca717f32c3ae81.jpg: 640x640 1 pedestrian crossing, 335.1ms\n",
            "image 365/665 /content/drive/MyDrive/Traffic SignBoard Recognition using Deep Learning/Dataset/YOLOV8 Format Dataset/test/images/pedestrian_crossing-36_png_jpg.rf.b2155e799067ce5fd369d66494db5951.jpg: 640x640 1 pedestrian crossing, 329.2ms\n",
            "image 366/665 /content/drive/MyDrive/Traffic SignBoard Recognition using Deep Learning/Dataset/YOLOV8 Format Dataset/test/images/pedestrian_crossing-37_png_jpg.rf.0be81cb2342195d527aafc75a06f133e.jpg: 640x640 1 pedestrian crossing, 333.2ms\n",
            "image 367/665 /content/drive/MyDrive/Traffic SignBoard Recognition using Deep Learning/Dataset/YOLOV8 Format Dataset/test/images/pedestrian_crossing-45_jpg.rf.a450a58467bc37f3bb022a5a7c43c64d.jpg: 640x640 1 narrow bridge ahead, 1 side road left, 343.2ms\n",
            "image 368/665 /content/drive/MyDrive/Traffic SignBoard Recognition using Deep Learning/Dataset/YOLOV8 Format Dataset/test/images/pedestrian_crossing-51_png_jpg.rf.b8e2d42c2ca797b2428ef67e5469c070.jpg: 640x640 1 pedestrian crossing, 338.0ms\n",
            "image 369/665 /content/drive/MyDrive/Traffic SignBoard Recognition using Deep Learning/Dataset/YOLOV8 Format Dataset/test/images/pedestrian_crossing-60_jpg.rf.b32cf3d769f524e26e88b7012e7f3e5e.jpg: 640x640 1 pedestrian crossing, 282.2ms\n",
            "image 370/665 /content/drive/MyDrive/Traffic SignBoard Recognition using Deep Learning/Dataset/YOLOV8 Format Dataset/test/images/petrol_pump_ahead-12_jpeg_jpg.rf.2ea9a045384322cd6fc0e89e22291137.jpg: 640x640 1 petrol pump ahead, 214.4ms\n",
            "image 371/665 /content/drive/MyDrive/Traffic SignBoard Recognition using Deep Learning/Dataset/YOLOV8 Format Dataset/test/images/petrol_pump_ahead-16_jpeg_jpg.rf.04328d5f5e7b0e54bb8bdea0010ab8f2.jpg: 640x640 1 petrol pump ahead, 258.1ms\n",
            "image 372/665 /content/drive/MyDrive/Traffic SignBoard Recognition using Deep Learning/Dataset/YOLOV8 Format Dataset/test/images/petrol_pump_ahead-19_jpeg_jpg.rf.1cb1dfee82634ce6824b4cda5d27993b.jpg: 640x640 1 petrol pump ahead, 222.1ms\n",
            "image 373/665 /content/drive/MyDrive/Traffic SignBoard Recognition using Deep Learning/Dataset/YOLOV8 Format Dataset/test/images/petrol_pump_ahead-22_jpeg_jpg.rf.4ae35d97bba68f65056aa9f6329905cc.jpg: 640x640 1 petrol pump ahead, 227.3ms\n",
            "image 374/665 /content/drive/MyDrive/Traffic SignBoard Recognition using Deep Learning/Dataset/YOLOV8 Format Dataset/test/images/petrol_pump_ahead-23_jpeg_jpg.rf.a59d7b218ec4755dbdb88563dbaa6085.jpg: 640x640 1 petrol pump ahead, 226.1ms\n",
            "image 375/665 /content/drive/MyDrive/Traffic SignBoard Recognition using Deep Learning/Dataset/YOLOV8 Format Dataset/test/images/petrol_pump_ahead-34_png_jpg.rf.5c4fed9efc2a26f48e9908852bff48e7.jpg: 640x640 1 petrol pump ahead, 238.6ms\n",
            "image 376/665 /content/drive/MyDrive/Traffic SignBoard Recognition using Deep Learning/Dataset/YOLOV8 Format Dataset/test/images/petrol_pump_ahead-36_jpeg_jpg.rf.3eb8e87290927d0860555c7e55e618de.jpg: 640x640 1 petrol pump ahead, 219.1ms\n",
            "image 377/665 /content/drive/MyDrive/Traffic SignBoard Recognition using Deep Learning/Dataset/YOLOV8 Format Dataset/test/images/petrol_pump_ahead-38_jpg.rf.42e2ae2356b13c2f813c861d1ae24c85.jpg: 640x640 1 petrol pump ahead, 227.4ms\n",
            "image 378/665 /content/drive/MyDrive/Traffic SignBoard Recognition using Deep Learning/Dataset/YOLOV8 Format Dataset/test/images/petrol_pump_ahead-43_jpg.rf.16f5fda6ea15ed7b8ffd69e40e6a8e81.jpg: 640x640 (no detections), 224.5ms\n",
            "image 379/665 /content/drive/MyDrive/Traffic SignBoard Recognition using Deep Learning/Dataset/YOLOV8 Format Dataset/test/images/petrol_pump_ahead-46_jpg.rf.c5f178107948fc641fcd8fabf673420f.jpg: 640x640 1 petrol pump ahead, 248.9ms\n",
            "image 380/665 /content/drive/MyDrive/Traffic SignBoard Recognition using Deep Learning/Dataset/YOLOV8 Format Dataset/test/images/petrol_pump_ahead-52_jpg.rf.0e64fe5b18ed2291c84163c0369c4094.jpg: 640x640 1 petrol pump ahead, 225.0ms\n",
            "image 381/665 /content/drive/MyDrive/Traffic SignBoard Recognition using Deep Learning/Dataset/YOLOV8 Format Dataset/test/images/petrol_pump_ahead-56_png_jpg.rf.14b22221b46bd996fd530e21ed0aa01c.jpg: 640x640 1 hospital ahead, 1 petrol pump ahead, 226.9ms\n",
            "image 382/665 /content/drive/MyDrive/Traffic SignBoard Recognition using Deep Learning/Dataset/YOLOV8 Format Dataset/test/images/quay_side_or_river_bank-10_jpg.rf.08c385bc856e88b2eb4fa4626a94e046.jpg: 640x640 1 quay side or river bank, 217.8ms\n",
            "image 383/665 /content/drive/MyDrive/Traffic SignBoard Recognition using Deep Learning/Dataset/YOLOV8 Format Dataset/test/images/quay_side_or_river_bank-20_jpg.rf.43d434a939cfb7ece3af08a81d7ee444.jpg: 640x640 1 quay side or river bank, 244.4ms\n",
            "image 384/665 /content/drive/MyDrive/Traffic SignBoard Recognition using Deep Learning/Dataset/YOLOV8 Format Dataset/test/images/quay_side_or_river_bank-25_jpg.rf.4219e50c3d510418430dec99b4207f7a.jpg: 640x640 1 quay side or river bank, 218.4ms\n",
            "image 385/665 /content/drive/MyDrive/Traffic SignBoard Recognition using Deep Learning/Dataset/YOLOV8 Format Dataset/test/images/quay_side_or_river_bank-26_jpg.rf.ae509f9f3d731c823dafcc0bfc08c7ac.jpg: 640x640 1 quay side or river bank, 224.4ms\n",
            "image 386/665 /content/drive/MyDrive/Traffic SignBoard Recognition using Deep Learning/Dataset/YOLOV8 Format Dataset/test/images/quay_side_or_river_bank-28_jpg.rf.97ab3e5da87970aac97ef1dbf73e732f.jpg: 640x640 1 quay side or river bank, 224.2ms\n",
            "image 387/665 /content/drive/MyDrive/Traffic SignBoard Recognition using Deep Learning/Dataset/YOLOV8 Format Dataset/test/images/quay_side_or_river_bank-34_jpg.rf.d6f6232dc8d40857e65728e9660b3290.jpg: 640x640 1 quay side or river bank, 250.1ms\n",
            "image 388/665 /content/drive/MyDrive/Traffic SignBoard Recognition using Deep Learning/Dataset/YOLOV8 Format Dataset/test/images/quay_side_or_river_bank-35_jpeg_jpg.rf.4363266108fd880e109b731dc12a63b1.jpg: 640x640 1 quay side or river bank, 220.8ms\n",
            "image 389/665 /content/drive/MyDrive/Traffic SignBoard Recognition using Deep Learning/Dataset/YOLOV8 Format Dataset/test/images/quay_side_or_river_bank-39_jpg.rf.8f288a9c8e512479b5a816704990e876.jpg: 640x640 1 quay side or river bank, 246.4ms\n",
            "image 390/665 /content/drive/MyDrive/Traffic SignBoard Recognition using Deep Learning/Dataset/YOLOV8 Format Dataset/test/images/quay_side_or_river_bank-44_jpg.rf.0a8e44260201c7a0abe5158c6d1842bb.jpg: 640x640 1 quay side or river bank, 226.7ms\n",
            "image 391/665 /content/drive/MyDrive/Traffic SignBoard Recognition using Deep Learning/Dataset/YOLOV8 Format Dataset/test/images/quay_side_or_river_bank-53_jpg.rf.1650a6d99d06c025b746a8a382dcd40f.jpg: 640x640 1 quay side or river bank, 255.2ms\n",
            "image 392/665 /content/drive/MyDrive/Traffic SignBoard Recognition using Deep Learning/Dataset/YOLOV8 Format Dataset/test/images/quay_side_or_river_bank-56_jpg.rf.7bf2966e7162452e7959c3c3878134b7.jpg: 640x640 1 quay side or river bank, 219.8ms\n",
            "image 393/665 /content/drive/MyDrive/Traffic SignBoard Recognition using Deep Learning/Dataset/YOLOV8 Format Dataset/test/images/quay_side_or_river_bank-60_jpg.rf.a111cef3108767bf8e0d1d2b8ba2a53b.jpg: 640x640 1 quay side or river bank, 228.6ms\n",
            "image 394/665 /content/drive/MyDrive/Traffic SignBoard Recognition using Deep Learning/Dataset/YOLOV8 Format Dataset/test/images/quay_side_or_river_bank-64_png_jpg.rf.705f7b8c5868052a945f6ec96a364227.jpg: 640x640 1 quay side or river bank, 221.1ms\n",
            "image 395/665 /content/drive/MyDrive/Traffic SignBoard Recognition using Deep Learning/Dataset/YOLOV8 Format Dataset/test/images/quay_side_or_river_bank-65_jpeg_jpg.rf.47b0bed98aeca6564eb31b87afb58683.jpg: 640x640 1 steep ascent, 235.3ms\n",
            "image 396/665 /content/drive/MyDrive/Traffic SignBoard Recognition using Deep Learning/Dataset/YOLOV8 Format Dataset/test/images/quay_side_or_river_bank-6_jpg.rf.27c3fd90bc35064685ebef89c0f5ffa0.jpg: 640x640 1 quay side or river bank, 219.3ms\n",
            "image 397/665 /content/drive/MyDrive/Traffic SignBoard Recognition using Deep Learning/Dataset/YOLOV8 Format Dataset/test/images/quay_side_or_river_bank-7_jpg.rf.f93d9ddbd8269c4a5538f84ab6aa9d0f.jpg: 640x640 1 quay side or river bank, 219.8ms\n",
            "image 398/665 /content/drive/MyDrive/Traffic SignBoard Recognition using Deep Learning/Dataset/YOLOV8 Format Dataset/test/images/quay_side_or_river_bank-8_jpg.rf.3bb0d29d6e6302ade3b1d607aff360d2.jpg: 640x640 1 quay side or river bank, 221.0ms\n",
            "image 399/665 /content/drive/MyDrive/Traffic SignBoard Recognition using Deep Learning/Dataset/YOLOV8 Format Dataset/test/images/restriction_ends-10_jpeg_jpg.rf.d7af7e4a6d2b2f4c9da9143e8d035962.jpg: 640x640 1 restriction ends, 234.2ms\n",
            "image 400/665 /content/drive/MyDrive/Traffic SignBoard Recognition using Deep Learning/Dataset/YOLOV8 Format Dataset/test/images/restriction_ends-12_jpeg_jpg.rf.b846b1c9f5c9086997e31a71326d880b.jpg: 640x640 1 restriction ends, 220.6ms\n",
            "image 401/665 /content/drive/MyDrive/Traffic SignBoard Recognition using Deep Learning/Dataset/YOLOV8 Format Dataset/test/images/restriction_ends-14_jpg.rf.a6d25e4e8f45edcb90e36bfe6722858f.jpg: 640x640 1 compulsary keep left, 220.0ms\n",
            "image 402/665 /content/drive/MyDrive/Traffic SignBoard Recognition using Deep Learning/Dataset/YOLOV8 Format Dataset/test/images/restriction_ends-1_jpeg_jpg.rf.1712038b7cac0c12f8545ba70431bac1.jpg: 640x640 1 restriction ends, 217.9ms\n",
            "image 403/665 /content/drive/MyDrive/Traffic SignBoard Recognition using Deep Learning/Dataset/YOLOV8 Format Dataset/test/images/restriction_ends-21_png_jpg.rf.a20c6dcc9bff098a926d3f383cf1d174.jpg: 640x640 1 restriction ends, 238.7ms\n",
            "image 404/665 /content/drive/MyDrive/Traffic SignBoard Recognition using Deep Learning/Dataset/YOLOV8 Format Dataset/test/images/restriction_ends-35_png_jpg.rf.aef74fa00cca3eea657038f75fece9e4.jpg: 640x640 1 restriction ends, 225.5ms\n",
            "image 405/665 /content/drive/MyDrive/Traffic SignBoard Recognition using Deep Learning/Dataset/YOLOV8 Format Dataset/test/images/restriction_ends-39_jpg.rf.d445276b0bc51f41089b82d77f1fe4d6.jpg: 640x640 1 restriction ends, 226.5ms\n",
            "image 406/665 /content/drive/MyDrive/Traffic SignBoard Recognition using Deep Learning/Dataset/YOLOV8 Format Dataset/test/images/restriction_ends-3_jpeg_jpg.rf.fcfc08f3b8a8317070829ec1400706e9.jpg: 640x640 1 restriction ends, 226.7ms\n",
            "image 407/665 /content/drive/MyDrive/Traffic SignBoard Recognition using Deep Learning/Dataset/YOLOV8 Format Dataset/test/images/restriction_ends-40_png_jpg.rf.86b62dc916d294f2272d88a92b6e3c68.jpg: 640x640 1 restriction ends, 239.0ms\n",
            "image 408/665 /content/drive/MyDrive/Traffic SignBoard Recognition using Deep Learning/Dataset/YOLOV8 Format Dataset/test/images/restriction_ends-42_png_jpg.rf.c5482eb88c1b37bc103e03c38ab89fef.jpg: 640x640 1 restriction ends, 335.8ms\n",
            "image 409/665 /content/drive/MyDrive/Traffic SignBoard Recognition using Deep Learning/Dataset/YOLOV8 Format Dataset/test/images/restriction_ends-45_png_jpg.rf.5caf358029c829de96364fa2fcd5c8bc.jpg: 640x640 1 restriction ends, 348.0ms\n",
            "image 410/665 /content/drive/MyDrive/Traffic SignBoard Recognition using Deep Learning/Dataset/YOLOV8 Format Dataset/test/images/restriction_ends-46_png_jpg.rf.f59e2eb125ea42f312fb6e59855427be.jpg: 640x640 1 restriction ends, 340.9ms\n",
            "image 411/665 /content/drive/MyDrive/Traffic SignBoard Recognition using Deep Learning/Dataset/YOLOV8 Format Dataset/test/images/restriction_ends-5_jpeg_jpg.rf.8b7ac73100e289a9f13293aa80e990d8.jpg: 640x640 1 restriction ends, 354.7ms\n",
            "image 412/665 /content/drive/MyDrive/Traffic SignBoard Recognition using Deep Learning/Dataset/YOLOV8 Format Dataset/test/images/restriction_ends-60_png_jpg.rf.dc836f017d4f97bed8b819c57bd1d01f.jpg: 640x640 1 restriction ends, 351.8ms\n",
            "image 413/665 /content/drive/MyDrive/Traffic SignBoard Recognition using Deep Learning/Dataset/YOLOV8 Format Dataset/test/images/restriction_ends-61_png_jpg.rf.d198097af85b847ec9f8fb9799d7b91f.jpg: 640x640 1 restriction ends, 343.7ms\n",
            "image 414/665 /content/drive/MyDrive/Traffic SignBoard Recognition using Deep Learning/Dataset/YOLOV8 Format Dataset/test/images/restriction_ends-64_png_jpg.rf.cc9ee96799d3c2dacf66f533c61e6f10.jpg: 640x640 1 restriction ends, 335.4ms\n",
            "image 415/665 /content/drive/MyDrive/Traffic SignBoard Recognition using Deep Learning/Dataset/YOLOV8 Format Dataset/test/images/restriction_ends-65_png_jpg.rf.a771e88f0855094687e65346b1a073c7.jpg: 640x640 1 restriction ends, 334.4ms\n",
            "image 416/665 /content/drive/MyDrive/Traffic SignBoard Recognition using Deep Learning/Dataset/YOLOV8 Format Dataset/test/images/restriction_ends-7_png_jpg.rf.79d13eefe63502c4ab8f1cec9e0428be.jpg: 640x640 1 restriction ends, 362.4ms\n",
            "image 417/665 /content/drive/MyDrive/Traffic SignBoard Recognition using Deep Learning/Dataset/YOLOV8 Format Dataset/test/images/right_hand_curve-12_jpg.rf.ebeac85720721e224bded8cac1417979.jpg: 640x640 1 right hand curve, 356.6ms\n",
            "image 418/665 /content/drive/MyDrive/Traffic SignBoard Recognition using Deep Learning/Dataset/YOLOV8 Format Dataset/test/images/right_hand_curve-23_jpg.rf.34505123505a017b0a9f360eaea2b089.jpg: 640x640 1 left hand curve, 344.2ms\n",
            "image 419/665 /content/drive/MyDrive/Traffic SignBoard Recognition using Deep Learning/Dataset/YOLOV8 Format Dataset/test/images/right_hand_curve-29_jpg.rf.010f66d480e931f27c2e324e0c6f9e9e.jpg: 640x640 1 left hand curve, 1 right hand curve, 238.0ms\n",
            "image 420/665 /content/drive/MyDrive/Traffic SignBoard Recognition using Deep Learning/Dataset/YOLOV8 Format Dataset/test/images/right_hand_curve-30_jpg.rf.d6be22cdd78b99e54caa7755d809d7ca.jpg: 640x640 1 left hand curve, 1 right hand curve, 215.5ms\n",
            "image 421/665 /content/drive/MyDrive/Traffic SignBoard Recognition using Deep Learning/Dataset/YOLOV8 Format Dataset/test/images/right_hand_curve-31_jpg.rf.9a12843569f66e1047f5c729f86d02ca.jpg: 640x640 1 slippery road, 223.7ms\n",
            "image 422/665 /content/drive/MyDrive/Traffic SignBoard Recognition using Deep Learning/Dataset/YOLOV8 Format Dataset/test/images/right_hand_curve-46_jpg.rf.35d0daa9c05ec28cc670d7d6090a98c5.jpg: 640x640 1 left hand curve, 1 right hand curve, 254.9ms\n",
            "image 423/665 /content/drive/MyDrive/Traffic SignBoard Recognition using Deep Learning/Dataset/YOLOV8 Format Dataset/test/images/right_hand_curve-50_png_jpg.rf.aed2c97a93f43d4978c87f40ebc4dc48.jpg: 640x640 1 left hand curve, 223.1ms\n",
            "image 424/665 /content/drive/MyDrive/Traffic SignBoard Recognition using Deep Learning/Dataset/YOLOV8 Format Dataset/test/images/right_hand_curve-51_jpg.rf.4c5661e034fbc2a0d93dff3f215776a8.jpg: 640x640 1 right hand curve, 222.3ms\n",
            "image 425/665 /content/drive/MyDrive/Traffic SignBoard Recognition using Deep Learning/Dataset/YOLOV8 Format Dataset/test/images/right_hand_curve-58_png_jpg.rf.aef90526dc333dbd2f88be0cc4ce0584.jpg: 640x640 1 right hand curve, 241.6ms\n",
            "image 426/665 /content/drive/MyDrive/Traffic SignBoard Recognition using Deep Learning/Dataset/YOLOV8 Format Dataset/test/images/right_hand_curve-59_png_jpg.rf.394731d301d8c49cd4ba6a8ae8f02b4f.jpg: 640x640 1 left hand curve, 1 right hand curve, 238.2ms\n",
            "image 427/665 /content/drive/MyDrive/Traffic SignBoard Recognition using Deep Learning/Dataset/YOLOV8 Format Dataset/test/images/right_hand_curve-68_png_jpg.rf.9e1c420b4b0bd82803ee6b941d22fef3.jpg: 640x640 1 right hand curve, 239.8ms\n",
            "image 428/665 /content/drive/MyDrive/Traffic SignBoard Recognition using Deep Learning/Dataset/YOLOV8 Format Dataset/test/images/right_hand_curve-69_png_jpg.rf.eb7d4061977b8b6bd95b6dc4c5167a14.jpg: 640x640 1 right hand curve, 228.9ms\n",
            "image 429/665 /content/drive/MyDrive/Traffic SignBoard Recognition using Deep Learning/Dataset/YOLOV8 Format Dataset/test/images/right_hand_curve-6_jpg.rf.0c9fef9774eddc1e26bd945b662720fd.jpg: 640x640 1 right hand curve, 247.2ms\n",
            "image 430/665 /content/drive/MyDrive/Traffic SignBoard Recognition using Deep Learning/Dataset/YOLOV8 Format Dataset/test/images/right_hand_curve-8_jpg.rf.cbcbc7d08d892e7a71d7d54ffb78847c.jpg: 640x640 1 right hand curve, 242.4ms\n",
            "image 431/665 /content/drive/MyDrive/Traffic SignBoard Recognition using Deep Learning/Dataset/YOLOV8 Format Dataset/test/images/right_reverse_bend-12_jpeg_jpg.rf.9659b5037b2ca0d4e791649c8cb88e09.jpg: 640x640 1 right reverse bend, 225.0ms\n",
            "image 432/665 /content/drive/MyDrive/Traffic SignBoard Recognition using Deep Learning/Dataset/YOLOV8 Format Dataset/test/images/right_reverse_bend-21_jpg.rf.f4294d78ab1b215501b26f7794e648c2.jpg: 640x640 1 right reverse bend, 219.6ms\n",
            "image 433/665 /content/drive/MyDrive/Traffic SignBoard Recognition using Deep Learning/Dataset/YOLOV8 Format Dataset/test/images/right_reverse_bend-27_jpg.rf.7574bd4fd2f51d678e6f4673b536b63d.jpg: 640x640 1 right reverse bend, 220.3ms\n",
            "image 434/665 /content/drive/MyDrive/Traffic SignBoard Recognition using Deep Learning/Dataset/YOLOV8 Format Dataset/test/images/right_reverse_bend-2_png_jpg.rf.0e817819149bf49cb8efce8522a372ba.jpg: 640x640 1 right reverse bend, 250.3ms\n",
            "image 435/665 /content/drive/MyDrive/Traffic SignBoard Recognition using Deep Learning/Dataset/YOLOV8 Format Dataset/test/images/right_reverse_bend-34_jpg.rf.f9448cea932d4d68b7ab1df440319af0.jpg: 640x640 1 right reverse bend, 490.3ms\n",
            "image 436/665 /content/drive/MyDrive/Traffic SignBoard Recognition using Deep Learning/Dataset/YOLOV8 Format Dataset/test/images/right_reverse_bend-42_jpg.rf.f821d840b2ccdbb069b852f17c012168.jpg: 640x640 1 left reverse bend, 1 right reverse bend, 234.5ms\n",
            "image 437/665 /content/drive/MyDrive/Traffic SignBoard Recognition using Deep Learning/Dataset/YOLOV8 Format Dataset/test/images/right_reverse_bend-45_jpg.rf.eca202ade351f71d16746e6709748bd0.jpg: 640x640 1 left reverse bend, 241.4ms\n",
            "image 438/665 /content/drive/MyDrive/Traffic SignBoard Recognition using Deep Learning/Dataset/YOLOV8 Format Dataset/test/images/right_reverse_bend-48_jpg.rf.7d6ce8d4ee6acb31c94b7084112507d8.jpg: 640x640 1 right reverse bend, 225.3ms\n",
            "image 439/665 /content/drive/MyDrive/Traffic SignBoard Recognition using Deep Learning/Dataset/YOLOV8 Format Dataset/test/images/right_reverse_bend-50_jpg.rf.0e2dd23bcad20fdc85e892570a59997d.jpg: 640x640 1 right reverse bend, 226.4ms\n",
            "image 440/665 /content/drive/MyDrive/Traffic SignBoard Recognition using Deep Learning/Dataset/YOLOV8 Format Dataset/test/images/right_reverse_bend-55_jpg.rf.c020161e29ba62ca8e7286de91cd1a5d.jpg: 640x640 1 right reverse bend, 224.8ms\n",
            "image 441/665 /content/drive/MyDrive/Traffic SignBoard Recognition using Deep Learning/Dataset/YOLOV8 Format Dataset/test/images/right_turn_prohibited-17_jpg.rf.63cd85c77b9e74265905222dd414a831.jpg: 640x640 1 right turn prohibited, 261.9ms\n",
            "image 442/665 /content/drive/MyDrive/Traffic SignBoard Recognition using Deep Learning/Dataset/YOLOV8 Format Dataset/test/images/right_turn_prohibited-18_jpg.rf.a671d721d77e3b5d4576f3afc2cea8f5.jpg: 640x640 1 right turn prohibited, 221.8ms\n",
            "image 443/665 /content/drive/MyDrive/Traffic SignBoard Recognition using Deep Learning/Dataset/YOLOV8 Format Dataset/test/images/right_turn_prohibited-19_jpg.rf.fd1d2c55ebb274839b27e02fb326f019.jpg: 640x640 1 right turn prohibited, 242.6ms\n",
            "image 444/665 /content/drive/MyDrive/Traffic SignBoard Recognition using Deep Learning/Dataset/YOLOV8 Format Dataset/test/images/right_turn_prohibited-24_jpg.rf.34962ad3c4191068844a7f453462bbf6.jpg: 640x640 1 right turn prohibited, 235.3ms\n",
            "image 445/665 /content/drive/MyDrive/Traffic SignBoard Recognition using Deep Learning/Dataset/YOLOV8 Format Dataset/test/images/right_turn_prohibited-28_jpg.rf.cfdbea5d462dc0550d6c1b300189e98a.jpg: 640x640 1 right turn prohibited, 244.3ms\n",
            "image 446/665 /content/drive/MyDrive/Traffic SignBoard Recognition using Deep Learning/Dataset/YOLOV8 Format Dataset/test/images/right_turn_prohibited-29_jpg.rf.cf13224a00f7c28b465161f31a985617.jpg: 640x640 2 right turn prohibiteds, 217.1ms\n",
            "image 447/665 /content/drive/MyDrive/Traffic SignBoard Recognition using Deep Learning/Dataset/YOLOV8 Format Dataset/test/images/right_turn_prohibited-31_jpg.rf.ff83384301eabe118f16c640655e3d71.jpg: 640x640 1 right turn prohibited, 257.1ms\n",
            "image 448/665 /content/drive/MyDrive/Traffic SignBoard Recognition using Deep Learning/Dataset/YOLOV8 Format Dataset/test/images/right_turn_prohibited-32_jpg.rf.bff94f9e77f52538e75736df19ed9678.jpg: 640x640 1 right turn prohibited, 239.8ms\n",
            "image 449/665 /content/drive/MyDrive/Traffic SignBoard Recognition using Deep Learning/Dataset/YOLOV8 Format Dataset/test/images/right_turn_prohibited-37_jpg.rf.c5239cddaadb048a114bd70c8fb1b72e.jpg: 640x640 1 right turn prohibited, 238.2ms\n",
            "image 450/665 /content/drive/MyDrive/Traffic SignBoard Recognition using Deep Learning/Dataset/YOLOV8 Format Dataset/test/images/right_turn_prohibited-3_jpg.rf.f9c8a3bbdb006e951879a57a21588409.jpg: 640x640 1 right turn prohibited, 222.7ms\n",
            "image 451/665 /content/drive/MyDrive/Traffic SignBoard Recognition using Deep Learning/Dataset/YOLOV8 Format Dataset/test/images/right_turn_prohibited-45_jpg.rf.22c515a11203e13bf4c2029c41553e09.jpg: 640x640 1 left turn prohibited, 225.3ms\n",
            "image 452/665 /content/drive/MyDrive/Traffic SignBoard Recognition using Deep Learning/Dataset/YOLOV8 Format Dataset/test/images/right_turn_prohibited-5_jpg.rf.a1bb5108f9e4dacdc7aa12d226bb9c17.jpg: 640x640 1 right turn prohibited, 226.3ms\n",
            "image 453/665 /content/drive/MyDrive/Traffic SignBoard Recognition using Deep Learning/Dataset/YOLOV8 Format Dataset/test/images/right_turn_prohibited-60_jpg.rf.e90291e9574c6c050113706d55949f64.jpg: 640x640 1 left turn prohibited, 240.0ms\n",
            "image 454/665 /content/drive/MyDrive/Traffic SignBoard Recognition using Deep Learning/Dataset/YOLOV8 Format Dataset/test/images/right_turn_prohibited-68_jpg.rf.6e781076eafaf88da755cc158592242f.jpg: 640x640 1 left turn prohibited, 1 right turn prohibited, 227.4ms\n",
            "image 455/665 /content/drive/MyDrive/Traffic SignBoard Recognition using Deep Learning/Dataset/YOLOV8 Format Dataset/test/images/right_turn_prohibited-69_jpg.rf.c04d8e3e3695aa9cfa168d4e63fe1f62.jpg: 640x640 1 left turn prohibited, 219.1ms\n",
            "image 456/665 /content/drive/MyDrive/Traffic SignBoard Recognition using Deep Learning/Dataset/YOLOV8 Format Dataset/test/images/road_widens_ahead-14_png_jpg.rf.9d0cc7f152da07cb2e127cd0d53bb203.jpg: 640x640 1 road widens ahead, 333.7ms\n",
            "image 457/665 /content/drive/MyDrive/Traffic SignBoard Recognition using Deep Learning/Dataset/YOLOV8 Format Dataset/test/images/road_widens_ahead-32_png_jpg.rf.a99e356b23e15025a583413acec04e27.jpg: 640x640 1 road widens ahead, 350.3ms\n",
            "image 458/665 /content/drive/MyDrive/Traffic SignBoard Recognition using Deep Learning/Dataset/YOLOV8 Format Dataset/test/images/road_widens_ahead-35_jpeg_jpg.rf.690fbd459cba597e590b6f894eca3178.jpg: 640x640 1 road widens ahead, 328.7ms\n",
            "image 459/665 /content/drive/MyDrive/Traffic SignBoard Recognition using Deep Learning/Dataset/YOLOV8 Format Dataset/test/images/road_widens_ahead-38_jpg.rf.d03612fbd2abef99202bd93008731878.jpg: 640x640 1 road widens ahead, 360.4ms\n",
            "image 460/665 /content/drive/MyDrive/Traffic SignBoard Recognition using Deep Learning/Dataset/YOLOV8 Format Dataset/test/images/road_widens_ahead-43_jpg.rf.0cf9bf0b16f6475a94449df0bf9ce06e.jpg: 640x640 1 road widens ahead, 341.9ms\n",
            "image 461/665 /content/drive/MyDrive/Traffic SignBoard Recognition using Deep Learning/Dataset/YOLOV8 Format Dataset/test/images/road_widens_ahead-44_jpg.rf.3ff92e52ecdfdee71d7f09716d76f018.jpg: 640x640 1 road widens ahead, 346.2ms\n",
            "image 462/665 /content/drive/MyDrive/Traffic SignBoard Recognition using Deep Learning/Dataset/YOLOV8 Format Dataset/test/images/road_widens_ahead-6_jpeg_jpg.rf.25d7f0645398cc387798d376d02b9a02.jpg: 640x640 1 road widens ahead, 363.3ms\n",
            "image 463/665 /content/drive/MyDrive/Traffic SignBoard Recognition using Deep Learning/Dataset/YOLOV8 Format Dataset/test/images/road_widens_ahead-9_png_jpg.rf.111a0e47b4582a149aaf39c20830f1fc.jpg: 640x640 1 road widens ahead, 340.4ms\n",
            "image 464/665 /content/drive/MyDrive/Traffic SignBoard Recognition using Deep Learning/Dataset/YOLOV8 Format Dataset/test/images/roundabout-11_jpg.rf.346297d99b84d71ba4ddcccaa61885d3.jpg: 640x640 1 roundabout, 347.3ms\n",
            "image 465/665 /content/drive/MyDrive/Traffic SignBoard Recognition using Deep Learning/Dataset/YOLOV8 Format Dataset/test/images/roundabout-12_jpg.rf.6c2424a59d9444a48e71558e44c4fd92.jpg: 640x640 1 roundabout, 368.0ms\n",
            "image 466/665 /content/drive/MyDrive/Traffic SignBoard Recognition using Deep Learning/Dataset/YOLOV8 Format Dataset/test/images/roundabout-16_jpg.rf.85f91d98698454d325c0d99d7fec3da1.jpg: 640x640 1 roundabout, 357.2ms\n",
            "image 467/665 /content/drive/MyDrive/Traffic SignBoard Recognition using Deep Learning/Dataset/YOLOV8 Format Dataset/test/images/roundabout-1_jpg.rf.3a8813feed72614b501d94bc26ad3fa3.jpg: 640x640 1 roundabout, 237.6ms\n",
            "image 468/665 /content/drive/MyDrive/Traffic SignBoard Recognition using Deep Learning/Dataset/YOLOV8 Format Dataset/test/images/roundabout-23_jpg.rf.8502dfe9987ba4b5002e3f7a0fe4aaab.jpg: 640x640 1 roundabout, 253.1ms\n",
            "image 469/665 /content/drive/MyDrive/Traffic SignBoard Recognition using Deep Learning/Dataset/YOLOV8 Format Dataset/test/images/roundabout-26_png_jpg.rf.c264f3fe2c4afbacef0ee919844dc49f.jpg: 640x640 1 roundabout, 228.3ms\n",
            "image 470/665 /content/drive/MyDrive/Traffic SignBoard Recognition using Deep Learning/Dataset/YOLOV8 Format Dataset/test/images/roundabout-31_jpg.rf.0b6370be9bc5ddec9e65b94cc008e80c.jpg: 640x640 1 roundabout, 222.3ms\n",
            "image 471/665 /content/drive/MyDrive/Traffic SignBoard Recognition using Deep Learning/Dataset/YOLOV8 Format Dataset/test/images/roundabout-39_jpg.rf.1e7bd2cfa112dc6dd3fe16ba54b3c0b4.jpg: 640x640 1 roundabout, 221.9ms\n",
            "image 472/665 /content/drive/MyDrive/Traffic SignBoard Recognition using Deep Learning/Dataset/YOLOV8 Format Dataset/test/images/roundabout-40_jpg.rf.9a2149bfc66a28191c58ef31d7e4055b.jpg: 640x640 1 roundabout, 237.0ms\n",
            "image 473/665 /content/drive/MyDrive/Traffic SignBoard Recognition using Deep Learning/Dataset/YOLOV8 Format Dataset/test/images/roundabout-49_png_jpg.rf.c6c2991c2c703e329931a0ede8792932.jpg: 640x640 1 roundabout, 220.2ms\n",
            "image 474/665 /content/drive/MyDrive/Traffic SignBoard Recognition using Deep Learning/Dataset/YOLOV8 Format Dataset/test/images/roundabout-4_jpg.rf.b155a11df275b98c970a1c2673fa59c3.jpg: 640x640 1 roundabout, 221.3ms\n",
            "image 475/665 /content/drive/MyDrive/Traffic SignBoard Recognition using Deep Learning/Dataset/YOLOV8 Format Dataset/test/images/school_ahead-10_jpg.rf.bace98775a1704e73f622244ec8ec406.jpg: 640x640 1 pedestrian crossing, 1 school ahead, 227.9ms\n",
            "image 476/665 /content/drive/MyDrive/Traffic SignBoard Recognition using Deep Learning/Dataset/YOLOV8 Format Dataset/test/images/school_ahead-12_jpg.rf.7b7b62f85d91cc910cb27fb8bcc281e5.jpg: 640x640 1 school ahead, 225.5ms\n",
            "image 477/665 /content/drive/MyDrive/Traffic SignBoard Recognition using Deep Learning/Dataset/YOLOV8 Format Dataset/test/images/school_ahead-14_jpg.rf.abf5ed412cbaa26228e8b99d44d5a685.jpg: 640x640 1 school ahead, 226.5ms\n",
            "image 478/665 /content/drive/MyDrive/Traffic SignBoard Recognition using Deep Learning/Dataset/YOLOV8 Format Dataset/test/images/school_ahead-19_jpg.rf.bdb94908420c7012cf284e85e0454daa.jpg: 640x640 1 school ahead, 223.1ms\n",
            "image 479/665 /content/drive/MyDrive/Traffic SignBoard Recognition using Deep Learning/Dataset/YOLOV8 Format Dataset/test/images/school_ahead-23_jpg.rf.7fac9d7070c57e25b1e0ad8c8bc9a88c.jpg: 640x640 1 school ahead, 224.5ms\n",
            "image 480/665 /content/drive/MyDrive/Traffic SignBoard Recognition using Deep Learning/Dataset/YOLOV8 Format Dataset/test/images/school_ahead-25_jpg.rf.2fab5e67d7321f913e50a4dd9b34462a.jpg: 640x640 1 school ahead, 249.6ms\n",
            "image 481/665 /content/drive/MyDrive/Traffic SignBoard Recognition using Deep Learning/Dataset/YOLOV8 Format Dataset/test/images/school_ahead-2_jpg.rf.18554d2b1a560226f2a32853e09e26ff.jpg: 640x640 1 school ahead, 222.0ms\n",
            "image 482/665 /content/drive/MyDrive/Traffic SignBoard Recognition using Deep Learning/Dataset/YOLOV8 Format Dataset/test/images/school_ahead-31_jpg.rf.1fbe8605a6a3b99f08572d7e3641b17c.jpg: 640x640 1 school ahead, 223.1ms\n",
            "image 483/665 /content/drive/MyDrive/Traffic SignBoard Recognition using Deep Learning/Dataset/YOLOV8 Format Dataset/test/images/school_ahead-32_jpg.rf.267268fc9840d7ee85cff3abaec8e408.jpg: 640x640 1 school ahead, 219.4ms\n",
            "image 484/665 /content/drive/MyDrive/Traffic SignBoard Recognition using Deep Learning/Dataset/YOLOV8 Format Dataset/test/images/school_ahead-34_jpg.rf.c33ff774b5cbb969aa67a6711afd0a77.jpg: 640x640 1 school ahead, 254.3ms\n",
            "image 485/665 /content/drive/MyDrive/Traffic SignBoard Recognition using Deep Learning/Dataset/YOLOV8 Format Dataset/test/images/school_ahead-35_jpg.rf.9f72ca212c2e2d4ab3872ec437a03b31.jpg: 640x640 1 school ahead, 221.7ms\n",
            "image 486/665 /content/drive/MyDrive/Traffic SignBoard Recognition using Deep Learning/Dataset/YOLOV8 Format Dataset/test/images/school_ahead-37_jpg.rf.ec85275d1d3b2b0314eda0c9ab34a410.jpg: 640x640 1 school ahead, 221.2ms\n",
            "image 487/665 /content/drive/MyDrive/Traffic SignBoard Recognition using Deep Learning/Dataset/YOLOV8 Format Dataset/test/images/school_ahead-41_jpg.rf.70b6a191291dfd056993d860b808e3f1.jpg: 640x640 1 school ahead, 215.9ms\n",
            "image 488/665 /content/drive/MyDrive/Traffic SignBoard Recognition using Deep Learning/Dataset/YOLOV8 Format Dataset/test/images/school_ahead-43_jpg.rf.92d23e94cfaf832d7005ba1ab4d295c7.jpg: 640x640 1 school ahead, 238.6ms\n",
            "image 489/665 /content/drive/MyDrive/Traffic SignBoard Recognition using Deep Learning/Dataset/YOLOV8 Format Dataset/test/images/school_ahead-52_jpg.rf.52db0cb05c5ccd5278901a1bec542f9f.jpg: 640x640 (no detections), 240.4ms\n",
            "image 490/665 /content/drive/MyDrive/Traffic SignBoard Recognition using Deep Learning/Dataset/YOLOV8 Format Dataset/test/images/school_ahead-53_png_jpg.rf.504ceb95937611b677dd32ac82b7c1d5.jpg: 640x640 1 school ahead, 229.0ms\n",
            "image 491/665 /content/drive/MyDrive/Traffic SignBoard Recognition using Deep Learning/Dataset/YOLOV8 Format Dataset/test/images/school_ahead-60_png_jpg.rf.1c500981957efcf82b899ba46a77dda6.jpg: 640x640 1 school ahead, 212.9ms\n",
            "image 492/665 /content/drive/MyDrive/Traffic SignBoard Recognition using Deep Learning/Dataset/YOLOV8 Format Dataset/test/images/school_ahead-63_png_jpg.rf.71270cf1a5ce598dfb350cea261139fa.jpg: 640x640 1 school ahead, 231.9ms\n",
            "image 493/665 /content/drive/MyDrive/Traffic SignBoard Recognition using Deep Learning/Dataset/YOLOV8 Format Dataset/test/images/school_ahead-67_png_jpg.rf.16634acb8cf32fa06995b7b428aefe58.jpg: 640x640 1 school ahead, 220.7ms\n",
            "image 494/665 /content/drive/MyDrive/Traffic SignBoard Recognition using Deep Learning/Dataset/YOLOV8 Format Dataset/test/images/school_ahead-8_jpg.rf.fa01300c70f562f55940997d334be2c1.jpg: 640x640 1 school ahead, 237.0ms\n",
            "image 495/665 /content/drive/MyDrive/Traffic SignBoard Recognition using Deep Learning/Dataset/YOLOV8 Format Dataset/test/images/side_road_left-12_jpg.rf.b3895834c31874ad77c83901a3450aad.jpg: 640x640 1 side road left, 222.4ms\n",
            "image 496/665 /content/drive/MyDrive/Traffic SignBoard Recognition using Deep Learning/Dataset/YOLOV8 Format Dataset/test/images/side_road_left-17_jpg.rf.032268c51f150ce602a5ca3e7f786ada.jpg: 640x640 1 side road left, 1 side road right, 235.8ms\n",
            "image 497/665 /content/drive/MyDrive/Traffic SignBoard Recognition using Deep Learning/Dataset/YOLOV8 Format Dataset/test/images/side_road_left-1_jpg.rf.29295b8ae1956d3e1408add07036624d.jpg: 640x640 1 side road left, 230.3ms\n",
            "image 498/665 /content/drive/MyDrive/Traffic SignBoard Recognition using Deep Learning/Dataset/YOLOV8 Format Dataset/test/images/side_road_left-31_jpg.rf.886885c1c8f2338b4621c439e61895af.jpg: 640x640 1 side road left, 218.2ms\n",
            "image 499/665 /content/drive/MyDrive/Traffic SignBoard Recognition using Deep Learning/Dataset/YOLOV8 Format Dataset/test/images/side_road_left-49_jpg.rf.25ac0ed30e7b2f4e0c6f7e9a5eab03b8.jpg: 640x640 1 side road right, 245.7ms\n",
            "image 500/665 /content/drive/MyDrive/Traffic SignBoard Recognition using Deep Learning/Dataset/YOLOV8 Format Dataset/test/images/side_road_left-55_jpg.rf.90dcba45cb37786bb2cb312b3256e214.jpg: 640x640 1 side road left, 1 side road right, 242.3ms\n",
            "image 501/665 /content/drive/MyDrive/Traffic SignBoard Recognition using Deep Learning/Dataset/YOLOV8 Format Dataset/test/images/side_road_left-58_jpeg_jpg.rf.50ef29b69f275d98f4985a29f67c2ce1.jpg: 640x640 1 side road right, 222.7ms\n",
            "image 502/665 /content/drive/MyDrive/Traffic SignBoard Recognition using Deep Learning/Dataset/YOLOV8 Format Dataset/test/images/side_road_left-59_jpg.rf.3804b742ebb5483073f239e0c34b3f8b.jpg: 640x640 1 side road left, 225.6ms\n",
            "image 503/665 /content/drive/MyDrive/Traffic SignBoard Recognition using Deep Learning/Dataset/YOLOV8 Format Dataset/test/images/side_road_left-60_jpg.rf.65ece888d954cccb7ba4a6d5b16c83bb.jpg: 640x640 1 compulsary keep left, 224.9ms\n",
            "image 504/665 /content/drive/MyDrive/Traffic SignBoard Recognition using Deep Learning/Dataset/YOLOV8 Format Dataset/test/images/side_road_left-61_jpg.rf.d2023b0e9704e76ba7989b5cd02b76d7.jpg: 640x640 (no detections), 240.9ms\n",
            "image 505/665 /content/drive/MyDrive/Traffic SignBoard Recognition using Deep Learning/Dataset/YOLOV8 Format Dataset/test/images/side_road_right-0_jpg.rf.2ff48c63e005e16c66e62fe1588af1ba.jpg: 640x640 1 side road right, 223.2ms\n",
            "image 506/665 /content/drive/MyDrive/Traffic SignBoard Recognition using Deep Learning/Dataset/YOLOV8 Format Dataset/test/images/side_road_right-17_jpeg_jpg.rf.58a8e7702dfa11d6ea34b12de775be9e.jpg: 640x640 1 side road right, 342.6ms\n",
            "image 507/665 /content/drive/MyDrive/Traffic SignBoard Recognition using Deep Learning/Dataset/YOLOV8 Format Dataset/test/images/side_road_right-24_jpg.rf.c8e7e022a598de9c6b5ac31c99356436.jpg: 640x640 1 side road right, 358.2ms\n",
            "image 508/665 /content/drive/MyDrive/Traffic SignBoard Recognition using Deep Learning/Dataset/YOLOV8 Format Dataset/test/images/side_road_right-28_jpg.rf.4bd2c3d4baf4f06905df9a3ffa8043ad.jpg: 640x640 1 side road right, 360.1ms\n",
            "image 509/665 /content/drive/MyDrive/Traffic SignBoard Recognition using Deep Learning/Dataset/YOLOV8 Format Dataset/test/images/side_road_right-35_jpg.rf.550c048c321f0decc8dd94966291d3e7.jpg: 640x640 1 side road right, 344.2ms\n",
            "image 510/665 /content/drive/MyDrive/Traffic SignBoard Recognition using Deep Learning/Dataset/YOLOV8 Format Dataset/test/images/side_road_right-37_jpeg_jpg.rf.ab37fa5b7109cd24a9dbe015a61fe04e.jpg: 640x640 1 side road right, 1 t intersection, 353.7ms\n",
            "image 511/665 /content/drive/MyDrive/Traffic SignBoard Recognition using Deep Learning/Dataset/YOLOV8 Format Dataset/test/images/side_road_right-43_jpg.rf.d7f13d48719027e4aedfa5ca86f98386.jpg: 640x640 1 side road right, 347.6ms\n",
            "image 512/665 /content/drive/MyDrive/Traffic SignBoard Recognition using Deep Learning/Dataset/YOLOV8 Format Dataset/test/images/side_road_right-45_jpg.rf.bb60facc7a6b98d7d802aa62899587a9.jpg: 640x640 (no detections), 333.7ms\n",
            "image 513/665 /content/drive/MyDrive/Traffic SignBoard Recognition using Deep Learning/Dataset/YOLOV8 Format Dataset/test/images/side_road_right-4_png_jpg.rf.db86eea7699b2997dea2cb673f1bac61.jpg: 640x640 1 side road right, 342.9ms\n",
            "image 514/665 /content/drive/MyDrive/Traffic SignBoard Recognition using Deep Learning/Dataset/YOLOV8 Format Dataset/test/images/side_road_right-7_png_jpg.rf.8957e939cb312afbb5e6b59225a32c70.jpg: 640x640 1 side road right, 347.8ms\n",
            "image 515/665 /content/drive/MyDrive/Traffic SignBoard Recognition using Deep Learning/Dataset/YOLOV8 Format Dataset/test/images/side_road_right-8_jpeg_jpg.rf.0a04ab1fcc145fb7cc3b020ae9781c13.jpg: 640x640 1 side road right, 1 staggered intersection, 363.3ms\n",
            "image 516/665 /content/drive/MyDrive/Traffic SignBoard Recognition using Deep Learning/Dataset/YOLOV8 Format Dataset/test/images/slippery_road-13_jpg.rf.c9592188151f65910151d8431fb9cc26.jpg: 640x640 1 slippery road, 325.7ms\n",
            "image 517/665 /content/drive/MyDrive/Traffic SignBoard Recognition using Deep Learning/Dataset/YOLOV8 Format Dataset/test/images/slippery_road-18_png_jpg.rf.34fc6bef1dc51ba458bb55602fe8496a.jpg: 640x640 1 slippery road, 222.5ms\n",
            "image 518/665 /content/drive/MyDrive/Traffic SignBoard Recognition using Deep Learning/Dataset/YOLOV8 Format Dataset/test/images/slippery_road-30_png_jpg.rf.c5dcf2f9ea2eec72336086481db49b4f.jpg: 640x640 1 slippery road, 220.1ms\n",
            "image 519/665 /content/drive/MyDrive/Traffic SignBoard Recognition using Deep Learning/Dataset/YOLOV8 Format Dataset/test/images/slippery_road-32_jpg.rf.b1239af0cf56b39ed5d57132fae74c5e.jpg: 640x640 1 slippery road, 240.9ms\n",
            "image 520/665 /content/drive/MyDrive/Traffic SignBoard Recognition using Deep Learning/Dataset/YOLOV8 Format Dataset/test/images/slippery_road-38_jpg.rf.1bf866eb9ea76e423cfeab753667de06.jpg: 640x640 1 slippery road, 231.5ms\n",
            "image 521/665 /content/drive/MyDrive/Traffic SignBoard Recognition using Deep Learning/Dataset/YOLOV8 Format Dataset/test/images/slippery_road-40_jpg.rf.17a106814591e7e499c51b9c29f9ef88.jpg: 640x640 1 slippery road, 218.3ms\n",
            "image 522/665 /content/drive/MyDrive/Traffic SignBoard Recognition using Deep Learning/Dataset/YOLOV8 Format Dataset/test/images/slippery_road-43_png_jpg.rf.0c0da230bb4a2fe5e0bfc42657f51235.jpg: 640x640 1 slippery road, 228.1ms\n",
            "image 523/665 /content/drive/MyDrive/Traffic SignBoard Recognition using Deep Learning/Dataset/YOLOV8 Format Dataset/test/images/slippery_road-47_png_jpg.rf.1bb14dfd69c2a4a5880d1c0c015a1134.jpg: 640x640 1 slippery road, 235.8ms\n",
            "image 524/665 /content/drive/MyDrive/Traffic SignBoard Recognition using Deep Learning/Dataset/YOLOV8 Format Dataset/test/images/slippery_road-49_png_jpg.rf.a39b337bf26684197719a6ed13f78d9b.jpg: 640x640 1 slippery road, 226.2ms\n",
            "image 525/665 /content/drive/MyDrive/Traffic SignBoard Recognition using Deep Learning/Dataset/YOLOV8 Format Dataset/test/images/slippery_road-54_jpg.rf.198be80cae724cec81eb531936339a19.jpg: 640x640 1 slippery road, 214.4ms\n",
            "image 526/665 /content/drive/MyDrive/Traffic SignBoard Recognition using Deep Learning/Dataset/YOLOV8 Format Dataset/test/images/slippery_road-57_jpg.rf.b908caf1c3b2b62e49ce907c56540a60.jpg: 640x640 1 slippery road, 245.4ms\n",
            "image 527/665 /content/drive/MyDrive/Traffic SignBoard Recognition using Deep Learning/Dataset/YOLOV8 Format Dataset/test/images/slippery_road-61_jpg.rf.8587aef2d06b88623b9c4851427cf9ce.jpg: 640x640 1 slippery road, 250.5ms\n",
            "image 528/665 /content/drive/MyDrive/Traffic SignBoard Recognition using Deep Learning/Dataset/YOLOV8 Format Dataset/test/images/slippery_road-6_jpg.rf.ab1d1fc50c54dc53b23c43aa0738b9ac.jpg: 640x640 1 slippery road, 218.0ms\n",
            "image 529/665 /content/drive/MyDrive/Traffic SignBoard Recognition using Deep Learning/Dataset/YOLOV8 Format Dataset/test/images/speed_limit_100-12_png_jpg.rf.889fd42fe6772894299e6478af3d93f2.jpg: 640x640 1 speed limit 100, 226.4ms\n",
            "image 530/665 /content/drive/MyDrive/Traffic SignBoard Recognition using Deep Learning/Dataset/YOLOV8 Format Dataset/test/images/speed_limit_100-15_png_jpg.rf.de461620db3ebbfcd264b0908f640894.jpg: 640x640 1 speed limit 100, 229.3ms\n",
            "image 531/665 /content/drive/MyDrive/Traffic SignBoard Recognition using Deep Learning/Dataset/YOLOV8 Format Dataset/test/images/speed_limit_100-17_png_jpg.rf.213929ff00b43bcc2c2a0c2a7723250d.jpg: 640x640 1 speed limit 100, 234.5ms\n",
            "image 532/665 /content/drive/MyDrive/Traffic SignBoard Recognition using Deep Learning/Dataset/YOLOV8 Format Dataset/test/images/speed_limit_100-1_jpg.rf.44191b2230323be2259b6bf9add7f457.jpg: 640x640 1 speed limit 100, 217.6ms\n",
            "image 533/665 /content/drive/MyDrive/Traffic SignBoard Recognition using Deep Learning/Dataset/YOLOV8 Format Dataset/test/images/speed_limit_100-28_png_jpg.rf.e6164536e53eda682db04406d138b416.jpg: 640x640 1 speed limit 100, 233.0ms\n",
            "image 534/665 /content/drive/MyDrive/Traffic SignBoard Recognition using Deep Learning/Dataset/YOLOV8 Format Dataset/test/images/speed_limit_100-30_png_jpg.rf.26cf3ac3eb1e6a4613816121bee1217c.jpg: 640x640 1 speed limit 100, 242.4ms\n",
            "image 535/665 /content/drive/MyDrive/Traffic SignBoard Recognition using Deep Learning/Dataset/YOLOV8 Format Dataset/test/images/speed_limit_100-43_png_jpg.rf.48e6f6c301f74800abcc283bc8b7e1b9.jpg: 640x640 1 speed limit 100, 248.0ms\n",
            "image 536/665 /content/drive/MyDrive/Traffic SignBoard Recognition using Deep Learning/Dataset/YOLOV8 Format Dataset/test/images/speed_limit_100-45_png_jpg.rf.eb0fd247d10620a4f7bfc427c417cc5e.jpg: 640x640 1 speed limit 100, 219.8ms\n",
            "image 537/665 /content/drive/MyDrive/Traffic SignBoard Recognition using Deep Learning/Dataset/YOLOV8 Format Dataset/test/images/speed_limit_100-47_png_jpg.rf.2cc4cae83ba79fc00faba924bfa5e615.jpg: 640x640 1 speed limit 100, 232.5ms\n",
            "image 538/665 /content/drive/MyDrive/Traffic SignBoard Recognition using Deep Learning/Dataset/YOLOV8 Format Dataset/test/images/speed_limit_100-59_png_jpg.rf.d5423a7357eec5049c088b384d43072c.jpg: 640x640 1 speed limit 100, 229.6ms\n",
            "image 539/665 /content/drive/MyDrive/Traffic SignBoard Recognition using Deep Learning/Dataset/YOLOV8 Format Dataset/test/images/speed_limit_100-8_jpg.rf.d61812bc4bd5b1d6fbbd94f37a3a5a4a.jpg: 640x640 1 speed limit 100, 237.5ms\n",
            "image 540/665 /content/drive/MyDrive/Traffic SignBoard Recognition using Deep Learning/Dataset/YOLOV8 Format Dataset/test/images/speed_limit_30-14_jpg.rf.5c6a663fb8d9a3b6b8a5c81cdbe088f0.jpg: 640x640 1 speed limit 30, 226.5ms\n",
            "image 541/665 /content/drive/MyDrive/Traffic SignBoard Recognition using Deep Learning/Dataset/YOLOV8 Format Dataset/test/images/speed_limit_30-16_png_jpg.rf.06a62937143847c6ac09bb271212530e.jpg: 640x640 1 speed limit 30, 221.9ms\n",
            "image 542/665 /content/drive/MyDrive/Traffic SignBoard Recognition using Deep Learning/Dataset/YOLOV8 Format Dataset/test/images/speed_limit_30-17_png_jpg.rf.5c95866d095023c2f5e29eddbbb54af1.jpg: 640x640 1 speed limit 30, 240.9ms\n",
            "image 543/665 /content/drive/MyDrive/Traffic SignBoard Recognition using Deep Learning/Dataset/YOLOV8 Format Dataset/test/images/speed_limit_30-19_png_jpg.rf.899d96b48d848f4f29c8a8ef5754a18d.jpg: 640x640 1 speed limit 30, 240.4ms\n",
            "image 544/665 /content/drive/MyDrive/Traffic SignBoard Recognition using Deep Learning/Dataset/YOLOV8 Format Dataset/test/images/speed_limit_30-20_png_jpg.rf.a7442c3ff2d5ac2f49f2b5770df5e29a.jpg: 640x640 1 speed limit 30, 225.6ms\n",
            "image 545/665 /content/drive/MyDrive/Traffic SignBoard Recognition using Deep Learning/Dataset/YOLOV8 Format Dataset/test/images/speed_limit_30-22_png_jpg.rf.ca4e302a481ff848d6463b4f917c8f91.jpg: 640x640 1 school ahead, 1 speed limit 30, 248.8ms\n",
            "image 546/665 /content/drive/MyDrive/Traffic SignBoard Recognition using Deep Learning/Dataset/YOLOV8 Format Dataset/test/images/speed_limit_30-24_png_jpg.rf.1974aa0f1ce6ec7dfaa609468d1686be.jpg: 640x640 1 speed limit 30, 229.1ms\n",
            "image 547/665 /content/drive/MyDrive/Traffic SignBoard Recognition using Deep Learning/Dataset/YOLOV8 Format Dataset/test/images/speed_limit_30-26_png_jpg.rf.108006064b938065508d32838d708143.jpg: 640x640 1 speed limit 30, 1 speed limit 50, 238.7ms\n",
            "image 548/665 /content/drive/MyDrive/Traffic SignBoard Recognition using Deep Learning/Dataset/YOLOV8 Format Dataset/test/images/speed_limit_30-30_png_jpg.rf.4ef9506db0cebf8ebc1560f1ff00119c.jpg: 640x640 1 speed limit 30, 223.4ms\n",
            "image 549/665 /content/drive/MyDrive/Traffic SignBoard Recognition using Deep Learning/Dataset/YOLOV8 Format Dataset/test/images/speed_limit_30-31_png_jpg.rf.33bf71d2fbe1a0e8abd051f7e6424b95.jpg: 640x640 1 speed limit 30, 227.0ms\n",
            "image 550/665 /content/drive/MyDrive/Traffic SignBoard Recognition using Deep Learning/Dataset/YOLOV8 Format Dataset/test/images/speed_limit_30-34_png_jpg.rf.5aca87f13dbe1ba73419b8a32dd262d2.jpg: 640x640 1 speed limit 30, 228.1ms\n",
            "image 551/665 /content/drive/MyDrive/Traffic SignBoard Recognition using Deep Learning/Dataset/YOLOV8 Format Dataset/test/images/speed_limit_30-35_png_jpg.rf.532fdadac566a688b5fa5688f5a6a85f.jpg: 640x640 1 speed limit 30, 235.9ms\n",
            "image 552/665 /content/drive/MyDrive/Traffic SignBoard Recognition using Deep Learning/Dataset/YOLOV8 Format Dataset/test/images/speed_limit_30-39_png_jpg.rf.6ccef5d61620a91d391c192bd6113b1b.jpg: 640x640 1 speed limit 30, 217.2ms\n",
            "image 553/665 /content/drive/MyDrive/Traffic SignBoard Recognition using Deep Learning/Dataset/YOLOV8 Format Dataset/test/images/speed_limit_30-3_jpg.rf.73c0f0e6078f76fbc7bf03e189517b5f.jpg: 640x640 (no detections), 237.3ms\n",
            "image 554/665 /content/drive/MyDrive/Traffic SignBoard Recognition using Deep Learning/Dataset/YOLOV8 Format Dataset/test/images/speed_limit_30-52_png_jpg.rf.a3aedbef07fd8b5791c8921fa0164d18.jpg: 640x640 1 speed limit 30, 225.4ms\n",
            "image 555/665 /content/drive/MyDrive/Traffic SignBoard Recognition using Deep Learning/Dataset/YOLOV8 Format Dataset/test/images/speed_limit_30-56_png_jpg.rf.27b9874c1a571ac004cac6b6e657ab1a.jpg: 640x640 1 speed limit 30, 347.3ms\n",
            "image 556/665 /content/drive/MyDrive/Traffic SignBoard Recognition using Deep Learning/Dataset/YOLOV8 Format Dataset/test/images/speed_limit_30-62_png_jpg.rf.e557819e8b79cb2e64ae28b7b8001bbd.jpg: 640x640 1 speed limit 30, 343.6ms\n",
            "image 557/665 /content/drive/MyDrive/Traffic SignBoard Recognition using Deep Learning/Dataset/YOLOV8 Format Dataset/test/images/speed_limit_30-66_png_jpg.rf.2bbc0a1c5fb20110379c4ef290bc28a8.jpg: 640x640 1 speed limit 30, 332.5ms\n",
            "image 558/665 /content/drive/MyDrive/Traffic SignBoard Recognition using Deep Learning/Dataset/YOLOV8 Format Dataset/test/images/speed_limit_30-7_jpg.rf.5e8b4594a9f4f0644a17d0d7729db140.jpg: 640x640 1 speed limit 30, 332.9ms\n",
            "image 559/665 /content/drive/MyDrive/Traffic SignBoard Recognition using Deep Learning/Dataset/YOLOV8 Format Dataset/test/images/speed_limit_30-9_jpg.rf.e51812ae36fbcdb4448754d621fd9b9c.jpg: 640x640 1 speed limit 30, 363.5ms\n",
            "image 560/665 /content/drive/MyDrive/Traffic SignBoard Recognition using Deep Learning/Dataset/YOLOV8 Format Dataset/test/images/speed_limit_50-0_jpg.rf.bdd77960e0080c5605ae3b8ab53cdccf.jpg: 640x640 1 horn prohibited, 331.2ms\n",
            "image 561/665 /content/drive/MyDrive/Traffic SignBoard Recognition using Deep Learning/Dataset/YOLOV8 Format Dataset/test/images/speed_limit_50-11_jpg.rf.fe120e13f0e31b85aea20632cb931183.jpg: 640x640 1 speed limit 50, 344.3ms\n",
            "image 562/665 /content/drive/MyDrive/Traffic SignBoard Recognition using Deep Learning/Dataset/YOLOV8 Format Dataset/test/images/speed_limit_50-18_png_jpg.rf.394cfc9c56f0d6eae561f98229f153fc.jpg: 640x640 1 speed limit 50, 337.0ms\n",
            "image 563/665 /content/drive/MyDrive/Traffic SignBoard Recognition using Deep Learning/Dataset/YOLOV8 Format Dataset/test/images/speed_limit_50-24_png_jpg.rf.9bb5ba6d06b9c004c0a46d7cb73ed08e.jpg: 640x640 1 speed limit 50, 361.5ms\n",
            "image 564/665 /content/drive/MyDrive/Traffic SignBoard Recognition using Deep Learning/Dataset/YOLOV8 Format Dataset/test/images/speed_limit_50-30_png_jpg.rf.04c4063c8992ab8e69a84677dcb939ca.jpg: 640x640 1 speed limit 50, 351.5ms\n",
            "image 565/665 /content/drive/MyDrive/Traffic SignBoard Recognition using Deep Learning/Dataset/YOLOV8 Format Dataset/test/images/speed_limit_50-32_png_jpg.rf.b7feb1f32ac0edbadd894ad030ffb6d8.jpg: 640x640 1 speed limit 50, 341.9ms\n",
            "image 566/665 /content/drive/MyDrive/Traffic SignBoard Recognition using Deep Learning/Dataset/YOLOV8 Format Dataset/test/images/speed_limit_50-39_png_jpg.rf.014da7b23539d7a8c6a71ca42d1c67a1.jpg: 640x640 1 speed limit 50, 241.3ms\n",
            "image 567/665 /content/drive/MyDrive/Traffic SignBoard Recognition using Deep Learning/Dataset/YOLOV8 Format Dataset/test/images/speed_limit_50-45_png_jpg.rf.09007a3922b172fe9d6114c5676a6227.jpg: 640x640 1 speed limit 50, 220.2ms\n",
            "image 568/665 /content/drive/MyDrive/Traffic SignBoard Recognition using Deep Learning/Dataset/YOLOV8 Format Dataset/test/images/speed_limit_50-5_jpg.rf.2f504c797327ece3c2cf47090662a188.jpg: 640x640 1 speed limit 50, 223.6ms\n",
            "image 569/665 /content/drive/MyDrive/Traffic SignBoard Recognition using Deep Learning/Dataset/YOLOV8 Format Dataset/test/images/staggered_intersection-10_png_jpg.rf.29a6a9ac8bfbbf26f7185271f66367a5.jpg: 640x640 1 staggered intersection, 234.2ms\n",
            "image 570/665 /content/drive/MyDrive/Traffic SignBoard Recognition using Deep Learning/Dataset/YOLOV8 Format Dataset/test/images/staggered_intersection-14_jpeg_jpg.rf.9637fda1e3bbb43ada7ae7ac273429fc.jpg: 640x640 1 side road right, 230.5ms\n",
            "image 571/665 /content/drive/MyDrive/Traffic SignBoard Recognition using Deep Learning/Dataset/YOLOV8 Format Dataset/test/images/staggered_intersection-26_png_jpg.rf.1e87d718c47150929391af9ab172ce02.jpg: 640x640 1 side road right, 226.0ms\n",
            "image 572/665 /content/drive/MyDrive/Traffic SignBoard Recognition using Deep Learning/Dataset/YOLOV8 Format Dataset/test/images/staggered_intersection-48_jpg.rf.65e32ec07dbce5f440183425304d189b.jpg: 640x640 1 staggered intersection, 225.2ms\n",
            "image 573/665 /content/drive/MyDrive/Traffic SignBoard Recognition using Deep Learning/Dataset/YOLOV8 Format Dataset/test/images/staggered_intersection-6_png_jpg.rf.78b61ce1368072b300220235b8068607.jpg: 640x640 1 staggered intersection, 228.7ms\n",
            "image 574/665 /content/drive/MyDrive/Traffic SignBoard Recognition using Deep Learning/Dataset/YOLOV8 Format Dataset/test/images/steep_ascent-31_jpg.rf.c97e98cacb433eb9f0e62d72358bfc4f.jpg: 640x640 1 roundabout, 224.7ms\n",
            "image 575/665 /content/drive/MyDrive/Traffic SignBoard Recognition using Deep Learning/Dataset/YOLOV8 Format Dataset/test/images/steep_ascent-32_jpg.rf.6d086f5163d65fbb2846e6432ea59618.jpg: 640x640 1 steep ascent, 226.0ms\n",
            "image 576/665 /content/drive/MyDrive/Traffic SignBoard Recognition using Deep Learning/Dataset/YOLOV8 Format Dataset/test/images/steep_ascent-38_jpg.rf.c52819cdaaaf3e53c6d4b4785b96e449.jpg: 640x640 1 steep ascent, 221.1ms\n",
            "image 577/665 /content/drive/MyDrive/Traffic SignBoard Recognition using Deep Learning/Dataset/YOLOV8 Format Dataset/test/images/steep_ascent-42_jpg.rf.80a6b3ada54b2f4721827b4b00b69bbd.jpg: 640x640 1 steep ascent, 1 steep descent, 225.7ms\n",
            "image 578/665 /content/drive/MyDrive/Traffic SignBoard Recognition using Deep Learning/Dataset/YOLOV8 Format Dataset/test/images/steep_ascent-44_jpg.rf.c6bfc4c1172f1fd4dbfe2591483bea54.jpg: 640x640 1 steep descent, 218.4ms\n",
            "image 579/665 /content/drive/MyDrive/Traffic SignBoard Recognition using Deep Learning/Dataset/YOLOV8 Format Dataset/test/images/steep_ascent-7_jpeg_jpg.rf.12408682c65129ab915d0d3abd05c09f.jpg: 640x640 (no detections), 229.5ms\n",
            "image 580/665 /content/drive/MyDrive/Traffic SignBoard Recognition using Deep Learning/Dataset/YOLOV8 Format Dataset/test/images/steep_descent-12_png_jpg.rf.12644a8f07d9cdb03977a89f2d5587c0.jpg: 640x640 1 steep descent, 247.8ms\n",
            "image 581/665 /content/drive/MyDrive/Traffic SignBoard Recognition using Deep Learning/Dataset/YOLOV8 Format Dataset/test/images/steep_descent-19_jpg.rf.18173d7a7529a5f4c22dc12526562a38.jpg: 640x640 1 steep descent, 225.6ms\n",
            "image 582/665 /content/drive/MyDrive/Traffic SignBoard Recognition using Deep Learning/Dataset/YOLOV8 Format Dataset/test/images/steep_descent-28_jpg.rf.269a3eae0434cb5774d74d07f81b76a0.jpg: 640x640 1 steep ascent, 216.4ms\n",
            "image 583/665 /content/drive/MyDrive/Traffic SignBoard Recognition using Deep Learning/Dataset/YOLOV8 Format Dataset/test/images/steep_descent-34_jpg.rf.35c18f9ac7fb06d247aea5b936ebde41.jpg: 640x640 1 steep descent, 233.4ms\n",
            "image 584/665 /content/drive/MyDrive/Traffic SignBoard Recognition using Deep Learning/Dataset/YOLOV8 Format Dataset/test/images/steep_descent-41_jpeg_jpg.rf.4a9522dded9ca76887ff113b19c4a283.jpg: 640x640 1 steep ascent, 1 steep descent, 220.3ms\n",
            "image 585/665 /content/drive/MyDrive/Traffic SignBoard Recognition using Deep Learning/Dataset/YOLOV8 Format Dataset/test/images/steep_descent-5_jpeg_jpg.rf.5350c4749f3960ab0cde1bddaf0454cd.jpg: 640x640 1 steep ascent, 216.0ms\n",
            "image 586/665 /content/drive/MyDrive/Traffic SignBoard Recognition using Deep Learning/Dataset/YOLOV8 Format Dataset/test/images/stop-15_jpg.rf.5daf741f85474aff224ac61bdbb868cb.jpg: 640x640 1 stop, 222.9ms\n",
            "image 587/665 /content/drive/MyDrive/Traffic SignBoard Recognition using Deep Learning/Dataset/YOLOV8 Format Dataset/test/images/stop-1_jpg.rf.cb849aee13c755c0bb3a478be5548655.jpg: 640x640 1 stop, 239.1ms\n",
            "image 588/665 /content/drive/MyDrive/Traffic SignBoard Recognition using Deep Learning/Dataset/YOLOV8 Format Dataset/test/images/stop-26_jpg.rf.f0bdf62d396de142298b443dcf1c4b60.jpg: 640x640 1 stop, 248.1ms\n",
            "image 589/665 /content/drive/MyDrive/Traffic SignBoard Recognition using Deep Learning/Dataset/YOLOV8 Format Dataset/test/images/stop-40_png_jpg.rf.55526a3d230caf88737d7cb356f78e29.jpg: 640x640 1 stop, 221.6ms\n",
            "image 590/665 /content/drive/MyDrive/Traffic SignBoard Recognition using Deep Learning/Dataset/YOLOV8 Format Dataset/test/images/stop-41_png_jpg.rf.e160b2c81a50a120f7beec30e24cc90d.jpg: 640x640 1 stop, 230.9ms\n",
            "image 591/665 /content/drive/MyDrive/Traffic SignBoard Recognition using Deep Learning/Dataset/YOLOV8 Format Dataset/test/images/stop-42_png_jpg.rf.07a5bc887c00807ad2d5b0c2a15737eb.jpg: 640x640 1 stop, 227.7ms\n",
            "image 592/665 /content/drive/MyDrive/Traffic SignBoard Recognition using Deep Learning/Dataset/YOLOV8 Format Dataset/test/images/stop-43_png_jpg.rf.f0f69f90c2d80b451e35673d3d261989.jpg: 640x640 1 stop, 224.4ms\n",
            "image 593/665 /content/drive/MyDrive/Traffic SignBoard Recognition using Deep Learning/Dataset/YOLOV8 Format Dataset/test/images/stop-46_png_jpg.rf.33c22f40886833e10504d593aaac5dae.jpg: 640x640 1 stop, 226.0ms\n",
            "image 594/665 /content/drive/MyDrive/Traffic SignBoard Recognition using Deep Learning/Dataset/YOLOV8 Format Dataset/test/images/stop-49_png_jpg.rf.75bfedd64d31281f7e2b067a9d574c9c.jpg: 640x640 1 stop, 222.0ms\n",
            "image 595/665 /content/drive/MyDrive/Traffic SignBoard Recognition using Deep Learning/Dataset/YOLOV8 Format Dataset/test/images/stop-4_jpg.rf.76c4d9289e3c9b85cf61b7ef7dd6717e.jpg: 640x640 1 stop, 225.7ms\n",
            "image 596/665 /content/drive/MyDrive/Traffic SignBoard Recognition using Deep Learning/Dataset/YOLOV8 Format Dataset/test/images/stop-55_png_jpg.rf.4399cefb786121c2eb4ccd2357b210e8.jpg: 640x640 1 stop, 224.8ms\n",
            "image 597/665 /content/drive/MyDrive/Traffic SignBoard Recognition using Deep Learning/Dataset/YOLOV8 Format Dataset/test/images/stop-56_png_jpg.rf.89de9778148c6816812ad98c48798469.jpg: 640x640 1 stop, 211.7ms\n",
            "image 598/665 /content/drive/MyDrive/Traffic SignBoard Recognition using Deep Learning/Dataset/YOLOV8 Format Dataset/test/images/stop-62_png_jpg.rf.7f8edf27c4c0e1f739f303e7d737ccdc.jpg: 640x640 1 stop, 217.3ms\n",
            "image 599/665 /content/drive/MyDrive/Traffic SignBoard Recognition using Deep Learning/Dataset/YOLOV8 Format Dataset/test/images/stop-65_png_jpg.rf.f05a941d473132963f6408c23eccd81a.jpg: 640x640 1 stop, 245.3ms\n",
            "image 600/665 /content/drive/MyDrive/Traffic SignBoard Recognition using Deep Learning/Dataset/YOLOV8 Format Dataset/test/images/stop-68_png_jpg.rf.cb92a0b98443c7279684d93e02d3dc1f.jpg: 640x640 1 stop, 223.5ms\n",
            "image 601/665 /content/drive/MyDrive/Traffic SignBoard Recognition using Deep Learning/Dataset/YOLOV8 Format Dataset/test/images/stop-72_png_jpg.rf.c294fb99b081caa9aa2cec2b2cff5f3e.jpg: 640x640 1 stop, 218.9ms\n",
            "image 602/665 /content/drive/MyDrive/Traffic SignBoard Recognition using Deep Learning/Dataset/YOLOV8 Format Dataset/test/images/straight_prohibited-19_jpg.rf.2fe23660bbd0d014b176ce7cabc2ad6f.jpg: 640x640 1 straight prohibited, 227.4ms\n",
            "image 603/665 /content/drive/MyDrive/Traffic SignBoard Recognition using Deep Learning/Dataset/YOLOV8 Format Dataset/test/images/straight_prohibited-22_jpg.rf.bc78c85ba80c434ebaf39c92a751af4d.jpg: 640x640 1 straight prohibited, 237.5ms\n",
            "image 604/665 /content/drive/MyDrive/Traffic SignBoard Recognition using Deep Learning/Dataset/YOLOV8 Format Dataset/test/images/straight_prohibited-28_jpg.rf.cc4d498c1cf1aea6f5ddffbec88c03ec.jpg: 640x640 1 straight prohibited, 226.6ms\n",
            "image 605/665 /content/drive/MyDrive/Traffic SignBoard Recognition using Deep Learning/Dataset/YOLOV8 Format Dataset/test/images/t_intersection-17_jpeg_jpg.rf.c5829b396f7d75f1cc344484c0bc04e0.jpg: 640x640 1 t intersection, 325.6ms\n",
            "image 606/665 /content/drive/MyDrive/Traffic SignBoard Recognition using Deep Learning/Dataset/YOLOV8 Format Dataset/test/images/t_intersection-20_png_jpg.rf.75d6bb63f85c4bf70314c34ed02325b2.jpg: 640x640 1 t intersection, 367.9ms\n",
            "image 607/665 /content/drive/MyDrive/Traffic SignBoard Recognition using Deep Learning/Dataset/YOLOV8 Format Dataset/test/images/t_intersection-21_jpeg_jpg.rf.70f9b650cdd4389545aa751b09e14aba.jpg: 640x640 1 t intersection, 336.5ms\n",
            "image 608/665 /content/drive/MyDrive/Traffic SignBoard Recognition using Deep Learning/Dataset/YOLOV8 Format Dataset/test/images/t_intersection-22_jpeg_jpg.rf.0a823a457cdf9bf3c99b4d5a3edffcdc.jpg: 640x640 1 t intersection, 344.7ms\n",
            "image 609/665 /content/drive/MyDrive/Traffic SignBoard Recognition using Deep Learning/Dataset/YOLOV8 Format Dataset/test/images/t_intersection-36_jpg.rf.5807e5474fc3946275cb95f5c9051963.jpg: 640x640 1 t intersection, 378.5ms\n",
            "image 610/665 /content/drive/MyDrive/Traffic SignBoard Recognition using Deep Learning/Dataset/YOLOV8 Format Dataset/test/images/t_intersection-40_jpg.rf.128d67c91abf1bac7911831c7894c1ae.jpg: 640x640 1 t intersection, 340.8ms\n",
            "image 611/665 /content/drive/MyDrive/Traffic SignBoard Recognition using Deep Learning/Dataset/YOLOV8 Format Dataset/test/images/u_turn-15_jpg.rf.9326b030c48c53d6a220846444e12078.jpg: 640x640 1 u turn, 330.0ms\n",
            "image 612/665 /content/drive/MyDrive/Traffic SignBoard Recognition using Deep Learning/Dataset/YOLOV8 Format Dataset/test/images/u_turn-1_jpg.rf.80b60d997ef509fe496ff2f1f9aa3e37.jpg: 640x640 1 u turn, 345.0ms\n",
            "image 613/665 /content/drive/MyDrive/Traffic SignBoard Recognition using Deep Learning/Dataset/YOLOV8 Format Dataset/test/images/u_turn-20_jpg.rf.f43726bd01c271f7eda1c22261bf9b1f.jpg: 640x640 1 u turn, 335.8ms\n",
            "image 614/665 /content/drive/MyDrive/Traffic SignBoard Recognition using Deep Learning/Dataset/YOLOV8 Format Dataset/test/images/u_turn-27_jpg.rf.37a0fc79af4020c70689bcdc9acaa2f6.jpg: 640x640 1 u turn, 376.1ms\n",
            "image 615/665 /content/drive/MyDrive/Traffic SignBoard Recognition using Deep Learning/Dataset/YOLOV8 Format Dataset/test/images/u_turn-31_jpg.rf.fd5bef7ce9e387d7ab740f9a5577164a.jpg: 640x640 1 u turn, 339.7ms\n",
            "image 616/665 /content/drive/MyDrive/Traffic SignBoard Recognition using Deep Learning/Dataset/YOLOV8 Format Dataset/test/images/u_turn-37_jpg.rf.8d539ba0df241c9aa02030f4c656b85e.jpg: 640x640 1 u turn, 227.3ms\n",
            "image 617/665 /content/drive/MyDrive/Traffic SignBoard Recognition using Deep Learning/Dataset/YOLOV8 Format Dataset/test/images/u_turn-38_jpg.rf.54c609cd59ed9786d9f739ca48e548c8.jpg: 640x640 1 u turn, 233.7ms\n",
            "image 618/665 /content/drive/MyDrive/Traffic SignBoard Recognition using Deep Learning/Dataset/YOLOV8 Format Dataset/test/images/u_turn-42_jpg.rf.5f2d0e4ef63e277224ea1d44515c3fa7.jpg: 640x640 1 u turn, 233.3ms\n",
            "image 619/665 /content/drive/MyDrive/Traffic SignBoard Recognition using Deep Learning/Dataset/YOLOV8 Format Dataset/test/images/u_turn-43_jpg.rf.f121a696295772bbf5af25d7e4cbc2b6.jpg: 640x640 1 u turn, 217.0ms\n",
            "image 620/665 /content/drive/MyDrive/Traffic SignBoard Recognition using Deep Learning/Dataset/YOLOV8 Format Dataset/test/images/u_turn-47_jpg.rf.c0057d094d442c29f2549143106c73d0.jpg: 640x640 1 u turn, 225.3ms\n",
            "image 621/665 /content/drive/MyDrive/Traffic SignBoard Recognition using Deep Learning/Dataset/YOLOV8 Format Dataset/test/images/u_turn-50_jpg.rf.7b3cd4e6df99bf6e712707ef9acf8e19.jpg: 640x640 1 u turn, 224.8ms\n",
            "image 622/665 /content/drive/MyDrive/Traffic SignBoard Recognition using Deep Learning/Dataset/YOLOV8 Format Dataset/test/images/u_turn-55_jpg.rf.eeac6e858071cd0cfe8265d4efec2d52.jpg: 640x640 1 u turn, 233.5ms\n",
            "image 623/665 /content/drive/MyDrive/Traffic SignBoard Recognition using Deep Learning/Dataset/YOLOV8 Format Dataset/test/images/u_turn-59_jpg.rf.1a5d46210eb5835a1c7269a26050b80f.jpg: 640x640 1 u turn, 227.9ms\n",
            "image 624/665 /content/drive/MyDrive/Traffic SignBoard Recognition using Deep Learning/Dataset/YOLOV8 Format Dataset/test/images/u_turn-7_jpg.rf.68d154d23b27017f3b22d34ffb1a74c3.jpg: 640x640 1 u turn, 238.5ms\n",
            "image 625/665 /content/drive/MyDrive/Traffic SignBoard Recognition using Deep Learning/Dataset/YOLOV8 Format Dataset/test/images/u_turn_prohibited-13_jpg.rf.98bb5e976cd1dd7180f04f91fc8c71b0.jpg: 640x640 1 u turn prohibited, 223.3ms\n",
            "image 626/665 /content/drive/MyDrive/Traffic SignBoard Recognition using Deep Learning/Dataset/YOLOV8 Format Dataset/test/images/u_turn_prohibited-15_jpg.rf.57d751946523f3df924d0703e05a0e4e.jpg: 640x640 1 u turn prohibited, 232.5ms\n",
            "image 627/665 /content/drive/MyDrive/Traffic SignBoard Recognition using Deep Learning/Dataset/YOLOV8 Format Dataset/test/images/u_turn_prohibited-1_jpg.rf.28bb37db04fc8c8fc449fbf490094d92.jpg: 640x640 1 u turn prohibited, 229.1ms\n",
            "image 628/665 /content/drive/MyDrive/Traffic SignBoard Recognition using Deep Learning/Dataset/YOLOV8 Format Dataset/test/images/u_turn_prohibited-24_jpg.rf.293b467b542a999031a4e0e8642a236a.jpg: 640x640 1 overtaking prohibited, 1 u turn prohibited, 217.9ms\n",
            "image 629/665 /content/drive/MyDrive/Traffic SignBoard Recognition using Deep Learning/Dataset/YOLOV8 Format Dataset/test/images/u_turn_prohibited-27_jpeg_jpg.rf.0130bbac0bb155e83d72fe6bc3c4a63c.jpg: 640x640 1 u turn prohibited, 228.8ms\n",
            "image 630/665 /content/drive/MyDrive/Traffic SignBoard Recognition using Deep Learning/Dataset/YOLOV8 Format Dataset/test/images/u_turn_prohibited-28_jpg.rf.cd90caa0245061610f5c3d7f5a28da77.jpg: 640x640 1 u turn prohibited, 237.8ms\n",
            "image 631/665 /content/drive/MyDrive/Traffic SignBoard Recognition using Deep Learning/Dataset/YOLOV8 Format Dataset/test/images/u_turn_prohibited-29_jpg.rf.4fbf7748d4d121ddf576f798a346ce47.jpg: 640x640 1 u turn prohibited, 224.7ms\n",
            "image 632/665 /content/drive/MyDrive/Traffic SignBoard Recognition using Deep Learning/Dataset/YOLOV8 Format Dataset/test/images/u_turn_prohibited-36_jpg.rf.cb5a56c9fb7bce8f5762a0bc19152748.jpg: 640x640 1 u turn prohibited, 216.8ms\n",
            "image 633/665 /content/drive/MyDrive/Traffic SignBoard Recognition using Deep Learning/Dataset/YOLOV8 Format Dataset/test/images/u_turn_prohibited-37_jpeg_jpg.rf.0e8f4e25d7d525e30ccd8c5536b1758b.jpg: 640x640 1 u turn prohibited, 242.5ms\n",
            "image 634/665 /content/drive/MyDrive/Traffic SignBoard Recognition using Deep Learning/Dataset/YOLOV8 Format Dataset/test/images/u_turn_prohibited-40_jpg.rf.401b516292c255f2a817d934d56698c8.jpg: 640x640 1 u turn prohibited, 237.3ms\n",
            "image 635/665 /content/drive/MyDrive/Traffic SignBoard Recognition using Deep Learning/Dataset/YOLOV8 Format Dataset/test/images/u_turn_prohibited-43_jpg.rf.a7eac0a416610fdc14c001c87f85b391.jpg: 640x640 1 u turn prohibited, 221.6ms\n",
            "image 636/665 /content/drive/MyDrive/Traffic SignBoard Recognition using Deep Learning/Dataset/YOLOV8 Format Dataset/test/images/u_turn_prohibited-45_jpg.rf.3dd3d13a5d8dd3b1d6f6e8c776084735.jpg: 640x640 1 u turn prohibited, 220.2ms\n",
            "image 637/665 /content/drive/MyDrive/Traffic SignBoard Recognition using Deep Learning/Dataset/YOLOV8 Format Dataset/test/images/u_turn_prohibited-64_jpeg_jpg.rf.5316d6a63c7708e1bbbe98427f513c14.jpg: 640x640 (no detections), 223.4ms\n",
            "image 638/665 /content/drive/MyDrive/Traffic SignBoard Recognition using Deep Learning/Dataset/YOLOV8 Format Dataset/test/images/u_turn_prohibited-66_jpeg_jpg.rf.7ceefe6c3bff3f4292012edf3312a254.jpg: 640x640 1 u turn prohibited, 238.9ms\n",
            "image 639/665 /content/drive/MyDrive/Traffic SignBoard Recognition using Deep Learning/Dataset/YOLOV8 Format Dataset/test/images/u_turn_prohibited-7_jpg.rf.5a9f89b7a52cc6371f54fd5a5ef5029d.jpg: 640x640 1 u turn prohibited, 227.8ms\n",
            "image 640/665 /content/drive/MyDrive/Traffic SignBoard Recognition using Deep Learning/Dataset/YOLOV8 Format Dataset/test/images/unguarded_level_crossing-17_jpeg_jpg.rf.9ce88c325147ecdbd1510d07716d5dc4.jpg: 640x640 1 unguarded level crossing, 232.5ms\n",
            "image 641/665 /content/drive/MyDrive/Traffic SignBoard Recognition using Deep Learning/Dataset/YOLOV8 Format Dataset/test/images/unguarded_level_crossing-1_jpg.rf.c65a4ea2b83e66097a0e44e9ab704bbf.jpg: 640x640 1 unguarded level crossing, 218.8ms\n",
            "image 642/665 /content/drive/MyDrive/Traffic SignBoard Recognition using Deep Learning/Dataset/YOLOV8 Format Dataset/test/images/unguarded_level_crossing-22_png_jpg.rf.a8c00e3cbe7c49c38aeb3db2d80423c8.jpg: 640x640 1 unguarded level crossing, 249.0ms\n",
            "image 643/665 /content/drive/MyDrive/Traffic SignBoard Recognition using Deep Learning/Dataset/YOLOV8 Format Dataset/test/images/unguarded_level_crossing-23_jpeg_jpg.rf.ab1172c042db26ae0a7b45d1072dc433.jpg: 640x640 1 unguarded level crossing, 227.6ms\n",
            "image 644/665 /content/drive/MyDrive/Traffic SignBoard Recognition using Deep Learning/Dataset/YOLOV8 Format Dataset/test/images/unguarded_level_crossing-30_jpeg_jpg.rf.140253c07dbc965acab7a6eccc293aaa.jpg: 640x640 (no detections), 249.6ms\n",
            "image 645/665 /content/drive/MyDrive/Traffic SignBoard Recognition using Deep Learning/Dataset/YOLOV8 Format Dataset/test/images/unguarded_level_crossing-3_jpg.rf.36bd6932b2b487c6e76230a5732ac099.jpg: 640x640 1 unguarded level crossing, 215.4ms\n",
            "image 646/665 /content/drive/MyDrive/Traffic SignBoard Recognition using Deep Learning/Dataset/YOLOV8 Format Dataset/test/images/unguarded_level_crossing-56_png_jpg.rf.64f640e0a7403fe63dcb48f167a62c7f.jpg: 640x640 1 unguarded level crossing, 238.1ms\n",
            "image 647/665 /content/drive/MyDrive/Traffic SignBoard Recognition using Deep Learning/Dataset/YOLOV8 Format Dataset/test/images/unguarded_level_crossing-9_png_jpg.rf.1f99eb4ae003a547beaaff3a66c7414b.jpg: 640x640 1 unguarded level crossing, 222.5ms\n",
            "image 648/665 /content/drive/MyDrive/Traffic SignBoard Recognition using Deep Learning/Dataset/YOLOV8 Format Dataset/test/images/width_limit-13_jpeg_jpg.rf.808fe09776dc7c630339a0bd1d6b514e.jpg: 640x640 1 width limit, 238.8ms\n",
            "image 649/665 /content/drive/MyDrive/Traffic SignBoard Recognition using Deep Learning/Dataset/YOLOV8 Format Dataset/test/images/width_limit-15_png_jpg.rf.fb1b074db9a62dbb7de198fc9211b234.jpg: 640x640 1 width limit, 214.2ms\n",
            "image 650/665 /content/drive/MyDrive/Traffic SignBoard Recognition using Deep Learning/Dataset/YOLOV8 Format Dataset/test/images/width_limit-1_jpeg_jpg.rf.db6fba8d55b7cdeda26dd9221b466228.jpg: 640x640 1 width limit, 238.0ms\n",
            "image 651/665 /content/drive/MyDrive/Traffic SignBoard Recognition using Deep Learning/Dataset/YOLOV8 Format Dataset/test/images/width_limit-23_jpeg_jpg.rf.6958169aaf54fcde574e4936190f3ce6.jpg: 640x640 1 speed limit 50, 1 width limit, 218.9ms\n",
            "image 652/665 /content/drive/MyDrive/Traffic SignBoard Recognition using Deep Learning/Dataset/YOLOV8 Format Dataset/test/images/width_limit-25_jpeg_jpg.rf.3a5a5806c5c609d0153202786af56c82.jpg: 640x640 1 width limit, 245.2ms\n",
            "image 653/665 /content/drive/MyDrive/Traffic SignBoard Recognition using Deep Learning/Dataset/YOLOV8 Format Dataset/test/images/width_limit-28_jpg.rf.00d39a286f430eca96c9d92d8fcd3f82.jpg: 640x640 1 width limit, 233.8ms\n",
            "image 654/665 /content/drive/MyDrive/Traffic SignBoard Recognition using Deep Learning/Dataset/YOLOV8 Format Dataset/test/images/width_limit-2_png_jpg.rf.8d108f63196272216b87bc0e9356d34d.jpg: 640x640 1 width limit, 307.0ms\n",
            "image 655/665 /content/drive/MyDrive/Traffic SignBoard Recognition using Deep Learning/Dataset/YOLOV8 Format Dataset/test/images/width_limit-40_jpg.rf.3ba7514f1f29c7a744cbbe188a2b1c81.jpg: 640x640 1 width limit, 354.7ms\n",
            "image 656/665 /content/drive/MyDrive/Traffic SignBoard Recognition using Deep Learning/Dataset/YOLOV8 Format Dataset/test/images/width_limit-43_jpg.rf.9c351855bebf43df715fc84716e44e89.jpg: 640x640 1 width limit, 335.9ms\n",
            "image 657/665 /content/drive/MyDrive/Traffic SignBoard Recognition using Deep Learning/Dataset/YOLOV8 Format Dataset/test/images/width_limit-44_jpg.rf.bab0b63cca6af312dea5b7bf2e229fac.jpg: 640x640 1 width limit, 353.6ms\n",
            "image 658/665 /content/drive/MyDrive/Traffic SignBoard Recognition using Deep Learning/Dataset/YOLOV8 Format Dataset/test/images/width_limit-46_jpg.rf.69483ff17336b3e6c8f447201ff92e77.jpg: 640x640 1 width limit, 358.5ms\n",
            "image 659/665 /content/drive/MyDrive/Traffic SignBoard Recognition using Deep Learning/Dataset/YOLOV8 Format Dataset/test/images/width_limit-47_jpg.rf.65811b8ba6c1d5edb9c8be8a4234d01b.jpg: 640x640 1 width limit, 367.3ms\n",
            "image 660/665 /content/drive/MyDrive/Traffic SignBoard Recognition using Deep Learning/Dataset/YOLOV8 Format Dataset/test/images/width_limit-4_png_jpg.rf.bb6e5e1013d7f47d511345976f359e2f.jpg: 640x640 1 width limit, 346.1ms\n",
            "image 661/665 /content/drive/MyDrive/Traffic SignBoard Recognition using Deep Learning/Dataset/YOLOV8 Format Dataset/test/images/y_intersection-10_png_jpg.rf.763202b2b5b42435f34d7c1dc84fd19d.jpg: 640x640 1 y intersection, 323.3ms\n",
            "image 662/665 /content/drive/MyDrive/Traffic SignBoard Recognition using Deep Learning/Dataset/YOLOV8 Format Dataset/test/images/y_intersection-23_jpeg_jpg.rf.561299fd72e255b9353c364de33d7d14.jpg: 640x640 (no detections), 349.6ms\n",
            "image 663/665 /content/drive/MyDrive/Traffic SignBoard Recognition using Deep Learning/Dataset/YOLOV8 Format Dataset/test/images/y_intersection-27_jpg.rf.9f717daf722b1fa8f7ada0b37c1b54c3.jpg: 640x640 1 y intersection, 350.5ms\n",
            "image 664/665 /content/drive/MyDrive/Traffic SignBoard Recognition using Deep Learning/Dataset/YOLOV8 Format Dataset/test/images/y_intersection-36_jpg.rf.f8d03d8efe22a986b47c2f8ecc662816.jpg: 640x640 1 y intersection, 340.9ms\n",
            "image 665/665 /content/drive/MyDrive/Traffic SignBoard Recognition using Deep Learning/Dataset/YOLOV8 Format Dataset/test/images/y_intersection-42_jpeg_jpg.rf.1dcea636bd13bf7321aac2ee116a0c54.jpg: 640x640 1 y intersection, 296.4ms\n",
            "Speed: 2.9ms preprocess, 259.9ms inference, 1.5ms postprocess per image at shape (1, 3, 640, 640)\n",
            "Results saved to \u001b[1mruns/detect/predict4\u001b[0m\n",
            "💡 Learn more at https://docs.ultralytics.com/modes/predict\n"
          ]
        }
      ],
      "source": [
        "# Predict with a custom model\n",
        "# To predict data using a custom model, use the following command\n",
        "\n",
        "!yolo task=detect mode=predict model=runs/detect/train/weights/best.pt conf=0.25 source=\"/content/drive/MyDrive/Traffic SignBoard Recognition using Deep Learning/Dataset/YOLOV8 Format Dataset/test/images\""
      ]
    },
    {
      "cell_type": "code",
      "source": [
        "!zip -r /content/runs/detect/predict.zip /content/runs/detect/predict4"
      ],
      "metadata": {
        "colab": {
          "base_uri": "https://localhost:8080/"
        },
        "id": "YWHrN020fLS0",
        "outputId": "3b26f5c6-fce9-4d8d-c1d1-6e273314df6c"
      },
      "execution_count": 15,
      "outputs": [
        {
          "output_type": "stream",
          "name": "stdout",
          "text": [
            "  adding: content/runs/detect/predict4/ (stored 0%)\n",
            "  adding: content/runs/detect/predict4/height_limit-10_png_jpg.rf.83b1c3e5d7e514d0f80947689fe0d9be.jpg (deflated 13%)\n",
            "  adding: content/runs/detect/predict4/y_intersection-27_jpg.rf.9f717daf722b1fa8f7ada0b37c1b54c3.jpg (deflated 12%)\n",
            "  adding: content/runs/detect/predict4/side_road_left-49_jpg.rf.25ac0ed30e7b2f4e0c6f7e9a5eab03b8.jpg (deflated 17%)\n",
            "  adding: content/runs/detect/predict4/narrow_road_ahead-50_png_jpg.rf.3754214e5227b4eda0cc3c342dc6bc8f.jpg (deflated 7%)\n",
            "  adding: content/runs/detect/predict4/u_turn_prohibited-66_jpeg_jpg.rf.7ceefe6c3bff3f4292012edf3312a254.jpg (deflated 13%)\n",
            "  adding: content/runs/detect/predict4/staggered_intersection-6_png_jpg.rf.78b61ce1368072b300220235b8068607.jpg (deflated 34%)\n",
            "  adding: content/runs/detect/predict4/road_widens_ahead-6_jpeg_jpg.rf.25d7f0645398cc387798d376d02b9a02.jpg (deflated 12%)\n",
            "  adding: content/runs/detect/predict4/width_limit-46_jpg.rf.69483ff17336b3e6c8f447201ff92e77.jpg (deflated 7%)\n",
            "  adding: content/runs/detect/predict4/pedestrian_crossing-26_jpg.rf.8bfe90a406c60b7c4ae56016cdacb343.jpg (deflated 31%)\n",
            "  adding: content/runs/detect/predict4/straight_prohibited-22_jpg.rf.bc78c85ba80c434ebaf39c92a751af4d.jpg (deflated 13%)\n",
            "  adding: content/runs/detect/predict4/compulsary_ahead-47_png_jpg.rf.eb74ac0138649749bac2e7ff57b619f9.jpg (deflated 8%)\n",
            "  adding: content/runs/detect/predict4/height_limit-6_png_jpg.rf.ea92bd8cd1d5c503f1f55fb9f9e1134a.jpg (deflated 36%)\n",
            "  adding: content/runs/detect/predict4/school_ahead-14_jpg.rf.abf5ed412cbaa26228e8b99d44d5a685.jpg (deflated 31%)\n",
            "  adding: content/runs/detect/predict4/side_road_left-1_jpg.rf.29295b8ae1956d3e1408add07036624d.jpg (deflated 6%)\n",
            "  adding: content/runs/detect/predict4/left_reverse_bend-51_jpg.rf.2fca2f5865697f9445fa05ca0c964a63.jpg (deflated 6%)\n",
            "  adding: content/runs/detect/predict4/road_widens_ahead-32_png_jpg.rf.a99e356b23e15025a583413acec04e27.jpg (deflated 27%)\n",
            "  adding: content/runs/detect/predict4/axle_load_limit-40_jpg.rf.035b2e4df703c168dedab83c4c6a7290.jpg (deflated 11%)\n",
            "  adding: content/runs/detect/predict4/overtaking_prohibited-49_jpg.rf.753bbbb1621e954284b1ac50a16c7e46.jpg (deflated 5%)\n",
            "  adding: content/runs/detect/predict4/dangerous_dip-36_jpeg_jpg.rf.94aac3aae4aa524aae3d0ed30a62a2a9.jpg (deflated 9%)\n",
            "  adding: content/runs/detect/predict4/y_intersection-36_jpg.rf.f8d03d8efe22a986b47c2f8ecc662816.jpg (deflated 3%)\n",
            "  adding: content/runs/detect/predict4/restriction_ends-64_png_jpg.rf.cc9ee96799d3c2dacf66f533c61e6f10.jpg (deflated 22%)\n",
            "  adding: content/runs/detect/predict4/compulsary_turn_left_ahead-29_jpg.rf.f6a192fad6a304175b59e0d2d7bc94d3.jpg (deflated 19%)\n",
            "  adding: content/runs/detect/predict4/width_limit-28_jpg.rf.00d39a286f430eca96c9d92d8fcd3f82.jpg (deflated 17%)\n",
            "  adding: content/runs/detect/predict4/slippery_road-32_jpg.rf.b1239af0cf56b39ed5d57132fae74c5e.jpg (deflated 19%)\n",
            "  adding: content/runs/detect/predict4/school_ahead-67_png_jpg.rf.16634acb8cf32fa06995b7b428aefe58.jpg (deflated 4%)\n",
            "  adding: content/runs/detect/predict4/horn_prohibited-44_jpg.rf.f90c20ddb01d7e046d1e4826de51d02a.jpg (deflated 4%)\n",
            "  adding: content/runs/detect/predict4/school_ahead-35_jpg.rf.9f72ca212c2e2d4ab3872ec437a03b31.jpg (deflated 21%)\n",
            "  adding: content/runs/detect/predict4/speed_limit_30-3_jpg.rf.73c0f0e6078f76fbc7bf03e189517b5f.jpg (deflated 10%)\n",
            "  adding: content/runs/detect/predict4/left_hand_curve-50_png_jpg.rf.fe97e53d7fbccb3c6c83277dad6b55fc.jpg (deflated 8%)\n",
            "  adding: content/runs/detect/predict4/u_turn_prohibited-40_jpg.rf.401b516292c255f2a817d934d56698c8.jpg (deflated 10%)\n",
            "  adding: content/runs/detect/predict4/school_ahead-2_jpg.rf.18554d2b1a560226f2a32853e09e26ff.jpg (deflated 5%)\n",
            "  adding: content/runs/detect/predict4/school_ahead-43_jpg.rf.92d23e94cfaf832d7005ba1ab4d295c7.jpg (deflated 5%)\n",
            "  adding: content/runs/detect/predict4/side_road_left-58_jpeg_jpg.rf.50ef29b69f275d98f4985a29f67c2ce1.jpg (deflated 5%)\n",
            "  adding: content/runs/detect/predict4/loose_gravel-11_png_jpg.rf.daaacf7b2f50d2304ebf0f71f6420deb.jpg (deflated 21%)\n",
            "  adding: content/runs/detect/predict4/width_limit-44_jpg.rf.bab0b63cca6af312dea5b7bf2e229fac.jpg (deflated 8%)\n",
            "  adding: content/runs/detect/predict4/restriction_ends-35_png_jpg.rf.aef74fa00cca3eea657038f75fece9e4.jpg (deflated 11%)\n",
            "  adding: content/runs/detect/predict4/left_reverse_bend-18_jpg.rf.2c16ddc39fc19fc2139aeb4f5cf44d28.jpg (deflated 7%)\n",
            "  adding: content/runs/detect/predict4/right_hand_curve-51_jpg.rf.4c5661e034fbc2a0d93dff3f215776a8.jpg (deflated 6%)\n",
            "  adding: content/runs/detect/predict4/side_road_right-17_jpeg_jpg.rf.58a8e7702dfa11d6ea34b12de775be9e.jpg (deflated 19%)\n",
            "  adding: content/runs/detect/predict4/roundabout-39_jpg.rf.1e7bd2cfa112dc6dd3fe16ba54b3c0b4.jpg (deflated 4%)\n",
            "  adding: content/runs/detect/predict4/compulsary_ahead-35_png_jpg.rf.9b68195a99b1fec14766a3abe29ec38c.jpg (deflated 5%)\n",
            "  adding: content/runs/detect/predict4/compulsary_turn_left_ahead-19_jpg.rf.5d698aaa87ae362d7ca49f5a510d70af.jpg (deflated 15%)\n",
            "  adding: content/runs/detect/predict4/guarded_level_crossing-34_jpg.rf.5cfff31696a56cf0cb398bdd0aaf73c0.jpg (deflated 13%)\n",
            "  adding: content/runs/detect/predict4/compulsary_turn_left_ahead-28_jpg.rf.f9b534eb45d229f3d175b9e90f5f1488.jpg (deflated 15%)\n",
            "  adding: content/runs/detect/predict4/petrol_pump_ahead-43_jpg.rf.16f5fda6ea15ed7b8ffd69e40e6a8e81.jpg (deflated 6%)\n",
            "  adding: content/runs/detect/predict4/u_turn-38_jpg.rf.54c609cd59ed9786d9f739ca48e548c8.jpg (deflated 10%)\n",
            "  adding: content/runs/detect/predict4/petrol_pump_ahead-19_jpeg_jpg.rf.1cb1dfee82634ce6824b4cda5d27993b.jpg (deflated 41%)\n",
            "  adding: content/runs/detect/predict4/steep_ascent-31_jpg.rf.c97e98cacb433eb9f0e62d72358bfc4f.jpg (deflated 11%)\n",
            "  adding: content/runs/detect/predict4/staggered_intersection-10_png_jpg.rf.29a6a9ac8bfbbf26f7185271f66367a5.jpg (deflated 28%)\n",
            "  adding: content/runs/detect/predict4/all_motor_vehicle_prohibited-48_jpg.rf.896e140ba93ccbe1aa768aba2d9eb7d5.jpg (deflated 9%)\n",
            "  adding: content/runs/detect/predict4/roundabout-1_jpg.rf.3a8813feed72614b501d94bc26ad3fa3.jpg (deflated 5%)\n",
            "  adding: content/runs/detect/predict4/u_turn_prohibited-43_jpg.rf.a7eac0a416610fdc14c001c87f85b391.jpg (deflated 17%)\n",
            "  adding: content/runs/detect/predict4/compulsary_ahead-11_png_jpg.rf.ec3759c072c2820415fc2dd467672a72.jpg (deflated 7%)\n",
            "  adding: content/runs/detect/predict4/guarded_level_crossing-36_jpeg_jpg.rf.05aff31575c179aca4a7097499dfe3e3.jpg (deflated 18%)\n",
            "  adding: content/runs/detect/predict4/side_road_left-31_jpg.rf.886885c1c8f2338b4621c439e61895af.jpg (deflated 15%)\n",
            "  adding: content/runs/detect/predict4/pedestrian_crossing-20_jpg.rf.a6db72c06b5ff2698e5f7b021ea0a792.jpg (deflated 5%)\n",
            "  adding: content/runs/detect/predict4/side_road_left-12_jpg.rf.b3895834c31874ad77c83901a3450aad.jpg (deflated 6%)\n",
            "  adding: content/runs/detect/predict4/guarded_level_crossing-49_jpg.rf.92ee3b61d9c331a27ccc508fedb28d6b.jpg (deflated 4%)\n",
            "  adding: content/runs/detect/predict4/compulsary_keep_right-21_png_jpg.rf.437379e1b6c9858731b62c9576cfcedc.jpg (deflated 5%)\n",
            "  adding: content/runs/detect/predict4/pass_either_side-27_jpg.rf.f45e67014d52cd1e78fa167e7e11c356.jpg (deflated 8%)\n",
            "  adding: content/runs/detect/predict4/dangerous_dip-5_jpg.rf.251084d568887df41957098a1311c4ae.jpg (deflated 21%)\n",
            "  adding: content/runs/detect/predict4/right_reverse_bend-55_jpg.rf.c020161e29ba62ca8e7286de91cd1a5d.jpg (deflated 29%)\n",
            "  adding: content/runs/detect/predict4/cross_road-31_jpg.rf.abfd9f8349e5b6c8362aa4f04e773e61.jpg (deflated 6%)\n",
            "  adding: content/runs/detect/predict4/pedestrian_crossing-32_png_jpg.rf.fc83605548b1a50d93ca717f32c3ae81.jpg (deflated 16%)\n",
            "  adding: content/runs/detect/predict4/width_limit-2_png_jpg.rf.8d108f63196272216b87bc0e9356d34d.jpg (deflated 17%)\n",
            "  adding: content/runs/detect/predict4/speed_limit_100-15_png_jpg.rf.de461620db3ebbfcd264b0908f640894.jpg (deflated 9%)\n",
            "  adding: content/runs/detect/predict4/compulsary_keep_left-58_jpg.rf.3303c7b6afce76d7c64493f9bf799a57.jpg (deflated 4%)\n",
            "  adding: content/runs/detect/predict4/falling_rocks-41_jpeg_jpg.rf.5ab613e216791f4d3f9e0344f9101271.jpg (deflated 4%)\n",
            "  adding: content/runs/detect/predict4/left_reverse_bend-24_png_jpg.rf.4aaa6705d5ad7632e858d7a9def6509f.jpg (deflated 6%)\n",
            "  adding: content/runs/detect/predict4/school_ahead-10_jpg.rf.bace98775a1704e73f622244ec8ec406.jpg (deflated 23%)\n",
            "  adding: content/runs/detect/predict4/steep_ascent-32_jpg.rf.6d086f5163d65fbb2846e6432ea59618.jpg (deflated 16%)\n",
            "  adding: content/runs/detect/predict4/road_widens_ahead-14_png_jpg.rf.9d0cc7f152da07cb2e127cd0d53bb203.jpg (deflated 20%)\n",
            "  adding: content/runs/detect/predict4/height_limit-22_jpeg_jpg.rf.8b6443e320d310b48c456f088d843c4f.jpg (deflated 4%)\n",
            "  adding: content/runs/detect/predict4/no_parking-48_jpg.rf.446ad82d942a348104db677172a4d09f.jpg (deflated 11%)\n",
            "  adding: content/runs/detect/predict4/stop-1_jpg.rf.cb849aee13c755c0bb3a478be5548655.jpg (deflated 5%)\n",
            "  adding: content/runs/detect/predict4/guarded_level_crossing-48_jpg.rf.02fe06028f3706a99cf0ecd31631cd6b.jpg (deflated 4%)\n",
            "  adding: content/runs/detect/predict4/hump_or_rough_road-57_jpg.rf.e38ff4de7832a2514f39de50017ea7c7.jpg (deflated 6%)\n",
            "  adding: content/runs/detect/predict4/give_way-62_jpg.rf.1cb317ee85387f980f6c2a2c340ca522.jpg (deflated 5%)\n",
            "  adding: content/runs/detect/predict4/u_turn_prohibited-15_jpg.rf.57d751946523f3df924d0703e05a0e4e.jpg (deflated 4%)\n",
            "  adding: content/runs/detect/predict4/right_turn_prohibited-60_jpg.rf.e90291e9574c6c050113706d55949f64.jpg (deflated 12%)\n",
            "  adding: content/runs/detect/predict4/side_road_left-61_jpg.rf.d2023b0e9704e76ba7989b5cd02b76d7.jpg (deflated 5%)\n",
            "  adding: content/runs/detect/predict4/compulsary_turn_right_ahead-21_png_jpg.rf.9ad37a7ea725cf549ff1c58136878acb.jpg (deflated 6%)\n",
            "  adding: content/runs/detect/predict4/left_hand_curve-45_png_jpg.rf.46d8249e32e40a3f2499a0aad571ade9.jpg (deflated 13%)\n",
            "  adding: content/runs/detect/predict4/falling_rocks-21_jpeg_jpg.rf.7df6edd0aa2cb3b023f6e8171efe487a.jpg (deflated 4%)\n",
            "  adding: content/runs/detect/predict4/road_widens_ahead-38_jpg.rf.d03612fbd2abef99202bd93008731878.jpg (deflated 16%)\n",
            "  adding: content/runs/detect/predict4/restriction_ends-45_png_jpg.rf.5caf358029c829de96364fa2fcd5c8bc.jpg (deflated 10%)\n",
            "  adding: content/runs/detect/predict4/compulsary_turn_right_ahead-33_png_jpg.rf.576437d842190ed4e35c0d00328a5e91.jpg (deflated 8%)\n",
            "  adding: content/runs/detect/predict4/stop-40_png_jpg.rf.55526a3d230caf88737d7cb356f78e29.jpg (deflated 17%)\n",
            "  adding: content/runs/detect/predict4/compulsary_turn_right_ahead-36_png_jpg.rf.beb707cb0e8a9a3fd463274d11364abe.jpg (deflated 13%)\n",
            "  adding: content/runs/detect/predict4/t_intersection-17_jpeg_jpg.rf.c5829b396f7d75f1cc344484c0bc04e0.jpg (deflated 13%)\n",
            "  adding: content/runs/detect/predict4/speed_limit_100-43_png_jpg.rf.48e6f6c301f74800abcc283bc8b7e1b9.jpg (deflated 9%)\n",
            "  adding: content/runs/detect/predict4/left_hand_curve-25_jpg.rf.aab1bbe88740624f5edd17ea93cb56e9.jpg (deflated 6%)\n",
            "  adding: content/runs/detect/predict4/left_hand_curve-58_jpg.rf.2ef926c93f92eff4cf84939bfeea6ff3.jpg (deflated 4%)\n",
            "  adding: content/runs/detect/predict4/slippery_road-38_jpg.rf.1bf866eb9ea76e423cfeab753667de06.jpg (deflated 5%)\n",
            "  adding: content/runs/detect/predict4/gap_in_median-12_jpg.rf.a0c2dd4816e2b38c548955c79d619b54.jpg (deflated 6%)\n",
            "  adding: content/runs/detect/predict4/overtaking_prohibited-1_jpg.rf.9744a33b5375255ba3b3eb1fa4ccf6e8.jpg (deflated 10%)\n",
            "  adding: content/runs/detect/predict4/falling_rocks-10_jpeg_jpg.rf.6c06f7b77175c56db266ade17437e4a1.jpg (deflated 4%)\n",
            "  adding: content/runs/detect/predict4/axle_load_limit-10_png_jpg.rf.ca23eac651c679889a90558a788396a3.jpg (deflated 14%)\n",
            "  adding: content/runs/detect/predict4/hospital_ahead-2_jpeg_jpg.rf.fcf055906c0c277e8473d171c4bd7ac3.jpg (deflated 16%)\n",
            "  adding: content/runs/detect/predict4/steep_ascent-42_jpg.rf.80a6b3ada54b2f4721827b4b00b69bbd.jpg (deflated 15%)\n",
            "  adding: content/runs/detect/predict4/narrow_road_ahead-37_jpg.rf.80708013ddd91c181e011adfa1894ad8.jpg (deflated 25%)\n",
            "  adding: content/runs/detect/predict4/guarded_level_crossing-30_jpg.rf.d7f83ad584e354184ebbf5a1a5c8844d.jpg (deflated 14%)\n",
            "  adding: content/runs/detect/predict4/pedestrian_crossing-45_jpg.rf.a450a58467bc37f3bb022a5a7c43c64d.jpg (deflated 10%)\n",
            "  adding: content/runs/detect/predict4/falling_rocks-18_jpg.rf.84bf2e3dfde70721a7120d4bad240d7f.jpg (deflated 4%)\n",
            "  adding: content/runs/detect/predict4/gap_in_median-33_jpg.rf.f054a840b28e1be315d99a577c4055e3.jpg (deflated 6%)\n",
            "  adding: content/runs/detect/predict4/cross_road-46_jpg.rf.af369debc93c30f33d8f469b0bb4662f.jpg (deflated 7%)\n",
            "  adding: content/runs/detect/predict4/side_road_left-60_jpg.rf.65ece888d954cccb7ba4a6d5b16c83bb.jpg (deflated 6%)\n",
            "  adding: content/runs/detect/predict4/pass_either_side-4_jpeg_jpg.rf.7d2625a81d247cedd491968d3fcacae5.jpg (deflated 5%)\n",
            "  adding: content/runs/detect/predict4/hump_or_rough_road-52_jpg.rf.252982684cad5a9ba3ebb4fddcb12ebe.jpg (deflated 26%)\n",
            "  adding: content/runs/detect/predict4/quay_side_or_river_bank-28_jpg.rf.97ab3e5da87970aac97ef1dbf73e732f.jpg (deflated 10%)\n",
            "  adding: content/runs/detect/predict4/restriction_ends-65_png_jpg.rf.a771e88f0855094687e65346b1a073c7.jpg (deflated 22%)\n",
            "  adding: content/runs/detect/predict4/speed_limit_30-62_png_jpg.rf.e557819e8b79cb2e64ae28b7b8001bbd.jpg (deflated 6%)\n",
            "  adding: content/runs/detect/predict4/give_way-14_png_jpg.rf.2f1e544c0f4c751274762354f8c5d1c1.jpg (deflated 6%)\n",
            "  adding: content/runs/detect/predict4/axle_load_limit-42_jpg.rf.56b41084bffbb195c38363ee3dd48873.jpg (deflated 9%)\n",
            "  adding: content/runs/detect/predict4/narrow_road_ahead-21_jpg.rf.96487b02659574a1f1e6424c82c753d1.jpg (deflated 19%)\n",
            "  adding: content/runs/detect/predict4/right_turn_prohibited-32_jpg.rf.bff94f9e77f52538e75736df19ed9678.jpg (deflated 7%)\n",
            "  adding: content/runs/detect/predict4/steep_descent-34_jpg.rf.35c18f9ac7fb06d247aea5b936ebde41.jpg (deflated 37%)\n",
            "  adding: content/runs/detect/predict4/restriction_ends-40_png_jpg.rf.86b62dc916d294f2272d88a92b6e3c68.jpg (deflated 15%)\n",
            "  adding: content/runs/detect/predict4/cross_road-16_jpg.rf.7f45a59ce9dbe8c62728b0a8b52f3513.jpg (deflated 6%)\n",
            "  adding: content/runs/detect/predict4/give_way-66_jpg.rf.748f0cccd8a3c54865f071587b4b3d3a.jpg (deflated 22%)\n",
            "  adding: content/runs/detect/predict4/hump_or_rough_road-53_jpg.rf.f9be779e161fe34751506e5426592649.jpg (deflated 4%)\n",
            "  adding: content/runs/detect/predict4/restriction_ends-60_png_jpg.rf.dc836f017d4f97bed8b819c57bd1d01f.jpg (deflated 8%)\n",
            "  adding: content/runs/detect/predict4/stop-56_png_jpg.rf.89de9778148c6816812ad98c48798469.jpg (deflated 8%)\n",
            "  adding: content/runs/detect/predict4/u_turn-20_jpg.rf.f43726bd01c271f7eda1c22261bf9b1f.jpg (deflated 4%)\n",
            "  adding: content/runs/detect/predict4/give_way-33_png_jpg.rf.6287bc87fe598d165c666426ff17deb4.jpg (deflated 8%)\n",
            "  adding: content/runs/detect/predict4/dangerous_dip-47_jpg.rf.b3f21c4af5f4140b3785929d662b2852.jpg (deflated 26%)\n",
            "  adding: content/runs/detect/predict4/falling_rocks-20_jpg.rf.679024d8bd39ba0bdb8c32740a8dc8f3.jpg (deflated 5%)\n",
            "  adding: content/runs/detect/predict4/narrow_bridge_ahead-71_jpg.rf.a0f83b9ef83d651181b7d87d9cf96081.jpg (deflated 5%)\n",
            "  adding: content/runs/detect/predict4/compulsary_ahead-18_png_jpg.rf.ac85c35dcbce31090bac4efd5af84045.jpg (deflated 4%)\n",
            "  adding: content/runs/detect/predict4/falling_rocks-29_jpg.rf.caf0728ed5519bf7e1c7b4f1d136632c.jpg (deflated 5%)\n",
            "  adding: content/runs/detect/predict4/height_limit-2_png_jpg.rf.f75a5fd774f009b02bd6d7f38fe62491.jpg (deflated 20%)\n",
            "  adding: content/runs/detect/predict4/width_limit-40_jpg.rf.3ba7514f1f29c7a744cbbe188a2b1c81.jpg (deflated 8%)\n",
            "  adding: content/runs/detect/predict4/no_entry-44_jpg.rf.e90171cadd44287383b32c6d2a05029e.jpg (deflated 12%)\n",
            "  adding: content/runs/detect/predict4/right_reverse_bend-42_jpg.rf.f821d840b2ccdbb069b852f17c012168.jpg (deflated 18%)\n",
            "  adding: content/runs/detect/predict4/dangerous_dip-3_jpg.rf.fe9164491384ad40989a8dabd1577081.jpg (deflated 25%)\n",
            "  adding: content/runs/detect/predict4/hospital_ahead-1_jpeg_jpg.rf.e5ae06738b671dd9110ebb7910039f07.jpg (deflated 16%)\n",
            "  adding: content/runs/detect/predict4/right_hand_curve-59_png_jpg.rf.394731d301d8c49cd4ba6a8ae8f02b4f.jpg (deflated 14%)\n",
            "  adding: content/runs/detect/predict4/u_turn_prohibited-27_jpeg_jpg.rf.0130bbac0bb155e83d72fe6bc3c4a63c.jpg (deflated 12%)\n",
            "  adding: content/runs/detect/predict4/right_hand_curve-23_jpg.rf.34505123505a017b0a9f360eaea2b089.jpg (deflated 24%)\n",
            "  adding: content/runs/detect/predict4/compulsary_keep_left-49_jpg.rf.b3bb1cae6050ae1ed8da2b2cbe8a0de3.jpg (deflated 20%)\n",
            "  adding: content/runs/detect/predict4/pass_either_side-20_jpg.rf.98cab4ce5bfae993947d184f5b89c038.jpg (deflated 5%)\n",
            "  adding: content/runs/detect/predict4/no_stopping_or_standing-54_jpg.rf.f3484caea002f4d723cef2573d0386b5.jpg (deflated 8%)\n",
            "  adding: content/runs/detect/predict4/school_ahead-60_png_jpg.rf.1c500981957efcf82b899ba46a77dda6.jpg (deflated 9%)\n",
            "  adding: content/runs/detect/predict4/unguarded_level_crossing-17_jpeg_jpg.rf.9ce88c325147ecdbd1510d07716d5dc4.jpg (deflated 10%)\n",
            "  adding: content/runs/detect/predict4/guarded_level_crossing-13_jpeg_jpg.rf.29efead57fcf7e9aba4170c3f18ae3fc.jpg (deflated 13%)\n",
            "  adding: content/runs/detect/predict4/side_road_right-37_jpeg_jpg.rf.ab37fa5b7109cd24a9dbe015a61fe04e.jpg (deflated 8%)\n",
            "  adding: content/runs/detect/predict4/dangerous_dip-16_jpg.rf.e2eeb099761a3e3a53a59c9c4393fc57.jpg (deflated 15%)\n",
            "  adding: content/runs/detect/predict4/quay_side_or_river_bank-8_jpg.rf.3bb0d29d6e6302ade3b1d607aff360d2.jpg (deflated 22%)\n",
            "  adding: content/runs/detect/predict4/restriction_ends-12_jpeg_jpg.rf.b846b1c9f5c9086997e31a71326d880b.jpg (deflated 15%)\n",
            "  adding: content/runs/detect/predict4/unguarded_level_crossing-30_jpeg_jpg.rf.140253c07dbc965acab7a6eccc293aaa.jpg (deflated 6%)\n",
            "  adding: content/runs/detect/predict4/side_road_right-28_jpg.rf.4bd2c3d4baf4f06905df9a3ffa8043ad.jpg (deflated 20%)\n",
            "  adding: content/runs/detect/predict4/no_entry-49_jpg.rf.b52d28b051b6904b7342b641f8d87201.jpg (deflated 11%)\n",
            "  adding: content/runs/detect/predict4/gap_in_median-3_jpg.rf.4c3af4caf98eabc3a7c3215d4aaf77a5.jpg (deflated 5%)\n",
            "  adding: content/runs/detect/predict4/speed_limit_100-8_jpg.rf.d61812bc4bd5b1d6fbbd94f37a3a5a4a.jpg (deflated 20%)\n",
            "  adding: content/runs/detect/predict4/stop-62_png_jpg.rf.7f8edf27c4c0e1f739f303e7d737ccdc.jpg (deflated 6%)\n",
            "  adding: content/runs/detect/predict4/stop-26_jpg.rf.f0bdf62d396de142298b443dcf1c4b60.jpg (deflated 19%)\n",
            "  adding: content/runs/detect/predict4/men_at_work-68_png_jpg.rf.28c3353c48b49414fba1c24e7b69f0d6.jpg (deflated 5%)\n",
            "  adding: content/runs/detect/predict4/school_ahead-12_jpg.rf.7b7b62f85d91cc910cb27fb8bcc281e5.jpg (deflated 5%)\n",
            "  adding: content/runs/detect/predict4/petrol_pump_ahead-34_png_jpg.rf.5c4fed9efc2a26f48e9908852bff48e7.jpg (deflated 52%)\n",
            "  adding: content/runs/detect/predict4/unguarded_level_crossing-56_png_jpg.rf.64f640e0a7403fe63dcb48f167a62c7f.jpg (deflated 27%)\n",
            "  adding: content/runs/detect/predict4/u_turn_prohibited-45_jpg.rf.3dd3d13a5d8dd3b1d6f6e8c776084735.jpg (deflated 17%)\n",
            "  adding: content/runs/detect/predict4/u_turn-31_jpg.rf.fd5bef7ce9e387d7ab740f9a5577164a.jpg (deflated 7%)\n",
            "  adding: content/runs/detect/predict4/no_stopping_or_standing-49_jpg.rf.8eaf8a268cf87a6a07bf6dc2c7936ead.jpg (deflated 8%)\n",
            "  adding: content/runs/detect/predict4/left_turn_prohibited-18_jpg.rf.ff79afaf8c2ac6b3297dbba8eea4a938.jpg (deflated 4%)\n",
            "  adding: content/runs/detect/predict4/height_limit-11_jpeg_jpg.rf.484b8cac90b349c53fa39aef3c2bd86f.jpg (deflated 13%)\n",
            "  adding: content/runs/detect/predict4/slippery_road-13_jpg.rf.c9592188151f65910151d8431fb9cc26.jpg (deflated 18%)\n",
            "  adding: content/runs/detect/predict4/u_turn-1_jpg.rf.80b60d997ef509fe496ff2f1f9aa3e37.jpg (deflated 8%)\n",
            "  adding: content/runs/detect/predict4/loose_gravel-16_jpeg_jpg.rf.4cbcee0fc18b73338d377100566225b3.jpg (deflated 5%)\n",
            "  adding: content/runs/detect/predict4/all_motor_vehicle_prohibited-27_png_jpg.rf.9278dd89d9d295e59fcf303faa3f9a94.jpg (deflated 13%)\n",
            "  adding: content/runs/detect/predict4/no_stopping_or_standing-8_jpg.rf.db0a55bc2017df993afcdba6799b2326.jpg (deflated 11%)\n",
            "  adding: content/runs/detect/predict4/men_at_work-45_png_jpg.rf.42bd07898d8ad2df5a40668aae392cc4.jpg (deflated 4%)\n",
            "  adding: content/runs/detect/predict4/steep_ascent-7_jpeg_jpg.rf.12408682c65129ab915d0d3abd05c09f.jpg (deflated 6%)\n",
            "  adding: content/runs/detect/predict4/speed_limit_30-66_png_jpg.rf.2bbc0a1c5fb20110379c4ef290bc28a8.jpg (deflated 5%)\n",
            "  adding: content/runs/detect/predict4/narrow_road_ahead-68_jpg.rf.15187a643828c7c70c33916e23c79582.jpg (deflated 4%)\n",
            "  adding: content/runs/detect/predict4/height_limit-24_jpg.rf.03338511aa99b5038bcf859a1f58e1cc.jpg (deflated 10%)\n",
            "  adding: content/runs/detect/predict4/men_at_work-35_png_jpg.rf.ad408da895418b58a609378749aa1122.jpg (deflated 6%)\n",
            "  adding: content/runs/detect/predict4/speed_limit_30-22_png_jpg.rf.ca4e302a481ff848d6463b4f917c8f91.jpg (deflated 6%)\n",
            "  adding: content/runs/detect/predict4/no_stopping_or_standing-0_jpeg_jpg.rf.c1f87eed73358d7eba69a3c58af11c1d.jpg (deflated 9%)\n",
            "  adding: content/runs/detect/predict4/speed_limit_30-16_png_jpg.rf.06a62937143847c6ac09bb271212530e.jpg (deflated 4%)\n",
            "  adding: content/runs/detect/predict4/no_parking-73_jpg.rf.9ecbb48d7427b710cb6dc684b9d717d5.jpg (deflated 17%)\n",
            "  adding: content/runs/detect/predict4/no_parking-1_jpg.rf.7bca74fdb9fca3e93f60cc5c314e7707.jpg (deflated 5%)\n",
            "  adding: content/runs/detect/predict4/no_stopping_or_standing-29_jpg.rf.8fd1bd667c5cda58b3cf9aa378d8ca11.jpg (deflated 10%)\n",
            "  adding: content/runs/detect/predict4/u_turn_prohibited-64_jpeg_jpg.rf.5316d6a63c7708e1bbbe98427f513c14.jpg (deflated 5%)\n",
            "  adding: content/runs/detect/predict4/height_limit-55_png_jpg.rf.fbfbbffdf05155774f95a929b5d61f33.jpg (deflated 19%)\n",
            "  adding: content/runs/detect/predict4/right_hand_curve-69_png_jpg.rf.eb7d4061977b8b6bd95b6dc4c5167a14.jpg (deflated 7%)\n",
            "  adding: content/runs/detect/predict4/cross_road-47_jpg.rf.88b0fe60f916b38b96f2c8054666ee8a.jpg (deflated 5%)\n",
            "  adding: content/runs/detect/predict4/width_limit-13_jpeg_jpg.rf.808fe09776dc7c630339a0bd1d6b514e.jpg (deflated 12%)\n",
            "  adding: content/runs/detect/predict4/falling_rocks-43_jpeg_jpg.rf.64e3a23f7a51e2feb58751d97e55ad46.jpg (deflated 5%)\n",
            "  adding: content/runs/detect/predict4/compulsary_keep_left-19_jpg.rf.99cc1c1c97b0b91724c0daae571554b6.jpg (deflated 9%)\n",
            "  adding: content/runs/detect/predict4/stop-55_png_jpg.rf.4399cefb786121c2eb4ccd2357b210e8.jpg (deflated 9%)\n",
            "  adding: content/runs/detect/predict4/speed_limit_100-30_png_jpg.rf.26cf3ac3eb1e6a4613816121bee1217c.jpg (deflated 11%)\n",
            "  adding: content/runs/detect/predict4/restriction_ends-46_png_jpg.rf.f59e2eb125ea42f312fb6e59855427be.jpg (deflated 14%)\n",
            "  adding: content/runs/detect/predict4/narrow_bridge_ahead-72_jpg.rf.14eeffa96b6ebc172deff97ef396007c.jpg (deflated 8%)\n",
            "  adding: content/runs/detect/predict4/left_turn_prohibited-8_jpg.rf.724c35377465ef5e6b3df5c832baa537.jpg (deflated 4%)\n",
            "  adding: content/runs/detect/predict4/u_turn-27_jpg.rf.37a0fc79af4020c70689bcdc9acaa2f6.jpg (deflated 7%)\n",
            "  adding: content/runs/detect/predict4/compulsary_keep_right-30_png_jpg.rf.b0dc8763da8eb443230903a0a7a9bcdc.jpg (deflated 6%)\n",
            "  adding: content/runs/detect/predict4/pedestrian_crossing-25_jpg.rf.bd75b60c9a21d9907b7dbe3eee8bc565.jpg (deflated 37%)\n",
            "  adding: content/runs/detect/predict4/u_turn-43_jpg.rf.f121a696295772bbf5af25d7e4cbc2b6.jpg (deflated 11%)\n",
            "  adding: content/runs/detect/predict4/left_reverse_bend-37_png_jpg.rf.e4cdc83a81e789749f6e05772804ff31.jpg (deflated 5%)\n",
            "  adding: content/runs/detect/predict4/steep_descent-41_jpeg_jpg.rf.4a9522dded9ca76887ff113b19c4a283.jpg (deflated 17%)\n",
            "  adding: content/runs/detect/predict4/roundabout-4_jpg.rf.b155a11df275b98c970a1c2673fa59c3.jpg (deflated 7%)\n",
            "  adding: content/runs/detect/predict4/horn_prohibited-17_jpg.rf.1ac0dcadbc1cf79f9d4ea47d59f4016e.jpg (deflated 5%)\n",
            "  adding: content/runs/detect/predict4/road_widens_ahead-43_jpg.rf.0cf9bf0b16f6475a94449df0bf9ce06e.jpg (deflated 25%)\n",
            "  adding: content/runs/detect/predict4/height_limit-49_jpeg_jpg.rf.287cccd132b51b4dc03204c7dbdd52cf.jpg (deflated 15%)\n",
            "  adding: content/runs/detect/predict4/speed_limit_100-1_jpg.rf.44191b2230323be2259b6bf9add7f457.jpg (deflated 19%)\n",
            "  adding: content/runs/detect/predict4/pass_either_side-12_jpeg_jpg.rf.df89b0a9ec9e8cc81dc41d7f7fb9e4e8.jpg (deflated 6%)\n",
            "  adding: content/runs/detect/predict4/speed_limit_30-20_png_jpg.rf.a7442c3ff2d5ac2f49f2b5770df5e29a.jpg (deflated 5%)\n",
            "  adding: content/runs/detect/predict4/quay_side_or_river_bank-34_jpg.rf.d6f6232dc8d40857e65728e9660b3290.jpg (deflated 4%)\n",
            "  adding: content/runs/detect/predict4/compulsary_keep_right-61_png_jpg.rf.0f73956ea8df453b9c97e428bcc5e1bc.jpg (deflated 28%)\n",
            "  adding: content/runs/detect/predict4/u_turn_prohibited-37_jpeg_jpg.rf.0e8f4e25d7d525e30ccd8c5536b1758b.jpg (deflated 5%)\n",
            "  adding: content/runs/detect/predict4/overtaking_prohibited-12_jpg.rf.747adcdbe3502cb91d16ee9d80b25170.jpg (deflated 10%)\n",
            "  adding: content/runs/detect/predict4/compulsary_turn_right_ahead-40_png_jpg.rf.7e468fb0da9aeb685ae065aa6a110276.jpg (deflated 11%)\n",
            "  adding: content/runs/detect/predict4/falling_rocks-7_jpg.rf.c787de755122e1b8bc999ad36313ae9b.jpg (deflated 10%)\n",
            "  adding: content/runs/detect/predict4/height_limit-19_jpg.rf.dbe647b818aa4ac31691c2be853a2ed3.jpg (deflated 21%)\n",
            "  adding: content/runs/detect/predict4/speed_limit_100-45_png_jpg.rf.eb0fd247d10620a4f7bfc427c417cc5e.jpg (deflated 8%)\n",
            "  adding: content/runs/detect/predict4/quay_side_or_river_bank-35_jpeg_jpg.rf.4363266108fd880e109b731dc12a63b1.jpg (deflated 9%)\n",
            "  adding: content/runs/detect/predict4/give_way-27_png_jpg.rf.32b7afc28e76d72520310ff7ee79125e.jpg (deflated 5%)\n",
            "  adding: content/runs/detect/predict4/petrol_pump_ahead-56_png_jpg.rf.14b22221b46bd996fd530e21ed0aa01c.jpg (deflated 40%)\n",
            "  adding: content/runs/detect/predict4/petrol_pump_ahead-12_jpeg_jpg.rf.2ea9a045384322cd6fc0e89e22291137.jpg (deflated 8%)\n",
            "  adding: content/runs/detect/predict4/guarded_level_crossing-38_jpg.rf.e8f6f9e7779dbf2cdb6429179bcbd206.jpg (deflated 7%)\n",
            "  adding: content/runs/detect/predict4/compulsary_turn_right_ahead-37_png_jpg.rf.917fac3060ff909003d30898e824b6f8.jpg (deflated 12%)\n",
            "  adding: content/runs/detect/predict4/speed_limit_30-52_png_jpg.rf.a3aedbef07fd8b5791c8921fa0164d18.jpg (deflated 4%)\n",
            "  adding: content/runs/detect/predict4/right_turn_prohibited-69_jpg.rf.c04d8e3e3695aa9cfa168d4e63fe1f62.jpg (deflated 11%)\n",
            "  adding: content/runs/detect/predict4/restriction_ends-39_jpg.rf.d445276b0bc51f41089b82d77f1fe4d6.jpg (deflated 20%)\n",
            "  adding: content/runs/detect/predict4/compulsary_keep_right-50_png_jpg.rf.a4b047086f22a19d1469493361e8a3fa.jpg (deflated 30%)\n",
            "  adding: content/runs/detect/predict4/unguarded_level_crossing-22_png_jpg.rf.a8c00e3cbe7c49c38aeb3db2d80423c8.jpg (deflated 24%)\n",
            "  adding: content/runs/detect/predict4/narrow_road_ahead-42_jpg.rf.93ce4260831d86ca423faee1127c5e1d.jpg (deflated 19%)\n",
            "  adding: content/runs/detect/predict4/school_ahead-63_png_jpg.rf.71270cf1a5ce598dfb350cea261139fa.jpg (deflated 6%)\n",
            "  adding: content/runs/detect/predict4/steep_descent-19_jpg.rf.18173d7a7529a5f4c22dc12526562a38.jpg (deflated 5%)\n",
            "  adding: content/runs/detect/predict4/steep_descent-5_jpeg_jpg.rf.5350c4749f3960ab0cde1bddaf0454cd.jpg (deflated 4%)\n",
            "  adding: content/runs/detect/predict4/give_way-63_jpg.rf.78f9d3abd34e2ff301333fcf73325542.jpg (deflated 6%)\n",
            "  adding: content/runs/detect/predict4/left_reverse_bend-20_jpg.rf.93485391d58b551abe47039d8e4e96d9.jpg (deflated 19%)\n",
            "  adding: content/runs/detect/predict4/stop-68_png_jpg.rf.cb92a0b98443c7279684d93e02d3dc1f.jpg (deflated 10%)\n",
            "  adding: content/runs/detect/predict4/compulsary_turn_right_ahead-6_jpg.rf.ec7cb2d675846d1a83e778a391849d29.jpg (deflated 7%)\n",
            "  adding: content/runs/detect/predict4/no_parking-39_jpg.rf.e0a39e7746f6f3b312e511ce2553b702.jpg (deflated 10%)\n",
            "  adding: content/runs/detect/predict4/cross_road-57_jpg.rf.ddd01f469c72600b0dc39cb8c949fff3.jpg (deflated 13%)\n",
            "  adding: content/runs/detect/predict4/pass_either_side-3_png_jpg.rf.7f9df252d0bd2fd59c876050b5505c4a.jpg (deflated 19%)\n",
            "  adding: content/runs/detect/predict4/left_turn_prohibited-9_jpg.rf.2c7352ebabc050ee7777b6fe6029920f.jpg (deflated 4%)\n",
            "  adding: content/runs/detect/predict4/compulsary_keep_right-7_png_jpg.rf.45476e52241df729cc613818a717aae9.jpg (deflated 10%)\n",
            "  adding: content/runs/detect/predict4/give_way-9_png_jpg.rf.d7520230d9922ae8517ab51218337049.jpg (deflated 18%)\n",
            "  adding: content/runs/detect/predict4/right_turn_prohibited-68_jpg.rf.6e781076eafaf88da755cc158592242f.jpg (deflated 10%)\n",
            "  adding: content/runs/detect/predict4/unguarded_level_crossing-3_jpg.rf.36bd6932b2b487c6e76230a5732ac099.jpg (deflated 29%)\n",
            "  adding: content/runs/detect/predict4/no_stopping_or_standing-57_jpg.rf.020a837bc272bcad4c01f771cf08f510.jpg (deflated 10%)\n",
            "  adding: content/runs/detect/predict4/speed_limit_50-11_jpg.rf.fe120e13f0e31b85aea20632cb931183.jpg (deflated 27%)\n",
            "  adding: content/runs/detect/predict4/width_limit-43_jpg.rf.9c351855bebf43df715fc84716e44e89.jpg (deflated 11%)\n",
            "  adding: content/runs/detect/predict4/u_turn-47_jpg.rf.c0057d094d442c29f2549143106c73d0.jpg (deflated 4%)\n",
            "  adding: content/runs/detect/predict4/falling_rocks-49_jpg.rf.faf65642bff84b78e2285d006b78621a.jpg (deflated 12%)\n",
            "  adding: content/runs/detect/predict4/gap_in_median-39_jpg.rf.ab1df63536801548a4d697244d9aecfb.jpg (deflated 9%)\n",
            "  adding: content/runs/detect/predict4/narrow_road_ahead-27_png_jpg.rf.99b39ce6213e5adc7c35886bba416add.jpg (deflated 6%)\n",
            "  adding: content/runs/detect/predict4/slippery_road-18_png_jpg.rf.34fc6bef1dc51ba458bb55602fe8496a.jpg (deflated 7%)\n",
            "  adding: content/runs/detect/predict4/overtaking_prohibited-17_jpeg_jpg.rf.8f6ef39a52496906458c7d6d5bf16536.jpg (deflated 5%)\n",
            "  adding: content/runs/detect/predict4/height_limit-34_jpg.rf.cde5f51348ed265541a7b5df825d80d4.jpg (deflated 6%)\n",
            "  adding: content/runs/detect/predict4/compulsary_ahead-5_png_jpg.rf.040d9a480338c8995a286a9576aefabe.jpg (deflated 5%)\n",
            "  adding: content/runs/detect/predict4/right_turn_prohibited-29_jpg.rf.cf13224a00f7c28b465161f31a985617.jpg (deflated 3%)\n",
            "  adding: content/runs/detect/predict4/right_turn_prohibited-31_jpg.rf.ff83384301eabe118f16c640655e3d71.jpg (deflated 5%)\n",
            "  adding: content/runs/detect/predict4/speed_limit_30-34_png_jpg.rf.5aca87f13dbe1ba73419b8a32dd262d2.jpg (deflated 12%)\n",
            "  adding: content/runs/detect/predict4/school_ahead-32_jpg.rf.267268fc9840d7ee85cff3abaec8e408.jpg (deflated 14%)\n",
            "  adding: content/runs/detect/predict4/no_parking-42_jpg.rf.cea6dfb7cab9c401bfb46d3b49ace243.jpg (deflated 10%)\n",
            "  adding: content/runs/detect/predict4/guarded_level_crossing-8_jpeg_jpg.rf.9e11f22d5ae04d37816ca004be6bd0ee.jpg (deflated 12%)\n",
            "  adding: content/runs/detect/predict4/men_at_work-37_png_jpg.rf.729c2d05556adf8aae5b1ce7502c4e8f.jpg (deflated 10%)\n",
            "  adding: content/runs/detect/predict4/pedestrian_crossing-15_jpg.rf.c36a88af50947804c7a2f655a96e1fce.jpg (deflated 9%)\n",
            "  adding: content/runs/detect/predict4/pass_either_side-63_jpg.rf.d15151a049974cf263da63267fdb4ecc.jpg (deflated 6%)\n",
            "  adding: content/runs/detect/predict4/gap_in_median-41_jpg.rf.cc71bfdf7b6eccf59ee9ffb2965ea7d3.jpg (deflated 8%)\n",
            "  adding: content/runs/detect/predict4/u_turn-55_jpg.rf.eeac6e858071cd0cfe8265d4efec2d52.jpg (deflated 5%)\n",
            "  adding: content/runs/detect/predict4/left_turn_prohibited-34_jpg.rf.c77a5cdd5c6ca27d3a596734522c1a4e.jpg (deflated 9%)\n",
            "  adding: content/runs/detect/predict4/falling_rocks-61_jpg.rf.0a1b8c8151e60e4c55f3ab6e94dd13ef.jpg (deflated 8%)\n",
            "  adding: content/runs/detect/predict4/speed_limit_50-45_png_jpg.rf.09007a3922b172fe9d6114c5676a6227.jpg (deflated 7%)\n",
            "  adding: content/runs/detect/predict4/pass_either_side-7_jpeg_jpg.rf.9fcc6ae079ca8d0e0044925356f6fe54.jpg (deflated 8%)\n",
            "  adding: content/runs/detect/predict4/side_road_right-24_jpg.rf.c8e7e022a598de9c6b5ac31c99356436.jpg (deflated 12%)\n",
            "  adding: content/runs/detect/predict4/side_road_left-55_jpg.rf.90dcba45cb37786bb2cb312b3256e214.jpg (deflated 24%)\n",
            "  adding: content/runs/detect/predict4/no_stopping_or_standing-58_jpg.rf.799ea799c19a3aba0a437cd3c1159d3e.jpg (deflated 10%)\n",
            "  adding: content/runs/detect/predict4/cross_road-28_jpg.rf.d4cc95e4e1ef1a8f2dd60482069c6268.jpg (deflated 6%)\n",
            "  adding: content/runs/detect/predict4/compulsary_turn_right_ahead-48_png_jpg.rf.a3ca9368c5eb1e5504f4f5f2eb8cd696.jpg (deflated 6%)\n",
            "  adding: content/runs/detect/predict4/stop-41_png_jpg.rf.e160b2c81a50a120f7beec30e24cc90d.jpg (deflated 8%)\n",
            "  adding: content/runs/detect/predict4/restriction_ends-3_jpeg_jpg.rf.fcfc08f3b8a8317070829ec1400706e9.jpg (deflated 15%)\n",
            "  adding: content/runs/detect/predict4/right_reverse_bend-50_jpg.rf.0e2dd23bcad20fdc85e892570a59997d.jpg (deflated 26%)\n",
            "  adding: content/runs/detect/predict4/width_limit-25_jpeg_jpg.rf.3a5a5806c5c609d0153202786af56c82.jpg (deflated 7%)\n",
            "  adding: content/runs/detect/predict4/compulsary_turn_left_ahead-56_jpeg_jpg.rf.4c9306f9e833e93eba88086484a23020.jpg (deflated 10%)\n",
            "  adding: content/runs/detect/predict4/narrow_road_ahead-38_jpg.rf.c5dc68a5fa68fa32ab6ef3b34b6d07d2.jpg (deflated 20%)\n",
            "  adding: content/runs/detect/predict4/steep_descent-12_png_jpg.rf.12644a8f07d9cdb03977a89f2d5587c0.jpg (deflated 29%)\n",
            "  adding: content/runs/detect/predict4/roundabout-31_jpg.rf.0b6370be9bc5ddec9e65b94cc008e80c.jpg (deflated 16%)\n",
            "  adding: content/runs/detect/predict4/roundabout-40_jpg.rf.9a2149bfc66a28191c58ef31d7e4055b.jpg (deflated 17%)\n",
            "  adding: content/runs/detect/predict4/right_hand_curve-58_png_jpg.rf.aef90526dc333dbd2f88be0cc4ce0584.jpg (deflated 19%)\n",
            "  adding: content/runs/detect/predict4/all_motor_vehicle_prohibited-13_jpg.rf.bb8bd8753022dfce989c354a478fad26.jpg (deflated 7%)\n",
            "  adding: content/runs/detect/predict4/unguarded_level_crossing-23_jpeg_jpg.rf.ab1172c042db26ae0a7b45d1072dc433.jpg (deflated 5%)\n",
            "  adding: content/runs/detect/predict4/compulsary_turn_left_ahead-37_png_jpg.rf.66a62d5cc80566a5af2210d30184c4a8.jpg (deflated 6%)\n",
            "  adding: content/runs/detect/predict4/guarded_level_crossing-55_png_jpg.rf.0a3d26ebbbddd8734155199216a68adf.jpg (deflated 24%)\n",
            "  adding: content/runs/detect/predict4/right_turn_prohibited-18_jpg.rf.a671d721d77e3b5d4576f3afc2cea8f5.jpg (deflated 7%)\n",
            "  adding: content/runs/detect/predict4/compulsary_turn_left_ahead-4_png_jpg.rf.1ea0fab535f428d17ea45311e2fe0e8b.jpg (deflated 5%)\n",
            "  adding: content/runs/detect/predict4/right_reverse_bend-12_jpeg_jpg.rf.9659b5037b2ca0d4e791649c8cb88e09.jpg (deflated 5%)\n",
            "  adding: content/runs/detect/predict4/compulsary_turn_right_ahead-26_png_jpg.rf.932989bc649606c21fe16a34169c0974.jpg (deflated 10%)\n",
            "  adding: content/runs/detect/predict4/restriction_ends-10_jpeg_jpg.rf.d7af7e4a6d2b2f4c9da9143e8d035962.jpg (deflated 13%)\n",
            "  adding: content/runs/detect/predict4/restriction_ends-7_png_jpg.rf.79d13eefe63502c4ab8f1cec9e0428be.jpg (deflated 29%)\n",
            "  adding: content/runs/detect/predict4/dangerous_dip-2_jpg.rf.e790c40876aef22cbe95b37148734277.jpg (deflated 6%)\n",
            "  adding: content/runs/detect/predict4/hump_or_rough_road-67_jpg.rf.9e3247bb45010559e14de8ec535543d3.jpg (deflated 5%)\n",
            "  adding: content/runs/detect/predict4/all_motor_vehicle_prohibited-4_jpg.rf.e9d523d9d90b88c49dc024848b024d13.jpg (deflated 11%)\n",
            "  adding: content/runs/detect/predict4/speed_limit_30-14_jpg.rf.5c6a663fb8d9a3b6b8a5c81cdbe088f0.jpg (deflated 25%)\n",
            "  adding: content/runs/detect/predict4/cross_road-0_jpg.rf.e2992ecddef19f47a1641b5d9400a64f.jpg (deflated 7%)\n",
            "  adding: content/runs/detect/predict4/cross_road-25_jpg.rf.7dae55134fa9476503105e1f5af1243a.jpg (deflated 6%)\n",
            "  adding: content/runs/detect/predict4/overtaking_prohibited-5_jpg.rf.f4b74a37317ee722a0b5976c43a2e413.jpg (deflated 7%)\n",
            "  adding: content/runs/detect/predict4/height_limit-45_png_jpg.rf.c0ca954ea0b8f045249cfcd6ea9dc92e.jpg (deflated 14%)\n",
            "  adding: content/runs/detect/predict4/axle_load_limit-32_jpg.rf.7ddbb2d1b4f71c3e03de6a7959d17ea7.jpg (deflated 7%)\n",
            "  adding: content/runs/detect/predict4/quay_side_or_river_bank-60_jpg.rf.a111cef3108767bf8e0d1d2b8ba2a53b.jpg (deflated 6%)\n",
            "  adding: content/runs/detect/predict4/no_entry-52_jpg.rf.4d1500d7d903395a367acf2c75a11a7d.jpg (deflated 11%)\n",
            "  adding: content/runs/detect/predict4/no_parking-23_jpg.rf.f090ce0a678189efb6e83cebd580cb60.jpg (deflated 22%)\n",
            "  adding: content/runs/detect/predict4/axle_load_limit-29_jpg.rf.49e528bd10a434e5b5ba72108c810e2c.jpg (deflated 5%)\n",
            "  adding: content/runs/detect/predict4/pass_either_side-42_jpg.rf.d38c1a2bf8ca5c90e901790b940bd44e.jpg (deflated 16%)\n",
            "  adding: content/runs/detect/predict4/loose_gravel-10_jpeg_jpg.rf.a9cab1791599095acc8421ae6dfa422d.jpg (deflated 7%)\n",
            "  adding: content/runs/detect/predict4/stop-49_png_jpg.rf.75bfedd64d31281f7e2b067a9d574c9c.jpg (deflated 9%)\n",
            "  adding: content/runs/detect/predict4/cross_road-11_jpg.rf.9bad608e73948aa7536a7c2f3d31ae2f.jpg (deflated 5%)\n",
            "  adding: content/runs/detect/predict4/narrow_road_ahead-15_jpg.rf.4ba1c59e3219b5a7165f06605e6afab2.jpg (deflated 21%)\n",
            "  adding: content/runs/detect/predict4/height_limit-18_jpeg_jpg.rf.5c41739204a55e179aef975c58a1bd5e.jpg (deflated 24%)\n",
            "  adding: content/runs/detect/predict4/petrol_pump_ahead-22_jpeg_jpg.rf.4ae35d97bba68f65056aa9f6329905cc.jpg (deflated 33%)\n",
            "  adding: content/runs/detect/predict4/right_hand_curve-68_png_jpg.rf.9e1c420b4b0bd82803ee6b941d22fef3.jpg (deflated 8%)\n",
            "  adding: content/runs/detect/predict4/horn_prohibited-18_jpg.rf.e98e94e5d7d0a5f66b6ab9695f31a92c.jpg (deflated 5%)\n",
            "  adding: content/runs/detect/predict4/restriction_ends-14_jpg.rf.a6d25e4e8f45edcb90e36bfe6722858f.jpg (deflated 7%)\n",
            "  adding: content/runs/detect/predict4/quay_side_or_river_bank-44_jpg.rf.0a8e44260201c7a0abe5158c6d1842bb.jpg (deflated 9%)\n",
            "  adding: content/runs/detect/predict4/all_motor_vehicle_prohibited-37_png_jpg.rf.76844219d51089903bc8cb56897367ef.jpg (deflated 13%)\n",
            "  adding: content/runs/detect/predict4/narrow_bridge_ahead-28_jpg.rf.b25a10a351c70ae568eecdbfd19c3476.jpg (deflated 11%)\n",
            "  adding: content/runs/detect/predict4/roundabout-12_jpg.rf.6c2424a59d9444a48e71558e44c4fd92.jpg (deflated 21%)\n",
            "  adding: content/runs/detect/predict4/give_way-2_png_jpg.rf.54d599e25c583ee1116da5e66821ddeb.jpg (deflated 8%)\n",
            "  adding: content/runs/detect/predict4/compulsary_keep_right-55_jpeg_jpg.rf.1e0fe3249029d870168ac8e7ed527118.jpg (deflated 15%)\n",
            "  adding: content/runs/detect/predict4/right_turn_prohibited-19_jpg.rf.fd1d2c55ebb274839b27e02fb326f019.jpg (deflated 5%)\n",
            "  adding: content/runs/detect/predict4/no_entry-67_png_jpg.rf.8a056f47172ced4c870e86e13b04a6a3.jpg (deflated 18%)\n",
            "  adding: content/runs/detect/predict4/slippery_road-30_png_jpg.rf.c5dcf2f9ea2eec72336086481db49b4f.jpg (deflated 3%)\n",
            "  adding: content/runs/detect/predict4/stop-72_png_jpg.rf.c294fb99b081caa9aa2cec2b2cff5f3e.jpg (deflated 6%)\n",
            "  adding: content/runs/detect/predict4/pass_either_side-11_png_jpg.rf.e8ff7cbf87a3ec79702ee716250ff8d6.jpg (deflated 15%)\n",
            "  adding: content/runs/detect/predict4/axle_load_limit-0_jpg.rf.41ef8930b3b19ec4d3d7da7731355824.jpg (deflated 16%)\n",
            "  adding: content/runs/detect/predict4/cross_road-12_jpg.rf.fbe509df827775b1252711029b98b51f.jpg (deflated 5%)\n",
            "  adding: content/runs/detect/predict4/stop-4_jpg.rf.76c4d9289e3c9b85cf61b7ef7dd6717e.jpg (deflated 6%)\n",
            "  adding: content/runs/detect/predict4/left_turn_prohibited-0_jpg.rf.3fdfea03bf6af564859a589bedfbb362.jpg (deflated 13%)\n",
            "  adding: content/runs/detect/predict4/slippery_road-47_png_jpg.rf.1bb14dfd69c2a4a5880d1c0c015a1134.jpg (deflated 5%)\n",
            "  adding: content/runs/detect/predict4/pedestrian_crossing-37_png_jpg.rf.0be81cb2342195d527aafc75a06f133e.jpg (deflated 7%)\n",
            "  adding: content/runs/detect/predict4/overtaking_prohibited-29_jpeg_jpg.rf.32a2026cf545b2bfe228c3900525e1cb.jpg (deflated 4%)\n",
            "  adding: content/runs/detect/predict4/falling_rocks-51_jpg.rf.0b5aac27ae5dc5b2978f5802ae5606de.jpg (deflated 5%)\n",
            "  adding: content/runs/detect/predict4/steep_ascent-44_jpg.rf.c6bfc4c1172f1fd4dbfe2591483bea54.jpg (deflated 15%)\n",
            "  adding: content/runs/detect/predict4/compulsary_turn_left_ahead-52_jpeg_jpg.rf.72b4e92e99875c2ad20229c982e48704.jpg (deflated 13%)\n",
            "  adding: content/runs/detect/predict4/slippery_road-54_jpg.rf.198be80cae724cec81eb531936339a19.jpg (deflated 28%)\n",
            "  adding: content/runs/detect/predict4/hump_or_rough_road-20_jpg.rf.1d52321c5f694f965210813f48f1bc3e.jpg (deflated 6%)\n",
            "  adding: content/runs/detect/predict4/no_parking-50_jpg.rf.744cbf3a73d5493720f18ecdd17f6c2e.jpg (deflated 13%)\n",
            "  adding: content/runs/detect/predict4/right_hand_curve-46_jpg.rf.35d0daa9c05ec28cc670d7d6090a98c5.jpg (deflated 4%)\n",
            "  adding: content/runs/detect/predict4/speed_limit_30-19_png_jpg.rf.899d96b48d848f4f29c8a8ef5754a18d.jpg (deflated 5%)\n",
            "  adding: content/runs/detect/predict4/falling_rocks-5_jpg.rf.70e22b4d7dced1b1572daea0834f7884.jpg (deflated 18%)\n",
            "  adding: content/runs/detect/predict4/all_motor_vehicle_prohibited-38_png_jpg.rf.0d3f20b428757c9c1ae0b92caefe1dbe.jpg (deflated 14%)\n",
            "  adding: content/runs/detect/predict4/no_entry-3_jpg.rf.92b29357d8711e608c95cf95d0b80484.jpg (deflated 4%)\n",
            "  adding: content/runs/detect/predict4/width_limit-4_png_jpg.rf.bb6e5e1013d7f47d511345976f359e2f.jpg (deflated 15%)\n",
            "  adding: content/runs/detect/predict4/give_way-24_png_jpg.rf.4e49cf51737f46b92aa79890e0d985c2.jpg (deflated 6%)\n",
            "  adding: content/runs/detect/predict4/right_hand_curve-8_jpg.rf.cbcbc7d08d892e7a71d7d54ffb78847c.jpg (deflated 11%)\n",
            "  adding: content/runs/detect/predict4/guarded_level_crossing-22_jpg.rf.029517fe48d6a5f932aea1b42d39a31e.jpg (deflated 17%)\n",
            "  adding: content/runs/detect/predict4/horn_prohibited-69_jpg.rf.ca83e1205ef61f0bf5a71d4bc80749b8.jpg (deflated 15%)\n",
            "  adding: content/runs/detect/predict4/overtaking_prohibited-27_jpg.rf.2cdf551c235df8a1b789909e905ac13f.jpg (deflated 10%)\n",
            "  adding: content/runs/detect/predict4/speed_limit_100-59_png_jpg.rf.d5423a7357eec5049c088b384d43072c.jpg (deflated 9%)\n",
            "  adding: content/runs/detect/predict4/slippery_road-61_jpg.rf.8587aef2d06b88623b9c4851427cf9ce.jpg (deflated 35%)\n",
            "  adding: content/runs/detect/predict4/u_turn_prohibited-28_jpg.rf.cd90caa0245061610f5c3d7f5a28da77.jpg (deflated 11%)\n",
            "  adding: content/runs/detect/predict4/compulsary_turn_left_ahead-23_png_jpg.rf.d624fa94f8457ec32d3afaca920ee761.jpg (deflated 12%)\n",
            "  adding: content/runs/detect/predict4/compulsary_keep_right-16_png_jpg.rf.bae9e148631ac7717f2df8539fcadee0.jpg (deflated 10%)\n",
            "  adding: content/runs/detect/predict4/speed_limit_30-35_png_jpg.rf.532fdadac566a688b5fa5688f5a6a85f.jpg (deflated 5%)\n",
            "  adding: content/runs/detect/predict4/falling_rocks-60_jpg.rf.52405bbe76b646260fc3e5c572ef27ba.jpg (deflated 7%)\n",
            "  adding: content/runs/detect/predict4/staggered_intersection-14_jpeg_jpg.rf.9637fda1e3bbb43ada7ae7ac273429fc.jpg (deflated 7%)\n",
            "  adding: content/runs/detect/predict4/loose_gravel-31_png_jpg.rf.e7740a6bfbb00714e6293d078dda5089.jpg (deflated 35%)\n",
            "  adding: content/runs/detect/predict4/narrow_bridge_ahead-68_jpg.rf.3160fadeb00c726f2a71a59992a4c6e7.jpg (deflated 15%)\n",
            "  adding: content/runs/detect/predict4/unguarded_level_crossing-1_jpg.rf.c65a4ea2b83e66097a0e44e9ab704bbf.jpg (deflated 37%)\n",
            "  adding: content/runs/detect/predict4/speed_limit_100-28_png_jpg.rf.e6164536e53eda682db04406d138b416.jpg (deflated 12%)\n",
            "  adding: content/runs/detect/predict4/school_ahead-41_jpg.rf.70b6a191291dfd056993d860b808e3f1.jpg (deflated 11%)\n",
            "  adding: content/runs/detect/predict4/pedestrian_crossing-60_jpg.rf.b32cf3d769f524e26e88b7012e7f3e5e.jpg (deflated 15%)\n",
            "  adding: content/runs/detect/predict4/compulsary_ahead-32_png_jpg.rf.2ca4b62ba7e45ae2538fb2b437a2b506.jpg (deflated 7%)\n",
            "  adding: content/runs/detect/predict4/speed_limit_30-56_png_jpg.rf.27b9874c1a571ac004cac6b6e657ab1a.jpg (deflated 7%)\n",
            "  adding: content/runs/detect/predict4/compulsary_turn_left_ahead-25_png_jpg.rf.94035a565bc1ca9dcee58831f3d58452.jpg (deflated 10%)\n",
            "  adding: content/runs/detect/predict4/stop-65_png_jpg.rf.f05a941d473132963f6408c23eccd81a.jpg (deflated 5%)\n",
            "  adding: content/runs/detect/predict4/cross_road-34_jpg.rf.6dd9fac790d58ffbfb2d78feafe15a65.jpg (deflated 6%)\n",
            "  adding: content/runs/detect/predict4/no_stopping_or_standing-36_jpg.rf.de7509b8c6b0fa015218f4d2d7193b8a.jpg (deflated 14%)\n",
            "  adding: content/runs/detect/predict4/quay_side_or_river_bank-10_jpg.rf.08c385bc856e88b2eb4fa4626a94e046.jpg (deflated 27%)\n",
            "  adding: content/runs/detect/predict4/width_limit-47_jpg.rf.65811b8ba6c1d5edb9c8be8a4234d01b.jpg (deflated 15%)\n",
            "  adding: content/runs/detect/predict4/no_stopping_or_standing-44_jpg.rf.af89fa3c2192362222819544d237e373.jpg (deflated 11%)\n",
            "  adding: content/runs/detect/predict4/road_widens_ahead-9_png_jpg.rf.111a0e47b4582a149aaf39c20830f1fc.jpg (deflated 19%)\n",
            "  adding: content/runs/detect/predict4/guarded_level_crossing-45_jpg.rf.08eb9c2fe64d0f79d63844456dea22cd.jpg (deflated 6%)\n",
            "  adding: content/runs/detect/predict4/right_turn_prohibited-37_jpg.rf.c5239cddaadb048a114bd70c8fb1b72e.jpg (deflated 6%)\n",
            "  adding: content/runs/detect/predict4/slippery_road-40_jpg.rf.17a106814591e7e499c51b9c29f9ef88.jpg (deflated 13%)\n",
            "  adding: content/runs/detect/predict4/narrow_road_ahead-17_jpg.rf.ea05c6b90816cc6a002faad895caad88.jpg (deflated 23%)\n",
            "  adding: content/runs/detect/predict4/y_intersection-42_jpeg_jpg.rf.1dcea636bd13bf7321aac2ee116a0c54.jpg (deflated 6%)\n",
            "  adding: content/runs/detect/predict4/u_turn-15_jpg.rf.9326b030c48c53d6a220846444e12078.jpg (deflated 5%)\n",
            "  adding: content/runs/detect/predict4/horn_prohibited-58_jpg.rf.e7b0550796bfd42aad7797502aeecf63.jpg (deflated 4%)\n",
            "  adding: content/runs/detect/predict4/axle_load_limit-66_jpg.rf.7d1633db28bee56484479dbdbb735d8c.jpg (deflated 11%)\n",
            "  adding: content/runs/detect/predict4/steep_ascent-38_jpg.rf.c52819cdaaaf3e53c6d4b4785b96e449.jpg (deflated 19%)\n",
            "  adding: content/runs/detect/predict4/right_reverse_bend-27_jpg.rf.7574bd4fd2f51d678e6f4673b536b63d.jpg (deflated 4%)\n",
            "  adding: content/runs/detect/predict4/horn_prohibited-23_jpg.rf.e801996fc0060d7adf12d87f6c298f5c.jpg (deflated 6%)\n",
            "  adding: content/runs/detect/predict4/hump_or_rough_road-48_jpg.rf.76476d9e1fdc444c8c1a47aaaeacd744.jpg (deflated 5%)\n",
            "  adding: content/runs/detect/predict4/compulsary_keep_left-32_jpg.rf.17c3630e0e181d52b9dd0e17432cb8ab.jpg (deflated 5%)\n",
            "  adding: content/runs/detect/predict4/t_intersection-22_jpeg_jpg.rf.0a823a457cdf9bf3c99b4d5a3edffcdc.jpg (deflated 17%)\n",
            "  adding: content/runs/detect/predict4/compulsary_ahead-26_png_jpg.rf.f96d477a5b9eee4a3d2db9c996c57c80.jpg (deflated 6%)\n",
            "  adding: content/runs/detect/predict4/compulsary_keep_right-37_png_jpg.rf.1ca1e5e1d28592f88a14ee01ac6dd342.jpg (deflated 9%)\n",
            "  adding: content/runs/detect/predict4/hump_or_rough_road-66_jpg.rf.69a939efe81cb456cb07db79e9a29df1.jpg (deflated 24%)\n",
            "  adding: content/runs/detect/predict4/horn_prohibited-25_jpg.rf.95e636e45b4cb7f22065ee2fdad6b6df.jpg (deflated 6%)\n",
            "  adding: content/runs/detect/predict4/narrow_bridge_ahead-70_jpg.rf.dced94d6ea153a3a5f7bdfae1c18c704.jpg (deflated 4%)\n",
            "  adding: content/runs/detect/predict4/compulsary_keep_left-59_jpg.rf.b95bc30067c2c2593d69f06b5b51aa39.jpg (deflated 20%)\n",
            "  adding: content/runs/detect/predict4/quay_side_or_river_bank-56_jpg.rf.7bf2966e7162452e7959c3c3878134b7.jpg (deflated 9%)\n",
            "  adding: content/runs/detect/predict4/all_motor_vehicle_prohibited-66_jpg.rf.7e592919a966a5410def44cf92785187.jpg (deflated 9%)\n",
            "  adding: content/runs/detect/predict4/compulsary_turn_left_ahead-16_png_jpg.rf.f224549c87292b9cc00674954a39c4af.jpg (deflated 6%)\n",
            "  adding: content/runs/detect/predict4/no_stopping_or_standing-40_jpg.rf.82acbade0be57f0d0aaf6e570d321b81.jpg (deflated 9%)\n",
            "  adding: content/runs/detect/predict4/school_ahead-25_jpg.rf.2fab5e67d7321f913e50a4dd9b34462a.jpg (deflated 32%)\n",
            "  adding: content/runs/detect/predict4/pass_either_side-1_png_jpg.rf.8b502e2f8da088e519dd45db4b89df5c.jpg (deflated 16%)\n",
            "  adding: content/runs/detect/predict4/u_turn-37_jpg.rf.8d539ba0df241c9aa02030f4c656b85e.jpg (deflated 10%)\n",
            "  adding: content/runs/detect/predict4/petrol_pump_ahead-16_jpeg_jpg.rf.04328d5f5e7b0e54bb8bdea0010ab8f2.jpg (deflated 5%)\n",
            "  adding: content/runs/detect/predict4/narrow_road_ahead-45_png_jpg.rf.4986b20912a63ef7cc32f780aa5bf905.jpg (deflated 6%)\n",
            "  adding: content/runs/detect/predict4/left_turn_prohibited-22_jpg.rf.b01451f8e4ea6197afe2f0199989cbbb.jpg (deflated 4%)\n",
            "  adding: content/runs/detect/predict4/school_ahead-52_jpg.rf.52db0cb05c5ccd5278901a1bec542f9f.jpg (deflated 5%)\n",
            "  adding: content/runs/detect/predict4/speed_limit_30-9_jpg.rf.e51812ae36fbcdb4448754d621fd9b9c.jpg (deflated 6%)\n",
            "  adding: content/runs/detect/predict4/right_turn_prohibited-28_jpg.rf.cfdbea5d462dc0550d6c1b300189e98a.jpg (deflated 4%)\n",
            "  adding: content/runs/detect/predict4/narrow_bridge_ahead-31_jpeg_jpg.rf.c6fbcb4b62c874ca583a105f76b4d3a9.jpg (deflated 5%)\n",
            "  adding: content/runs/detect/predict4/right_reverse_bend-34_jpg.rf.f9448cea932d4d68b7ab1df440319af0.jpg (deflated 5%)\n",
            "  adding: content/runs/detect/predict4/school_ahead-31_jpg.rf.1fbe8605a6a3b99f08572d7e3641b17c.jpg (deflated 12%)\n",
            "  adding: content/runs/detect/predict4/falling_rocks-28_jpeg_jpg.rf.c08e14cf1cf04ec12880f1fb00c3f64b.jpg (deflated 6%)\n",
            "  adding: content/runs/detect/predict4/hospital_ahead-7_jpg.rf.d988f2171a7bfda5f37b529316ffd203.jpg (deflated 6%)\n",
            "  adding: content/runs/detect/predict4/gap_in_median-26_jpg.rf.d7b8d71a7d5bb5367473d926f5ca2445.jpg (deflated 5%)\n",
            "  adding: content/runs/detect/predict4/speed_limit_30-26_png_jpg.rf.108006064b938065508d32838d708143.jpg (deflated 6%)\n",
            "  adding: content/runs/detect/predict4/compulsary_turn_right_ahead-56_jpg.rf.6ae6daddf963ee240bdab417a5b842ec.jpg (deflated 9%)\n",
            "  adding: content/runs/detect/predict4/give_way-67_jpg.rf.27e4492a16c31b4f40688b6a19a5eca8.jpg (deflated 6%)\n",
            "  adding: content/runs/detect/predict4/no_stopping_or_standing-10_jpg.rf.1e9795d4af878593eab8588c421156bb.jpg (deflated 10%)\n",
            "  adding: content/runs/detect/predict4/school_ahead-34_jpg.rf.c33ff774b5cbb969aa67a6711afd0a77.jpg (deflated 13%)\n",
            "  adding: content/runs/detect/predict4/narrow_bridge_ahead-5_png_jpg.rf.7133732f2ba758aab14b291300c052ec.jpg (deflated 23%)\n",
            "  adding: content/runs/detect/predict4/left_turn_prohibited-23_jpg.rf.a82ebe3aa797e88d8ff01874592d5d24.jpg (deflated 4%)\n",
            "  adding: content/runs/detect/predict4/no_parking-0_jpg.rf.bedc90a64ec079815969cef6ff6e7ba1.jpg (deflated 6%)\n",
            "  adding: content/runs/detect/predict4/narrow_road_ahead-43_png_jpg.rf.613523d4946b5e11caad64660fa85a06.jpg (deflated 6%)\n",
            "  adding: content/runs/detect/predict4/side_road_right-35_jpg.rf.550c048c321f0decc8dd94966291d3e7.jpg (deflated 15%)\n",
            "  adding: content/runs/detect/predict4/school_ahead-23_jpg.rf.7fac9d7070c57e25b1e0ad8c8bc9a88c.jpg (deflated 25%)\n",
            "  adding: content/runs/detect/predict4/right_hand_curve-31_jpg.rf.9a12843569f66e1047f5c729f86d02ca.jpg (deflated 34%)\n",
            "  adding: content/runs/detect/predict4/axle_load_limit-54_jpg.rf.f377ad18e584e40925e0ffa0980ca55e.jpg (deflated 14%)\n",
            "  adding: content/runs/detect/predict4/narrow_bridge_ahead-19_jpg.rf.a342e4937978b36024c1f9229b8a8334.jpg (deflated 9%)\n",
            "  adding: content/runs/detect/predict4/restriction_ends-5_jpeg_jpg.rf.8b7ac73100e289a9f13293aa80e990d8.jpg (deflated 4%)\n",
            "  adding: content/runs/detect/predict4/u_turn_prohibited-24_jpg.rf.293b467b542a999031a4e0e8642a236a.jpg (deflated 17%)\n",
            "  adding: content/runs/detect/predict4/stop-43_png_jpg.rf.f0f69f90c2d80b451e35673d3d261989.jpg (deflated 6%)\n",
            "  adding: content/runs/detect/predict4/right_turn_prohibited-5_jpg.rf.a1bb5108f9e4dacdc7aa12d226bb9c17.jpg (deflated 4%)\n",
            "  adding: content/runs/detect/predict4/slippery_road-57_jpg.rf.b908caf1c3b2b62e49ce907c56540a60.jpg (deflated 29%)\n",
            "  adding: content/runs/detect/predict4/narrow_road_ahead-39_png_jpg.rf.93847472f84080211750d70b43a9485e.jpg (deflated 6%)\n",
            "  adding: content/runs/detect/predict4/speed_limit_30-30_png_jpg.rf.4ef9506db0cebf8ebc1560f1ff00119c.jpg (deflated 5%)\n",
            "  adding: content/runs/detect/predict4/all_motor_vehicle_prohibited-45_jpg.rf.c63511dd3748bf0c1e883ca6c00b71df.jpg (deflated 12%)\n",
            "  adding: content/runs/detect/predict4/road_widens_ahead-35_jpeg_jpg.rf.690fbd459cba597e590b6f894eca3178.jpg (deflated 19%)\n",
            "  adding: content/runs/detect/predict4/compulsary_ahead-1_png_jpg.rf.1e82c3c4965ff231ae06117a90e6ee10.jpg (deflated 7%)\n",
            "  adding: content/runs/detect/predict4/left_turn_prohibited-68_jpg.rf.ff23148133759a7423e9aa3903564b26.jpg (deflated 6%)\n",
            "  adding: content/runs/detect/predict4/axle_load_limit-11_jpeg_jpg.rf.40f629e95f44e4ced71c08feaa9a4469.jpg (deflated 14%)\n",
            "  adding: content/runs/detect/predict4/speed_limit_30-39_png_jpg.rf.6ccef5d61620a91d391c192bd6113b1b.jpg (deflated 10%)\n",
            "  adding: content/runs/detect/predict4/compulsary_turn_right_ahead-49_png_jpg.rf.73bab253d9d14871b509c90c21bf8d4d.jpg (deflated 6%)\n",
            "  adding: content/runs/detect/predict4/all_motor_vehicle_prohibited-17_jpg.rf.e85ea0aeb559ca9a1e63080ef432614b.jpg (deflated 12%)\n",
            "  adding: content/runs/detect/predict4/compulsary_keep_right-0_jpg.rf.33f8a8d1a39cad3f6864989f516903a8.jpg (deflated 12%)\n",
            "  adding: content/runs/detect/predict4/pass_either_side-55_jpg.rf.619df516fab0266f8ea60b4d48ef41d0.jpg (deflated 12%)\n",
            "  adding: content/runs/detect/predict4/width_limit-1_jpeg_jpg.rf.db6fba8d55b7cdeda26dd9221b466228.jpg (deflated 12%)\n",
            "  adding: content/runs/detect/predict4/falling_rocks-63_jpg.rf.c0baac30567f0b273386612ac17541d4.jpg (deflated 40%)\n",
            "  adding: content/runs/detect/predict4/speed_limit_50-30_png_jpg.rf.04c4063c8992ab8e69a84677dcb939ca.jpg (deflated 4%)\n",
            "  adding: content/runs/detect/predict4/u_turn_prohibited-1_jpg.rf.28bb37db04fc8c8fc449fbf490094d92.jpg (deflated 5%)\n",
            "  adding: content/runs/detect/predict4/quay_side_or_river_bank-26_jpg.rf.ae509f9f3d731c823dafcc0bfc08c7ac.jpg (deflated 6%)\n",
            "  adding: content/runs/detect/predict4/slippery_road-43_png_jpg.rf.0c0da230bb4a2fe5e0bfc42657f51235.jpg (deflated 10%)\n",
            "  adding: content/runs/detect/predict4/dangerous_dip-12_jpg.rf.404e6e9d6a8855e7fac188d05e776c7a.jpg (deflated 18%)\n",
            "  adding: content/runs/detect/predict4/right_reverse_bend-2_png_jpg.rf.0e817819149bf49cb8efce8522a372ba.jpg (deflated 12%)\n",
            "  adding: content/runs/detect/predict4/right_turn_prohibited-24_jpg.rf.34962ad3c4191068844a7f453462bbf6.jpg (deflated 5%)\n",
            "  adding: content/runs/detect/predict4/no_stopping_or_standing-15_jpg.rf.5b97984633396ebdaee7181f332044c4.jpg (deflated 9%)\n",
            "  adding: content/runs/detect/predict4/hump_or_rough_road-19_jpg.rf.494a1f8a91200ea274722f9fa8f43575.jpg (deflated 6%)\n",
            "  adding: content/runs/detect/predict4/petrol_pump_ahead-38_jpg.rf.42e2ae2356b13c2f813c861d1ae24c85.jpg (deflated 8%)\n",
            "  adding: content/runs/detect/predict4/axle_load_limit-38_jpg.rf.afdd5e7038e44457ff8b9523b3082ab3.jpg (deflated 10%)\n",
            "  adding: content/runs/detect/predict4/narrow_bridge_ahead-69_jpg.rf.708db688c28b04c9af26690a5f49c4b8.jpg (deflated 7%)\n",
            "  adding: content/runs/detect/predict4/compulsary_turn_left_ahead-3_png_jpg.rf.4d2cf5db2f0be4fc06676b9e184995f3.jpg (deflated 6%)\n",
            "  adding: content/runs/detect/predict4/left_turn_prohibited-30_jpg.rf.1e3434fd5687b34616c0b8944a93e915.jpg (deflated 11%)\n",
            "  adding: content/runs/detect/predict4/restriction_ends-42_png_jpg.rf.c5482eb88c1b37bc103e03c38ab89fef.jpg (deflated 12%)\n",
            "  adding: content/runs/detect/predict4/loose_gravel-23_jpeg_jpg.rf.80dce1c3e7198e79f94379182e784d91.jpg (deflated 18%)\n",
            "  adding: content/runs/detect/predict4/speed_limit_100-12_png_jpg.rf.889fd42fe6772894299e6478af3d93f2.jpg (deflated 16%)\n",
            "  adding: content/runs/detect/predict4/no_parking-70_jpg.rf.067e80f2df0611973cf1caaf642edb98.jpg (deflated 5%)\n",
            "  adding: content/runs/detect/predict4/stop-15_jpg.rf.5daf741f85474aff224ac61bdbb868cb.jpg (deflated 4%)\n",
            "  adding: content/runs/detect/predict4/side_road_left-59_jpg.rf.3804b742ebb5483073f239e0c34b3f8b.jpg (deflated 7%)\n",
            "  adding: content/runs/detect/predict4/all_motor_vehicle_prohibited-29_jpg.rf.2f00c3b900596a056fecb1a4397bf975.jpg (deflated 14%)\n",
            "  adding: content/runs/detect/predict4/gap_in_median-43_jpg.rf.2b57d07864489e8d7d4f910f3e3d2e6a.jpg (deflated 8%)\n",
            "  adding: content/runs/detect/predict4/t_intersection-36_jpg.rf.5807e5474fc3946275cb95f5c9051963.jpg (deflated 7%)\n",
            "  adding: content/runs/detect/predict4/hospital_ahead-59_jpg.rf.f1467d3f5b3bf9f9862e665e386513d7.jpg (deflated 18%)\n",
            "  adding: content/runs/detect/predict4/no_stopping_or_standing-4_jpg.rf.8bf024dd4fc99f20bcd7aedb24d9f259.jpg (deflated 11%)\n",
            "  adding: content/runs/detect/predict4/speed_limit_50-24_png_jpg.rf.9bb5ba6d06b9c004c0a46d7cb73ed08e.jpg (deflated 10%)\n",
            "  adding: content/runs/detect/predict4/hospital_ahead-47_jpeg_jpg.rf.115f9c9289a273e6fb9158ec54e4ca7f.jpg (deflated 26%)\n",
            "  adding: content/runs/detect/predict4/compulsary_ahead-36_png_jpg.rf.31fe8b2e69d322a5149b33d8ae0acc16.jpg (deflated 4%)\n",
            "  adding: content/runs/detect/predict4/left_turn_prohibited-26_jpg.rf.3893b4978f313b3b9ed9d07eb4de0440.jpg (deflated 4%)\n",
            "  adding: content/runs/detect/predict4/falling_rocks-32_jpeg_jpg.rf.807df4caca26e2b92d1eaf4fe16dcfab.jpg (deflated 5%)\n",
            "  adding: content/runs/detect/predict4/loose_gravel-8_jpeg_jpg.rf.a8d2922e0ce15cdeb30a00ac94993975.jpg (deflated 10%)\n",
            "  adding: content/runs/detect/predict4/stop-42_png_jpg.rf.07a5bc887c00807ad2d5b0c2a15737eb.jpg (deflated 14%)\n",
            "  adding: content/runs/detect/predict4/u_turn-50_jpg.rf.7b3cd4e6df99bf6e712707ef9acf8e19.jpg (deflated 5%)\n",
            "  adding: content/runs/detect/predict4/school_ahead-19_jpg.rf.bdb94908420c7012cf284e85e0454daa.jpg (deflated 31%)\n",
            "  adding: content/runs/detect/predict4/dangerous_dip-15_jpg.rf.1dd533dc155e1133fea1e5ad39172a20.jpg (deflated 16%)\n",
            "  adding: content/runs/detect/predict4/all_motor_vehicle_prohibited-32_jpg.rf.c06b0ecc20d8eb809b2cc212245749eb.jpg (deflated 14%)\n",
            "  adding: content/runs/detect/predict4/right_hand_curve-50_png_jpg.rf.aed2c97a93f43d4978c87f40ebc4dc48.jpg (deflated 10%)\n",
            "  adding: content/runs/detect/predict4/give_way-4_png_jpg.rf.63c4e3db74164f9604823269e616ff03.jpg (deflated 5%)\n",
            "  adding: content/runs/detect/predict4/side_road_right-8_jpeg_jpg.rf.0a04ab1fcc145fb7cc3b020ae9781c13.jpg (deflated 15%)\n",
            "  adding: content/runs/detect/predict4/horn_prohibited-5_jpg.rf.fa95b6428fc6e59fc9aed5c8a529de99.jpg (deflated 13%)\n",
            "  adding: content/runs/detect/predict4/narrow_road_ahead-46_png_jpg.rf.151583be08ea0b247a9c8593b52c12c9.jpg (deflated 12%)\n",
            "  adding: content/runs/detect/predict4/width_limit-23_jpeg_jpg.rf.6958169aaf54fcde574e4936190f3ce6.jpg (deflated 4%)\n",
            "  adding: content/runs/detect/predict4/narrow_bridge_ahead-9_jpeg_jpg.rf.8145d9b4022819782e1aa487935d8562.jpg (deflated 5%)\n",
            "  adding: content/runs/detect/predict4/narrow_bridge_ahead-73_jpg.rf.1d4e5873b8f96a79e6054e6ffd073587.jpg (deflated 7%)\n",
            "  adding: content/runs/detect/predict4/steep_descent-28_jpg.rf.269a3eae0434cb5774d74d07f81b76a0.jpg (deflated 11%)\n",
            "  adding: content/runs/detect/predict4/compulsary_keep_left-45_png_jpg.rf.1a8beb01aa60a2c3612221464ebee60f.jpg (deflated 20%)\n",
            "  adding: content/runs/detect/predict4/y_intersection-23_jpeg_jpg.rf.561299fd72e255b9353c364de33d7d14.jpg (deflated 4%)\n",
            "  adding: content/runs/detect/predict4/loose_gravel-6_jpeg_jpg.rf.1be27caa60be2a66e7db4eb6764d12d1.jpg (deflated 4%)\n",
            "  adding: content/runs/detect/predict4/overtaking_prohibited-48_jpg.rf.bae9c65d8e33cd0e73a6623aaccf336c.jpg (deflated 4%)\n",
            "  adding: content/runs/detect/predict4/men_at_work-3_jpeg_jpg.rf.70816d23cd0dad0ee264cf50731a6427.jpg (deflated 11%)\n",
            "  adding: content/runs/detect/predict4/falling_rocks-58_jpg.rf.9a58087922318cd68253db2c74816341.jpg (deflated 39%)\n",
            "  adding: content/runs/detect/predict4/slippery_road-49_png_jpg.rf.a39b337bf26684197719a6ed13f78d9b.jpg (deflated 22%)\n",
            "  adding: content/runs/detect/predict4/compulsary_ahead-12_png_jpg.rf.f06101a77178ee2f1bdc84de374f239b.jpg (deflated 7%)\n",
            "  adding: content/runs/detect/predict4/all_motor_vehicle_prohibited-57_jpg.rf.9220c2ff8540270ce6e85af152e73144.jpg (deflated 10%)\n",
            "  adding: content/runs/detect/predict4/right_turn_prohibited-45_jpg.rf.22c515a11203e13bf4c2029c41553e09.jpg (deflated 11%)\n",
            "  adding: content/runs/detect/predict4/speed_limit_50-32_png_jpg.rf.b7feb1f32ac0edbadd894ad030ffb6d8.jpg (deflated 4%)\n",
            "  adding: content/runs/detect/predict4/all_motor_vehicle_prohibited-36_png_jpg.rf.2a4904d244290e03b50f7a31f0a18d75.jpg (deflated 15%)\n",
            "  adding: content/runs/detect/predict4/narrow_road_ahead-33_jpg.rf.49d542fcb6275f90ca7d470d9e17ea3a.jpg (deflated 21%)\n",
            "  adding: content/runs/detect/predict4/hump_or_rough_road-64_jpg.rf.6aba98d7f63b600cbb704d3be4194f06.jpg (deflated 5%)\n",
            "  adding: content/runs/detect/predict4/left_reverse_bend-12_png_jpg.rf.cf92fb75d088e636a003b7f58a5a13a5.jpg (deflated 9%)\n",
            "  adding: content/runs/detect/predict4/left_turn_prohibited-4_jpg.rf.ba6cc68fdb1cc85c1b6f9fc2657c5de7.jpg (deflated 5%)\n",
            "  adding: content/runs/detect/predict4/cross_road-5_jpg.rf.456ab0316bb4a710fa6d3e49b3b6185d.jpg (deflated 7%)\n",
            "  adding: content/runs/detect/predict4/hump_or_rough_road-15_jpg.rf.fff1669097e301fe7b8040828e55bc07.jpg (deflated 5%)\n",
            "  adding: content/runs/detect/predict4/right_reverse_bend-45_jpg.rf.eca202ade351f71d16746e6709748bd0.jpg (deflated 17%)\n",
            "  adding: content/runs/detect/predict4/overtaking_prohibited-6_jpeg_jpg.rf.a3fa21c72422ca7b077e2be42f2654fe.jpg (deflated 10%)\n",
            "  adding: content/runs/detect/predict4/narrow_bridge_ahead-32_jpg.rf.96219b746280ac8a413dd6a000fbae64.jpg (deflated 19%)\n",
            "  adding: content/runs/detect/predict4/speed_limit_30-7_jpg.rf.5e8b4594a9f4f0644a17d0d7729db140.jpg (deflated 10%)\n",
            "  adding: content/runs/detect/predict4/unguarded_level_crossing-9_png_jpg.rf.1f99eb4ae003a547beaaff3a66c7414b.jpg (deflated 28%)\n",
            "  adding: content/runs/detect/predict4/men_at_work-48_png_jpg.rf.e378083dc6fbf218d1cfd01b062a0032.jpg (deflated 8%)\n",
            "  adding: content/runs/detect/predict4/u_turn_prohibited-36_jpg.rf.cb5a56c9fb7bce8f5762a0bc19152748.jpg (deflated 10%)\n",
            "  adding: content/runs/detect/predict4/restriction_ends-21_png_jpg.rf.a20c6dcc9bff098a926d3f383cf1d174.jpg (deflated 11%)\n",
            "  adding: content/runs/detect/predict4/guarded_level_crossing-16_jpg.rf.628e780ffce6aec18aba947b12ce6fca.jpg (deflated 7%)\n",
            "  adding: content/runs/detect/predict4/petrol_pump_ahead-36_jpeg_jpg.rf.3eb8e87290927d0860555c7e55e618de.jpg (deflated 5%)\n",
            "  adding: content/runs/detect/predict4/speed_limit_30-24_png_jpg.rf.1974aa0f1ce6ec7dfaa609468d1686be.jpg (deflated 8%)\n",
            "  adding: content/runs/detect/predict4/petrol_pump_ahead-46_jpg.rf.c5f178107948fc641fcd8fabf673420f.jpg (deflated 13%)\n",
            "  adding: content/runs/detect/predict4/hospital_ahead-9_jpg.rf.8879c3639d7f5d65ac2d68719b8f4ae6.jpg (deflated 44%)\n",
            "  adding: content/runs/detect/predict4/compulsary_turn_left_ahead-42_png_jpg.rf.78fc3f78c6aecf53743afb6178f25c98.jpg (deflated 5%)\n",
            "  adding: content/runs/detect/predict4/left_hand_curve-64_jpg.rf.7c8ccf5a1fc4f4fcd6e7279351684a9d.jpg (deflated 5%)\n",
            "  adding: content/runs/detect/predict4/left_reverse_bend-54_jpg.rf.33a95c4724f6ab4305e992b5c5e9c9ba.jpg (deflated 6%)\n",
            "  adding: content/runs/detect/predict4/falling_rocks-54_jpeg_jpg.rf.f7d70f5e47e27ce182491c716e38d500.jpg (deflated 5%)\n",
            "  adding: content/runs/detect/predict4/slippery_road-6_jpg.rf.ab1d1fc50c54dc53b23c43aa0738b9ac.jpg (deflated 8%)\n",
            "  adding: content/runs/detect/predict4/right_turn_prohibited-3_jpg.rf.f9c8a3bbdb006e951879a57a21588409.jpg (deflated 4%)\n",
            "  adding: content/runs/detect/predict4/loose_gravel-25_jpeg_jpg.rf.39bb93906725dabe321f51e76e3e48f2.jpg (deflated 16%)\n",
            "  adding: content/runs/detect/predict4/right_hand_curve-6_jpg.rf.0c9fef9774eddc1e26bd945b662720fd.jpg (deflated 9%)\n",
            "  adding: content/runs/detect/predict4/height_limit-21_jpg.rf.409e519e41ec1717b6f09d06ef08e482.jpg (deflated 22%)\n",
            "  adding: content/runs/detect/predict4/guarded_level_crossing-29_png_jpg.rf.767a3fc3611f6e2de94e38d36dbb092d.jpg (deflated 24%)\n",
            "  adding: content/runs/detect/predict4/left_turn_prohibited-7_jpg.rf.e05721c7a300678c9e299e551ff38a90.jpg (deflated 4%)\n",
            "  adding: content/runs/detect/predict4/restriction_ends-1_jpeg_jpg.rf.1712038b7cac0c12f8545ba70431bac1.jpg (deflated 5%)\n",
            "  adding: content/runs/detect/predict4/hospital_ahead-56_jpg.rf.8204f4f324531224b8e1085aa94509e0.jpg (deflated 5%)\n",
            "  adding: content/runs/detect/predict4/gap_in_median-17_jpg.rf.eeb28502b2f3ffb510f3991f6b12553b.jpg (deflated 6%)\n",
            "  adding: content/runs/detect/predict4/cross_road-39_jpg.rf.0072698310813cd19c4683cb233821a4.jpg (deflated 6%)\n",
            "  adding: content/runs/detect/predict4/quay_side_or_river_bank-64_png_jpg.rf.705f7b8c5868052a945f6ec96a364227.jpg (deflated 25%)\n",
            "  adding: content/runs/detect/predict4/t_intersection-20_png_jpg.rf.75d6bb63f85c4bf70314c34ed02325b2.jpg (deflated 30%)\n",
            "  adding: content/runs/detect/predict4/pass_either_side-54_jpg.rf.22366fcd1babbe3974f1ca0e4e292ac8.jpg (deflated 6%)\n",
            "  adding: content/runs/detect/predict4/side_road_right-45_jpg.rf.bb60facc7a6b98d7d802aa62899587a9.jpg (deflated 5%)\n",
            "  adding: content/runs/detect/predict4/speed_limit_50-0_jpg.rf.bdd77960e0080c5605ae3b8ab53cdccf.jpg (deflated 5%)\n",
            "  adding: content/runs/detect/predict4/give_way-10_png_jpg.rf.b1ba0cabb92a26bb8865b843cb49ff99.jpg (deflated 7%)\n",
            "  adding: content/runs/detect/predict4/stop-46_png_jpg.rf.33c22f40886833e10504d593aaac5dae.jpg (deflated 15%)\n",
            "  adding: content/runs/detect/predict4/all_motor_vehicle_prohibited-33_JPG_jpg.rf.4a00ba9f63145c6a8dd9e4075df18df0.jpg (deflated 4%)\n",
            "  adding: content/runs/detect/predict4/staggered_intersection-26_png_jpg.rf.1e87d718c47150929391af9ab172ce02.jpg (deflated 11%)\n",
            "  adding: content/runs/detect/predict4/compulsary_keep_left-11_jpg.rf.da650f1d3948aeee2e59f9ca7226debd.jpg (deflated 5%)\n",
            "  adding: content/runs/detect/predict4/speed_limit_100-47_png_jpg.rf.2cc4cae83ba79fc00faba924bfa5e615.jpg (deflated 7%)\n",
            "  adding: content/runs/detect/predict4/narrow_road_ahead-65_png_jpg.rf.74240b338e7521f990656c542abfc6f9.jpg (deflated 11%)\n",
            "  adding: content/runs/detect/predict4/horn_prohibited-54_jpg.rf.34ecbdfec3e8c3c3487a3009fe81d7fb.jpg (deflated 4%)\n",
            "  adding: content/runs/detect/predict4/left_hand_curve-30_jpg.rf.0142ae05bbba3cd71d474833af9ffd79.jpg (deflated 5%)\n",
            "  adding: content/runs/detect/predict4/no_entry-18_jpg.rf.7e85607cd7bdb643aa6eacf4634f7b8a.jpg (deflated 4%)\n",
            "  adding: content/runs/detect/predict4/right_reverse_bend-48_jpg.rf.7d6ce8d4ee6acb31c94b7084112507d8.jpg (deflated 35%)\n",
            "  adding: content/runs/detect/predict4/gap_in_median-32_jpg.rf.6cceed81ecdae03a52984321c90e4ca6.jpg (deflated 5%)\n",
            "  adding: content/runs/detect/predict4/side_road_right-4_png_jpg.rf.db86eea7699b2997dea2cb673f1bac61.jpg (deflated 32%)\n",
            "  adding: content/runs/detect/predict4/compulsary_keep_left-6_jpg.rf.09119277178dd7e289febe59a4452182.jpg (deflated 6%)\n",
            "  adding: content/runs/detect/predict4/no_entry-50_jpg.rf.fc5a28e5335bca388523c288fa1944b5.jpg (deflated 11%)\n",
            "  adding: content/runs/detect/predict4/no_stopping_or_standing-33_jpg.rf.3c19320f6dd8ee46e3d4c43ef6c5ed04.jpg (deflated 10%)\n",
            "  adding: content/runs/detect/predict4/no_entry-37_png_jpg.rf.23c5fcd95439e121b2c1a89a7d53fd8c.jpg (deflated 6%)\n",
            "  adding: content/runs/detect/predict4/hospital_ahead-29_png_jpg.rf.32395d31ef0df241b97aced503919470.jpg (deflated 34%)\n",
            "  adding: content/runs/detect/predict4/compulsary_keep_left-33_jpg.rf.3f77a2f2e2a8a5c071196d1971b3fe6f.jpg (deflated 8%)\n",
            "  adding: content/runs/detect/predict4/left_hand_curve-23_jpg.rf.946c5ac968bd2e9f65b8b38b2c703849.jpg (deflated 18%)\n",
            "  adding: content/runs/detect/predict4/falling_rocks-24_jpeg_jpg.rf.8d2e99c5426c2e28bf0aa7065ad7ef25.jpg (deflated 5%)\n",
            "  adding: content/runs/detect/predict4/straight_prohibited-19_jpg.rf.2fe23660bbd0d014b176ce7cabc2ad6f.jpg (deflated 13%)\n",
            "  adding: content/runs/detect/predict4/u_turn-7_jpg.rf.68d154d23b27017f3b22d34ffb1a74c3.jpg (deflated 11%)\n",
            "  adding: content/runs/detect/predict4/school_ahead-53_png_jpg.rf.504ceb95937611b677dd32ac82b7c1d5.jpg (deflated 6%)\n",
            "  adding: content/runs/detect/predict4/all_motor_vehicle_prohibited-55_jpg.rf.1ff5f4c0024a7c0341338d569af1dc39.jpg (deflated 5%)\n",
            "  adding: content/runs/detect/predict4/give_way-17_png_jpg.rf.6d30861030ba12b0ecafc4d8bebacd6d.jpg (deflated 11%)\n",
            "  adding: content/runs/detect/predict4/compulsary_turn_left_ahead-54_png_jpg.rf.478cf85f5395c2aa0ee4a7e2f9c85ac3.jpg (deflated 21%)\n",
            "  adding: content/runs/detect/predict4/left_reverse_bend-21_jpg.rf.eb22423dd925ac40f7a1fa2327454996.jpg (deflated 6%)\n",
            "  adding: content/runs/detect/predict4/compulsary_turn_left_ahead-34_png_jpg.rf.c7bbfdf6566b702f763600c50c300af9.jpg (deflated 5%)\n",
            "  adding: content/runs/detect/predict4/petrol_pump_ahead-52_jpg.rf.0e64fe5b18ed2291c84163c0369c4094.jpg (deflated 5%)\n",
            "  adding: content/runs/detect/predict4/dangerous_dip-6_png_jpg.rf.970e75f2a805cd14bb84164e8a1f5a7b.jpg (deflated 30%)\n",
            "  adding: content/runs/detect/predict4/right_reverse_bend-21_jpg.rf.f4294d78ab1b215501b26f7794e648c2.jpg (deflated 10%)\n",
            "  adding: content/runs/detect/predict4/speed_limit_100-17_png_jpg.rf.213929ff00b43bcc2c2a0c2a7723250d.jpg (deflated 6%)\n",
            "  adding: content/runs/detect/predict4/quay_side_or_river_bank-7_jpg.rf.f93d9ddbd8269c4a5538f84ab6aa9d0f.jpg (deflated 23%)\n",
            "  adding: content/runs/detect/predict4/staggered_intersection-48_jpg.rf.65e32ec07dbce5f440183425304d189b.jpg (deflated 21%)\n",
            "  adding: content/runs/detect/predict4/roundabout-26_png_jpg.rf.c264f3fe2c4afbacef0ee919844dc49f.jpg (deflated 6%)\n",
            "  adding: content/runs/detect/predict4/restriction_ends-61_png_jpg.rf.d198097af85b847ec9f8fb9799d7b91f.jpg (deflated 8%)\n",
            "  adding: content/runs/detect/predict4/hump_or_rough_road-2_jpg.rf.f055ebeee70c4fe530ef148ab8b87772.jpg (deflated 18%)\n",
            "  adding: content/runs/detect/predict4/t_intersection-40_jpg.rf.128d67c91abf1bac7911831c7894c1ae.jpg (deflated 19%)\n",
            "  adding: content/runs/detect/predict4/speed_limit_50-39_png_jpg.rf.014da7b23539d7a8c6a71ca42d1c67a1.jpg (deflated 11%)\n",
            "  adding: content/runs/detect/predict4/men_at_work-52_png_jpg.rf.4aabb90d72bfb60d76701ddda99570a2.jpg (deflated 7%)\n",
            "  adding: content/runs/detect/predict4/speed_limit_50-5_jpg.rf.2f504c797327ece3c2cf47090662a188.jpg (deflated 4%)\n",
            "  adding: content/runs/detect/predict4/all_motor_vehicle_prohibited-18_jpg.rf.b8a03b7e63dc2e508ab6e1272ece5e4d.jpg (deflated 6%)\n",
            "  adding: content/runs/detect/predict4/compulsary_turn_left_ahead-14_png_jpg.rf.c8c5df6721ee783c8da8fa58e2479610.jpg (deflated 7%)\n",
            "  adding: content/runs/detect/predict4/side_road_left-17_jpg.rf.032268c51f150ce602a5ca3e7f786ada.jpg (deflated 28%)\n",
            "  adding: content/runs/detect/predict4/u_turn_prohibited-29_jpg.rf.4fbf7748d4d121ddf576f798a346ce47.jpg (deflated 10%)\n",
            "  adding: content/runs/detect/predict4/side_road_right-0_jpg.rf.2ff48c63e005e16c66e62fe1588af1ba.jpg (deflated 23%)\n",
            "  adding: content/runs/detect/predict4/compulsary_ahead-37_png_jpg.rf.df00f4e19891d4742ab850e24da42b81.jpg (deflated 7%)\n",
            "  adding: content/runs/detect/predict4/left_turn_prohibited-15_jpg.rf.6ccbe41e079a8f5585323123e08cd25e.jpg (deflated 4%)\n",
            "  adding: content/runs/detect/predict4/left_reverse_bend-27_png_jpg.rf.e189df4db4eb15fc153c71909bd01f81.jpg (deflated 5%)\n",
            "  adding: content/runs/detect/predict4/no_parking-72_jpg.rf.3f85296da991dd5c9c07536cd7a3235b.jpg (deflated 7%)\n",
            "  adding: content/runs/detect/predict4/u_turn-59_jpg.rf.1a5d46210eb5835a1c7269a26050b80f.jpg (deflated 9%)\n",
            "  adding: content/runs/detect/predict4/roundabout-49_png_jpg.rf.c6c2991c2c703e329931a0ede8792932.jpg (deflated 8%)\n",
            "  adding: content/runs/detect/predict4/no_parking-46_jpg.rf.9308eda53ee17cb71b52b8183ac6b5c4.jpg (deflated 13%)\n",
            "  adding: content/runs/detect/predict4/left_turn_prohibited-21_jpg.rf.3e63ae9de47b4caed61c5b4cc7c26ec1.jpg (deflated 4%)\n",
            "  adding: content/runs/detect/predict4/loose_gravel-13_jpeg_jpg.rf.561795050676636e4c8375c4fed712de.jpg (deflated 7%)\n",
            "  adding: content/runs/detect/predict4/pass_either_side-44_jpeg_jpg.rf.d8c8647cc7a768bf87ab3699e58f44f8.jpg (deflated 9%)\n",
            "  adding: content/runs/detect/predict4/road_widens_ahead-44_jpg.rf.3ff92e52ecdfdee71d7f09716d76f018.jpg (deflated 25%)\n",
            "  adding: content/runs/detect/predict4/pass_either_side-47_jpg.rf.81bc8b498c153aa9893cc1df1d2a788c.jpg (deflated 8%)\n",
            "  adding: content/runs/detect/predict4/narrow_road_ahead-19_jpg.rf.1cdc59c4157b57702a33d31220e56715.jpg (deflated 7%)\n",
            "  adding: content/runs/detect/predict4/roundabout-23_jpg.rf.8502dfe9987ba4b5002e3f7a0fe4aaab.jpg (deflated 5%)\n",
            "  adding: content/runs/detect/predict4/no_stopping_or_standing-1_jpeg_jpg.rf.a2719c085c22e128c0b53c09e8cc0a2b.jpg (deflated 8%)\n",
            "  adding: content/runs/detect/predict4/school_ahead-37_jpg.rf.ec85275d1d3b2b0314eda0c9ab34a410.jpg (deflated 5%)\n",
            "  adding: content/runs/detect/predict4/pedestrian_crossing-51_png_jpg.rf.b8e2d42c2ca797b2428ef67e5469c070.jpg (deflated 14%)\n",
            "  adding: content/runs/detect/predict4/right_hand_curve-30_jpg.rf.d6be22cdd78b99e54caa7755d809d7ca.jpg (deflated 6%)\n",
            "  adding: content/runs/detect/predict4/compulsary_keep_left-5_jpg.rf.2ac24da89ea8f3a5cf6a43af65af9185.jpg (deflated 19%)\n",
            "  adding: content/runs/detect/predict4/left_turn_prohibited-20_jpg.rf.40df4d6256cee87cc442d815532a3c63.jpg (deflated 4%)\n",
            "  adding: content/runs/detect/predict4/hump_or_rough_road-16_jpg.rf.183a74f3777b244278437857eb70989f.jpg (deflated 21%)\n",
            "  adding: content/runs/detect/predict4/roundabout-11_jpg.rf.346297d99b84d71ba4ddcccaa61885d3.jpg (deflated 19%)\n",
            "  adding: content/runs/detect/predict4/guarded_level_crossing-56_jpg.rf.f35439c45b05af7173d4779ef906b134.jpg (deflated 18%)\n",
            "  adding: content/runs/detect/predict4/petrol_pump_ahead-23_jpeg_jpg.rf.a59d7b218ec4755dbdb88563dbaa6085.jpg (deflated 9%)\n",
            "  adding: content/runs/detect/predict4/left_reverse_bend-56_jpg.rf.4d3443768b8ab798edb40f0bde670a7d.jpg (deflated 6%)\n",
            "  adding: content/runs/detect/predict4/right_turn_prohibited-17_jpg.rf.63cd85c77b9e74265905222dd414a831.jpg (deflated 4%)\n",
            "  adding: content/runs/detect/predict4/no_parking-5_jpg.rf.4f23d4879e3fb19314927cdebaf6f2c9.jpg (deflated 4%)\n",
            "  adding: content/runs/detect/predict4/speed_limit_50-18_png_jpg.rf.394cfc9c56f0d6eae561f98229f153fc.jpg (deflated 4%)\n",
            "  adding: content/runs/detect/predict4/no_parking-28_jpeg_jpg.rf.ca3040f50893046ca6f3ebd2ba91f452.jpg (deflated 4%)\n",
            "  adding: content/runs/detect/predict4/pedestrian_crossing-36_png_jpg.rf.b2155e799067ce5fd369d66494db5951.jpg (deflated 5%)\n",
            "  adding: content/runs/detect/predict4/left_reverse_bend-14_png_jpg.rf.85b6e9c55f3c8e1acd8c2c0c6338dcb9.jpg (deflated 9%)\n",
            "  adding: content/runs/detect/predict4/dangerous_dip-26_jpeg_jpg.rf.3e00b9bfd10c3db289039fa8ef60b47b.jpg (deflated 5%)\n",
            "  adding: content/runs/detect/predict4/speed_limit_30-31_png_jpg.rf.33bf71d2fbe1a0e8abd051f7e6424b95.jpg (deflated 5%)\n",
            "  adding: content/runs/detect/predict4/straight_prohibited-28_jpg.rf.cc4d498c1cf1aea6f5ddffbec88c03ec.jpg (deflated 11%)\n",
            "  adding: content/runs/detect/predict4/no_parking-16_jpg.rf.2166ca0f2b6263d26075b0d83528f146.jpg (deflated 4%)\n",
            "  adding: content/runs/detect/predict4/quay_side_or_river_bank-6_jpg.rf.27c3fd90bc35064685ebef89c0f5ffa0.jpg (deflated 24%)\n",
            "  adding: content/runs/detect/predict4/quay_side_or_river_bank-65_jpeg_jpg.rf.47b0bed98aeca6564eb31b87afb58683.jpg (deflated 6%)\n",
            "  adding: content/runs/detect/predict4/left_hand_curve-13_jpg.rf.25b8ba8c98f4547b6e0302bd0e572e9e.jpg (deflated 6%)\n",
            "  adding: content/runs/detect/predict4/school_ahead-8_jpg.rf.fa01300c70f562f55940997d334be2c1.jpg (deflated 11%)\n",
            "  adding: content/runs/detect/predict4/roundabout-16_jpg.rf.85f91d98698454d325c0d99d7fec3da1.jpg (deflated 26%)\n",
            "  adding: content/runs/detect/predict4/side_road_right-43_jpg.rf.d7f13d48719027e4aedfa5ca86f98386.jpg (deflated 21%)\n",
            "  adding: content/runs/detect/predict4/compulsary_keep_right-23_png_jpg.rf.19610966232fabbc7a6c4aeb4697ce15.jpg (deflated 8%)\n",
            "  adding: content/runs/detect/predict4/compulsary_turn_right_ahead-19_png_jpg.rf.fecb46e93bc160a9b50a9be8eb7635bb.jpg (deflated 7%)\n",
            "  adding: content/runs/detect/predict4/no_entry-10_jpg.rf.cd7eff67638dc3f99369227421f6a4d1.jpg (deflated 4%)\n",
            "  adding: content/runs/detect/predict4/u_turn_prohibited-7_jpg.rf.5a9f89b7a52cc6371f54fd5a5ef5029d.jpg (deflated 4%)\n",
            "  adding: content/runs/detect/predict4/height_limit-56_jpg.rf.ab1b63b65519517a6a6949bcc5c0ffe8.jpg (deflated 16%)\n",
            "  adding: content/runs/detect/predict4/left_hand_curve-43_png_jpg.rf.297099cf765859a4441d29578dbd8a52.jpg (deflated 6%)\n",
            "  adding: content/runs/detect/predict4/falling_rocks-23_jpeg_jpg.rf.624052bb876ffe95776823ad4c48ac65.jpg (deflated 6%)\n",
            "  adding: content/runs/detect/predict4/quay_side_or_river_bank-53_jpg.rf.1650a6d99d06c025b746a8a382dcd40f.jpg (deflated 4%)\n",
            "  adding: content/runs/detect/predict4/u_turn_prohibited-13_jpg.rf.98bb5e976cd1dd7180f04f91fc8c71b0.jpg (deflated 4%)\n",
            "  adding: content/runs/detect/predict4/quay_side_or_river_bank-20_jpg.rf.43d434a939cfb7ece3af08a81d7ee444.jpg (deflated 10%)\n",
            "  adding: content/runs/detect/predict4/u_turn-42_jpg.rf.5f2d0e4ef63e277224ea1d44515c3fa7.jpg (deflated 7%)\n",
            "  adding: content/runs/detect/predict4/compulsary_keep_left-14_jpg.rf.ae1b19e5361a41237b7c60b8250b4798.jpg (deflated 6%)\n",
            "  adding: content/runs/detect/predict4/side_road_right-7_png_jpg.rf.8957e939cb312afbb5e6b59225a32c70.jpg (deflated 28%)\n",
            "  adding: content/runs/detect/predict4/no_entry-68_jpg.rf.30276f360d7613d28e8a79159f79dbd5.jpg (deflated 7%)\n",
            "  adding: content/runs/detect/predict4/quay_side_or_river_bank-39_jpg.rf.8f288a9c8e512479b5a816704990e876.jpg (deflated 11%)\n",
            "  adding: content/runs/detect/predict4/horn_prohibited-0_jpg.rf.e262b9bcfff34b8b6d464dda6a03234e.jpg (deflated 15%)\n",
            "  adding: content/runs/detect/predict4/no_parking-26_jpeg_jpg.rf.06e962b303ee95e661b3268374729945.jpg (deflated 21%)\n",
            "  adding: content/runs/detect/predict4/width_limit-15_png_jpg.rf.fb1b074db9a62dbb7de198fc9211b234.jpg (deflated 15%)\n",
            "  adding: content/runs/detect/predict4/speed_limit_30-17_png_jpg.rf.5c95866d095023c2f5e29eddbbb54af1.jpg (deflated 6%)\n",
            "  adding: content/runs/detect/predict4/all_motor_vehicle_prohibited-22_jpg.rf.7ac0a25cd8d3141f766fc476ed2f5ced.jpg (deflated 8%)\n",
            "  adding: content/runs/detect/predict4/cross_road-38_jpg.rf.83df8533c1ca7ca258097344c4323a23.jpg (deflated 6%)\n",
            "  adding: content/runs/detect/predict4/right_hand_curve-12_jpg.rf.ebeac85720721e224bded8cac1417979.jpg (deflated 11%)\n",
            "  adding: content/runs/detect/predict4/quay_side_or_river_bank-25_jpg.rf.4219e50c3d510418430dec99b4207f7a.jpg (deflated 14%)\n",
            "  adding: content/runs/detect/predict4/t_intersection-21_jpeg_jpg.rf.70f9b650cdd4389545aa751b09e14aba.jpg (deflated 15%)\n",
            "  adding: content/runs/detect/predict4/guarded_level_crossing-20_jpg.rf.2a5d61dbfbdef4caa9229ac0eae584f7.jpg (deflated 14%)\n",
            "  adding: content/runs/detect/predict4/falling_rocks-46_jpeg_jpg.rf.e7f7061615fb4054797a0e22291d1735.jpg (deflated 6%)\n",
            "  adding: content/runs/detect/predict4/left_reverse_bend-19_png_jpg.rf.872c4469aa3a869f4f34c6120026da36.jpg (deflated 6%)\n",
            "  adding: content/runs/detect/predict4/axle_load_limit-53_jpg.rf.8d07a4ada4bd803899f90fac1e382615.jpg (deflated 16%)\n",
            "  adding: content/runs/detect/predict4/compulsary_turn_right_ahead-11_png_jpg.rf.62aa07c7af02854fac4e7aaa63291441.jpg (deflated 14%)\n",
            "  adding: content/runs/detect/predict4/compulsary_keep_left-1_png_jpg.rf.b6fafd56563ab32dba404653097b69e4.jpg (deflated 7%)\n",
            "  adding: content/runs/detect/predict4/right_hand_curve-29_jpg.rf.010f66d480e931f27c2e324e0c6f9e9e.jpg (deflated 8%)\n",
            "  adding: content/runs/detect/predict4/compulsary_keep_left-55_jpg.rf.b3f055c2446d671edc1ce53352293ddc.jpg (deflated 5%)\n",
            "  adding: content/runs/detect/predict4/left_turn_prohibited-6_jpg.rf.b9c11a502ca68fd7cb7389ce63472d3c.jpg (deflated 4%)\n",
            "  adding: content/runs/detect/predict4/y_intersection-10_png_jpg.rf.763202b2b5b42435f34d7c1dc84fd19d.jpg (deflated 29%)\n"
          ]
        }
      ]
    },
    {
      "cell_type": "markdown",
      "metadata": {
        "id": "g51XxVyDDmvG"
      },
      "source": [
        "## EXPORTING THE MODEL IN ONNX FORMAT:"
      ]
    },
    {
      "cell_type": "code",
      "execution_count": 17,
      "metadata": {
        "vscode": {
          "languageId": "plaintext"
        },
        "id": "YagjT5Q4DmvG",
        "colab": {
          "base_uri": "https://localhost:8080/"
        },
        "outputId": "ff4baba0-553f-46b8-83c5-d4f95c7960a3"
      },
      "outputs": [
        {
          "output_type": "stream",
          "name": "stdout",
          "text": [
            "Ultralytics YOLOv8.1.20 🚀 Python-3.10.12 torch-2.1.0+cu121 CPU (Intel Xeon 2.20GHz)\n",
            "YOLOv8n summary (fused): 168 layers, 3151904 parameters, 0 gradients, 8.7 GFLOPs\n",
            "\n",
            "\u001b[34m\u001b[1mPyTorch:\u001b[0m starting from '/content/yolov8n.pt' with input shape (1, 3, 640, 640) BCHW and output shape(s) (1, 84, 8400) (6.2 MB)\n",
            "\n",
            "\u001b[34m\u001b[1mONNX:\u001b[0m starting export with onnx 1.15.0 opset 17...\n",
            "\u001b[34m\u001b[1mONNX:\u001b[0m export success ✅ 1.0s, saved as '/content/yolov8n.onnx' (12.2 MB)\n",
            "\n",
            "Export complete (3.0s)\n",
            "Results saved to \u001b[1m/content\u001b[0m\n",
            "Predict:         yolo predict task=detect model=/content/yolov8n.onnx imgsz=640  \n",
            "Validate:        yolo val task=detect model=/content/yolov8n.onnx imgsz=640 data=coco.yaml  \n",
            "Visualize:       https://netron.app\n",
            "💡 Learn more at https://docs.ultralytics.com/modes/export\n"
          ]
        }
      ],
      "source": [
        "!yolo task=detect mode=export model=\"/content/yolov8n.pt\" format=onnx"
      ]
    }
  ],
  "metadata": {
    "language_info": {
      "name": "python"
    },
    "colab": {
      "provenance": [],
      "gpuType": "T4"
    },
    "kernelspec": {
      "name": "python3",
      "display_name": "Python 3"
    },
    "accelerator": "GPU"
  },
  "nbformat": 4,
  "nbformat_minor": 0
}